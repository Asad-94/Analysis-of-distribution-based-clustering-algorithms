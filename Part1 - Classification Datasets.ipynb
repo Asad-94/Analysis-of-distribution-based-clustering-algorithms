{
 "cells": [
  {
   "cell_type": "markdown",
   "id": "2a7d668a",
   "metadata": {},
   "source": [
    "### Name: Syed Asad Rizvi\n",
    "### ERP ID: 25365\n",
    "### Subject: Machine Learning-II\n",
    "### Project: Analysis of Distribution-based Clustering Methods"
   ]
  },
  {
   "cell_type": "markdown",
   "id": "e4a0275d",
   "metadata": {},
   "source": [
    "Importing Libraries"
   ]
  },
  {
   "cell_type": "code",
   "execution_count": 28,
   "id": "c096413f",
   "metadata": {},
   "outputs": [],
   "source": [
    "import pandas as pd\n",
    "import matplotlib.pyplot as plt\n",
    "from sklearn.preprocessing import StandardScaler\n",
    "\n",
    "import warnings\n",
    "warnings.filterwarnings('ignore')\n",
    "\n",
    "from sklearn.cluster import MiniBatchKMeans\n",
    "from sklearn.cluster import AgglomerativeClustering\n",
    "from sklearn.cluster import DBSCAN\n",
    "from sklearn.cluster import OPTICS\n",
    "from sklearn.cluster import SpectralClustering\n",
    "from sklearn.cluster import AffinityPropagation\n",
    "from sklearn.mixture import BayesianGaussianMixture\n",
    "from sklearn.mixture import GaussianMixture\n",
    "\n",
    "from yellowbrick.cluster import KElbowVisualizer\n",
    "import scipy.cluster.hierarchy as sch\n",
    "\n",
    "from sklearn.metrics import silhouette_score\n",
    "from sklearn.metrics import davies_bouldin_score\n",
    "from sklearn.metrics import fowlkes_mallows_score\n",
    "from sklearn.metrics import adjusted_rand_score\n",
    "from sklearn.metrics import mutual_info_score\n",
    "from sklearn.metrics import homogeneity_score\n",
    "from sklearn.metrics import completeness_score\n",
    "from sklearn.metrics import v_measure_score"
   ]
  },
  {
   "cell_type": "markdown",
   "id": "d9e55bb3",
   "metadata": {},
   "source": [
    "Creating function to draw elbow curves and dendrograms"
   ]
  },
  {
   "cell_type": "code",
   "execution_count": 29,
   "id": "fe05a3df",
   "metadata": {},
   "outputs": [],
   "source": [
    "# Function to create elbow curves and dendrograms\n",
    "\n",
    "def elbow_curve_and_dendrogram(dataset, N_cluster, batch_size, dendro_cluster):\n",
    "    fig = plt.figure(figsize=(20,6))\n",
    "    \n",
    "    plt.subplot(1, 2, 1)\n",
    "    model = MiniBatchKMeans(n_clusters=N_cluster, random_state=0, batch_size=batch_size)\n",
    "    visualizer = KElbowVisualizer(model, k=(4,12)).fit(dataset)\n",
    "    global elbow_best_value\n",
    "    elbow_best_value = visualizer.elbow_value_\n",
    "    print('For MiniBatchKMeans, the ideal number of clusters are ', elbow_best_value)\n",
    "    \n",
    "    plt.subplot(1, 2, 2)\n",
    "    dendrogram = sch.dendrogram(sch.linkage(dataset, method='complete'))\n",
    "    print('Based on dendrogram, the ideal number of clusters are ', dendro_cluster)\n",
    "\n",
    "    plt.tight_layout()"
   ]
  },
  {
   "cell_type": "markdown",
   "id": "c3fbe3df",
   "metadata": {},
   "source": [
    "Creating functions to obtain intrinsic and extrinsic measures for all clustering algorithms"
   ]
  },
  {
   "cell_type": "code",
   "execution_count": 30,
   "id": "c651033b",
   "metadata": {},
   "outputs": [],
   "source": [
    "# Function for all clustering algorithms other than GMM and Bayesian GMM\n",
    "\n",
    "def evaluation_matrix(dataset, X, y, elbow_best_value, dendogram_best_number, batch_size, ep_s, min_sample, spectral_clusters, label_assign, damping_value, max_iteration, affinity_type):\n",
    "\n",
    "    # Output list to append all metric scores\n",
    "    output_list = []\n",
    "\n",
    "    # Dictionary of clustering algorithms   \n",
    "    evaluation_matrix_models = {\n",
    "        \n",
    "        'MiniBatchKMeans': [MiniBatchKMeans(n_clusters=elbow_best_value, random_state=0, batch_size=batch_size).fit(dataset),\n",
    "                            MiniBatchKMeans(n_clusters=elbow_best_value, random_state=0, batch_size=batch_size).fit(X).predict(X)],\n",
    "\n",
    "        'AgglomerativeClustering': [AgglomerativeClustering(n_clusters=dendogram_best_number).fit(dataset), \n",
    "                                    AgglomerativeClustering(n_clusters=dendogram_best_number).fit(X).fit_predict(X)],\n",
    "\n",
    "        'DBSCAN': [DBSCAN(eps=ep_s, min_samples=min_sample).fit(dataset),\n",
    "                   DBSCAN(eps=ep_s, min_samples=min_sample).fit(X).fit_predict(X)],\n",
    "\n",
    "        'OPTICS': [OPTICS().fit(dataset),\n",
    "                   OPTICS().fit(X).fit_predict(X)],\n",
    "        \n",
    "        'Spectral Clustering': [SpectralClustering(n_clusters=spectral_clusters, assign_labels=label_assign, random_state=0).fit(dataset),\n",
    "                               SpectralClustering(n_clusters=spectral_clusters, assign_labels=label_assign, random_state=0).fit(X).fit_predict(X)],\n",
    "        \n",
    "        'Affinity Propagation': [AffinityPropagation(damping=damping_value, max_iter=max_iteration, affinity=affinity_type, random_state=0).fit(dataset),\n",
    "                                AffinityPropagation(damping=damping_value, max_iter=max_iteration, affinity=affinity_type, random_state=0).fit(X).fit_predict(X)],\n",
    "    }\n",
    "    \n",
    "    # Calculating all the metric scores and appending in the output list\n",
    "    for each in evaluation_matrix_models.keys():\n",
    "        output_list.append([\n",
    "            silhouette_score(dataset, evaluation_matrix_models[each][0].labels_, metric='euclidean'),\n",
    "            davies_bouldin_score(dataset, evaluation_matrix_models[each][0].labels_),\n",
    "            fowlkes_mallows_score(y, evaluation_matrix_models[each][1]),\n",
    "            adjusted_rand_score(y, evaluation_matrix_models[each][1]),\n",
    "            mutual_info_score(y, evaluation_matrix_models[each][1]),\n",
    "            v_measure_score(y, evaluation_matrix_models[each][1]),\n",
    "            homogeneity_score(y, evaluation_matrix_models[each][1]),\n",
    "            completeness_score(y, evaluation_matrix_models[each][1])])\n",
    "\n",
    "    # Dataframe of scores for each dataset\n",
    "    evaluation_matrix_df = pd.DataFrame(output_list, columns=['silhouette_score','davies_bouldin_score','fowlkes_mallows_score',\n",
    "                                            'adjusted_rand_score','mutual_info_score', 'v_measure_score','homogeneity_score','completeness_score'])\n",
    "    \n",
    "    evaluation_matrix_df.set_index([list(evaluation_matrix_models.keys())], drop=True, inplace=True)\n",
    "    \n",
    "    return evaluation_matrix_df\n",
    "\n",
    "\n",
    "\n",
    "# Function for GMM and Bayesian GMM\n",
    "\n",
    "def bayesian_and_gaussian(dataset, X, y, components, type_covariance, covariance_reg):\n",
    "\n",
    "    # Output list to append all metric scores\n",
    "    output_list = []\n",
    "\n",
    "    # Dictionary of GMM and Bayesian GMM algorithms \n",
    "    bayesian_and_gaussian_mixture = {\n",
    "        \n",
    "        'Bayesian Gaussian Mixture': [BayesianGaussianMixture(n_components=components, covariance_type=type_covariance, reg_covar=covariance_reg, random_state=0).fit(dataset),\n",
    "                                     BayesianGaussianMixture(n_components=components, covariance_type=type_covariance, reg_covar=covariance_reg, random_state=0).fit(X).fit_predict(X)],\n",
    "        \n",
    "        'Gaussian Mixture': [GaussianMixture(n_components=components, covariance_type=type_covariance, reg_covar=covariance_reg, random_state=0).fit(dataset),\n",
    "                            GaussianMixture(n_components=components, covariance_type=type_covariance, reg_covar=covariance_reg, random_state=0).fit(X).fit_predict(X)]}\n",
    "\n",
    "    # Calculating all the metric scores and appending in the output list\n",
    "    for each in bayesian_and_gaussian_mixture.keys():\n",
    "        output_list.append([\n",
    "            fowlkes_mallows_score(y, bayesian_and_gaussian_mixture[each][1]),\n",
    "            adjusted_rand_score(y, bayesian_and_gaussian_mixture[each][1]),\n",
    "            mutual_info_score(y, bayesian_and_gaussian_mixture[each][1]),\n",
    "            v_measure_score(y, bayesian_and_gaussian_mixture[each][1]),\n",
    "            homogeneity_score(y, bayesian_and_gaussian_mixture[each][1]),\n",
    "            completeness_score(y, bayesian_and_gaussian_mixture[each][1])])\n",
    "\n",
    "    # Dataframe of scores for each dataset\n",
    "    bayesian_gaussian_matrix_df = pd.DataFrame(output_list, columns=['fowlkes_mallows_score','adjusted_rand_score',\n",
    "                                                              'mutual_info_score', 'v_measure_score',\n",
    "                                                              'homogeneity_score','completeness_score'])\n",
    "    \n",
    "    bayesian_gaussian_matrix_df.set_index([list(bayesian_and_gaussian_mixture.keys())], drop=True, inplace=True)\n",
    "\n",
    "    return bayesian_gaussian_matrix_df"
   ]
  },
  {
   "cell_type": "markdown",
   "id": "663828c3",
   "metadata": {},
   "source": [
    "## Classification Datasets"
   ]
  },
  {
   "cell_type": "markdown",
   "id": "0a0d1fdf",
   "metadata": {},
   "source": [
    "## Dataset 01: Hepatitis C Virus (HCV) data"
   ]
  },
  {
   "cell_type": "markdown",
   "id": "583e6a08",
   "metadata": {},
   "source": [
    "This classification data set contains laboratory values of blood donors and Hepatitis C patients and demographic values like age. It has 616 rows with 14 columns, and all attributes except Category and Sex are numerical. The target attribute for classification is Category (Blood donors vs. Hepatitis C (including its progress ('just' Hepatitis C, Fibrosis, Cirrhosis))."
   ]
  },
  {
   "cell_type": "code",
   "execution_count": 173,
   "id": "dbd1a08f",
   "metadata": {},
   "outputs": [],
   "source": [
    "# Loading the dataset\n",
    "df = pd.read_csv('Classification\\hcvdat0.csv')\n",
    "df = df.drop(columns=['Unnamed: 0'])\n",
    "\n",
    "# Dropping null values\n",
    "df = df.dropna()\n",
    "\n",
    "# Converting string columns to integer\n",
    "for i in df.select_dtypes(include=[object]).columns:\n",
    "    df[i] = pd.factorize(df[i])[0] + 1\n",
    "    \n",
    "# Normalizing the data \n",
    "ss=StandardScaler()\n",
    "for i in df.columns:\n",
    "    df[i] = ss.fit_transform(df[[i]])\n",
    "    \n",
    "# Splitting into X and y columns\n",
    "X = df.drop(columns = ['Category'])\n",
    "y = df['Category']"
   ]
  },
  {
   "cell_type": "code",
   "execution_count": 32,
   "id": "a5406f65",
   "metadata": {},
   "outputs": [
    {
     "name": "stdout",
     "output_type": "stream",
     "text": [
      "For MiniBatchKMeans, the ideal number of clusters are  5\n",
      "Based on dendrogram, the ideal number of clusters are  2\n"
     ]
    },
    {
     "data": {
      "image/png": "[encoded data removed]",
      "text/plain": [
       "<Figure size 1440x432 with 3 Axes>"
      ]
     },
     "metadata": {},
     "output_type": "display_data"
    }
   ],
   "source": [
    "# Calling function to create elbow curve and dendrogram\n",
    "\n",
    "elbow_curve_and_dendrogram(df, 5, 50, 2)"
   ]
  },
  {
   "cell_type": "code",
   "execution_count": 33,
   "id": "5900c885",
   "metadata": {},
   "outputs": [
    {
     "data": {
      "text/html": [
       "<div>\n",
       "<style scoped>\n",
       "    .dataframe tbody tr th:only-of-type {\n",
       "        vertical-align: middle;\n",
       "    }\n",
       "\n",
       "    .dataframe tbody tr th {\n",
       "        vertical-align: top;\n",
       "    }\n",
       "\n",
       "    .dataframe thead th {\n",
       "        text-align: right;\n",
       "    }\n",
       "</style>\n",
       "<table border=\"1\" class=\"dataframe\">\n",
       "  <thead>\n",
       "    <tr style=\"text-align: right;\">\n",
       "      <th></th>\n",
       "      <th>silhouette_score</th>\n",
       "      <th>davies_bouldin_score</th>\n",
       "      <th>fowlkes_mallows_score</th>\n",
       "      <th>adjusted_rand_score</th>\n",
       "      <th>mutual_info_score</th>\n",
       "      <th>v_measure_score</th>\n",
       "      <th>homogeneity_score</th>\n",
       "      <th>completeness_score</th>\n",
       "    </tr>\n",
       "  </thead>\n",
       "  <tbody>\n",
       "    <tr>\n",
       "      <th>MiniBatchKMeans</th>\n",
       "      <td>0.157187</td>\n",
       "      <td>1.794483</td>\n",
       "      <td>0.426864</td>\n",
       "      <td>0.006484</td>\n",
       "      <td>0.068558</td>\n",
       "      <td>0.067581</td>\n",
       "      <td>0.143337</td>\n",
       "      <td>0.044214</td>\n",
       "    </tr>\n",
       "    <tr>\n",
       "      <th>AgglomerativeClustering</th>\n",
       "      <td>0.622198</td>\n",
       "      <td>1.431741</td>\n",
       "      <td>0.942376</td>\n",
       "      <td>0.666322</td>\n",
       "      <td>0.168248</td>\n",
       "      <td>0.444767</td>\n",
       "      <td>0.351766</td>\n",
       "      <td>0.604618</td>\n",
       "    </tr>\n",
       "    <tr>\n",
       "      <th>DBSCAN</th>\n",
       "      <td>0.566512</td>\n",
       "      <td>1.881428</td>\n",
       "      <td>0.944558</td>\n",
       "      <td>0.654745</td>\n",
       "      <td>0.189503</td>\n",
       "      <td>0.524919</td>\n",
       "      <td>0.396205</td>\n",
       "      <td>0.777502</td>\n",
       "    </tr>\n",
       "    <tr>\n",
       "      <th>OPTICS</th>\n",
       "      <td>-0.325834</td>\n",
       "      <td>2.099738</td>\n",
       "      <td>0.855640</td>\n",
       "      <td>-0.052094</td>\n",
       "      <td>0.004111</td>\n",
       "      <td>0.012066</td>\n",
       "      <td>0.008596</td>\n",
       "      <td>0.020235</td>\n",
       "    </tr>\n",
       "    <tr>\n",
       "      <th>Spectral Clustering</th>\n",
       "      <td>0.763189</td>\n",
       "      <td>0.830189</td>\n",
       "      <td>0.898987</td>\n",
       "      <td>0.076268</td>\n",
       "      <td>0.015411</td>\n",
       "      <td>0.060402</td>\n",
       "      <td>0.032220</td>\n",
       "      <td>0.481999</td>\n",
       "    </tr>\n",
       "    <tr>\n",
       "      <th>Affinity Propagation</th>\n",
       "      <td>0.113363</td>\n",
       "      <td>1.096300</td>\n",
       "      <td>0.181590</td>\n",
       "      <td>0.010221</td>\n",
       "      <td>0.354311</td>\n",
       "      <td>0.171491</td>\n",
       "      <td>0.740777</td>\n",
       "      <td>0.096970</td>\n",
       "    </tr>\n",
       "  </tbody>\n",
       "</table>\n",
       "</div>"
      ],
      "text/plain": [
       "                         silhouette_score  davies_bouldin_score  \\\n",
       "MiniBatchKMeans                  0.157187              1.794483   \n",
       "AgglomerativeClustering          0.622198              1.431741   \n",
       "DBSCAN                           0.566512              1.881428   \n",
       "OPTICS                          -0.325834              2.099738   \n",
       "Spectral Clustering              0.763189              0.830189   \n",
       "Affinity Propagation             0.113363              1.096300   \n",
       "\n",
       "                         fowlkes_mallows_score  adjusted_rand_score  \\\n",
       "MiniBatchKMeans                       0.426864             0.006484   \n",
       "AgglomerativeClustering               0.942376             0.666322   \n",
       "DBSCAN                                0.944558             0.654745   \n",
       "OPTICS                                0.855640            -0.052094   \n",
       "Spectral Clustering                   0.898987             0.076268   \n",
       "Affinity Propagation                  0.181590             0.010221   \n",
       "\n",
       "                         mutual_info_score  v_measure_score  \\\n",
       "MiniBatchKMeans                   0.068558         0.067581   \n",
       "AgglomerativeClustering           0.168248         0.444767   \n",
       "DBSCAN                            0.189503         0.524919   \n",
       "OPTICS                            0.004111         0.012066   \n",
       "Spectral Clustering               0.015411         0.060402   \n",
       "Affinity Propagation              0.354311         0.171491   \n",
       "\n",
       "                         homogeneity_score  completeness_score  \n",
       "MiniBatchKMeans                   0.143337            0.044214  \n",
       "AgglomerativeClustering           0.351766            0.604618  \n",
       "DBSCAN                            0.396205            0.777502  \n",
       "OPTICS                            0.008596            0.020235  \n",
       "Spectral Clustering               0.032220            0.481999  \n",
       "Affinity Propagation              0.740777            0.096970  "
      ]
     },
     "execution_count": 33,
     "metadata": {},
     "output_type": "execute_result"
    }
   ],
   "source": [
    "# Calling function to create a dataframe of metric scores for six clustering algorithms\n",
    "\n",
    "evaluation_matrix(df, X, y, elbow_best_value, 2, 50, 3, 5, 2, 'discretize', 0.8, 500, 'euclidean')"
   ]
  },
  {
   "cell_type": "code",
   "execution_count": 34,
   "id": "175d9ec3",
   "metadata": {},
   "outputs": [
    {
     "data": {
      "text/html": [
       "<div>\n",
       "<style scoped>\n",
       "    .dataframe tbody tr th:only-of-type {\n",
       "        vertical-align: middle;\n",
       "    }\n",
       "\n",
       "    .dataframe tbody tr th {\n",
       "        vertical-align: top;\n",
       "    }\n",
       "\n",
       "    .dataframe thead th {\n",
       "        text-align: right;\n",
       "    }\n",
       "</style>\n",
       "<table border=\"1\" class=\"dataframe\">\n",
       "  <thead>\n",
       "    <tr style=\"text-align: right;\">\n",
       "      <th></th>\n",
       "      <th>fowlkes_mallows_score</th>\n",
       "      <th>adjusted_rand_score</th>\n",
       "      <th>mutual_info_score</th>\n",
       "      <th>v_measure_score</th>\n",
       "      <th>homogeneity_score</th>\n",
       "      <th>completeness_score</th>\n",
       "    </tr>\n",
       "  </thead>\n",
       "  <tbody>\n",
       "    <tr>\n",
       "      <th>Bayesian Gaussian Mixture</th>\n",
       "      <td>0.920336</td>\n",
       "      <td>0.638894</td>\n",
       "      <td>0.184921</td>\n",
       "      <td>0.417938</td>\n",
       "      <td>0.386624</td>\n",
       "      <td>0.454771</td>\n",
       "    </tr>\n",
       "    <tr>\n",
       "      <th>Gaussian Mixture</th>\n",
       "      <td>0.918351</td>\n",
       "      <td>0.631891</td>\n",
       "      <td>0.183185</td>\n",
       "      <td>0.412589</td>\n",
       "      <td>0.382995</td>\n",
       "      <td>0.447140</td>\n",
       "    </tr>\n",
       "  </tbody>\n",
       "</table>\n",
       "</div>"
      ],
      "text/plain": [
       "                           fowlkes_mallows_score  adjusted_rand_score  \\\n",
       "Bayesian Gaussian Mixture               0.920336             0.638894   \n",
       "Gaussian Mixture                        0.918351             0.631891   \n",
       "\n",
       "                           mutual_info_score  v_measure_score  \\\n",
       "Bayesian Gaussian Mixture           0.184921         0.417938   \n",
       "Gaussian Mixture                    0.183185         0.412589   \n",
       "\n",
       "                           homogeneity_score  completeness_score  \n",
       "Bayesian Gaussian Mixture           0.386624            0.454771  \n",
       "Gaussian Mixture                    0.382995            0.447140  "
      ]
     },
     "execution_count": 34,
     "metadata": {},
     "output_type": "execute_result"
    }
   ],
   "source": [
    "# Calling function to create a dataframe of metric scores for GMM and Bayesian GMM\n",
    "\n",
    "bayesian_and_gaussian(df, X, y, 2, 'full', 1e-6)"
   ]
  },
  {
   "cell_type": "markdown",
   "id": "6afaf518",
   "metadata": {},
   "source": [
    "#### Compare the performances of all clustering algorithms with Gaussian Mixture Model (GMM)"
   ]
  },
  {
   "cell_type": "markdown",
   "id": "faca6283",
   "metadata": {},
   "source": [
    "## Hyperparameter Selection"
   ]
  },
  {
   "cell_type": "markdown",
   "id": "1a02eb15",
   "metadata": {},
   "source": [
    "### Mini Batch K-Means"
   ]
  },
  {
   "cell_type": "code",
   "execution_count": 143,
   "id": "21782ccd",
   "metadata": {},
   "outputs": [
    {
     "name": "stdout",
     "output_type": "stream",
     "text": [
      "Average of all scores for [5, 50] combination is 0.7570377203466407\n",
      "Average of all scores for [6, 100] combination is 1.4028770407496192\n",
      "Average of all scores for [7, 150] combination is 1.1349651548493778\n",
      "Average of all scores for [8, 50] combination is 1.1525594332625724\n",
      "Average of all scores for [8, 100] combination is 1.271495335644029\n"
     ]
    }
   ],
   "source": [
    "# Checking best combination of hyperparameters\n",
    "\n",
    "best_combination = [[5,50],[6,100],[7,150],[8,50],[8,100]]\n",
    "\n",
    "mean_score_list = []\n",
    "\n",
    "for i in best_combination:\n",
    "    model = MiniBatchKMeans(n_clusters=i[0], random_state=0, batch_size=i[1])\n",
    "    labels2 = model.fit(X).predict(X)\n",
    "    \n",
    "    # Calculating extrinsic measures for each combination of hyperparameters\n",
    "    \n",
    "    fowlkes_mallows = fowlkes_mallows_score(y,labels2)\n",
    "    adjusted_rand = adjusted_rand_score(y,labels2)\n",
    "    mutual_info = mutual_info_score(y,labels2)\n",
    "    v_measure = v_measure_score(y,labels2)\n",
    "    homogeneity = homogeneity_score(y,labels2)\n",
    "    completeness = completeness_score(y,labels2)\n",
    "    \n",
    "    # Evaluating means of respective scores for each combination\n",
    "    \n",
    "    scores = [fowlkes_mallows + adjusted_rand + mutual_info + v_measure + homogeneity + completeness]\n",
    "    mean_scores = sum(scores)/len(scores)\n",
    "    print('Average of all scores for ' + str(i) + ' combination is ' + str(mean_scores))\n",
    "    mean_score_list.append(mean_scores)"
   ]
  },
  {
   "cell_type": "markdown",
   "id": "31c059f6",
   "metadata": {},
   "source": [
    "The best combination of hyperparameters in Mini Batch KMeans which gave the highest average metric score includes:\n",
    "\n",
    "number of clusters = 6, batch size = 100 "
   ]
  },
  {
   "cell_type": "markdown",
   "id": "2e497fb8",
   "metadata": {},
   "source": [
    "#### Plotting each combination's performance"
   ]
  },
  {
   "cell_type": "code",
   "execution_count": 168,
   "id": "abd89e63",
   "metadata": {},
   "outputs": [
    {
     "data": {
      "image/png": "[encoded data removed]",
      "text/plain": [
       "<Figure size 864x432 with 1 Axes>"
      ]
     },
     "metadata": {},
     "output_type": "display_data"
    }
   ],
   "source": [
    "list_of_combinations = [best_combination[0], best_combination[1], best_combination[2], best_combination[3], best_combination[4]]\n",
    "plt.figure(figsize = (12,6))\n",
    "plt.plot(mean_score_list, marker = 's', label = [list_of_combinations])\n",
    "plt.xlabel('Combinations', fontsize=13)\n",
    "plt.ylabel('Average Metric Scores', fontsize=13)\n",
    "plt.title('Mini Batch KMeans Hyperparameter Combinations', fontsize=15)\n",
    "plt.xticks([0,1,2,3,4], list_of_combinations)\n",
    "plt.show()"
   ]
  },
  {
   "cell_type": "markdown",
   "id": "19b7729a",
   "metadata": {},
   "source": [
    "### Agglomerative Clustering"
   ]
  },
  {
   "cell_type": "code",
   "execution_count": 36,
   "id": "e302122b",
   "metadata": {},
   "outputs": [
    {
     "name": "stdout",
     "output_type": "stream",
     "text": [
      "Average of all scores for 2 clusters is 3.178097056720994\n",
      "Average of all scores for 3 clusters is 1.8315290355036078\n",
      "Average of all scores for 4 clusters is 1.8464532955925406\n",
      "Average of all scores for 5 clusters is 1.8631582458635079\n",
      "Average of all scores for 6 clusters is 1.9659647350588791\n",
      "Average of all scores for 7 clusters is 1.9791138326239521\n",
      "Average of all scores for 8 clusters is 1.7038560952178832\n"
     ]
    }
   ],
   "source": [
    "# Checking best value of cluster\n",
    "\n",
    "best_combination = [2,3,4,5,6,7,8]\n",
    "\n",
    "for i in best_combination:\n",
    "    model = AgglomerativeClustering(n_clusters=i)    \n",
    "    labels2 = model.fit(X).fit_predict(X)\n",
    "    \n",
    "    # Calculating extrinsic measures for each cluster value\n",
    "    \n",
    "    fowlkes_mallows = fowlkes_mallows_score(y,labels2)\n",
    "    adjusted_rand = adjusted_rand_score(y,labels2)\n",
    "    mutual_info = mutual_info_score(y,labels2)\n",
    "    v_measure = v_measure_score(y,labels2)\n",
    "    homogeneity = homogeneity_score(y,labels2)\n",
    "    completeness = completeness_score(y,labels2)\n",
    "    \n",
    "    # Evaluating means of respective scores for each cluster\n",
    "\n",
    "    scores = [fowlkes_mallows + adjusted_rand + mutual_info + v_measure + homogeneity + completeness]\n",
    "    mean_scores = sum(scores)/len(scores)\n",
    "    print('Average of all scores for ' + str(i) + ' clusters is ' + str(mean_scores))"
   ]
  },
  {
   "cell_type": "markdown",
   "id": "e109ddf7",
   "metadata": {},
   "source": [
    "The best value of number of clusters in Agglomerative Clustering is 2, which gave the highest average metric score."
   ]
  },
  {
   "cell_type": "markdown",
   "id": "03cf3bf9",
   "metadata": {},
   "source": [
    "### DBScan"
   ]
  },
  {
   "cell_type": "code",
   "execution_count": 169,
   "id": "bd9eeed6",
   "metadata": {},
   "outputs": [
    {
     "name": "stdout",
     "output_type": "stream",
     "text": [
      "Average of all scores for [0.7, 1] combination is 1.70247328244686\n",
      "Average of all scores for [1, 2] combination is 0.6154463500115981\n",
      "Average of all scores for [3, 3] combination is 3.5623557935674537\n",
      "Average of all scores for [3, 5] combination is 3.4874322094294827\n",
      "Average of all scores for [5, 7] combination is 2.33979689389448\n"
     ]
    }
   ],
   "source": [
    "# Checking best combination of hyperparameters\n",
    "\n",
    "best_combination = [[0.7,1],[1,2],[3,3],[3,5],[5,7]]\n",
    "\n",
    "mean_score_list = []\n",
    "\n",
    "for i in best_combination:\n",
    "    model = DBSCAN(eps=i[0], min_samples=i[1])    \n",
    "    labels2 = model.fit(X).fit_predict(X)\n",
    "    \n",
    "    # Calculating extrinsic measures for each combination of hyperparameters\n",
    "    \n",
    "    fowlkes_mallows = fowlkes_mallows_score(y,labels2)\n",
    "    adjusted_rand = adjusted_rand_score(y,labels2)\n",
    "    mutual_info = mutual_info_score(y,labels2)\n",
    "    v_measure = v_measure_score(y,labels2)\n",
    "    homogeneity = homogeneity_score(y,labels2)\n",
    "    completeness = completeness_score(y,labels2)\n",
    "    \n",
    "    # Evaluating means of respective scores for each combination\n",
    "\n",
    "    scores = [fowlkes_mallows + adjusted_rand + mutual_info + v_measure + homogeneity + completeness]\n",
    "    mean_scores = sum(scores)/len(scores)\n",
    "    print('Average of all scores for ' + str(i) + ' combination is ' + str(mean_scores))\n",
    "    mean_score_list.append(mean_scores)"
   ]
  },
  {
   "cell_type": "markdown",
   "id": "02411c27",
   "metadata": {},
   "source": [
    "The best combination of hyperparameters in DBScan which gave the highest average metric score includes:\n",
    "\n",
    "maximum distance between two samples (eps) = 3, minimum number of samples = 3"
   ]
  },
  {
   "cell_type": "markdown",
   "id": "2da6f883",
   "metadata": {},
   "source": [
    "#### Plotting each combination's performance"
   ]
  },
  {
   "cell_type": "code",
   "execution_count": 170,
   "id": "252313b3",
   "metadata": {},
   "outputs": [
    {
     "data": {
      "image/png": "[encoded data removed]",
      "text/plain": [
       "<Figure size 864x432 with 1 Axes>"
      ]
     },
     "metadata": {},
     "output_type": "display_data"
    }
   ],
   "source": [
    "list_of_combinations = [best_combination[0], best_combination[1], best_combination[2], best_combination[3], best_combination[4]]\n",
    "plt.figure(figsize = (12,6))\n",
    "plt.plot(mean_score_list, marker = 's', label = [list_of_combinations])\n",
    "plt.xlabel('Combinations', fontsize=13)\n",
    "plt.ylabel('Average Metric Scores', fontsize=13)\n",
    "plt.title('DBScan Hyperparameter Combinations', fontsize=15)\n",
    "plt.xticks([0,1,2,3,4], list_of_combinations)\n",
    "plt.show()"
   ]
  },
  {
   "cell_type": "markdown",
   "id": "0bb52f3f",
   "metadata": {},
   "source": [
    "### OPTICS"
   ]
  },
  {
   "cell_type": "code",
   "execution_count": 38,
   "id": "7540b670",
   "metadata": {},
   "outputs": [
    {
     "name": "stdout",
     "output_type": "stream",
     "text": [
      "Average of all scores for 3 samples is 1.3652494355510825\n",
      "Average of all scores for 4 samples is 0.7959709803457005\n",
      "Average of all scores for 5 samples is 0.8485542098265904\n",
      "Average of all scores for 6 samples is 0.8550665447186081\n",
      "Average of all scores for 7 samples is 3.3986574400136176\n",
      "Average of all scores for 8 samples is 0.7680756122206359\n"
     ]
    }
   ],
   "source": [
    "# Checking best value of minimum number of samples\n",
    "\n",
    "best_combination = [3,4,5,6,7,8]\n",
    "\n",
    "for i in best_combination:\n",
    "    model = OPTICS(min_samples=i)    \n",
    "    labels2 = model.fit(X).fit_predict(X)\n",
    "    \n",
    "    # Calculating extrinsic measures for each value of minimum samples\n",
    "    \n",
    "    fowlkes_mallows = fowlkes_mallows_score(y,labels2)\n",
    "    adjusted_rand = adjusted_rand_score(y,labels2)\n",
    "    mutual_info = mutual_info_score(y,labels2)\n",
    "    v_measure = v_measure_score(y,labels2)\n",
    "    homogeneity = homogeneity_score(y,labels2)\n",
    "    completeness = completeness_score(y,labels2)\n",
    "    \n",
    "    # Evaluating means of respective scores for each value of minimum samples\n",
    "\n",
    "    scores = [fowlkes_mallows + adjusted_rand + mutual_info + v_measure + homogeneity + completeness]\n",
    "    mean_scores = sum(scores)/len(scores)\n",
    "    print('Average of all scores for ' + str(i) + ' samples is ' + str(mean_scores))"
   ]
  },
  {
   "cell_type": "markdown",
   "id": "b42e0db1",
   "metadata": {},
   "source": [
    "The best value of minimum number of samples in OPTICS is 7, which gave the highest average metric score."
   ]
  },
  {
   "cell_type": "markdown",
   "id": "3d442f01",
   "metadata": {},
   "source": [
    "### Affinity Propagation"
   ]
  },
  {
   "cell_type": "code",
   "execution_count": 39,
   "id": "f3a806bf",
   "metadata": {},
   "outputs": [
    {
     "name": "stdout",
     "output_type": "stream",
     "text": [
      "Average of all scores for [0.5, 200] combination is 1.8947344642409418\n",
      "Average of all scores for [0.6, 300] combination is 1.8947344642409418\n",
      "Average of all scores for [0.7, 400] combination is 1.8947344642409418\n",
      "Average of all scores for [0.8, 200] combination is 1.5553600651213377\n",
      "Average of all scores for [0.9, 500] combination is 1.5471455120592839\n"
     ]
    }
   ],
   "source": [
    "# Checking best combination of hyperparameters\n",
    "\n",
    "best_combination = [[0.5,200],[0.6,300],[0.7,400],[0.8,200],[0.9,500]]\n",
    "\n",
    "for i in best_combination:\n",
    "    model = AffinityPropagation(damping=i[0], max_iter=i[1], affinity=\"euclidean\", random_state=0)    \n",
    "    labels2 = model.fit(X).fit_predict(X)\n",
    "    \n",
    "    # Calculating extrinsic measures for each combination of hyperparameters\n",
    "    \n",
    "    fowlkes_mallows = fowlkes_mallows_score(y,labels2)\n",
    "    adjusted_rand = adjusted_rand_score(y,labels2)\n",
    "    mutual_info = mutual_info_score(y,labels2)\n",
    "    v_measure = v_measure_score(y,labels2)\n",
    "    homogeneity = homogeneity_score(y,labels2)\n",
    "    completeness = completeness_score(y,labels2)\n",
    "    \n",
    "    # Evaluating means of respective scores for each combination\n",
    "\n",
    "    scores = [fowlkes_mallows + adjusted_rand + mutual_info + v_measure + homogeneity + completeness]\n",
    "    mean_scores = sum(scores)/len(scores)\n",
    "    print('Average of all scores for ' + str(i) + ' combination is ' + str(mean_scores))"
   ]
  },
  {
   "cell_type": "markdown",
   "id": "9abf1ced",
   "metadata": {},
   "source": [
    "The best combinations of hyperparameters in Affinity Propagation were three, all gave the highest average metric scores:\n",
    "\n",
    "damping value, maximum iterations = (0.5,200), (0.6,300), (0.7,400). We can choose any of these to obtain highest scores."
   ]
  },
  {
   "cell_type": "markdown",
   "id": "890c5adc",
   "metadata": {},
   "source": [
    "### Spectral Clustering"
   ]
  },
  {
   "cell_type": "code",
   "execution_count": 40,
   "id": "3c11872f",
   "metadata": {},
   "outputs": [
    {
     "name": "stdout",
     "output_type": "stream",
     "text": [
      "Average of all scores for [5, 'discretize'] combination is 2.388460878868222\n",
      "Average of all scores for [6, 'discretize'] combination is 3.2555122353490575\n",
      "Average of all scores for [7, 'kmeans'] combination is 1.6018021376332798\n",
      "Average of all scores for [8, 'kmeans'] combination is 1.7269489468530637\n",
      "Average of all scores for [9, 'discretize'] combination is 2.060732097882145\n"
     ]
    }
   ],
   "source": [
    "# Checking best combination of hyperparameters\n",
    "\n",
    "best_combination = [[5,'discretize'],[6,'discretize'],[7,'kmeans'],[8,'kmeans'],[9,'discretize']]\n",
    "\n",
    "for i in best_combination:\n",
    "    model = SpectralClustering(n_clusters=i[0], assign_labels=i[1], random_state=0)    \n",
    "    labels2 = model.fit(X).fit_predict(X)\n",
    "    \n",
    "    # Calculating extrinsic measures for each combination of hyperparameters\n",
    "    \n",
    "    fowlkes_mallows = fowlkes_mallows_score(y,labels2)\n",
    "    adjusted_rand = adjusted_rand_score(y,labels2)\n",
    "    mutual_info = mutual_info_score(y,labels2)\n",
    "    v_measure = v_measure_score(y,labels2)\n",
    "    homogeneity = homogeneity_score(y,labels2)\n",
    "    completeness = completeness_score(y,labels2)\n",
    "    \n",
    "    # Evaluating means of respective scores for each combination\n",
    "\n",
    "    scores = [fowlkes_mallows + adjusted_rand + mutual_info + v_measure + homogeneity + completeness]\n",
    "    mean_scores = sum(scores)/len(scores)\n",
    "    print('Average of all scores for ' + str(i) + ' combination is ' + str(mean_scores))"
   ]
  },
  {
   "cell_type": "markdown",
   "id": "61c3c4b1",
   "metadata": {},
   "source": [
    "The best combination of hyperparameters in Spectral Clustering that gave the highest average metric score includes:\n",
    "\n",
    "number of clusters = 6, assign labels = 'discretize'"
   ]
  },
  {
   "cell_type": "markdown",
   "id": "67f68e8f",
   "metadata": {},
   "source": [
    "### Bayesian Gaussian Mixture "
   ]
  },
  {
   "cell_type": "code",
   "execution_count": 41,
   "id": "6f7924d5",
   "metadata": {},
   "outputs": [
    {
     "name": "stdout",
     "output_type": "stream",
     "text": [
      "Average of all scores for [2, 'full'] combination is 3.003483893936974\n",
      "Average of all scores for [3, 'tied'] combination is 1.2009039028247954\n",
      "Average of all scores for [4, 'diag'] combination is 1.9397627582414319\n",
      "Average of all scores for [5, 'spherical'] combination is 1.7177832647855154\n",
      "Average of all scores for [6, 'full'] combination is 1.9407826165654685\n",
      "Average of all scores for [7, 'spherical'] combination is 1.3865046987228242\n",
      "Average of all scores for [8, 'diag'] combination is 1.9747360189334562\n"
     ]
    }
   ],
   "source": [
    "# Checking best combination of hyperparameters\n",
    "\n",
    "best_combination = [[2,'full'],[3,'tied'],[4,'diag'],[5,'spherical'],[6,'full'],[7, 'spherical'],[8, 'diag']]\n",
    "\n",
    "for i in best_combination:\n",
    "    model = BayesianGaussianMixture(n_components=i[0], covariance_type=i[1], random_state=0)    \n",
    "    labels2 = model.fit(X).fit_predict(X)\n",
    "    \n",
    "    # Calculating extrinsic measures for each combination of hyperparameters\n",
    "    \n",
    "    fowlkes_mallows = fowlkes_mallows_score(y,labels2)\n",
    "    adjusted_rand = adjusted_rand_score(y,labels2)\n",
    "    mutual_info = mutual_info_score(y,labels2)\n",
    "    v_measure = v_measure_score(y,labels2)\n",
    "    homogeneity = homogeneity_score(y,labels2)\n",
    "    completeness = completeness_score(y,labels2)\n",
    "    \n",
    "    # Evaluating means of respective scores for each combination\n",
    "\n",
    "    scores = [fowlkes_mallows + adjusted_rand + mutual_info + v_measure + homogeneity + completeness]\n",
    "    mean_scores = sum(scores)/len(scores)\n",
    "    print('Average of all scores for ' + str(i) + ' combination is ' + str(mean_scores))"
   ]
  },
  {
   "cell_type": "markdown",
   "id": "6db47f1b",
   "metadata": {},
   "source": [
    "The best combination of hyperparameters in Bayesian Gaussian Mixture that gave the highest average metric score includes:\n",
    "\n",
    "number of components = 2, covariance type = 'full'"
   ]
  },
  {
   "cell_type": "markdown",
   "id": "0dec7714",
   "metadata": {},
   "source": [
    "### Gaussian Mixture Model"
   ]
  },
  {
   "cell_type": "code",
   "execution_count": 174,
   "id": "be4f41f1",
   "metadata": {},
   "outputs": [
    {
     "name": "stdout",
     "output_type": "stream",
     "text": [
      "Average of all scores for [2, 'full'] combination is 2.976150751028736\n",
      "Average of all scores for [3, 'tied'] combination is 1.2086864942360236\n",
      "Average of all scores for [4, 'diag'] combination is 1.908347716351867\n",
      "Average of all scores for [5, 'spherical'] combination is 1.6914773808778902\n",
      "Average of all scores for [6, 'full'] combination is 1.9176788602474146\n",
      "Average of all scores for [7, 'spherical'] combination is 1.4675540993837985\n",
      "Average of all scores for [8, 'diag'] combination is 1.9528400456383517\n"
     ]
    }
   ],
   "source": [
    "# Checking best combination of hyperparameters\n",
    "\n",
    "best_combination = [[2,'full'],[3,'tied'],[4,'diag'],[5,'spherical'],[6,'full'],[7, 'spherical'],[8, 'diag']]\n",
    "\n",
    "mean_score_list = []\n",
    "\n",
    "for i in best_combination:\n",
    "    model = GaussianMixture(n_components=i[0], covariance_type=i[1], random_state=0)    \n",
    "    labels2 = model.fit(X).fit_predict(X)\n",
    "    \n",
    "    # Calculating extrinsic measures for each combination of hyperparameters\n",
    "    \n",
    "    fowlkes_mallows = fowlkes_mallows_score(y,labels2)\n",
    "    adjusted_rand = adjusted_rand_score(y,labels2)\n",
    "    mutual_info = mutual_info_score(y,labels2)\n",
    "    v_measure = v_measure_score(y,labels2)\n",
    "    homogeneity = homogeneity_score(y,labels2)\n",
    "    completeness = completeness_score(y,labels2)\n",
    "    \n",
    "    # Evaluating means of respective scores for each combination\n",
    "\n",
    "    scores = [fowlkes_mallows + adjusted_rand + mutual_info + v_measure + homogeneity + completeness]\n",
    "    mean_scores = sum(scores)/len(scores)\n",
    "    print('Average of all scores for ' + str(i) + ' combination is ' + str(mean_scores))\n",
    "    mean_score_list.append(mean_scores)"
   ]
  },
  {
   "cell_type": "markdown",
   "id": "01b80731",
   "metadata": {},
   "source": [
    "The best combination of hyperparameters in Gaussian Mixture Model that gave the highest average metric score includes:\n",
    "\n",
    "number of components = 2, covariance type = 'full'"
   ]
  },
  {
   "cell_type": "markdown",
   "id": "e7a3747f",
   "metadata": {},
   "source": [
    "#### Plotting each combination's performance"
   ]
  },
  {
   "cell_type": "code",
   "execution_count": 175,
   "id": "71bbbc94",
   "metadata": {},
   "outputs": [
    {
     "data": {
      "image/png": "[encoded data removed]",
      "text/plain": [
       "<Figure size 864x432 with 1 Axes>"
      ]
     },
     "metadata": {},
     "output_type": "display_data"
    }
   ],
   "source": [
    "list_of_combinations = [best_combination[0], best_combination[1], best_combination[2], best_combination[3], best_combination[4],\n",
    "                       best_combination[5], best_combination[6]]\n",
    "plt.figure(figsize = (12,6))\n",
    "plt.plot(mean_score_list, marker = 's', label = [list_of_combinations])\n",
    "plt.xlabel('Combinations', fontsize=13)\n",
    "plt.ylabel('Average Metric Scores', fontsize=13)\n",
    "plt.title('Gaussian Mixture Model Hyperparameter Combinations', fontsize=15)\n",
    "plt.xticks([0,1,2,3,4,5,6], list_of_combinations)\n",
    "plt.show()"
   ]
  },
  {
   "cell_type": "markdown",
   "id": "8dbbb4f0",
   "metadata": {},
   "source": [
    "#### Analysis:\n",
    "\n",
    "1) It is observed that the GMM outperforms Mini Batch KMeans with highest average score, which shows that the GMM is better at modeling the data according to the chosen performance metrics. This could be because the GMM is more flexible and able to capture more complex patterns in the data.\n",
    "\n",
    "2) It is observed that the Agglomerative Clustering outperforms GMM with highest average score, which shows that the Agglomerative clustering algorithm is better at grouping the data into clusters based on the chosen performance metrics. This could be due to the nature of the data, the chosen distance metric, or the number of clusters being considered.\n",
    "\n",
    "3) It is observed that the DBScan outperforms GMM with highest average score, which shows that DBScan is more accurately identifying clusters or has a lower error rate. This could be due to the nature of the data, the chosen distance metric, or the number of clusters being considered.\n",
    "\n",
    "4) It is observed that the OPTICS outperforms GMM with highest average score, which shows that OPTICS is more effective at clustering the data and finding meaningful patterns within it. This could be due to the fact that OPTICS is able to handle more complex and non-linear data structures, whereas GMM are limited to more simple, linear patterns.\n",
    "\n",
    "5) It is observed that the GMM outperforms Affinity Propagation with highest average score, which shows that the GMM is a better fit for the data and is able to more accurately predict or classify the data. This could be due to the GMM's ability to model data using a continuous distribution, as opposed to the discrete clustering method used by Affinity propagation.\n",
    "\n",
    "6) It is observed that the Spectral Clustering outperforms GMM with highest average score, which shows that Spectral Clustering is better at identifying and separating distinct groups within the data set. This could be due to the fact that Spectral Clustering utilizes the graph structure of the data, which may be more effective at identifying and separating non-linearly distributed groups within the data.\n",
    "\n",
    "7) It is observed that the Bayesian GMM outperforms GMM with slightly higher average score (very close), which shows that both models are performing similarly in terms of their ability to accurately predict or classify data. This may indicate that either model could be a suitable choice for the particular task at hand."
   ]
  },
  {
   "cell_type": "markdown",
   "id": "c7cc6100",
   "metadata": {},
   "source": [
    "#### Experiment with different values of all possible hyperparameters of GMM"
   ]
  },
  {
   "cell_type": "markdown",
   "id": "f0cc5011",
   "metadata": {},
   "source": [
    "### Parameter tuning:"
   ]
  },
  {
   "cell_type": "markdown",
   "id": "395b7e9b",
   "metadata": {},
   "source": [
    "#### (1) Based on number of components"
   ]
  },
  {
   "cell_type": "code",
   "execution_count": 43,
   "id": "13e90d55",
   "metadata": {},
   "outputs": [
    {
     "name": "stdout",
     "output_type": "stream",
     "text": [
      "Average of all scores for 2 components is 2.976150751028736\n",
      "Average of all scores for 3 components is 2.06084970676829\n",
      "Average of all scores for 4 components is 2.0195255215971533\n",
      "Average of all scores for 5 components is 2.1178825914277826\n",
      "Average of all scores for 6 components is 1.9176788602474146\n",
      "Average of all scores for 7 components is 2.089752951844639\n"
     ]
    }
   ],
   "source": [
    "# Changing number of components to obtain the best value\n",
    "\n",
    "number_of_components = [2,3,4,5,6,7]\n",
    "\n",
    "for i in number_of_components:\n",
    "    model = GaussianMixture(n_components=i, covariance_type='full', reg_covar=1e-6, random_state=0)    \n",
    "    labels2 = model.fit(X).fit_predict(X)\n",
    "    \n",
    "    # Calculating extrinsic measures for each value of number of components\n",
    "    \n",
    "    fowlkes_mallows = fowlkes_mallows_score(y,labels2)\n",
    "    adjusted_rand = adjusted_rand_score(y,labels2)\n",
    "    mutual_info = mutual_info_score(y,labels2)\n",
    "    v_measure = v_measure_score(y,labels2)\n",
    "    homogeneity = homogeneity_score(y,labels2)\n",
    "    completeness = completeness_score(y,labels2)\n",
    "    \n",
    "    # Evaluating means of respective scores for each value of number of components\n",
    "\n",
    "    scores = [fowlkes_mallows + adjusted_rand + mutual_info + v_measure + homogeneity + completeness]\n",
    "    mean_scores = sum(scores)/len(scores)\n",
    "    print('Average of all scores for ' + str(i) + ' components is ' + str(mean_scores))"
   ]
  },
  {
   "cell_type": "markdown",
   "id": "707bbb5d",
   "metadata": {},
   "source": [
    "Upon increasing and decreasing the number of components parameter in GMM, it is observed that the best score is obtained when the number of components are 2. This shows that the model is able to accurately classify the data using fewer components or clusters. This may indicate that the  model is able to effectively capture the underlying structure of the data using fewer components."
   ]
  },
  {
   "cell_type": "markdown",
   "id": "f39408a4",
   "metadata": {},
   "source": [
    "#### (2) Based on covariance type "
   ]
  },
  {
   "cell_type": "code",
   "execution_count": 44,
   "id": "7e2b4015",
   "metadata": {},
   "outputs": [
    {
     "name": "stdout",
     "output_type": "stream",
     "text": [
      "Average of all scores for full covariance type is 2.976150751028736\n",
      "Average of all scores for tied covariance type is 0.6559449582766487\n",
      "Average of all scores for diag covariance type is 2.9399206609564206\n",
      "Average of all scores for spherical covariance type is 3.1804482912224903\n"
     ]
    }
   ],
   "source": [
    "# Changing covariance type to obtain the best value\n",
    "\n",
    "type_of_covariance = ['full', 'tied', 'diag', 'spherical']\n",
    "\n",
    "for i in type_of_covariance:\n",
    "    model = GaussianMixture(n_components=2, covariance_type=i, reg_covar=1e-6, random_state=0)    \n",
    "    labels2 = model.fit(X).fit_predict(X)\n",
    "    \n",
    "    # Calculating extrinsic measures for each covariance type\n",
    "    \n",
    "    fowlkes_mallows = fowlkes_mallows_score(y,labels2)\n",
    "    adjusted_rand = adjusted_rand_score(y,labels2)\n",
    "    mutual_info = mutual_info_score(y,labels2)\n",
    "    v_measure = v_measure_score(y,labels2)\n",
    "    homogeneity = homogeneity_score(y,labels2)\n",
    "    completeness = completeness_score(y,labels2)\n",
    "    \n",
    "    # Evaluating means of respective scores for each covariance type\n",
    "\n",
    "    scores = [fowlkes_mallows + adjusted_rand + mutual_info + v_measure + homogeneity + completeness]\n",
    "    mean_scores = sum(scores)/len(scores)\n",
    "    print('Average of all scores for ' + str(i) + ' covariance type is ' + str(mean_scores))"
   ]
  },
  {
   "cell_type": "markdown",
   "id": "45a06bf0",
   "metadata": {},
   "source": [
    "Upon changing the type of covariance parameter in GMM, it is observed that the best score is obtained when the covariance type is 'full'. This suggests that 'full' covariance parameter allows the model to fit more complex and flexible distributions, allowing it to better represent the data. This can result in improved accuracy and predictive performance for the model."
   ]
  },
  {
   "cell_type": "markdown",
   "id": "9494d997",
   "metadata": {},
   "source": [
    "#### (3) Based on regularization of covariance"
   ]
  },
  {
   "cell_type": "code",
   "execution_count": 45,
   "id": "5ba13b64",
   "metadata": {},
   "outputs": [
    {
     "name": "stdout",
     "output_type": "stream",
     "text": [
      "Average of all scores for regularized covariance of 1e-06 is 2.976150751028736\n",
      "Average of all scores for regularized covariance of 0.5 is 3.1991761292726215\n",
      "Average of all scores for regularized covariance of 1.5 is 2.6865059859544878\n",
      "Average of all scores for regularized covariance of 3 is 2.361698115308954\n",
      "Average of all scores for regularized covariance of 5 is 1.949852562496532\n"
     ]
    }
   ],
   "source": [
    "# Changing the value of regularized covariance to obtain the best value\n",
    "\n",
    "regularization_covariance = [1e-6, 0.5, 1.5, 3, 5]\n",
    "\n",
    "for i in regularization_covariance:\n",
    "    model = GaussianMixture(n_components=2, covariance_type='full', reg_covar=i, random_state=0)    \n",
    "    labels2 = model.fit(X).fit_predict(X)\n",
    "    \n",
    "    # Calculating extrinsic measures for each value of regularized covariance\n",
    "    \n",
    "    fowlkes_mallows = fowlkes_mallows_score(y,labels2)\n",
    "    adjusted_rand = adjusted_rand_score(y,labels2)\n",
    "    mutual_info = mutual_info_score(y,labels2)\n",
    "    v_measure = v_measure_score(y,labels2)\n",
    "    homogeneity = homogeneity_score(y,labels2)\n",
    "    completeness = completeness_score(y,labels2)\n",
    "    \n",
    "    # Evaluating means of respective scores for each value of regularized covariance\n",
    "\n",
    "    scores = [fowlkes_mallows + adjusted_rand + mutual_info + v_measure + homogeneity + completeness]\n",
    "    mean_scores = sum(scores)/len(scores)\n",
    "    print('Average of all scores for ' + 'regularized covariance of ' + str(i) + ' is ' + str(mean_scores))"
   ]
  },
  {
   "cell_type": "markdown",
   "id": "c615ab3b",
   "metadata": {},
   "source": [
    "Upon increasing and decreasing the regularized covariance in GMM, it is observed that the best score is obtained when the value is 0.5. This suggests that the model is able to accurately classify the data points into different mixture components with a relatively low level of regularization applied to the covariance matrices of the mixture components. This indicates that the data points are well-separated and distinct."
   ]
  },
  {
   "cell_type": "markdown",
   "id": "e2ac4858",
   "metadata": {},
   "source": [
    "## Dataset 02: Non-verbal tourist data"
   ]
  },
  {
   "cell_type": "markdown",
   "id": "3147b80b",
   "metadata": {},
   "source": [
    "This dataset contains the information about non-verbal preferences of tourists. A total of 73 customers, aged between 24 and 81 years old, were surveyed. Of the customers surveyed, 38 were returning customers, and 35 were new customers. The variables chosen are the essential ones that make up the non-verbal communication system. The 22 variables analyzed were considered feasible to evaluate by the hotel's clientele."
   ]
  },
  {
   "cell_type": "code",
   "execution_count": 46,
   "id": "c5402b46",
   "metadata": {},
   "outputs": [
    {
     "data": {
      "text/html": [
       "<div>\n",
       "<style scoped>\n",
       "    .dataframe tbody tr th:only-of-type {\n",
       "        vertical-align: middle;\n",
       "    }\n",
       "\n",
       "    .dataframe tbody tr th {\n",
       "        vertical-align: top;\n",
       "    }\n",
       "\n",
       "    .dataframe thead th {\n",
       "        text-align: right;\n",
       "    }\n",
       "</style>\n",
       "<table border=\"1\" class=\"dataframe\">\n",
       "  <thead>\n",
       "    <tr style=\"text-align: right;\">\n",
       "      <th></th>\n",
       "      <th>sex</th>\n",
       "      <th>age</th>\n",
       "      <th>country</th>\n",
       "      <th>returning</th>\n",
       "      <th>GImg1</th>\n",
       "      <th>GImg2</th>\n",
       "      <th>GImg3</th>\n",
       "      <th>PImg1</th>\n",
       "      <th>PImg2</th>\n",
       "      <th>PImg3</th>\n",
       "      <th>...</th>\n",
       "      <th>Authoritative -anarchic</th>\n",
       "      <th>Hostile - friendly</th>\n",
       "      <th>TAudio1</th>\n",
       "      <th>TAudio2</th>\n",
       "      <th>TAudio3</th>\n",
       "      <th>QAudio1</th>\n",
       "      <th>QAudio2</th>\n",
       "      <th>QAudio3</th>\n",
       "      <th>Proxemics</th>\n",
       "      <th>Type of Client</th>\n",
       "    </tr>\n",
       "  </thead>\n",
       "  <tbody>\n",
       "    <tr>\n",
       "      <th>0</th>\n",
       "      <td>F</td>\n",
       "      <td>42</td>\n",
       "      <td>uruguay</td>\n",
       "      <td>no</td>\n",
       "      <td>likes</td>\n",
       "      <td>indiferent</td>\n",
       "      <td>indiferent</td>\n",
       "      <td>likes</td>\n",
       "      <td>likes</td>\n",
       "      <td>indiferent</td>\n",
       "      <td>...</td>\n",
       "      <td>8</td>\n",
       "      <td>3</td>\n",
       "      <td>C</td>\n",
       "      <td>dislikes</td>\n",
       "      <td>dislikes</td>\n",
       "      <td>indiferent</td>\n",
       "      <td>dislikes</td>\n",
       "      <td>dislikes</td>\n",
       "      <td>dislikes</td>\n",
       "      <td>0</td>\n",
       "    </tr>\n",
       "    <tr>\n",
       "      <th>1</th>\n",
       "      <td>M</td>\n",
       "      <td>60</td>\n",
       "      <td>brasil</td>\n",
       "      <td>no</td>\n",
       "      <td>likes</td>\n",
       "      <td>indiferent</td>\n",
       "      <td>indiferent</td>\n",
       "      <td>likes</td>\n",
       "      <td>likes</td>\n",
       "      <td>likes</td>\n",
       "      <td>...</td>\n",
       "      <td>9</td>\n",
       "      <td>1</td>\n",
       "      <td>B</td>\n",
       "      <td>dislikes</td>\n",
       "      <td>dislikes</td>\n",
       "      <td>likes</td>\n",
       "      <td>likes</td>\n",
       "      <td>dislikes</td>\n",
       "      <td>dislikes</td>\n",
       "      <td>0</td>\n",
       "    </tr>\n",
       "    <tr>\n",
       "      <th>2</th>\n",
       "      <td>F</td>\n",
       "      <td>25</td>\n",
       "      <td>england</td>\n",
       "      <td>no</td>\n",
       "      <td>indiferent</td>\n",
       "      <td>indiferent</td>\n",
       "      <td>indiferent</td>\n",
       "      <td>likes</td>\n",
       "      <td>likes</td>\n",
       "      <td>indiferent</td>\n",
       "      <td>...</td>\n",
       "      <td>10</td>\n",
       "      <td>5</td>\n",
       "      <td>C</td>\n",
       "      <td>dislikes</td>\n",
       "      <td>dislikes</td>\n",
       "      <td>likes</td>\n",
       "      <td>dislikes</td>\n",
       "      <td>dislikes</td>\n",
       "      <td>dislikes</td>\n",
       "      <td>0</td>\n",
       "    </tr>\n",
       "    <tr>\n",
       "      <th>3</th>\n",
       "      <td>M</td>\n",
       "      <td>43</td>\n",
       "      <td>canada</td>\n",
       "      <td>no</td>\n",
       "      <td>likes</td>\n",
       "      <td>dislikes</td>\n",
       "      <td>dislikes</td>\n",
       "      <td>likes</td>\n",
       "      <td>likes</td>\n",
       "      <td>indiferent</td>\n",
       "      <td>...</td>\n",
       "      <td>2</td>\n",
       "      <td>1</td>\n",
       "      <td>C</td>\n",
       "      <td>dislikes</td>\n",
       "      <td>dislikes</td>\n",
       "      <td>likes</td>\n",
       "      <td>dislikes</td>\n",
       "      <td>indiferent</td>\n",
       "      <td>dislikes</td>\n",
       "      <td>0</td>\n",
       "    </tr>\n",
       "    <tr>\n",
       "      <th>4</th>\n",
       "      <td>M</td>\n",
       "      <td>30</td>\n",
       "      <td>hungary</td>\n",
       "      <td>no</td>\n",
       "      <td>indiferent</td>\n",
       "      <td>indiferent</td>\n",
       "      <td>indiferent</td>\n",
       "      <td>likes</td>\n",
       "      <td>likes</td>\n",
       "      <td>indiferent</td>\n",
       "      <td>...</td>\n",
       "      <td>9</td>\n",
       "      <td>3</td>\n",
       "      <td>C</td>\n",
       "      <td>dislikes</td>\n",
       "      <td>dislikes</td>\n",
       "      <td>likes</td>\n",
       "      <td>indiferent</td>\n",
       "      <td>dislikes</td>\n",
       "      <td>dislikes</td>\n",
       "      <td>0</td>\n",
       "    </tr>\n",
       "  </tbody>\n",
       "</table>\n",
       "<p>5 rows × 23 columns</p>\n",
       "</div>"
      ],
      "text/plain": [
       "  sex  age  country returning       GImg1       GImg2       GImg3  PImg1  \\\n",
       "0   F   42  uruguay        no       likes  indiferent  indiferent  likes   \n",
       "1   M   60   brasil        no       likes  indiferent  indiferent  likes   \n",
       "2   F   25  england        no  indiferent  indiferent  indiferent  likes   \n",
       "3   M   43   canada        no       likes    dislikes    dislikes  likes   \n",
       "4   M   30  hungary        no  indiferent  indiferent  indiferent  likes   \n",
       "\n",
       "   PImg2       PImg3  ... Authoritative -anarchic  Hostile - friendly  \\\n",
       "0  likes  indiferent  ...                        8                  3   \n",
       "1  likes       likes  ...                        9                  1   \n",
       "2  likes  indiferent  ...                       10                  5   \n",
       "3  likes  indiferent  ...                        2                  1   \n",
       "4  likes  indiferent  ...                        9                  3   \n",
       "\n",
       "   TAudio1   TAudio2   TAudio3     QAudio1     QAudio2     QAudio3 Proxemics  \\\n",
       "0        C  dislikes  dislikes  indiferent    dislikes    dislikes  dislikes   \n",
       "1        B  dislikes  dislikes       likes       likes    dislikes  dislikes   \n",
       "2        C  dislikes  dislikes       likes    dislikes    dislikes  dislikes   \n",
       "3        C  dislikes  dislikes       likes    dislikes  indiferent  dislikes   \n",
       "4        C  dislikes  dislikes       likes  indiferent    dislikes  dislikes   \n",
       "\n",
       "  Type of Client  \n",
       "0              0  \n",
       "1              0  \n",
       "2              0  \n",
       "3              0  \n",
       "4              0  \n",
       "\n",
       "[5 rows x 23 columns]"
      ]
     },
     "execution_count": 46,
     "metadata": {},
     "output_type": "execute_result"
    }
   ],
   "source": [
    "# Loading the dataset\n",
    "df2 = pd.read_csv('Classification/non-verbal tourist data.csv')\n",
    "df2.head()"
   ]
  },
  {
   "cell_type": "code",
   "execution_count": 47,
   "id": "d8410da2",
   "metadata": {},
   "outputs": [
    {
     "data": {
      "text/plain": [
       "(73, 23)"
      ]
     },
     "execution_count": 47,
     "metadata": {},
     "output_type": "execute_result"
    }
   ],
   "source": [
    "# Data shape\n",
    "\n",
    "df2.shape"
   ]
  },
  {
   "cell_type": "code",
   "execution_count": 48,
   "id": "8445fcd9",
   "metadata": {},
   "outputs": [],
   "source": [
    "# Converting string columns to integer\n",
    "for i in df2.select_dtypes(include=[object]).columns:\n",
    "    df2[i] = pd.factorize(df2[i])[0] + 1\n",
    "    \n",
    "# Normalizing the data\n",
    "ss=StandardScaler()\n",
    "for i in df2.columns:\n",
    "    df2[i] = ss.fit_transform(df2[[i]])\n",
    "\n",
    "# Splitting into X and y columns\n",
    "X = df2.drop(columns = ['Type of Client'])\n",
    "y = df2['Type of Client']"
   ]
  },
  {
   "cell_type": "code",
   "execution_count": 49,
   "id": "55422777",
   "metadata": {},
   "outputs": [
    {
     "name": "stdout",
     "output_type": "stream",
     "text": [
      "For MiniBatchKMeans, the ideal number of clusters are  4\n",
      "Based on dendrogram, the ideal number of clusters are  2\n"
     ]
    },
    {
     "data": {
      "image/png": "[encoded data removed]",
      "text/plain": [
       "<Figure size 1440x432 with 3 Axes>"
      ]
     },
     "metadata": {},
     "output_type": "display_data"
    }
   ],
   "source": [
    "# Calling function to create elbow curve and dendrogram\n",
    "\n",
    "elbow_curve_and_dendrogram(df2, 4, 5, 2)"
   ]
  },
  {
   "cell_type": "code",
   "execution_count": 50,
   "id": "f39fa7cc",
   "metadata": {},
   "outputs": [
    {
     "data": {
      "text/html": [
       "<div>\n",
       "<style scoped>\n",
       "    .dataframe tbody tr th:only-of-type {\n",
       "        vertical-align: middle;\n",
       "    }\n",
       "\n",
       "    .dataframe tbody tr th {\n",
       "        vertical-align: top;\n",
       "    }\n",
       "\n",
       "    .dataframe thead th {\n",
       "        text-align: right;\n",
       "    }\n",
       "</style>\n",
       "<table border=\"1\" class=\"dataframe\">\n",
       "  <thead>\n",
       "    <tr style=\"text-align: right;\">\n",
       "      <th></th>\n",
       "      <th>silhouette_score</th>\n",
       "      <th>davies_bouldin_score</th>\n",
       "      <th>fowlkes_mallows_score</th>\n",
       "      <th>adjusted_rand_score</th>\n",
       "      <th>mutual_info_score</th>\n",
       "      <th>v_measure_score</th>\n",
       "      <th>homogeneity_score</th>\n",
       "      <th>completeness_score</th>\n",
       "    </tr>\n",
       "  </thead>\n",
       "  <tbody>\n",
       "    <tr>\n",
       "      <th>MiniBatchKMeans</th>\n",
       "      <td>0.090005</td>\n",
       "      <td>1.736826</td>\n",
       "      <td>0.678046</td>\n",
       "      <td>0.507181</td>\n",
       "      <td>0.606929</td>\n",
       "      <td>0.482337</td>\n",
       "      <td>0.421612</td>\n",
       "      <td>0.563497</td>\n",
       "    </tr>\n",
       "    <tr>\n",
       "      <th>AgglomerativeClustering</th>\n",
       "      <td>0.208051</td>\n",
       "      <td>2.047385</td>\n",
       "      <td>0.592279</td>\n",
       "      <td>0.320891</td>\n",
       "      <td>0.425576</td>\n",
       "      <td>0.399256</td>\n",
       "      <td>0.295633</td>\n",
       "      <td>0.614726</td>\n",
       "    </tr>\n",
       "    <tr>\n",
       "      <th>DBSCAN</th>\n",
       "      <td>-0.073917</td>\n",
       "      <td>2.474621</td>\n",
       "      <td>0.420797</td>\n",
       "      <td>-0.089552</td>\n",
       "      <td>0.108081</td>\n",
       "      <td>0.117543</td>\n",
       "      <td>0.075080</td>\n",
       "      <td>0.270570</td>\n",
       "    </tr>\n",
       "    <tr>\n",
       "      <th>OPTICS</th>\n",
       "      <td>-0.073917</td>\n",
       "      <td>2.474621</td>\n",
       "      <td>0.420797</td>\n",
       "      <td>-0.089552</td>\n",
       "      <td>0.108081</td>\n",
       "      <td>0.117543</td>\n",
       "      <td>0.075080</td>\n",
       "      <td>0.270570</td>\n",
       "    </tr>\n",
       "    <tr>\n",
       "      <th>Spectral Clustering</th>\n",
       "      <td>0.213748</td>\n",
       "      <td>1.956538</td>\n",
       "      <td>0.637783</td>\n",
       "      <td>0.291085</td>\n",
       "      <td>0.372162</td>\n",
       "      <td>0.385992</td>\n",
       "      <td>0.258528</td>\n",
       "      <td>0.761386</td>\n",
       "    </tr>\n",
       "    <tr>\n",
       "      <th>Affinity Propagation</th>\n",
       "      <td>0.080199</td>\n",
       "      <td>1.691175</td>\n",
       "      <td>0.378382</td>\n",
       "      <td>0.208150</td>\n",
       "      <td>0.887941</td>\n",
       "      <td>0.486395</td>\n",
       "      <td>0.616821</td>\n",
       "      <td>0.401498</td>\n",
       "    </tr>\n",
       "  </tbody>\n",
       "</table>\n",
       "</div>"
      ],
      "text/plain": [
       "                         silhouette_score  davies_bouldin_score  \\\n",
       "MiniBatchKMeans                  0.090005              1.736826   \n",
       "AgglomerativeClustering          0.208051              2.047385   \n",
       "DBSCAN                          -0.073917              2.474621   \n",
       "OPTICS                          -0.073917              2.474621   \n",
       "Spectral Clustering              0.213748              1.956538   \n",
       "Affinity Propagation             0.080199              1.691175   \n",
       "\n",
       "                         fowlkes_mallows_score  adjusted_rand_score  \\\n",
       "MiniBatchKMeans                       0.678046             0.507181   \n",
       "AgglomerativeClustering               0.592279             0.320891   \n",
       "DBSCAN                                0.420797            -0.089552   \n",
       "OPTICS                                0.420797            -0.089552   \n",
       "Spectral Clustering                   0.637783             0.291085   \n",
       "Affinity Propagation                  0.378382             0.208150   \n",
       "\n",
       "                         mutual_info_score  v_measure_score  \\\n",
       "MiniBatchKMeans                   0.606929         0.482337   \n",
       "AgglomerativeClustering           0.425576         0.399256   \n",
       "DBSCAN                            0.108081         0.117543   \n",
       "OPTICS                            0.108081         0.117543   \n",
       "Spectral Clustering               0.372162         0.385992   \n",
       "Affinity Propagation              0.887941         0.486395   \n",
       "\n",
       "                         homogeneity_score  completeness_score  \n",
       "MiniBatchKMeans                   0.421612            0.563497  \n",
       "AgglomerativeClustering           0.295633            0.614726  \n",
       "DBSCAN                            0.075080            0.270570  \n",
       "OPTICS                            0.075080            0.270570  \n",
       "Spectral Clustering               0.258528            0.761386  \n",
       "Affinity Propagation              0.616821            0.401498  "
      ]
     },
     "execution_count": 50,
     "metadata": {},
     "output_type": "execute_result"
    }
   ],
   "source": [
    "# Calling function to create a dataframe of metric scores for six clustering algorithms\n",
    "\n",
    "evaluation_matrix(df2, X, y, elbow_best_value, 2, 5, 3, 5, 2, 'discretize', 0.8, 500, 'euclidean')"
   ]
  },
  {
   "cell_type": "code",
   "execution_count": 51,
   "id": "68ae7c6b",
   "metadata": {},
   "outputs": [
    {
     "data": {
      "text/html": [
       "<div>\n",
       "<style scoped>\n",
       "    .dataframe tbody tr th:only-of-type {\n",
       "        vertical-align: middle;\n",
       "    }\n",
       "\n",
       "    .dataframe tbody tr th {\n",
       "        vertical-align: top;\n",
       "    }\n",
       "\n",
       "    .dataframe thead th {\n",
       "        text-align: right;\n",
       "    }\n",
       "</style>\n",
       "<table border=\"1\" class=\"dataframe\">\n",
       "  <thead>\n",
       "    <tr style=\"text-align: right;\">\n",
       "      <th></th>\n",
       "      <th>fowlkes_mallows_score</th>\n",
       "      <th>adjusted_rand_score</th>\n",
       "      <th>mutual_info_score</th>\n",
       "      <th>v_measure_score</th>\n",
       "      <th>homogeneity_score</th>\n",
       "      <th>completeness_score</th>\n",
       "    </tr>\n",
       "  </thead>\n",
       "  <tbody>\n",
       "    <tr>\n",
       "      <th>Bayesian Gaussian Mixture</th>\n",
       "      <td>0.703147</td>\n",
       "      <td>0.484741</td>\n",
       "      <td>0.457329</td>\n",
       "      <td>0.432105</td>\n",
       "      <td>0.317691</td>\n",
       "      <td>0.675318</td>\n",
       "    </tr>\n",
       "    <tr>\n",
       "      <th>Gaussian Mixture</th>\n",
       "      <td>0.698528</td>\n",
       "      <td>0.474877</td>\n",
       "      <td>0.449251</td>\n",
       "      <td>0.425542</td>\n",
       "      <td>0.312079</td>\n",
       "      <td>0.668642</td>\n",
       "    </tr>\n",
       "  </tbody>\n",
       "</table>\n",
       "</div>"
      ],
      "text/plain": [
       "                           fowlkes_mallows_score  adjusted_rand_score  \\\n",
       "Bayesian Gaussian Mixture               0.703147             0.484741   \n",
       "Gaussian Mixture                        0.698528             0.474877   \n",
       "\n",
       "                           mutual_info_score  v_measure_score  \\\n",
       "Bayesian Gaussian Mixture           0.457329         0.432105   \n",
       "Gaussian Mixture                    0.449251         0.425542   \n",
       "\n",
       "                           homogeneity_score  completeness_score  \n",
       "Bayesian Gaussian Mixture           0.317691            0.675318  \n",
       "Gaussian Mixture                    0.312079            0.668642  "
      ]
     },
     "execution_count": 51,
     "metadata": {},
     "output_type": "execute_result"
    }
   ],
   "source": [
    "# Calling function to create a dataframe of metric scores for GMM and Bayesian GMM\n",
    "\n",
    "bayesian_and_gaussian(df2, X, y, 2, 'full', 1e-6)"
   ]
  },
  {
   "cell_type": "markdown",
   "id": "000fe3f9",
   "metadata": {},
   "source": [
    "## Hyperparameter Selection"
   ]
  },
  {
   "cell_type": "markdown",
   "id": "e6a98be3",
   "metadata": {},
   "source": [
    "### Mini Batch KMeans"
   ]
  },
  {
   "cell_type": "code",
   "execution_count": 52,
   "id": "773b70e3",
   "metadata": {},
   "outputs": [
    {
     "name": "stdout",
     "output_type": "stream",
     "text": [
      "Average of all scores for [4, 5] combination is 3.2596028383887177\n",
      "Average of all scores for [5, 5] combination is 2.9483477478799625\n",
      "Average of all scores for [6, 20] combination is 2.8081245645044337\n",
      "Average of all scores for [7, 10] combination is 2.9248799891394888\n",
      "Average of all scores for [8, 10] combination is 3.762940996303171\n"
     ]
    }
   ],
   "source": [
    "# Checking best combination of hyperparameters\n",
    "\n",
    "best_combination = [[4,5],[5,5],[6,20],[7,10],[8,10]]\n",
    "\n",
    "for i in best_combination:\n",
    "    model = MiniBatchKMeans(n_clusters=i[0], random_state=0, batch_size=i[1])\n",
    "    labels2 = model.fit(X).predict(X)\n",
    "    \n",
    "    # Calculating extrinsic measures for each combination of hyperparameters\n",
    "\n",
    "    fowlkes_mallows = fowlkes_mallows_score(y,labels2)\n",
    "    adjusted_rand = adjusted_rand_score(y,labels2)\n",
    "    mutual_info = mutual_info_score(y,labels2)\n",
    "    v_measure = v_measure_score(y,labels2)\n",
    "    homogeneity = homogeneity_score(y,labels2)\n",
    "    completeness = completeness_score(y,labels2)\n",
    "    \n",
    "    # Evaluating means of respective scores for each combination\n",
    "    \n",
    "    scores = [fowlkes_mallows + adjusted_rand + mutual_info + v_measure + homogeneity + completeness]\n",
    "    mean_scores = sum(scores)/len(scores)\n",
    "    print('Average of all scores for ' + str(i) + ' combination is ' + str(mean_scores))"
   ]
  },
  {
   "cell_type": "markdown",
   "id": "5762228c",
   "metadata": {},
   "source": [
    "The best combination of hyperparameters in Mini Batch KMeans which gave the highest average metric score includes:\n",
    "\n",
    "number of clusters = 8, batch size = 10"
   ]
  },
  {
   "cell_type": "markdown",
   "id": "9eb8f3bb",
   "metadata": {},
   "source": [
    "### Agglomerative Clustering"
   ]
  },
  {
   "cell_type": "code",
   "execution_count": 53,
   "id": "16c14612",
   "metadata": {},
   "outputs": [
    {
     "name": "stdout",
     "output_type": "stream",
     "text": [
      "Average of all scores for 2 clusters is 2.648359894877321\n",
      "Average of all scores for 3 clusters is 3.951489754388782\n",
      "Average of all scores for 4 clusters is 3.8540856497146923\n",
      "Average of all scores for 5 clusters is 3.704602489667917\n",
      "Average of all scores for 6 clusters is 3.85029080895204\n",
      "Average of all scores for 7 clusters is 3.753166620715296\n",
      "Average of all scores for 8 clusters is 3.730960230462271\n"
     ]
    }
   ],
   "source": [
    "# Checking best value of cluster\n",
    "\n",
    "best_combination = [2,3,4,5,6,7,8]\n",
    "\n",
    "for i in best_combination:\n",
    "    model = AgglomerativeClustering(n_clusters=i) \n",
    "    labels2 = model.fit(X).fit_predict(X)\n",
    "    \n",
    "    # Calculating extrinsic measures for each cluster value\n",
    "    \n",
    "    fowlkes_mallows = fowlkes_mallows_score(y,labels2)\n",
    "    adjusted_rand = adjusted_rand_score(y,labels2)\n",
    "    mutual_info = mutual_info_score(y,labels2)\n",
    "    v_measure = v_measure_score(y,labels2)\n",
    "    homogeneity = homogeneity_score(y,labels2)\n",
    "    completeness = completeness_score(y,labels2)\n",
    "    \n",
    "    # Evaluating means of respective scores for each cluster\n",
    "    \n",
    "    scores = [fowlkes_mallows + adjusted_rand + mutual_info + v_measure + homogeneity + completeness]\n",
    "    mean_scores = sum(scores)/len(scores)\n",
    "    print('Average of all scores for ' + str(i) + ' clusters is ' + str(mean_scores))"
   ]
  },
  {
   "cell_type": "markdown",
   "id": "6ce54306",
   "metadata": {},
   "source": [
    "The best value of number of clusters in Agglomerative Clustering is 3, which gave the highest average metric score."
   ]
  },
  {
   "cell_type": "markdown",
   "id": "5cfc904d",
   "metadata": {},
   "source": [
    "### DBScan"
   ]
  },
  {
   "cell_type": "code",
   "execution_count": 54,
   "id": "b133e92b",
   "metadata": {},
   "outputs": [
    {
     "name": "stdout",
     "output_type": "stream",
     "text": [
      "Average of all scores for [0.7, 1] combination is 3.2775233696087516\n",
      "Average of all scores for [1, 2] combination is 1.5475835945300753\n",
      "Average of all scores for [3, 3] combination is 1.2412906909313164\n",
      "Average of all scores for [3, 5] combination is 0.9025184726493213\n",
      "Average of all scores for [5, 7] combination is 1.1161774188697344\n"
     ]
    }
   ],
   "source": [
    "# Checking best combination of hyperparameters\n",
    "\n",
    "best_combination = [[0.7,1],[1,2],[3,3],[3,5],[5,7]]\n",
    "\n",
    "for i in best_combination:\n",
    "    model = DBSCAN(eps=i[0], min_samples=i[1])\n",
    "    labels2 = model.fit(X).fit_predict(X)\n",
    "    \n",
    "    # Calculating extrinsic measures for each combination of hyperparameters\n",
    "    \n",
    "    fowlkes_mallows = fowlkes_mallows_score(y,labels2)\n",
    "    adjusted_rand = adjusted_rand_score(y,labels2)\n",
    "    mutual_info = mutual_info_score(y,labels2)\n",
    "    v_measure = v_measure_score(y,labels2)\n",
    "    homogeneity = homogeneity_score(y,labels2)\n",
    "    completeness = completeness_score(y,labels2)\n",
    "    \n",
    "    # Evaluating means of respective scores for each combination\n",
    "    \n",
    "    scores = [fowlkes_mallows + adjusted_rand + mutual_info + v_measure + homogeneity + completeness]\n",
    "    mean_scores = sum(scores)/len(scores)\n",
    "    print('Average of all scores for ' + str(i) + ' combination is ' + str(mean_scores))"
   ]
  },
  {
   "cell_type": "markdown",
   "id": "2e5bd241",
   "metadata": {},
   "source": [
    "The best combination of hyperparameters in DBScan which gave the highest average metric score includes:\n",
    "\n",
    "maximum distance between two samples (eps) = 0.7, minimum number of samples = 1 "
   ]
  },
  {
   "cell_type": "markdown",
   "id": "be87973f",
   "metadata": {},
   "source": [
    "### OPTICS"
   ]
  },
  {
   "cell_type": "code",
   "execution_count": 55,
   "id": "c475fbfc",
   "metadata": {},
   "outputs": [
    {
     "name": "stdout",
     "output_type": "stream",
     "text": [
      "Average of all scores for 3 samples is 1.1320767210601717\n",
      "Average of all scores for 4 samples is 1.3155555220243795\n",
      "Average of all scores for 5 samples is 0.9025184726493213\n",
      "Average of all scores for 6 samples is 0.9025184726493213\n",
      "Average of all scores for 7 samples is 0.9025184726493213\n",
      "Average of all scores for 8 samples is 1.5475835945300753\n"
     ]
    }
   ],
   "source": [
    "# Checking best value of minimum number of samples\n",
    "\n",
    "best_combination = [3,4,5,6,7,8]\n",
    "\n",
    "for i in best_combination:\n",
    "    model = OPTICS(min_samples=i)\n",
    "    labels2 = model.fit(X).fit_predict(X)\n",
    "    \n",
    "    # Calculating extrinsic measures for each value of minimum samples\n",
    "    \n",
    "    fowlkes_mallows = fowlkes_mallows_score(y,labels2)\n",
    "    adjusted_rand = adjusted_rand_score(y,labels2)\n",
    "    mutual_info = mutual_info_score(y,labels2)\n",
    "    v_measure = v_measure_score(y,labels2)\n",
    "    homogeneity = homogeneity_score(y,labels2)\n",
    "    completeness = completeness_score(y,labels2)\n",
    "    \n",
    "    # Evaluating means of respective scores for each value of minimum samples\n",
    "\n",
    "    scores = [fowlkes_mallows + adjusted_rand + mutual_info + v_measure + homogeneity + completeness]\n",
    "    mean_scores = sum(scores)/len(scores)\n",
    "    print('Average of all scores for ' + str(i) + ' samples is ' + str(mean_scores))"
   ]
  },
  {
   "cell_type": "markdown",
   "id": "aeaacb3b",
   "metadata": {},
   "source": [
    "The best value of minimum number of samples in OPTICS is 8, which gave the highest average metric score."
   ]
  },
  {
   "cell_type": "markdown",
   "id": "68406757",
   "metadata": {},
   "source": [
    "### Affinity Propagation "
   ]
  },
  {
   "cell_type": "code",
   "execution_count": 56,
   "id": "3d8a67dd",
   "metadata": {},
   "outputs": [
    {
     "name": "stdout",
     "output_type": "stream",
     "text": [
      "Average of all scores for [0.5, 200] combination is 3.350966326890353\n",
      "Average of all scores for [0.6, 300] combination is 3.011810133671791\n",
      "Average of all scores for [0.7, 400] combination is 2.979187191590451\n",
      "Average of all scores for [0.8, 200] combination is 2.979187191590451\n",
      "Average of all scores for [0.9, 500] combination is 2.122383197242067\n"
     ]
    }
   ],
   "source": [
    "# Checking best combination of hyperparameters\n",
    "\n",
    "best_combination = [[0.5,200],[0.6,300],[0.7,400],[0.8,200],[0.9,500]]\n",
    "\n",
    "for i in best_combination:\n",
    "    model = AffinityPropagation(damping=i[0], max_iter=i[1], affinity=\"euclidean\", random_state=0)\n",
    "    labels2 = model.fit(X).fit_predict(X)\n",
    "    \n",
    "    # Calculating extrinsic measures for each combination of hyperparameters\n",
    "\n",
    "    fowlkes_mallows = fowlkes_mallows_score(y,labels2)\n",
    "    adjusted_rand = adjusted_rand_score(y,labels2)\n",
    "    mutual_info = mutual_info_score(y,labels2)\n",
    "    v_measure = v_measure_score(y,labels2)\n",
    "    homogeneity = homogeneity_score(y,labels2)\n",
    "    completeness = completeness_score(y,labels2)\n",
    "    \n",
    "    # Evaluating means of respective scores for each combination\n",
    "\n",
    "    scores = [fowlkes_mallows + adjusted_rand + mutual_info + v_measure + homogeneity + completeness]\n",
    "    mean_scores = sum(scores)/len(scores)\n",
    "    print('Average of all scores for ' + str(i) + ' combination is ' + str(mean_scores))"
   ]
  },
  {
   "cell_type": "markdown",
   "id": "41ed732d",
   "metadata": {},
   "source": [
    "The best combinations of hyperparameters in Affinity Propagation which gave the highest average metric scores include:\n",
    "\n",
    "damping value = 0.5, maximum iterations = 200"
   ]
  },
  {
   "cell_type": "markdown",
   "id": "bcf31db6",
   "metadata": {},
   "source": [
    "### Spectral Clustering "
   ]
  },
  {
   "cell_type": "code",
   "execution_count": 57,
   "id": "3473acb3",
   "metadata": {},
   "outputs": [
    {
     "name": "stdout",
     "output_type": "stream",
     "text": [
      "Average of all scores for [5, 'discretize'] combination is 3.1910954454461242\n",
      "Average of all scores for [6, 'discretize'] combination is 3.0472665925449083\n",
      "Average of all scores for [7, 'kmeans'] combination is 2.962535791140037\n",
      "Average of all scores for [8, 'kmeans'] combination is 3.5528396439621805\n",
      "Average of all scores for [9, 'discretize'] combination is 2.986232599659427\n"
     ]
    }
   ],
   "source": [
    "# Checking best combination of hyperparameters\n",
    "\n",
    "best_combination = [[5,'discretize'],[6,'discretize'],[7,'kmeans'],[8,'kmeans'],[9,'discretize']]\n",
    "\n",
    "for i in best_combination:\n",
    "    model = SpectralClustering(n_clusters=i[0], assign_labels=i[1], random_state=0)\n",
    "    labels2 = model.fit(X).fit_predict(X)\n",
    "    \n",
    "    # Calculating extrinsic measures for each combination of hyperparameters\n",
    "    \n",
    "    fowlkes_mallows = fowlkes_mallows_score(y,labels2)\n",
    "    adjusted_rand = adjusted_rand_score(y,labels2)\n",
    "    mutual_info = mutual_info_score(y,labels2)\n",
    "    v_measure = v_measure_score(y,labels2)\n",
    "    homogeneity = homogeneity_score(y,labels2)\n",
    "    completeness = completeness_score(y,labels2)\n",
    "    \n",
    "    # Evaluating means of respective scores for each combination\n",
    "\n",
    "    scores = [fowlkes_mallows + adjusted_rand + mutual_info + v_measure + homogeneity + completeness]\n",
    "    mean_scores = sum(scores)/len(scores)\n",
    "    print('Average of all scores for ' + str(i) + ' combination is ' + str(mean_scores))"
   ]
  },
  {
   "cell_type": "markdown",
   "id": "0d03e55e",
   "metadata": {},
   "source": [
    "The best combination of hyperparameters in Spectral Clustering that gave the highest average metric score includes:\n",
    "\n",
    "number of clusters = 8, assign labels = 'kmeans'"
   ]
  },
  {
   "cell_type": "markdown",
   "id": "fd79e75f",
   "metadata": {},
   "source": [
    "### Bayesian Gaussian Mixture"
   ]
  },
  {
   "cell_type": "code",
   "execution_count": 58,
   "id": "1b238735",
   "metadata": {},
   "outputs": [
    {
     "name": "stdout",
     "output_type": "stream",
     "text": [
      "Average of all scores for [2, 'full'] combination is 3.070331981453408\n",
      "Average of all scores for [3, 'tied'] combination is 2.8793193041650698\n",
      "Average of all scores for [4, 'diag'] combination is 2.8999288029148236\n",
      "Average of all scores for [5, 'spherical'] combination is 1.5475835945300753\n",
      "Average of all scores for [6, 'full'] combination is 2.8269993654095367\n",
      "Average of all scores for [7, 'spherical'] combination is 1.5475835945300753\n",
      "Average of all scores for [8, 'diag'] combination is 2.8220502080902015\n"
     ]
    }
   ],
   "source": [
    "# Checking best combination of hyperparameters\n",
    "\n",
    "best_combination = [[2,'full'],[3,'tied'],[4,'diag'],[5,'spherical'],[6,'full'],[7, 'spherical'],[8, 'diag']]\n",
    "\n",
    "for i in best_combination:\n",
    "    model = BayesianGaussianMixture(n_components=i[0], covariance_type=i[1], random_state=0)\n",
    "    labels2 = model.fit(X).fit_predict(X)\n",
    "    \n",
    "    # Calculating extrinsic measures for each combination of hyperparameters\n",
    "    \n",
    "    fowlkes_mallows = fowlkes_mallows_score(y,labels2)\n",
    "    adjusted_rand = adjusted_rand_score(y,labels2)\n",
    "    mutual_info = mutual_info_score(y,labels2)\n",
    "    v_measure = v_measure_score(y,labels2)\n",
    "    homogeneity = homogeneity_score(y,labels2)\n",
    "    completeness = completeness_score(y,labels2)\n",
    "    \n",
    "    # Evaluating means of respective scores for each combination\n",
    "    \n",
    "    scores = [fowlkes_mallows + adjusted_rand + mutual_info + v_measure + homogeneity + completeness]\n",
    "    mean_scores = sum(scores)/len(scores)\n",
    "    print('Average of all scores for ' + str(i) + ' combination is ' + str(mean_scores))"
   ]
  },
  {
   "cell_type": "markdown",
   "id": "5296a195",
   "metadata": {},
   "source": [
    "The best combination of hyperparameters in Bayesian Gaussian Mixture that gave the highest average metric score includes:\n",
    "\n",
    "number of components = 2, covariance type = 'full'"
   ]
  },
  {
   "cell_type": "markdown",
   "id": "62a26529",
   "metadata": {},
   "source": [
    "### Gaussian Mixture Model"
   ]
  },
  {
   "cell_type": "code",
   "execution_count": 59,
   "id": "69425787",
   "metadata": {},
   "outputs": [
    {
     "name": "stdout",
     "output_type": "stream",
     "text": [
      "Average of all scores for [2, 'full'] combination is 3.0289175463547053\n",
      "Average of all scores for [3, 'tied'] combination is 2.8793193041650698\n",
      "Average of all scores for [4, 'diag'] combination is 2.095483706516382\n",
      "Average of all scores for [5, 'spherical'] combination is 2.898261223193028\n",
      "Average of all scores for [6, 'full'] combination is 2.8269993654095367\n",
      "Average of all scores for [7, 'spherical'] combination is 3.207891187487359\n",
      "Average of all scores for [8, 'diag'] combination is 2.9073296302125184\n"
     ]
    }
   ],
   "source": [
    "# Checking best combination of hyperparameters\n",
    "\n",
    "best_combination = [[2,'full'],[3,'tied'],[4,'diag'],[5,'spherical'],[6,'full'],[7, 'spherical'],[8, 'diag']]\n",
    "\n",
    "for i in best_combination:\n",
    "    model = GaussianMixture(n_components=i[0], covariance_type=i[1], random_state=0)\n",
    "    labels2 = model.fit(X).fit_predict(X)\n",
    "    \n",
    "    # Calculating extrinsic measures for each combination of hyperparameters\n",
    "    \n",
    "    fowlkes_mallows = fowlkes_mallows_score(y,labels2)\n",
    "    adjusted_rand = adjusted_rand_score(y,labels2)\n",
    "    mutual_info = mutual_info_score(y,labels2)\n",
    "    v_measure = v_measure_score(y,labels2)\n",
    "    homogeneity = homogeneity_score(y,labels2)\n",
    "    completeness = completeness_score(y,labels2)\n",
    "    \n",
    "    # Evaluating means of respective scores for each combination\n",
    "\n",
    "    scores = [fowlkes_mallows + adjusted_rand + mutual_info + v_measure + homogeneity + completeness]\n",
    "    mean_scores = sum(scores)/len(scores)\n",
    "    print('Average of all scores for ' + str(i) + ' combination is ' + str(mean_scores))"
   ]
  },
  {
   "cell_type": "markdown",
   "id": "8fd1d600",
   "metadata": {},
   "source": [
    "The best combination of hyperparameters in Gaussian Mixture Model that gave the highest average metric score includes:\n",
    "\n",
    "number of components = 7, covariance type = 'spherical'"
   ]
  },
  {
   "cell_type": "markdown",
   "id": "31eda926",
   "metadata": {},
   "source": [
    "#### Analysis:\n",
    "\n",
    "1) It is observed that the Mini Batch KMeans outperforms GMM with highest average score, which shows that the Mini batch kmeans algorithm is better at accurately clustering and identifying patterns in the data. This could be due to the inherent structure of the data, the number of clusters, or the parameters used in the algorithms.\n",
    "\n",
    "2) It is observed that the Agglomerative Clustering outperforms GMM with highest average score, which shows that the Agglomerative clustering algorithm is better at grouping the data into clusters based on the chosen performance metrics. This could be due to the nature of the data, the chosen distance metric, or the number of clusters being considered.\n",
    "\n",
    "3) It is observed that the DBScan outperforms GMM with highest average score, which shows that DBScan is more accurately identifying clusters or has a lower error rate. This could be due to the nature of the data, the chosen distance metric, or the number of clusters being considered.\n",
    "\n",
    "4) It is observed that the GMM outperforms OPTICS with highest average score, which shows that GMM is more effective at accurately clustering the data. This could be due to the GMM's ability to handle multimodal data and its flexibility in modeling the underlying distribution of the data.\n",
    "\n",
    "5) It is observed that the Affinity Propagation outperforms GMM with highest average score, which shows that Affinity propagation is a better model for the data at hand. This could be because Affinity propagation is able to more accurately cluster the data, or because it is able to more accurately predict the labels of the data points.\n",
    "\n",
    "6) It is observed that the Spectral Clustering outperforms GMM with highest average score, which shows that Spectral Clustering is better at identifying and separating distinct groups within the data set. This could be due to the fact that Spectral Clustering utilizes the graph structure of the data, which may be more effective at identifying and separating non-linearly distributed groups within the data.\n",
    "\n",
    "7) It is observed that the GMM outperforms Bayesian GMM with slightly higher average score (very close), which shows that both models are performing similarly in terms of their ability to accurately predict or classify data. This may indicate that either model could be a suitable choice for the particular task at hand."
   ]
  },
  {
   "cell_type": "markdown",
   "id": "461d71b8",
   "metadata": {},
   "source": [
    "#### Experiment with all possible values of hyperparameters of GMM"
   ]
  },
  {
   "cell_type": "markdown",
   "id": "18636986",
   "metadata": {},
   "source": [
    "### Parameter changes:"
   ]
  },
  {
   "cell_type": "markdown",
   "id": "3485169c",
   "metadata": {},
   "source": [
    "#### (1) Based on number of components"
   ]
  },
  {
   "cell_type": "code",
   "execution_count": 60,
   "id": "669a99f3",
   "metadata": {},
   "outputs": [
    {
     "name": "stdout",
     "output_type": "stream",
     "text": [
      "Average of all scores for 2 components is 3.0289175463547053\n",
      "Average of all scores for 3 components is 2.872012785710358\n",
      "Average of all scores for 4 components is 2.859181317263984\n",
      "Average of all scores for 5 components is 2.9419720192131296\n",
      "Average of all scores for 6 components is 2.8269993654095367\n",
      "Average of all scores for 7 components is 2.919805382334197\n"
     ]
    }
   ],
   "source": [
    "# Changing number of components to obtain the best value\n",
    "\n",
    "number_of_components = [2,3,4,5,6,7]\n",
    "\n",
    "for i in number_of_components:\n",
    "    model = GaussianMixture(n_components=i, covariance_type='full', reg_covar=1e-6, random_state=0)\n",
    "    labels2 = model.fit(X).fit_predict(X)\n",
    "    \n",
    "    # Calculating extrinsic measures for each value of number of components\n",
    "    \n",
    "    fowlkes_mallows = fowlkes_mallows_score(y,labels2)\n",
    "    adjusted_rand = adjusted_rand_score(y,labels2)\n",
    "    mutual_info = mutual_info_score(y,labels2)\n",
    "    v_measure = v_measure_score(y,labels2)\n",
    "    homogeneity = homogeneity_score(y,labels2)\n",
    "    completeness = completeness_score(y,labels2)\n",
    "    \n",
    "    # Evaluating means of respective scores for each value of number of components\n",
    "    \n",
    "    scores = [fowlkes_mallows + adjusted_rand + mutual_info + v_measure + homogeneity + completeness]\n",
    "    mean_scores = sum(scores)/len(scores)\n",
    "    print('Average of all scores for ' + str(i) + ' components is ' + str(mean_scores))"
   ]
  },
  {
   "cell_type": "markdown",
   "id": "1861bd9e",
   "metadata": {},
   "source": [
    "Upon increasing and decreasing the number of components parameter in GMM, it is observed that the best score is obtained when the number of components are 2. This shows that the model is able to accurately classify the data using fewer components or clusters. This may indicate that the  model is able to effectively capture the underlying structure of the data using fewer components."
   ]
  },
  {
   "cell_type": "markdown",
   "id": "cae3ae50",
   "metadata": {},
   "source": [
    "#### (2) Based on covariance type"
   ]
  },
  {
   "cell_type": "code",
   "execution_count": 61,
   "id": "32723145",
   "metadata": {},
   "outputs": [
    {
     "name": "stdout",
     "output_type": "stream",
     "text": [
      "Average of all scores for full covariance type is 3.0289175463547053\n",
      "Average of all scores for tied covariance type is 2.610696289554194\n",
      "Average of all scores for diag covariance type is 3.348440884461584\n",
      "Average of all scores for spherical covariance type is 2.5968174855305204\n"
     ]
    }
   ],
   "source": [
    "# Changing covariance type to obtain the best value\n",
    "\n",
    "type_of_covariance = ['full', 'tied', 'diag', 'spherical']\n",
    "\n",
    "for i in type_of_covariance:\n",
    "    model = GaussianMixture(n_components=2, covariance_type=i, reg_covar=1e-6, random_state=0)\n",
    "    labels2 = model.fit(X).fit_predict(X)\n",
    "    \n",
    "    # Calculating extrinsic measures for each covariance type\n",
    "    \n",
    "    fowlkes_mallows = fowlkes_mallows_score(y,labels2)\n",
    "    adjusted_rand = adjusted_rand_score(y,labels2)\n",
    "    mutual_info = mutual_info_score(y,labels2)\n",
    "    v_measure = v_measure_score(y,labels2)\n",
    "    homogeneity = homogeneity_score(y,labels2)\n",
    "    completeness = completeness_score(y,labels2)\n",
    "    \n",
    "    # Evaluating means of respective scores for each covariance type\n",
    "    \n",
    "    scores = [fowlkes_mallows + adjusted_rand + mutual_info + v_measure + homogeneity + completeness]\n",
    "    mean_scores = sum(scores)/len(scores)\n",
    "    print('Average of all scores for ' + str(i) + ' covariance type is ' + str(mean_scores))"
   ]
  },
  {
   "cell_type": "markdown",
   "id": "e2415129",
   "metadata": {},
   "source": [
    "Upon changing the type of covariance parameter in GMM, it is observed that the best score is obtained when the covariance type is 'diag'. This suggests that the data may be more effectively modeled with a diagonal covariance matrix rather than a full or spherical covariance matrix. This may indicate that the data has some degree of independence between the different features, as the diagonal covariance matrix assumes that the features are uncorrelated."
   ]
  },
  {
   "cell_type": "markdown",
   "id": "c9e35449",
   "metadata": {},
   "source": [
    "#### (3) Based on regularization of covariance"
   ]
  },
  {
   "cell_type": "code",
   "execution_count": 62,
   "id": "be036b4b",
   "metadata": {},
   "outputs": [
    {
     "name": "stdout",
     "output_type": "stream",
     "text": [
      "Average of all scores for regularized covariance of 1e-20 is 2.764338156303532\n",
      "Average of all scores for regularized covariance of 1e-10 is 3.0185027540755294\n",
      "Average of all scores for regularized covariance of 1e-06 is 3.0289175463547053\n",
      "Average of all scores for regularized covariance of 0.5 is 3.2957326208696425\n",
      "Average of all scores for regularized covariance of 1.5 is 3.0586729117615006\n",
      "Average of all scores for regularized covariance of 3 is 1.350679019148814\n"
     ]
    }
   ],
   "source": [
    "# Changing the value of regularized covariance to obtain the best value\n",
    "\n",
    "regularization_covariance = [1e-20, 1e-10, 1e-6, 0.5, 1.5, 3]\n",
    "\n",
    "for i in regularization_covariance:\n",
    "    model = GaussianMixture(n_components=2, covariance_type='full', reg_covar=i, random_state=0)\n",
    "    labels2 = model.fit(X).fit_predict(X)\n",
    "    \n",
    "    # Calculating extrinsic measures for each value of regularized covariance\n",
    "    \n",
    "    fowlkes_mallows = fowlkes_mallows_score(y,labels2)\n",
    "    adjusted_rand = adjusted_rand_score(y,labels2)\n",
    "    mutual_info = mutual_info_score(y,labels2)\n",
    "    v_measure = v_measure_score(y,labels2)\n",
    "    homogeneity = homogeneity_score(y,labels2)\n",
    "    completeness = completeness_score(y,labels2)\n",
    "    \n",
    "    # Evaluating means of respective scores for each value of regularized covariance\n",
    "\n",
    "    scores = [fowlkes_mallows + adjusted_rand + mutual_info + v_measure + homogeneity + completeness]\n",
    "    mean_scores = sum(scores)/len(scores)\n",
    "    print('Average of all scores for ' + 'regularized covariance of ' + str(i) + ' is ' + str(mean_scores))"
   ]
  },
  {
   "cell_type": "markdown",
   "id": "16bdc740",
   "metadata": {},
   "source": [
    "Upon increasing and decreasing the regularized covariance in GMM, it is observed that the best score is obtained when the value is 0.5. This suggests that the model is able to accurately classify the data points into different mixture components with a relatively low level of regularization applied to the covariance matrices of the mixture components. This indicates that the data points are well-separated and distinct."
   ]
  },
  {
   "cell_type": "markdown",
   "id": "a480bfbf",
   "metadata": {},
   "source": [
    "## Dataset 03: South German Credit data"
   ]
  },
  {
   "cell_type": "markdown",
   "id": "6669c1fd",
   "metadata": {},
   "source": [
    "The dataset contains 700 good and 300 bad credits with 20 predictor variables. Data is from 1973 to 1975, and consists of 1000 rows and 21 columns. Stratified sample from actual credits with bad credits heavily oversampled."
   ]
  },
  {
   "cell_type": "code",
   "execution_count": 138,
   "id": "5138bd77",
   "metadata": {},
   "outputs": [
    {
     "data": {
      "text/html": [
       "<div>\n",
       "<style scoped>\n",
       "    .dataframe tbody tr th:only-of-type {\n",
       "        vertical-align: middle;\n",
       "    }\n",
       "\n",
       "    .dataframe tbody tr th {\n",
       "        vertical-align: top;\n",
       "    }\n",
       "\n",
       "    .dataframe thead th {\n",
       "        text-align: right;\n",
       "    }\n",
       "</style>\n",
       "<table border=\"1\" class=\"dataframe\">\n",
       "  <thead>\n",
       "    <tr style=\"text-align: right;\">\n",
       "      <th></th>\n",
       "      <th>status</th>\n",
       "      <th>duration</th>\n",
       "      <th>credit_history</th>\n",
       "      <th>purpose</th>\n",
       "      <th>amount</th>\n",
       "      <th>savings</th>\n",
       "      <th>employment_duration</th>\n",
       "      <th>installment_rate</th>\n",
       "      <th>personal_status_sex</th>\n",
       "      <th>other_debtors</th>\n",
       "      <th>...</th>\n",
       "      <th>property</th>\n",
       "      <th>age</th>\n",
       "      <th>other_installment_plans</th>\n",
       "      <th>housing</th>\n",
       "      <th>number_credits</th>\n",
       "      <th>job</th>\n",
       "      <th>people_liable</th>\n",
       "      <th>telephone</th>\n",
       "      <th>foreign_worker</th>\n",
       "      <th>credit_risk</th>\n",
       "    </tr>\n",
       "  </thead>\n",
       "  <tbody>\n",
       "    <tr>\n",
       "      <th>0</th>\n",
       "      <td>1</td>\n",
       "      <td>18</td>\n",
       "      <td>4</td>\n",
       "      <td>2</td>\n",
       "      <td>1049</td>\n",
       "      <td>1</td>\n",
       "      <td>2</td>\n",
       "      <td>4</td>\n",
       "      <td>2</td>\n",
       "      <td>1</td>\n",
       "      <td>...</td>\n",
       "      <td>2</td>\n",
       "      <td>21</td>\n",
       "      <td>3</td>\n",
       "      <td>1</td>\n",
       "      <td>1</td>\n",
       "      <td>3</td>\n",
       "      <td>2</td>\n",
       "      <td>1</td>\n",
       "      <td>2</td>\n",
       "      <td>1</td>\n",
       "    </tr>\n",
       "    <tr>\n",
       "      <th>1</th>\n",
       "      <td>1</td>\n",
       "      <td>9</td>\n",
       "      <td>4</td>\n",
       "      <td>0</td>\n",
       "      <td>2799</td>\n",
       "      <td>1</td>\n",
       "      <td>3</td>\n",
       "      <td>2</td>\n",
       "      <td>3</td>\n",
       "      <td>1</td>\n",
       "      <td>...</td>\n",
       "      <td>1</td>\n",
       "      <td>36</td>\n",
       "      <td>3</td>\n",
       "      <td>1</td>\n",
       "      <td>2</td>\n",
       "      <td>3</td>\n",
       "      <td>1</td>\n",
       "      <td>1</td>\n",
       "      <td>2</td>\n",
       "      <td>1</td>\n",
       "    </tr>\n",
       "    <tr>\n",
       "      <th>2</th>\n",
       "      <td>2</td>\n",
       "      <td>12</td>\n",
       "      <td>2</td>\n",
       "      <td>9</td>\n",
       "      <td>841</td>\n",
       "      <td>2</td>\n",
       "      <td>4</td>\n",
       "      <td>2</td>\n",
       "      <td>2</td>\n",
       "      <td>1</td>\n",
       "      <td>...</td>\n",
       "      <td>1</td>\n",
       "      <td>23</td>\n",
       "      <td>3</td>\n",
       "      <td>1</td>\n",
       "      <td>1</td>\n",
       "      <td>2</td>\n",
       "      <td>2</td>\n",
       "      <td>1</td>\n",
       "      <td>2</td>\n",
       "      <td>1</td>\n",
       "    </tr>\n",
       "    <tr>\n",
       "      <th>3</th>\n",
       "      <td>1</td>\n",
       "      <td>12</td>\n",
       "      <td>4</td>\n",
       "      <td>0</td>\n",
       "      <td>2122</td>\n",
       "      <td>1</td>\n",
       "      <td>3</td>\n",
       "      <td>3</td>\n",
       "      <td>3</td>\n",
       "      <td>1</td>\n",
       "      <td>...</td>\n",
       "      <td>1</td>\n",
       "      <td>39</td>\n",
       "      <td>3</td>\n",
       "      <td>1</td>\n",
       "      <td>2</td>\n",
       "      <td>2</td>\n",
       "      <td>1</td>\n",
       "      <td>1</td>\n",
       "      <td>1</td>\n",
       "      <td>1</td>\n",
       "    </tr>\n",
       "    <tr>\n",
       "      <th>4</th>\n",
       "      <td>1</td>\n",
       "      <td>12</td>\n",
       "      <td>4</td>\n",
       "      <td>0</td>\n",
       "      <td>2171</td>\n",
       "      <td>1</td>\n",
       "      <td>3</td>\n",
       "      <td>4</td>\n",
       "      <td>3</td>\n",
       "      <td>1</td>\n",
       "      <td>...</td>\n",
       "      <td>2</td>\n",
       "      <td>38</td>\n",
       "      <td>1</td>\n",
       "      <td>2</td>\n",
       "      <td>2</td>\n",
       "      <td>2</td>\n",
       "      <td>2</td>\n",
       "      <td>1</td>\n",
       "      <td>1</td>\n",
       "      <td>1</td>\n",
       "    </tr>\n",
       "  </tbody>\n",
       "</table>\n",
       "<p>5 rows × 21 columns</p>\n",
       "</div>"
      ],
      "text/plain": [
       "   status  duration  credit_history  purpose  amount  savings  \\\n",
       "0       1        18               4        2    1049        1   \n",
       "1       1         9               4        0    2799        1   \n",
       "2       2        12               2        9     841        2   \n",
       "3       1        12               4        0    2122        1   \n",
       "4       1        12               4        0    2171        1   \n",
       "\n",
       "   employment_duration  installment_rate  personal_status_sex  other_debtors  \\\n",
       "0                    2                 4                    2              1   \n",
       "1                    3                 2                    3              1   \n",
       "2                    4                 2                    2              1   \n",
       "3                    3                 3                    3              1   \n",
       "4                    3                 4                    3              1   \n",
       "\n",
       "   ...  property  age  other_installment_plans  housing  number_credits  job  \\\n",
       "0  ...         2   21                        3        1               1    3   \n",
       "1  ...         1   36                        3        1               2    3   \n",
       "2  ...         1   23                        3        1               1    2   \n",
       "3  ...         1   39                        3        1               2    2   \n",
       "4  ...         2   38                        1        2               2    2   \n",
       "\n",
       "   people_liable  telephone  foreign_worker  credit_risk  \n",
       "0              2          1               2            1  \n",
       "1              1          1               2            1  \n",
       "2              2          1               2            1  \n",
       "3              1          1               1            1  \n",
       "4              2          1               1            1  \n",
       "\n",
       "[5 rows x 21 columns]"
      ]
     },
     "execution_count": 138,
     "metadata": {},
     "output_type": "execute_result"
    }
   ],
   "source": [
    "# Assigning column names\n",
    "\n",
    "colnames = ['status', 'duration', 'credit_history', 'purpose', 'amount', 'savings', 'employment_duration', \n",
    "            'installment_rate', 'personal_status_sex', 'other_debtors', 'present_residence', 'property', 'age',\n",
    "           'other_installment_plans', 'housing', 'number_credits', 'job', 'people_liable', 'telephone', 'foreign_worker',\n",
    "           'credit_risk']\n",
    "\n",
    "# Loading the dataset\n",
    "df3 = pd.read_csv('Classification\\SouthGermanCredit.asc', sep = ' ', names = colnames, header=0)\n",
    "df3.head()"
   ]
  },
  {
   "cell_type": "code",
   "execution_count": 140,
   "id": "3795c209",
   "metadata": {},
   "outputs": [
    {
     "data": {
      "text/plain": [
       "(1000, 21)"
      ]
     },
     "execution_count": 140,
     "metadata": {},
     "output_type": "execute_result"
    }
   ],
   "source": [
    "# Data shape\n",
    "\n",
    "df3.shape"
   ]
  },
  {
   "cell_type": "code",
   "execution_count": 141,
   "id": "6280f84e",
   "metadata": {},
   "outputs": [],
   "source": [
    "# Normalizing the data\n",
    "\n",
    "ss=StandardScaler()\n",
    "for i in df3.columns:\n",
    "    df3[i] = ss.fit_transform(df3[[i]])\n",
    "\n",
    "# Splitting into X and y columns\n",
    "\n",
    "X = df3.drop(columns = ['credit_risk'])\n",
    "y = df3['credit_risk']"
   ]
  },
  {
   "cell_type": "code",
   "execution_count": 66,
   "id": "2b7f0790",
   "metadata": {},
   "outputs": [
    {
     "name": "stdout",
     "output_type": "stream",
     "text": [
      "For MiniBatchKMeans, the ideal number of clusters are  9\n",
      "Based on dendrogram, the ideal number of clusters are  2\n"
     ]
    },
    {
     "data": {
      "image/png": "[encoded data removed]",
      "text/plain": [
       "<Figure size 1440x432 with 3 Axes>"
      ]
     },
     "metadata": {},
     "output_type": "display_data"
    }
   ],
   "source": [
    "# Calling function to create elbow curve and dendrogram\n",
    "\n",
    "elbow_curve_and_dendrogram(df3, 9, 100, 2)"
   ]
  },
  {
   "cell_type": "code",
   "execution_count": 67,
   "id": "4a284b9c",
   "metadata": {},
   "outputs": [
    {
     "data": {
      "text/html": [
       "<div>\n",
       "<style scoped>\n",
       "    .dataframe tbody tr th:only-of-type {\n",
       "        vertical-align: middle;\n",
       "    }\n",
       "\n",
       "    .dataframe tbody tr th {\n",
       "        vertical-align: top;\n",
       "    }\n",
       "\n",
       "    .dataframe thead th {\n",
       "        text-align: right;\n",
       "    }\n",
       "</style>\n",
       "<table border=\"1\" class=\"dataframe\">\n",
       "  <thead>\n",
       "    <tr style=\"text-align: right;\">\n",
       "      <th></th>\n",
       "      <th>silhouette_score</th>\n",
       "      <th>davies_bouldin_score</th>\n",
       "      <th>fowlkes_mallows_score</th>\n",
       "      <th>adjusted_rand_score</th>\n",
       "      <th>mutual_info_score</th>\n",
       "      <th>v_measure_score</th>\n",
       "      <th>homogeneity_score</th>\n",
       "      <th>completeness_score</th>\n",
       "    </tr>\n",
       "  </thead>\n",
       "  <tbody>\n",
       "    <tr>\n",
       "      <th>MiniBatchKMeans</th>\n",
       "      <td>0.068894</td>\n",
       "      <td>2.437239</td>\n",
       "      <td>0.303886</td>\n",
       "      <td>0.023484</td>\n",
       "      <td>0.046831</td>\n",
       "      <td>0.034800</td>\n",
       "      <td>0.076663</td>\n",
       "      <td>0.022509</td>\n",
       "    </tr>\n",
       "    <tr>\n",
       "      <th>AgglomerativeClustering</th>\n",
       "      <td>0.120193</td>\n",
       "      <td>2.901299</td>\n",
       "      <td>0.726777</td>\n",
       "      <td>-0.025874</td>\n",
       "      <td>0.005206</td>\n",
       "      <td>0.013594</td>\n",
       "      <td>0.008522</td>\n",
       "      <td>0.033581</td>\n",
       "    </tr>\n",
       "    <tr>\n",
       "      <th>DBSCAN</th>\n",
       "      <td>-0.087027</td>\n",
       "      <td>2.683341</td>\n",
       "      <td>0.524528</td>\n",
       "      <td>-0.002717</td>\n",
       "      <td>0.008218</td>\n",
       "      <td>0.011506</td>\n",
       "      <td>0.013454</td>\n",
       "      <td>0.010051</td>\n",
       "    </tr>\n",
       "    <tr>\n",
       "      <th>OPTICS</th>\n",
       "      <td>-0.185491</td>\n",
       "      <td>1.647590</td>\n",
       "      <td>0.680861</td>\n",
       "      <td>-0.043675</td>\n",
       "      <td>0.016786</td>\n",
       "      <td>0.031035</td>\n",
       "      <td>0.027480</td>\n",
       "      <td>0.035648</td>\n",
       "    </tr>\n",
       "    <tr>\n",
       "      <th>Spectral Clustering</th>\n",
       "      <td>0.392785</td>\n",
       "      <td>0.467508</td>\n",
       "      <td>0.726777</td>\n",
       "      <td>-0.025874</td>\n",
       "      <td>0.005206</td>\n",
       "      <td>0.013594</td>\n",
       "      <td>0.008522</td>\n",
       "      <td>0.033581</td>\n",
       "    </tr>\n",
       "    <tr>\n",
       "      <th>Affinity Propagation</th>\n",
       "      <td>0.066752</td>\n",
       "      <td>1.950889</td>\n",
       "      <td>0.100665</td>\n",
       "      <td>0.003185</td>\n",
       "      <td>0.124377</td>\n",
       "      <td>0.050575</td>\n",
       "      <td>0.203608</td>\n",
       "      <td>0.028873</td>\n",
       "    </tr>\n",
       "  </tbody>\n",
       "</table>\n",
       "</div>"
      ],
      "text/plain": [
       "                         silhouette_score  davies_bouldin_score  \\\n",
       "MiniBatchKMeans                  0.068894              2.437239   \n",
       "AgglomerativeClustering          0.120193              2.901299   \n",
       "DBSCAN                          -0.087027              2.683341   \n",
       "OPTICS                          -0.185491              1.647590   \n",
       "Spectral Clustering              0.392785              0.467508   \n",
       "Affinity Propagation             0.066752              1.950889   \n",
       "\n",
       "                         fowlkes_mallows_score  adjusted_rand_score  \\\n",
       "MiniBatchKMeans                       0.303886             0.023484   \n",
       "AgglomerativeClustering               0.726777            -0.025874   \n",
       "DBSCAN                                0.524528            -0.002717   \n",
       "OPTICS                                0.680861            -0.043675   \n",
       "Spectral Clustering                   0.726777            -0.025874   \n",
       "Affinity Propagation                  0.100665             0.003185   \n",
       "\n",
       "                         mutual_info_score  v_measure_score  \\\n",
       "MiniBatchKMeans                   0.046831         0.034800   \n",
       "AgglomerativeClustering           0.005206         0.013594   \n",
       "DBSCAN                            0.008218         0.011506   \n",
       "OPTICS                            0.016786         0.031035   \n",
       "Spectral Clustering               0.005206         0.013594   \n",
       "Affinity Propagation              0.124377         0.050575   \n",
       "\n",
       "                         homogeneity_score  completeness_score  \n",
       "MiniBatchKMeans                   0.076663            0.022509  \n",
       "AgglomerativeClustering           0.008522            0.033581  \n",
       "DBSCAN                            0.013454            0.010051  \n",
       "OPTICS                            0.027480            0.035648  \n",
       "Spectral Clustering               0.008522            0.033581  \n",
       "Affinity Propagation              0.203608            0.028873  "
      ]
     },
     "execution_count": 67,
     "metadata": {},
     "output_type": "execute_result"
    }
   ],
   "source": [
    "# Calling function to create a dataframe of metric scores for six clustering algorithms\n",
    "\n",
    "evaluation_matrix(df3, X, y, elbow_best_value, 2, 100, 3, 5, 2, 'discretize', 0.8, 500, 'euclidean')"
   ]
  },
  {
   "cell_type": "code",
   "execution_count": 68,
   "id": "ca27f015",
   "metadata": {},
   "outputs": [
    {
     "data": {
      "text/html": [
       "<div>\n",
       "<style scoped>\n",
       "    .dataframe tbody tr th:only-of-type {\n",
       "        vertical-align: middle;\n",
       "    }\n",
       "\n",
       "    .dataframe tbody tr th {\n",
       "        vertical-align: top;\n",
       "    }\n",
       "\n",
       "    .dataframe thead th {\n",
       "        text-align: right;\n",
       "    }\n",
       "</style>\n",
       "<table border=\"1\" class=\"dataframe\">\n",
       "  <thead>\n",
       "    <tr style=\"text-align: right;\">\n",
       "      <th></th>\n",
       "      <th>fowlkes_mallows_score</th>\n",
       "      <th>adjusted_rand_score</th>\n",
       "      <th>mutual_info_score</th>\n",
       "      <th>v_measure_score</th>\n",
       "      <th>homogeneity_score</th>\n",
       "      <th>completeness_score</th>\n",
       "    </tr>\n",
       "  </thead>\n",
       "  <tbody>\n",
       "    <tr>\n",
       "      <th>Bayesian Gaussian Mixture</th>\n",
       "      <td>0.671629</td>\n",
       "      <td>-0.015144</td>\n",
       "      <td>0.00076</td>\n",
       "      <td>0.001557</td>\n",
       "      <td>0.001243</td>\n",
       "      <td>0.002081</td>\n",
       "    </tr>\n",
       "    <tr>\n",
       "      <th>Gaussian Mixture</th>\n",
       "      <td>0.671629</td>\n",
       "      <td>-0.015144</td>\n",
       "      <td>0.00076</td>\n",
       "      <td>0.001557</td>\n",
       "      <td>0.001243</td>\n",
       "      <td>0.002081</td>\n",
       "    </tr>\n",
       "  </tbody>\n",
       "</table>\n",
       "</div>"
      ],
      "text/plain": [
       "                           fowlkes_mallows_score  adjusted_rand_score  \\\n",
       "Bayesian Gaussian Mixture               0.671629            -0.015144   \n",
       "Gaussian Mixture                        0.671629            -0.015144   \n",
       "\n",
       "                           mutual_info_score  v_measure_score  \\\n",
       "Bayesian Gaussian Mixture            0.00076         0.001557   \n",
       "Gaussian Mixture                     0.00076         0.001557   \n",
       "\n",
       "                           homogeneity_score  completeness_score  \n",
       "Bayesian Gaussian Mixture           0.001243            0.002081  \n",
       "Gaussian Mixture                    0.001243            0.002081  "
      ]
     },
     "execution_count": 68,
     "metadata": {},
     "output_type": "execute_result"
    }
   ],
   "source": [
    "# Calling function to create a dataframe of metric scores for GMM and Bayesian GMM\n",
    "\n",
    "bayesian_and_gaussian(df3, X, y, 2, 'full', 1e-6)"
   ]
  },
  {
   "cell_type": "markdown",
   "id": "43a0e779",
   "metadata": {},
   "source": [
    "## Hyperparameter Selection"
   ]
  },
  {
   "cell_type": "markdown",
   "id": "19d80267",
   "metadata": {},
   "source": [
    "### Mini Batch KMeans"
   ]
  },
  {
   "cell_type": "code",
   "execution_count": 69,
   "id": "9a92bf3f",
   "metadata": {},
   "outputs": [
    {
     "name": "stdout",
     "output_type": "stream",
     "text": [
      "Average of all scores for [5, 100] combination is 0.664571030890035\n",
      "Average of all scores for [6, 100] combination is 0.591726654657404\n",
      "Average of all scores for [7, 200] combination is 0.5199817477884523\n",
      "Average of all scores for [8, 250] combination is 0.45882365854094853\n",
      "Average of all scores for [9, 300] combination is 0.4346723793671672\n"
     ]
    }
   ],
   "source": [
    "# Checking best combination of hyperparameters\n",
    "\n",
    "best_combination = [[5,100],[6,100],[7,200],[8,250],[9,300]]\n",
    "\n",
    "for i in best_combination:\n",
    "    model = MiniBatchKMeans(n_clusters=i[0], random_state=0, batch_size=i[1])\n",
    "    labels2 = model.fit(X).predict(X)\n",
    "    \n",
    "    # Calculating extrinsic measures for each combination of hyperparameters\n",
    "    \n",
    "    fowlkes_mallows = fowlkes_mallows_score(y,labels2)\n",
    "    adjusted_rand = adjusted_rand_score(y,labels2)\n",
    "    mutual_info = mutual_info_score(y,labels2)\n",
    "    v_measure = v_measure_score(y,labels2)\n",
    "    homogeneity = homogeneity_score(y,labels2)\n",
    "    completeness = completeness_score(y,labels2)\n",
    "    \n",
    "    # Evaluating means of respective scores for each combination\n",
    "    \n",
    "    scores = [fowlkes_mallows + adjusted_rand + mutual_info + v_measure + homogeneity + completeness]\n",
    "    mean_scores = sum(scores)/len(scores)\n",
    "    print('Average of all scores for ' + str(i) + ' combination is ' + str(mean_scores))"
   ]
  },
  {
   "cell_type": "markdown",
   "id": "99876e72",
   "metadata": {},
   "source": [
    "The best combination of hyperparameters in Mini Batch KMeans which gave the highest average metric score includes:\n",
    "\n",
    "number of clusters = 5, batch size = 100"
   ]
  },
  {
   "cell_type": "markdown",
   "id": "1b55180d",
   "metadata": {},
   "source": [
    "### Agglomerative Clustering"
   ]
  },
  {
   "cell_type": "code",
   "execution_count": 70,
   "id": "4c4d8fdd",
   "metadata": {},
   "outputs": [
    {
     "name": "stdout",
     "output_type": "stream",
     "text": [
      "Average of all scores for 2 clusters is 0.7618050249582294\n",
      "Average of all scores for 3 clusters is 0.560464544105904\n",
      "Average of all scores for 4 clusters is 0.55934142243971\n",
      "Average of all scores for 5 clusters is 0.5262449386480097\n",
      "Average of all scores for 6 clusters is 0.5118376675997378\n",
      "Average of all scores for 7 clusters is 0.4634261007058802\n",
      "Average of all scores for 8 clusters is 0.47320540349017365\n"
     ]
    }
   ],
   "source": [
    "# Checking best value of cluster\n",
    "\n",
    "best_combination = [2,3,4,5,6,7,8]\n",
    "\n",
    "for i in best_combination:\n",
    "    model = AgglomerativeClustering(n_clusters=i) \n",
    "    labels2 = model.fit(X).fit_predict(X)\n",
    "    \n",
    "    # Calculating extrinsic measures for each cluster value\n",
    "\n",
    "    fowlkes_mallows = fowlkes_mallows_score(y,labels2)\n",
    "    adjusted_rand = adjusted_rand_score(y,labels2)\n",
    "    mutual_info = mutual_info_score(y,labels2)\n",
    "    v_measure = v_measure_score(y,labels2)\n",
    "    homogeneity = homogeneity_score(y,labels2)\n",
    "    completeness = completeness_score(y,labels2)\n",
    "    \n",
    "    # Evaluating means of respective scores for each cluster\n",
    "\n",
    "    scores = [fowlkes_mallows + adjusted_rand + mutual_info + v_measure + homogeneity + completeness]\n",
    "    mean_scores = sum(scores)/len(scores)\n",
    "    print('Average of all scores for ' + str(i) + ' clusters is ' + str(mean_scores))"
   ]
  },
  {
   "cell_type": "markdown",
   "id": "089c557a",
   "metadata": {},
   "source": [
    "The best value of number of clusters in Agglomerative Clustering is 2, which gave the highest average metric score."
   ]
  },
  {
   "cell_type": "markdown",
   "id": "f2400b87",
   "metadata": {},
   "source": [
    "### DBScan"
   ]
  },
  {
   "cell_type": "code",
   "execution_count": 71,
   "id": "d315dbf7",
   "metadata": {},
   "outputs": [
    {
     "name": "stdout",
     "output_type": "stream",
     "text": [
      "Average of all scores for [0.7, 1] combination is 1.865160738545676\n",
      "Average of all scores for [1, 2] combination is 0.8666538102882381\n",
      "Average of all scores for [3, 3] combination is 0.5944709238606418\n",
      "Average of all scores for [3, 5] combination is 0.5650399630091982\n",
      "Average of all scores for [5, 7] combination is 0.7497800193160635\n"
     ]
    }
   ],
   "source": [
    "# Checking best combination of hyperparameters\n",
    "\n",
    "best_combination = [[0.7,1],[1,2],[3,3],[3,5],[5,7]]\n",
    "\n",
    "for i in best_combination:\n",
    "    model = DBSCAN(eps=i[0], min_samples=i[1])\n",
    "    labels2 = model.fit(X).fit_predict(X)\n",
    "    \n",
    "    # Calculating extrinsic measures for each combination of hyperparameters\n",
    "    \n",
    "    fowlkes_mallows = fowlkes_mallows_score(y,labels2)\n",
    "    adjusted_rand = adjusted_rand_score(y,labels2)\n",
    "    mutual_info = mutual_info_score(y,labels2)\n",
    "    v_measure = v_measure_score(y,labels2)\n",
    "    homogeneity = homogeneity_score(y,labels2)\n",
    "    completeness = completeness_score(y,labels2)\n",
    "    \n",
    "    # Evaluating means of respective scores for each combination\n",
    "\n",
    "    scores = [fowlkes_mallows + adjusted_rand + mutual_info + v_measure + homogeneity + completeness]\n",
    "    mean_scores = sum(scores)/len(scores)\n",
    "    print('Average of all scores for ' + str(i) + ' combination is ' + str(mean_scores))"
   ]
  },
  {
   "cell_type": "markdown",
   "id": "1365cdcc",
   "metadata": {},
   "source": [
    "The best combination of hyperparameters in DBScan which gave the highest average metric score includes:\n",
    "\n",
    "maximum distance between two samples (eps) = 0.7, minimum number of samples = 1 "
   ]
  },
  {
   "cell_type": "markdown",
   "id": "bc9973c0",
   "metadata": {},
   "source": [
    "### OPTICS"
   ]
  },
  {
   "cell_type": "code",
   "execution_count": 72,
   "id": "d23db439",
   "metadata": {},
   "outputs": [
    {
     "name": "stdout",
     "output_type": "stream",
     "text": [
      "Average of all scores for 3 samples is 0.7798554081577151\n",
      "Average of all scores for 4 samples is 0.7553325518488267\n",
      "Average of all scores for 5 samples is 0.7481347864351919\n",
      "Average of all scores for 6 samples is 0.7451284650661415\n",
      "Average of all scores for 7 samples is 0.7335680499439678\n",
      "Average of all scores for 8 samples is 1.7613012410206486\n"
     ]
    }
   ],
   "source": [
    "# Checking best value of minimum number of samples\n",
    "\n",
    "best_combination = [3,4,5,6,7,8]\n",
    "\n",
    "for i in best_combination:\n",
    "    model = OPTICS(min_samples=i)\n",
    "    labels2 = model.fit(X).fit_predict(X)\n",
    "    \n",
    "    # Calculating extrinsic measures for each value of minimum samples\n",
    "    \n",
    "    fowlkes_mallows = fowlkes_mallows_score(y,labels2)\n",
    "    adjusted_rand = adjusted_rand_score(y,labels2)\n",
    "    mutual_info = mutual_info_score(y,labels2)\n",
    "    v_measure = v_measure_score(y,labels2)\n",
    "    homogeneity = homogeneity_score(y,labels2)\n",
    "    completeness = completeness_score(y,labels2)\n",
    "    \n",
    "    # Evaluating means of respective scores for each value of minimum samples\n",
    "\n",
    "    scores = [fowlkes_mallows + adjusted_rand + mutual_info + v_measure + homogeneity + completeness]\n",
    "    mean_scores = sum(scores)/len(scores)\n",
    "    print('Average of all scores for ' + str(i) + ' samples is ' + str(mean_scores))"
   ]
  },
  {
   "cell_type": "markdown",
   "id": "94371148",
   "metadata": {},
   "source": [
    "The best value of minimum number of samples in OPTICS is 8, which gave the highest average metric score."
   ]
  },
  {
   "cell_type": "markdown",
   "id": "5540ec76",
   "metadata": {},
   "source": [
    "### Affinity Propagation "
   ]
  },
  {
   "cell_type": "code",
   "execution_count": 73,
   "id": "5a133ced",
   "metadata": {},
   "outputs": [
    {
     "name": "stdout",
     "output_type": "stream",
     "text": [
      "Average of all scores for [0.5, 200] combination is 0.5146737654048393\n",
      "Average of all scores for [0.6, 300] combination is 0.5213436972581578\n",
      "Average of all scores for [0.7, 400] combination is 0.5112818087596246\n",
      "Average of all scores for [0.8, 200] combination is 0.5112818087596246\n",
      "Average of all scores for [0.9, 500] combination is 0.5112818087596246\n"
     ]
    }
   ],
   "source": [
    "# Checking best combination of hyperparameters\n",
    "\n",
    "best_combination = [[0.5,200],[0.6,300],[0.7,400],[0.8,200],[0.9,500]]\n",
    "\n",
    "for i in best_combination:\n",
    "    model = AffinityPropagation(damping=i[0], max_iter=i[1], affinity=\"euclidean\", random_state=0)\n",
    "    labels2 = model.fit(X).fit_predict(X)\n",
    "    \n",
    "    # Calculating extrinsic measures for each combination of hyperparameters\n",
    "    \n",
    "    fowlkes_mallows = fowlkes_mallows_score(y,labels2)\n",
    "    adjusted_rand = adjusted_rand_score(y,labels2)\n",
    "    mutual_info = mutual_info_score(y,labels2)\n",
    "    v_measure = v_measure_score(y,labels2)\n",
    "    homogeneity = homogeneity_score(y,labels2)\n",
    "    completeness = completeness_score(y,labels2)\n",
    "    \n",
    "    # Evaluating means of respective scores for each combination\n",
    "\n",
    "    scores = [fowlkes_mallows + adjusted_rand + mutual_info + v_measure + homogeneity + completeness]\n",
    "    mean_scores = sum(scores)/len(scores)\n",
    "    print('Average of all scores for ' + str(i) + ' combination is ' + str(mean_scores))"
   ]
  },
  {
   "cell_type": "markdown",
   "id": "56549430",
   "metadata": {},
   "source": [
    "The best combination of hyperparameters in Affinity Propagation which gave the highest average metric scores:\n",
    "\n",
    "damping value = 0.6, maximum iterations = 300"
   ]
  },
  {
   "cell_type": "markdown",
   "id": "a728894b",
   "metadata": {},
   "source": [
    "### Spectral Clustering "
   ]
  },
  {
   "cell_type": "code",
   "execution_count": 74,
   "id": "46b5cbd4",
   "metadata": {},
   "outputs": [
    {
     "name": "stdout",
     "output_type": "stream",
     "text": [
      "Average of all scores for [5, 'discretize'] combination is 0.7706479943502315\n",
      "Average of all scores for [6, 'discretize'] combination is 0.6562281865178503\n",
      "Average of all scores for [7, 'kmeans'] combination is 0.7599179609969097\n",
      "Average of all scores for [8, 'kmeans'] combination is 0.7643608521505479\n",
      "Average of all scores for [9, 'discretize'] combination is 0.651477579964093\n"
     ]
    }
   ],
   "source": [
    "# Checking best combination of hyperparameters\n",
    "\n",
    "best_combination = [[5,'discretize'],[6,'discretize'],[7,'kmeans'],[8,'kmeans'],[9,'discretize']]\n",
    "\n",
    "for i in best_combination:\n",
    "    model = SpectralClustering(n_clusters=i[0], assign_labels=i[1], random_state=0)\n",
    "    labels2 = model.fit(X).fit_predict(X)\n",
    "    \n",
    "    # Calculating extrinsic measures for each combination of hyperparameters\n",
    "\n",
    "    fowlkes_mallows = fowlkes_mallows_score(y,labels2)\n",
    "    adjusted_rand = adjusted_rand_score(y,labels2)\n",
    "    mutual_info = mutual_info_score(y,labels2)\n",
    "    v_measure = v_measure_score(y,labels2)\n",
    "    homogeneity = homogeneity_score(y,labels2)\n",
    "    completeness = completeness_score(y,labels2)\n",
    "    \n",
    "    # Evaluating means of respective scores for each combination\n",
    "\n",
    "    scores = [fowlkes_mallows + adjusted_rand + mutual_info + v_measure + homogeneity + completeness]\n",
    "    mean_scores = sum(scores)/len(scores)\n",
    "    print('Average of all scores for ' + str(i) + ' combination is ' + str(mean_scores))"
   ]
  },
  {
   "cell_type": "markdown",
   "id": "7ef82bba",
   "metadata": {},
   "source": [
    "The best combination of hyperparameters in Spectral Clustering that gave the highest average metric score includes:\n",
    "\n",
    "number of clusters = 5, assign labels = 'discretize'"
   ]
  },
  {
   "cell_type": "markdown",
   "id": "894a842b",
   "metadata": {},
   "source": [
    "### Bayesian Gaussian Mixture"
   ]
  },
  {
   "cell_type": "code",
   "execution_count": 75,
   "id": "1f3554a3",
   "metadata": {},
   "outputs": [
    {
     "name": "stdout",
     "output_type": "stream",
     "text": [
      "Average of all scores for [2, 'full'] combination is 0.662126643666407\n",
      "Average of all scores for [3, 'tied'] combination is 0.6542594764890124\n",
      "Average of all scores for [4, 'diag'] combination is 0.5134725226042457\n",
      "Average of all scores for [5, 'spherical'] combination is 0.741398526616261\n",
      "Average of all scores for [6, 'full'] combination is 0.6041928002434961\n",
      "Average of all scores for [7, 'spherical'] combination is 0.7426852237147413\n",
      "Average of all scores for [8, 'diag'] combination is 0.5196740348983218\n"
     ]
    }
   ],
   "source": [
    "# Checking best combination of hyperparameters\n",
    "\n",
    "best_combination = [[2,'full'],[3,'tied'],[4,'diag'],[5,'spherical'],[6,'full'],[7, 'spherical'],[8, 'diag']]\n",
    "\n",
    "for i in best_combination:\n",
    "    model = BayesianGaussianMixture(n_components=i[0], covariance_type=i[1], random_state=0)\n",
    "    labels2 = model.fit(X).fit_predict(X)\n",
    "    \n",
    "    # Calculating extrinsic measures for each combination of hyperparameters\n",
    "\n",
    "    fowlkes_mallows = fowlkes_mallows_score(y,labels2)\n",
    "    adjusted_rand = adjusted_rand_score(y,labels2)\n",
    "    mutual_info = mutual_info_score(y,labels2)\n",
    "    v_measure = v_measure_score(y,labels2)\n",
    "    homogeneity = homogeneity_score(y,labels2)\n",
    "    completeness = completeness_score(y,labels2)\n",
    "    \n",
    "    # Evaluating means of respective scores for each combination\n",
    "\n",
    "    scores = [fowlkes_mallows + adjusted_rand + mutual_info + v_measure + homogeneity + completeness]\n",
    "    mean_scores = sum(scores)/len(scores)\n",
    "    print('Average of all scores for ' + str(i) + ' combination is ' + str(mean_scores))"
   ]
  },
  {
   "cell_type": "markdown",
   "id": "18482314",
   "metadata": {},
   "source": [
    "The best combination of hyperparameters in Bayesian Gaussian Mixture that gave the highest average metric score includes:\n",
    "\n",
    "number of components = 7, covariance type = 'spherical'"
   ]
  },
  {
   "cell_type": "markdown",
   "id": "73b3d48b",
   "metadata": {},
   "source": [
    "### Gaussian Mixture Model"
   ]
  },
  {
   "cell_type": "code",
   "execution_count": 76,
   "id": "69425787",
   "metadata": {},
   "outputs": [
    {
     "name": "stdout",
     "output_type": "stream",
     "text": [
      "Average of all scores for [2, 'full'] combination is 0.662126643666407\n",
      "Average of all scores for [3, 'tied'] combination is 0.63568856968833\n",
      "Average of all scores for [4, 'diag'] combination is 0.5127333391342886\n",
      "Average of all scores for [5, 'spherical'] combination is 0.6646795066512212\n",
      "Average of all scores for [6, 'full'] combination is 0.6200520044633345\n",
      "Average of all scores for [7, 'spherical'] combination is 0.5871175190860929\n",
      "Average of all scores for [8, 'diag'] combination is 0.6639676484010228\n"
     ]
    }
   ],
   "source": [
    "# Checking best combination of hyperparameters\n",
    "\n",
    "best_combination = [[2,'full'],[3,'tied'],[4,'diag'],[5,'spherical'],[6,'full'],[7, 'spherical'],[8, 'diag']]\n",
    "\n",
    "for i in best_combination:\n",
    "    model = GaussianMixture(n_components=i[0], covariance_type=i[1], random_state=0)\n",
    "    labels2 = model.fit(X).fit_predict(X)\n",
    "    \n",
    "    # Calculating extrinsic measures for each combination of hyperparameters\n",
    "\n",
    "    fowlkes_mallows = fowlkes_mallows_score(y,labels2)\n",
    "    adjusted_rand = adjusted_rand_score(y,labels2)\n",
    "    mutual_info = mutual_info_score(y,labels2)\n",
    "    v_measure = v_measure_score(y,labels2)\n",
    "    homogeneity = homogeneity_score(y,labels2)\n",
    "    completeness = completeness_score(y,labels2)\n",
    "    \n",
    "    # Evaluating means of respective scores for each combination\n",
    "    \n",
    "    scores = [fowlkes_mallows + adjusted_rand + mutual_info + v_measure + homogeneity + completeness]\n",
    "    mean_scores = sum(scores)/len(scores)\n",
    "    print('Average of all scores for ' + str(i) + ' combination is ' + str(mean_scores))"
   ]
  },
  {
   "cell_type": "markdown",
   "id": "79f2da59",
   "metadata": {},
   "source": [
    "The best combination of hyperparameters in Gaussian Mixture Model that gave the highest average metric score includes:\n",
    "\n",
    "number of components = 5, covariance type = 'spherical'"
   ]
  },
  {
   "cell_type": "markdown",
   "id": "be1cbbaf",
   "metadata": {},
   "source": [
    "#### Analysis:\n",
    "\n",
    "1) It is observed that the GMM slightly outperforms (and very close to) Mini Batch KMeans with highest average score, which could indicate that both models are performing similarly well in terms of their ability to accurately classify or cluster the data.\n",
    "\n",
    "2) It is observed that the Agglomerative Clustering outperforms GMM with highest average score, which shows that the Agglomerative clustering algorithm is better at grouping the data into clusters based on the chosen performance metrics. This could be due to the nature of the data, the chosen distance metric, or the number of clusters being considered.\n",
    "\n",
    "3) It is observed that the DBScan outperforms GMM with highest average score, which shows that DBScan is more accurately identifying clusters or has a lower error rate. This could be due to the nature of the data, the chosen distance metric, or the number of clusters being considered.\n",
    "\n",
    "4) It is observed that the OPTICS outperforms GMM with highest average score, which shows that OPTICS is more effective at clustering the data and finding meaningful patterns within it. This could be due to the fact that OPTICS is able to handle more complex and non-linear data structures, whereas GMM are limited to more simple, linear patterns.\n",
    "\n",
    "5) It is observed that the GMM outperforms Affinity Propagation with highest average score, which shows that the GMM is a better fit for the data and is able to more accurately predict or classify the data. This could be due to the GMM's ability to model data using a continuous distribution, as opposed to the discrete clustering method used by Affinity propagation.\n",
    "\n",
    "6) It is observed that the Spectral Clustering outperforms GMM with highest average score, which shows that Spectral Clustering is better at identifying and separating distinct groups within the data set. This could be due to the fact that Spectral Clustering utilizes the graph structure of the data, which may be more effective at identifying and separating non-linearly distributed groups within the data.\n",
    "\n",
    "7) It is observed that the Bayesian GMM outperforms GMM with highest average score, which shows that the Bayesian version may be slightly more effective in accurately identifying patterns and classifying data points within the dataset. This could be due to the Bayesian model's ability to incorporate prior knowledge and incorporate uncertainties in its predictions, which may lead to more accurate and robust results."
   ]
  },
  {
   "cell_type": "markdown",
   "id": "7929c658",
   "metadata": {},
   "source": [
    "### Parameter changes:"
   ]
  },
  {
   "cell_type": "markdown",
   "id": "3cf8b8c4",
   "metadata": {},
   "source": [
    "#### (1) Based on number of components"
   ]
  },
  {
   "cell_type": "code",
   "execution_count": 77,
   "id": "0085777b",
   "metadata": {},
   "outputs": [
    {
     "name": "stdout",
     "output_type": "stream",
     "text": [
      "Average of all scores for 2 components is 0.662126643666407\n",
      "Average of all scores for 3 components is 0.6591746198479299\n",
      "Average of all scores for 4 components is 0.5685826399309916\n",
      "Average of all scores for 5 components is 0.687766480672141\n",
      "Average of all scores for 6 components is 0.6200520044633345\n",
      "Average of all scores for 7 components is 0.4786712847925208\n"
     ]
    }
   ],
   "source": [
    "# Changing number of components to obtain the best value\n",
    "\n",
    "number_of_components = [2,3,4,5,6,7]\n",
    "\n",
    "for i in number_of_components:\n",
    "    model = GaussianMixture(n_components=i, covariance_type='full', reg_covar=1e-6, random_state=0)\n",
    "    labels2 = model.fit(X).fit_predict(X)\n",
    "    \n",
    "    # Calculating extrinsic measures for each value of number of components\n",
    "    \n",
    "    fowlkes_mallows = fowlkes_mallows_score(y,labels2)\n",
    "    adjusted_rand = adjusted_rand_score(y,labels2)\n",
    "    mutual_info = mutual_info_score(y,labels2)\n",
    "    v_measure = v_measure_score(y,labels2)\n",
    "    homogeneity = homogeneity_score(y,labels2)\n",
    "    completeness = completeness_score(y,labels2)\n",
    "    \n",
    "    # Evaluating means of respective scores for each value of number of components\n",
    "    \n",
    "    scores = [fowlkes_mallows + adjusted_rand + mutual_info + v_measure + homogeneity + completeness]\n",
    "    mean_scores = sum(scores)/len(scores)\n",
    "    print('Average of all scores for ' + str(i) + ' components is ' + str(mean_scores))"
   ]
  },
  {
   "cell_type": "markdown",
   "id": "8cc77e0e",
   "metadata": {},
   "source": [
    "Upon increasing and decreasing the number of components parameter in GMM, it is observed that the best score is obtained when the number of components are 5. This suggests that the data may be best represented by a mixture of 5 different Gaussian distributions. This may indicate that the data has multiple underlying patterns or clusters, rather than a single homogenous group."
   ]
  },
  {
   "cell_type": "markdown",
   "id": "34a7943e",
   "metadata": {},
   "source": [
    "#### (2) Based on covariance type"
   ]
  },
  {
   "cell_type": "code",
   "execution_count": 78,
   "id": "90488129",
   "metadata": {},
   "outputs": [
    {
     "name": "stdout",
     "output_type": "stream",
     "text": [
      "Average of all scores for full covariance type is 0.662126643666407\n",
      "Average of all scores for tied covariance type is 0.544705794536846\n",
      "Average of all scores for diag covariance type is 0.662126643666407\n",
      "Average of all scores for spherical covariance type is 0.557307381421268\n"
     ]
    }
   ],
   "source": [
    "# Changing covariance type to obtain the best value\n",
    "\n",
    "type_of_covariance = ['full', 'tied', 'diag', 'spherical']\n",
    "\n",
    "for i in type_of_covariance:\n",
    "    model = GaussianMixture(n_components=2, covariance_type=i, reg_covar=1e-6, random_state=0)\n",
    "    labels2 = model.fit(X).fit_predict(X)\n",
    "    \n",
    "    # Calculating extrinsic measures for each covariance type\n",
    "\n",
    "    fowlkes_mallows = fowlkes_mallows_score(y,labels2)\n",
    "    adjusted_rand = adjusted_rand_score(y,labels2)\n",
    "    mutual_info = mutual_info_score(y,labels2)\n",
    "    v_measure = v_measure_score(y,labels2)\n",
    "    homogeneity = homogeneity_score(y,labels2)\n",
    "    completeness = completeness_score(y,labels2)\n",
    "    \n",
    "    # Evaluating means of respective scores for each covariance type\n",
    "    \n",
    "    scores = [fowlkes_mallows + adjusted_rand + mutual_info + v_measure + homogeneity + completeness]\n",
    "    mean_scores = sum(scores)/len(scores)\n",
    "    print('Average of all scores for ' + str(i) + ' covariance type is ' + str(mean_scores))"
   ]
  },
  {
   "cell_type": "markdown",
   "id": "10605a0d",
   "metadata": {},
   "source": [
    "Upon changing the type of covariance parameter in GMM, it is observed that the best score is obtained when the covariance type is either 'full' or 'diag'. This suggests that the data may have a multi-modal distribution and that both the full and diagonal covariance types are able to effectively model this complexity. It may also indicate that the data may not have strong correlations between features, as the diagonal covariance type only models variances along the main diagonal."
   ]
  },
  {
   "cell_type": "markdown",
   "id": "bd1318b9",
   "metadata": {},
   "source": [
    "#### (3) Based on regularization of covariance"
   ]
  },
  {
   "cell_type": "code",
   "execution_count": 79,
   "id": "22a73640",
   "metadata": {},
   "outputs": [
    {
     "name": "stdout",
     "output_type": "stream",
     "text": [
      "Average of all scores for regularized covariance of 1e-06 is 0.662126643666407\n",
      "Average of all scores for regularized covariance of 0.5 is 0.6941540094255422\n",
      "Average of all scores for regularized covariance of 1.5 is 0.7026979802229483\n",
      "Average of all scores for regularized covariance of 3 is 0.556488265262217\n",
      "Average of all scores for regularized covariance of 5 is 1.7613012410206486\n"
     ]
    }
   ],
   "source": [
    "# Changing the value of regularized covariance to obtain the best value\n",
    "\n",
    "regularization_covariance = [1e-6, 0.5, 1.5, 3, 5]\n",
    "\n",
    "for i in regularization_covariance:\n",
    "    model = GaussianMixture(n_components=2, covariance_type='full', reg_covar=i, random_state=0)\n",
    "    labels2 = model.fit(X).fit_predict(X)\n",
    "    \n",
    "    # Calculating extrinsic measures for each value of regularized covariance\n",
    "\n",
    "    fowlkes_mallows = fowlkes_mallows_score(y,labels2)\n",
    "    adjusted_rand = adjusted_rand_score(y,labels2)\n",
    "    mutual_info = mutual_info_score(y,labels2)\n",
    "    v_measure = v_measure_score(y,labels2)\n",
    "    homogeneity = homogeneity_score(y,labels2)\n",
    "    completeness = completeness_score(y,labels2)\n",
    "    \n",
    "    # Evaluating means of respective scores for each value of regularized covariance\n",
    "\n",
    "    scores = [fowlkes_mallows + adjusted_rand + mutual_info + v_measure + homogeneity + completeness]\n",
    "    mean_scores = sum(scores)/len(scores)\n",
    "    print('Average of all scores for ' + 'regularized covariance of ' + str(i) + ' is ' + str(mean_scores))"
   ]
  },
  {
   "cell_type": "markdown",
   "id": "229545b9",
   "metadata": {},
   "source": [
    "Upon increasing and decreasing the regularized covariance in GMM, it is observed that the best score is obtained when the value is 5. This may indicate that there is some level of complexity in the data that requires a higher level of regularization in order to accurately model the data. It may also suggest that the model is less prone to overfitting when the regularization parameter is set to this value."
   ]
  },
  {
   "cell_type": "markdown",
   "id": "9fe1ded2",
   "metadata": {},
   "source": [
    "## Dataset 04: User Knowledge Modelling"
   ]
  },
  {
   "cell_type": "markdown",
   "id": "61f0ffd7",
   "metadata": {},
   "source": [
    "It is the real dataset about the students' knowledge status about the subject of Electrical DC Machines. The users' knowledge class were classified by the authors using intuitive knowledge classifier (a hybrid ML technique of k-NN and meta-heuristic exploring methods), k-nearest neighbor algorithm. The dataset contains 258 rows and 6 columns."
   ]
  },
  {
   "cell_type": "code",
   "execution_count": 80,
   "id": "326b7eed",
   "metadata": {},
   "outputs": [
    {
     "data": {
      "text/html": [
       "<div>\n",
       "<style scoped>\n",
       "    .dataframe tbody tr th:only-of-type {\n",
       "        vertical-align: middle;\n",
       "    }\n",
       "\n",
       "    .dataframe tbody tr th {\n",
       "        vertical-align: top;\n",
       "    }\n",
       "\n",
       "    .dataframe thead th {\n",
       "        text-align: right;\n",
       "    }\n",
       "</style>\n",
       "<table border=\"1\" class=\"dataframe\">\n",
       "  <thead>\n",
       "    <tr style=\"text-align: right;\">\n",
       "      <th></th>\n",
       "      <th>STG</th>\n",
       "      <th>SCG</th>\n",
       "      <th>STR</th>\n",
       "      <th>LPR</th>\n",
       "      <th>PEG</th>\n",
       "      <th>UNS</th>\n",
       "    </tr>\n",
       "  </thead>\n",
       "  <tbody>\n",
       "    <tr>\n",
       "      <th>0</th>\n",
       "      <td>0.00</td>\n",
       "      <td>0.00</td>\n",
       "      <td>0.00</td>\n",
       "      <td>0.00</td>\n",
       "      <td>0.00</td>\n",
       "      <td>very_low</td>\n",
       "    </tr>\n",
       "    <tr>\n",
       "      <th>1</th>\n",
       "      <td>0.08</td>\n",
       "      <td>0.08</td>\n",
       "      <td>0.10</td>\n",
       "      <td>0.24</td>\n",
       "      <td>0.90</td>\n",
       "      <td>High</td>\n",
       "    </tr>\n",
       "    <tr>\n",
       "      <th>2</th>\n",
       "      <td>0.06</td>\n",
       "      <td>0.06</td>\n",
       "      <td>0.05</td>\n",
       "      <td>0.25</td>\n",
       "      <td>0.33</td>\n",
       "      <td>Low</td>\n",
       "    </tr>\n",
       "    <tr>\n",
       "      <th>3</th>\n",
       "      <td>0.10</td>\n",
       "      <td>0.10</td>\n",
       "      <td>0.15</td>\n",
       "      <td>0.65</td>\n",
       "      <td>0.30</td>\n",
       "      <td>Middle</td>\n",
       "    </tr>\n",
       "    <tr>\n",
       "      <th>4</th>\n",
       "      <td>0.08</td>\n",
       "      <td>0.08</td>\n",
       "      <td>0.08</td>\n",
       "      <td>0.98</td>\n",
       "      <td>0.24</td>\n",
       "      <td>Low</td>\n",
       "    </tr>\n",
       "  </tbody>\n",
       "</table>\n",
       "</div>"
      ],
      "text/plain": [
       "    STG   SCG   STR   LPR   PEG       UNS\n",
       "0  0.00  0.00  0.00  0.00  0.00  very_low\n",
       "1  0.08  0.08  0.10  0.24  0.90      High\n",
       "2  0.06  0.06  0.05  0.25  0.33       Low\n",
       "3  0.10  0.10  0.15  0.65  0.30    Middle\n",
       "4  0.08  0.08  0.08  0.98  0.24       Low"
      ]
     },
     "execution_count": 80,
     "metadata": {},
     "output_type": "execute_result"
    }
   ],
   "source": [
    "# Loading the dataset\n",
    "\n",
    "df4 = pd.read_excel('Classification\\Data_User_Modeling_Dataset.xls', 'Training_Data')\n",
    "df4.head()"
   ]
  },
  {
   "cell_type": "code",
   "execution_count": 81,
   "id": "096487e4",
   "metadata": {},
   "outputs": [
    {
     "data": {
      "text/plain": [
       "(258, 6)"
      ]
     },
     "execution_count": 81,
     "metadata": {},
     "output_type": "execute_result"
    }
   ],
   "source": [
    "# Data shape\n",
    "\n",
    "df4.shape"
   ]
  },
  {
   "cell_type": "code",
   "execution_count": 82,
   "id": "193c446f",
   "metadata": {},
   "outputs": [],
   "source": [
    "# Converting string columns to integer\n",
    "\n",
    "for i in df4.select_dtypes(include=[object]).columns:\n",
    "    df4[i] = pd.factorize(df4[i])[0] + 1\n",
    "\n",
    "# Normalizing the data \n",
    "\n",
    "ss=StandardScaler()\n",
    "for j in df4.columns:\n",
    "    df4[j] = ss.fit_transform(df4[[j]])\n",
    "\n",
    "# Splitting into X and y columns\n",
    "\n",
    "X = df4.drop(columns = [' UNS'])\n",
    "y = df4[' UNS']"
   ]
  },
  {
   "cell_type": "code",
   "execution_count": 83,
   "id": "5078cd1f",
   "metadata": {},
   "outputs": [
    {
     "name": "stdout",
     "output_type": "stream",
     "text": [
      "For MiniBatchKMeans, the ideal number of clusters are  7\n",
      "Based on dendrogram, the ideal number of clusters are  2\n"
     ]
    },
    {
     "data": {
      "image/png": "[encoded data removed]",
      "text/plain": [
       "<Figure size 1440x432 with 3 Axes>"
      ]
     },
     "metadata": {},
     "output_type": "display_data"
    }
   ],
   "source": [
    "# Calling function to create elbow curve and dendrogram\n",
    "\n",
    "elbow_curve_and_dendrogram(df4, 7, 25, 2)"
   ]
  },
  {
   "cell_type": "code",
   "execution_count": 85,
   "id": "0ea5613d",
   "metadata": {},
   "outputs": [
    {
     "data": {
      "text/html": [
       "<div>\n",
       "<style scoped>\n",
       "    .dataframe tbody tr th:only-of-type {\n",
       "        vertical-align: middle;\n",
       "    }\n",
       "\n",
       "    .dataframe tbody tr th {\n",
       "        vertical-align: top;\n",
       "    }\n",
       "\n",
       "    .dataframe thead th {\n",
       "        text-align: right;\n",
       "    }\n",
       "</style>\n",
       "<table border=\"1\" class=\"dataframe\">\n",
       "  <thead>\n",
       "    <tr style=\"text-align: right;\">\n",
       "      <th></th>\n",
       "      <th>silhouette_score</th>\n",
       "      <th>davies_bouldin_score</th>\n",
       "      <th>fowlkes_mallows_score</th>\n",
       "      <th>adjusted_rand_score</th>\n",
       "      <th>mutual_info_score</th>\n",
       "      <th>v_measure_score</th>\n",
       "      <th>homogeneity_score</th>\n",
       "      <th>completeness_score</th>\n",
       "    </tr>\n",
       "  </thead>\n",
       "  <tbody>\n",
       "    <tr>\n",
       "      <th>MiniBatchKMeans</th>\n",
       "      <td>0.205813</td>\n",
       "      <td>1.475032</td>\n",
       "      <td>0.281024</td>\n",
       "      <td>0.088642</td>\n",
       "      <td>0.293738</td>\n",
       "      <td>0.182977</td>\n",
       "      <td>0.226490</td>\n",
       "      <td>0.153489</td>\n",
       "    </tr>\n",
       "    <tr>\n",
       "      <th>AgglomerativeClustering</th>\n",
       "      <td>0.141347</td>\n",
       "      <td>2.285898</td>\n",
       "      <td>0.529196</td>\n",
       "      <td>0.204094</td>\n",
       "      <td>0.252287</td>\n",
       "      <td>0.259931</td>\n",
       "      <td>0.194529</td>\n",
       "      <td>0.391585</td>\n",
       "    </tr>\n",
       "    <tr>\n",
       "      <th>DBSCAN</th>\n",
       "      <td>-0.092244</td>\n",
       "      <td>1.900342</td>\n",
       "      <td>0.368484</td>\n",
       "      <td>0.025827</td>\n",
       "      <td>0.096110</td>\n",
       "      <td>0.084696</td>\n",
       "      <td>0.074107</td>\n",
       "      <td>0.098815</td>\n",
       "    </tr>\n",
       "    <tr>\n",
       "      <th>OPTICS</th>\n",
       "      <td>-0.160148</td>\n",
       "      <td>1.678464</td>\n",
       "      <td>0.433653</td>\n",
       "      <td>0.028690</td>\n",
       "      <td>0.207753</td>\n",
       "      <td>0.184741</td>\n",
       "      <td>0.160191</td>\n",
       "      <td>0.218179</td>\n",
       "    </tr>\n",
       "    <tr>\n",
       "      <th>Spectral Clustering</th>\n",
       "      <td>0.190114</td>\n",
       "      <td>2.016152</td>\n",
       "      <td>0.502168</td>\n",
       "      <td>0.188494</td>\n",
       "      <td>0.212405</td>\n",
       "      <td>0.213582</td>\n",
       "      <td>0.163778</td>\n",
       "      <td>0.306915</td>\n",
       "    </tr>\n",
       "    <tr>\n",
       "      <th>Affinity Propagation</th>\n",
       "      <td>0.225748</td>\n",
       "      <td>1.227265</td>\n",
       "      <td>0.214696</td>\n",
       "      <td>0.075879</td>\n",
       "      <td>0.703501</td>\n",
       "      <td>0.315715</td>\n",
       "      <td>0.542443</td>\n",
       "      <td>0.222652</td>\n",
       "    </tr>\n",
       "  </tbody>\n",
       "</table>\n",
       "</div>"
      ],
      "text/plain": [
       "                         silhouette_score  davies_bouldin_score  \\\n",
       "MiniBatchKMeans                  0.205813              1.475032   \n",
       "AgglomerativeClustering          0.141347              2.285898   \n",
       "DBSCAN                          -0.092244              1.900342   \n",
       "OPTICS                          -0.160148              1.678464   \n",
       "Spectral Clustering              0.190114              2.016152   \n",
       "Affinity Propagation             0.225748              1.227265   \n",
       "\n",
       "                         fowlkes_mallows_score  adjusted_rand_score  \\\n",
       "MiniBatchKMeans                       0.281024             0.088642   \n",
       "AgglomerativeClustering               0.529196             0.204094   \n",
       "DBSCAN                                0.368484             0.025827   \n",
       "OPTICS                                0.433653             0.028690   \n",
       "Spectral Clustering                   0.502168             0.188494   \n",
       "Affinity Propagation                  0.214696             0.075879   \n",
       "\n",
       "                         mutual_info_score  v_measure_score  \\\n",
       "MiniBatchKMeans                   0.293738         0.182977   \n",
       "AgglomerativeClustering           0.252287         0.259931   \n",
       "DBSCAN                            0.096110         0.084696   \n",
       "OPTICS                            0.207753         0.184741   \n",
       "Spectral Clustering               0.212405         0.213582   \n",
       "Affinity Propagation              0.703501         0.315715   \n",
       "\n",
       "                         homogeneity_score  completeness_score  \n",
       "MiniBatchKMeans                   0.226490            0.153489  \n",
       "AgglomerativeClustering           0.194529            0.391585  \n",
       "DBSCAN                            0.074107            0.098815  \n",
       "OPTICS                            0.160191            0.218179  \n",
       "Spectral Clustering               0.163778            0.306915  \n",
       "Affinity Propagation              0.542443            0.222652  "
      ]
     },
     "execution_count": 85,
     "metadata": {},
     "output_type": "execute_result"
    }
   ],
   "source": [
    "# Calling function to create a dataframe of metric scores for six clustering algorithms\n",
    "\n",
    "evaluation_matrix(df4, X, y, elbow_best_value, 2, 25, 1, 5, 2, 'discretize', 0.8, 500, 'euclidean')"
   ]
  },
  {
   "cell_type": "code",
   "execution_count": 86,
   "id": "5f22555c",
   "metadata": {},
   "outputs": [
    {
     "data": {
      "text/html": [
       "<div>\n",
       "<style scoped>\n",
       "    .dataframe tbody tr th:only-of-type {\n",
       "        vertical-align: middle;\n",
       "    }\n",
       "\n",
       "    .dataframe tbody tr th {\n",
       "        vertical-align: top;\n",
       "    }\n",
       "\n",
       "    .dataframe thead th {\n",
       "        text-align: right;\n",
       "    }\n",
       "</style>\n",
       "<table border=\"1\" class=\"dataframe\">\n",
       "  <thead>\n",
       "    <tr style=\"text-align: right;\">\n",
       "      <th></th>\n",
       "      <th>fowlkes_mallows_score</th>\n",
       "      <th>adjusted_rand_score</th>\n",
       "      <th>mutual_info_score</th>\n",
       "      <th>v_measure_score</th>\n",
       "      <th>homogeneity_score</th>\n",
       "      <th>completeness_score</th>\n",
       "    </tr>\n",
       "  </thead>\n",
       "  <tbody>\n",
       "    <tr>\n",
       "      <th>Bayesian Gaussian Mixture</th>\n",
       "      <td>0.664015</td>\n",
       "      <td>0.432996</td>\n",
       "      <td>0.530343</td>\n",
       "      <td>0.533282</td>\n",
       "      <td>0.408928</td>\n",
       "      <td>0.766320</td>\n",
       "    </tr>\n",
       "    <tr>\n",
       "      <th>Gaussian Mixture</th>\n",
       "      <td>0.655060</td>\n",
       "      <td>0.419776</td>\n",
       "      <td>0.505357</td>\n",
       "      <td>0.508004</td>\n",
       "      <td>0.389661</td>\n",
       "      <td>0.729582</td>\n",
       "    </tr>\n",
       "  </tbody>\n",
       "</table>\n",
       "</div>"
      ],
      "text/plain": [
       "                           fowlkes_mallows_score  adjusted_rand_score  \\\n",
       "Bayesian Gaussian Mixture               0.664015             0.432996   \n",
       "Gaussian Mixture                        0.655060             0.419776   \n",
       "\n",
       "                           mutual_info_score  v_measure_score  \\\n",
       "Bayesian Gaussian Mixture           0.530343         0.533282   \n",
       "Gaussian Mixture                    0.505357         0.508004   \n",
       "\n",
       "                           homogeneity_score  completeness_score  \n",
       "Bayesian Gaussian Mixture           0.408928            0.766320  \n",
       "Gaussian Mixture                    0.389661            0.729582  "
      ]
     },
     "execution_count": 86,
     "metadata": {},
     "output_type": "execute_result"
    }
   ],
   "source": [
    "# Calling function to create a dataframe of metric scores for GMM and Bayesian GMM\n",
    "\n",
    "bayesian_and_gaussian(df4, X, y, 2, 'full', 1e-6)"
   ]
  },
  {
   "cell_type": "markdown",
   "id": "054a3b19",
   "metadata": {},
   "source": [
    "## Hyperparameter Selection"
   ]
  },
  {
   "cell_type": "markdown",
   "id": "e6a98be3",
   "metadata": {},
   "source": [
    "### Mini Batch KMeans"
   ]
  },
  {
   "cell_type": "code",
   "execution_count": 87,
   "id": "773b70e3",
   "metadata": {},
   "outputs": [
    {
     "name": "stdout",
     "output_type": "stream",
     "text": [
      "Average of all scores for [5, 25] combination is 1.3851845943944525\n",
      "Average of all scores for [6, 50] combination is 1.6585417697396758\n",
      "Average of all scores for [7, 25] combination is 1.2263615269951917\n",
      "Average of all scores for [8, 15] combination is 1.5450622058378478\n",
      "Average of all scores for [9, 15] combination is 1.5300254194387777\n"
     ]
    }
   ],
   "source": [
    "# Checking best combination of hyperparameters\n",
    "\n",
    "best_combination = [[5,25],[6,50],[7,25],[8,15],[9,15]]\n",
    "\n",
    "for i in best_combination:\n",
    "    model = MiniBatchKMeans(n_clusters=i[0], random_state=0, batch_size=i[1])\n",
    "    labels2 = model.fit(X).predict(X)\n",
    "    \n",
    "    # Calculating extrinsic measures for each combination of hyperparameters\n",
    "\n",
    "    fowlkes_mallows = fowlkes_mallows_score(y,labels2)\n",
    "    adjusted_rand = adjusted_rand_score(y,labels2)\n",
    "    mutual_info = mutual_info_score(y,labels2)\n",
    "    v_measure = v_measure_score(y,labels2)\n",
    "    homogeneity = homogeneity_score(y,labels2)\n",
    "    completeness = completeness_score(y,labels2)\n",
    "    \n",
    "    # Evaluating means of respective scores for each combination\n",
    "\n",
    "    scores = [fowlkes_mallows + adjusted_rand + mutual_info + v_measure + homogeneity + completeness]\n",
    "    mean_scores = sum(scores)/len(scores)\n",
    "    print('Average of all scores for ' + str(i) + ' combination is ' + str(mean_scores))"
   ]
  },
  {
   "cell_type": "markdown",
   "id": "21e72689",
   "metadata": {},
   "source": [
    "The best combination of hyperparameters in Mini Batch KMeans which gave the highest average metric score includes:\n",
    "\n",
    "number of clusters = 6, batch size = 50 "
   ]
  },
  {
   "cell_type": "markdown",
   "id": "9eb8f3bb",
   "metadata": {},
   "source": [
    "### Agglomerative Clustering"
   ]
  },
  {
   "cell_type": "code",
   "execution_count": 88,
   "id": "16c14612",
   "metadata": {},
   "outputs": [
    {
     "name": "stdout",
     "output_type": "stream",
     "text": [
      "Average of all scores for 2 clusters is 1.83162360740682\n",
      "Average of all scores for 3 clusters is 1.6715323476511625\n",
      "Average of all scores for 4 clusters is 1.8287802586961523\n",
      "Average of all scores for 5 clusters is 2.0772985577294345\n",
      "Average of all scores for 6 clusters is 1.9370551394589288\n",
      "Average of all scores for 7 clusters is 2.1236972380366965\n",
      "Average of all scores for 8 clusters is 2.1370851343639408\n"
     ]
    }
   ],
   "source": [
    "# Checking best value of cluster\n",
    "\n",
    "best_combination = [2,3,4,5,6,7,8]\n",
    "\n",
    "for i in best_combination:\n",
    "    model = AgglomerativeClustering(n_clusters=i) \n",
    "    labels2 = model.fit(X).fit_predict(X)\n",
    "    \n",
    "    # Calculating extrinsic measures for each cluster value\n",
    "    \n",
    "    fowlkes_mallows = fowlkes_mallows_score(y,labels2)\n",
    "    adjusted_rand = adjusted_rand_score(y,labels2)\n",
    "    mutual_info = mutual_info_score(y,labels2)\n",
    "    v_measure = v_measure_score(y,labels2)\n",
    "    homogeneity = homogeneity_score(y,labels2)\n",
    "    completeness = completeness_score(y,labels2)\n",
    "    \n",
    "    # Evaluating means of respective scores for each cluster\n",
    "    \n",
    "    scores = [fowlkes_mallows + adjusted_rand + mutual_info + v_measure + homogeneity + completeness]\n",
    "    mean_scores = sum(scores)/len(scores)\n",
    "    print('Average of all scores for ' + str(i) + ' clusters is ' + str(mean_scores))"
   ]
  },
  {
   "cell_type": "markdown",
   "id": "3b9c290b",
   "metadata": {},
   "source": [
    "The best value of number of clusters in Agglomerative Clustering is 8, which gave the highest average metric score."
   ]
  },
  {
   "cell_type": "markdown",
   "id": "b364723f",
   "metadata": {},
   "source": [
    "### DBScan"
   ]
  },
  {
   "cell_type": "code",
   "execution_count": 89,
   "id": "7873e2ec",
   "metadata": {},
   "outputs": [
    {
     "name": "stdout",
     "output_type": "stream",
     "text": [
      "Average of all scores for [0.7, 1] combination is 2.9991629701761227\n",
      "Average of all scores for [1, 2] combination is 1.2060549364911224\n",
      "Average of all scores for [3, 3] combination is 1.5341757290145492\n",
      "Average of all scores for [3, 5] combination is 1.5341757290145492\n",
      "Average of all scores for [5, 7] combination is 1.5341757290145492\n"
     ]
    }
   ],
   "source": [
    "# Checking best combination of hyperparameters\n",
    "\n",
    "best_combination = [[0.7,1],[1,2],[3,3],[3,5],[5,7]]\n",
    "\n",
    "for i in best_combination:\n",
    "    model = DBSCAN(eps=i[0], min_samples=i[1])\n",
    "    labels2 = model.fit(X).fit_predict(X)\n",
    "    \n",
    "    # Calculating extrinsic measures for each combination of hyperparameters\n",
    "    \n",
    "    fowlkes_mallows = fowlkes_mallows_score(y,labels2)\n",
    "    adjusted_rand = adjusted_rand_score(y,labels2)\n",
    "    mutual_info = mutual_info_score(y,labels2)\n",
    "    v_measure = v_measure_score(y,labels2)\n",
    "    homogeneity = homogeneity_score(y,labels2)\n",
    "    completeness = completeness_score(y,labels2)\n",
    "    \n",
    "    # Evaluating means of respective scores for each combination\n",
    "    \n",
    "    scores = [fowlkes_mallows + adjusted_rand + mutual_info + v_measure + homogeneity + completeness]\n",
    "    mean_scores = sum(scores)/len(scores)\n",
    "    print('Average of all scores for ' + str(i) + ' combination is ' + str(mean_scores))"
   ]
  },
  {
   "cell_type": "markdown",
   "id": "e5b015d1",
   "metadata": {},
   "source": [
    "The best combination of hyperparameters in DBScan which gave the highest average metric score includes:\n",
    "\n",
    "maximum distance between two samples (eps) = 0.7, minimum number of samples = 1 "
   ]
  },
  {
   "cell_type": "markdown",
   "id": "4b7871d7",
   "metadata": {},
   "source": [
    "### OPTICS"
   ]
  },
  {
   "cell_type": "code",
   "execution_count": 90,
   "id": "91e81219",
   "metadata": {},
   "outputs": [
    {
     "name": "stdout",
     "output_type": "stream",
     "text": [
      "Average of all scores for 3 samples is 1.4463646625468778\n",
      "Average of all scores for 4 samples is 1.314187405739579\n",
      "Average of all scores for 5 samples is 1.2332074130884525\n",
      "Average of all scores for 6 samples is 0.840102315575896\n",
      "Average of all scores for 7 samples is 0.8980866397481009\n",
      "Average of all scores for 8 samples is 0.7773613948552597\n"
     ]
    }
   ],
   "source": [
    "# Checking best value of minimum number of samples\n",
    "\n",
    "best_combination = [3,4,5,6,7,8]\n",
    "\n",
    "for i in best_combination:\n",
    "    model = OPTICS(min_samples=i)\n",
    "    labels2 = model.fit(X).fit_predict(X)\n",
    "    \n",
    "    # Calculating extrinsic measures for each value of minimum samples\n",
    "    \n",
    "    fowlkes_mallows = fowlkes_mallows_score(y,labels2)\n",
    "    adjusted_rand = adjusted_rand_score(y,labels2)\n",
    "    mutual_info = mutual_info_score(y,labels2)\n",
    "    v_measure = v_measure_score(y,labels2)\n",
    "    homogeneity = homogeneity_score(y,labels2)\n",
    "    completeness = completeness_score(y,labels2)\n",
    "    \n",
    "    # Evaluating means of respective scores for each value of minimum samples\n",
    "    \n",
    "    scores = [fowlkes_mallows + adjusted_rand + mutual_info + v_measure + homogeneity + completeness]\n",
    "    mean_scores = sum(scores)/len(scores)\n",
    "    print('Average of all scores for ' + str(i) + ' samples is ' + str(mean_scores))"
   ]
  },
  {
   "cell_type": "markdown",
   "id": "6ac1051a",
   "metadata": {},
   "source": [
    "The best value of minimum number of samples in OPTICS is 3, which gave the highest average metric score."
   ]
  },
  {
   "cell_type": "markdown",
   "id": "725f928d",
   "metadata": {},
   "source": [
    "### Affinity Propagation "
   ]
  },
  {
   "cell_type": "code",
   "execution_count": 91,
   "id": "63ff8a9a",
   "metadata": {},
   "outputs": [
    {
     "name": "stdout",
     "output_type": "stream",
     "text": [
      "Average of all scores for [0.5, 200] combination is 1.9476904555236172\n",
      "Average of all scores for [0.6, 300] combination is 2.0592076198050226\n",
      "Average of all scores for [0.7, 400] combination is 2.0748867691934567\n",
      "Average of all scores for [0.8, 200] combination is 2.0748867691934567\n",
      "Average of all scores for [0.9, 500] combination is 2.1281363581020756\n"
     ]
    }
   ],
   "source": [
    "# Checking best combination of hyperparameters\n",
    "\n",
    "best_combination = [[0.5,200],[0.6,300],[0.7,400],[0.8,200],[0.9,500]]\n",
    "\n",
    "for i in best_combination:\n",
    "    model = AffinityPropagation(damping=i[0], max_iter=i[1], affinity=\"euclidean\", random_state=0)\n",
    "    labels2 = model.fit(X).fit_predict(X)\n",
    "    \n",
    "    # Calculating extrinsic measures for each combination of hyperparameters\n",
    "\n",
    "    fowlkes_mallows = fowlkes_mallows_score(y,labels2)\n",
    "    adjusted_rand = adjusted_rand_score(y,labels2)\n",
    "    mutual_info = mutual_info_score(y,labels2)\n",
    "    v_measure = v_measure_score(y,labels2)\n",
    "    homogeneity = homogeneity_score(y,labels2)\n",
    "    completeness = completeness_score(y,labels2)\n",
    "    \n",
    "    # Evaluating means of respective scores for each combination\n",
    "    \n",
    "    scores = [fowlkes_mallows + adjusted_rand + mutual_info + v_measure + homogeneity + completeness]\n",
    "    mean_scores = sum(scores)/len(scores)\n",
    "    print('Average of all scores for ' + str(i) + ' combination is ' + str(mean_scores))"
   ]
  },
  {
   "cell_type": "markdown",
   "id": "612e3965",
   "metadata": {},
   "source": [
    "The best combinations of hyperparameters in Affinity Propagation which gave the highest average metric scores:\n",
    "\n",
    "damping value = 0.9, maximum iterations = 500"
   ]
  },
  {
   "cell_type": "markdown",
   "id": "b9329b11",
   "metadata": {},
   "source": [
    "### Spectral Clustering "
   ]
  },
  {
   "cell_type": "code",
   "execution_count": 92,
   "id": "c4f57740",
   "metadata": {},
   "outputs": [
    {
     "name": "stdout",
     "output_type": "stream",
     "text": [
      "Average of all scores for [5, 'discretize'] combination is 1.8610657613892514\n",
      "Average of all scores for [6, 'discretize'] combination is 1.6065372861360716\n",
      "Average of all scores for [7, 'kmeans'] combination is 0.8858514017489812\n",
      "Average of all scores for [8, 'kmeans'] combination is 1.6306019870576773\n",
      "Average of all scores for [9, 'discretize'] combination is 1.6719344263387876\n"
     ]
    }
   ],
   "source": [
    "# Checking best combination of hyperparameters\n",
    "\n",
    "best_combination = [[5,'discretize'],[6,'discretize'],[7,'kmeans'],[8,'kmeans'],[9,'discretize']]\n",
    "\n",
    "for i in best_combination:\n",
    "    model = SpectralClustering(n_clusters=i[0], assign_labels=i[1], random_state=0)\n",
    "    labels2 = model.fit(X).fit_predict(X)\n",
    "    \n",
    "    # Calculating extrinsic measures for each combination of hyperparameters\n",
    "    \n",
    "    fowlkes_mallows = fowlkes_mallows_score(y,labels2)\n",
    "    adjusted_rand = adjusted_rand_score(y,labels2)\n",
    "    mutual_info = mutual_info_score(y,labels2)\n",
    "    v_measure = v_measure_score(y,labels2)\n",
    "    homogeneity = homogeneity_score(y,labels2)\n",
    "    completeness = completeness_score(y,labels2)\n",
    "    \n",
    "    # Evaluating means of respective scores for each combination\n",
    "    \n",
    "    scores = [fowlkes_mallows + adjusted_rand + mutual_info + v_measure + homogeneity + completeness]\n",
    "    mean_scores = sum(scores)/len(scores)\n",
    "    print('Average of all scores for ' + str(i) + ' combination is ' + str(mean_scores))"
   ]
  },
  {
   "cell_type": "markdown",
   "id": "fa0fb348",
   "metadata": {},
   "source": [
    "The best combination of hyperparameters in Spectral Clustering that gave the highest average metric score includes:\n",
    "\n",
    "number of clusters = 5, assign labels = 'discretize'"
   ]
  },
  {
   "cell_type": "markdown",
   "id": "a24ab45c",
   "metadata": {},
   "source": [
    "### Bayesian Gaussian Mixture"
   ]
  },
  {
   "cell_type": "code",
   "execution_count": 93,
   "id": "74bd8949",
   "metadata": {},
   "outputs": [
    {
     "name": "stdout",
     "output_type": "stream",
     "text": [
      "Average of all scores for [2, 'full'] combination is 3.33588443924623\n",
      "Average of all scores for [3, 'tied'] combination is 3.19944672446786\n",
      "Average of all scores for [4, 'diag'] combination is 3.1916745544032734\n",
      "Average of all scores for [5, 'spherical'] combination is 0.9708397115478299\n",
      "Average of all scores for [6, 'full'] combination is 2.0046841631995003\n",
      "Average of all scores for [7, 'spherical'] combination is 1.2085503114980387\n",
      "Average of all scores for [8, 'diag'] combination is 1.8560704213529702\n"
     ]
    }
   ],
   "source": [
    "# Checking best combination of hyperparameters\n",
    "\n",
    "best_combination = [[2,'full'],[3,'tied'],[4,'diag'],[5,'spherical'],[6,'full'],[7, 'spherical'],[8, 'diag']]\n",
    "\n",
    "for i in best_combination:\n",
    "    model = BayesianGaussianMixture(n_components=i[0], covariance_type=i[1], random_state=0)\n",
    "    labels2 = model.fit(X).fit_predict(X)\n",
    "    \n",
    "    # Calculating extrinsic measures for each combination of hyperparameters\n",
    "    \n",
    "    fowlkes_mallows = fowlkes_mallows_score(y,labels2)\n",
    "    adjusted_rand = adjusted_rand_score(y,labels2)\n",
    "    mutual_info = mutual_info_score(y,labels2)\n",
    "    v_measure = v_measure_score(y,labels2)\n",
    "    homogeneity = homogeneity_score(y,labels2)\n",
    "    completeness = completeness_score(y,labels2)\n",
    "    \n",
    "    # Evaluating means of respective scores for each combination\n",
    "\n",
    "    scores = [fowlkes_mallows + adjusted_rand + mutual_info + v_measure + homogeneity + completeness]\n",
    "    mean_scores = sum(scores)/len(scores)\n",
    "    print('Average of all scores for ' + str(i) + ' combination is ' + str(mean_scores))"
   ]
  },
  {
   "cell_type": "markdown",
   "id": "7f5202c0",
   "metadata": {},
   "source": [
    "The best combination of hyperparameters in Bayesian Gaussian Mixture that gave the highest average metric score includes:\n",
    "\n",
    "number of components = 2, covariance type = 'full'"
   ]
  },
  {
   "cell_type": "markdown",
   "id": "edd07746",
   "metadata": {},
   "source": [
    "### Gaussian Mixture Model"
   ]
  },
  {
   "cell_type": "code",
   "execution_count": 94,
   "id": "69425787",
   "metadata": {},
   "outputs": [
    {
     "name": "stdout",
     "output_type": "stream",
     "text": [
      "Average of all scores for [2, 'full'] combination is 3.207439775416007\n",
      "Average of all scores for [3, 'tied'] combination is 3.19944672446786\n",
      "Average of all scores for [4, 'diag'] combination is 2.4302730469560654\n",
      "Average of all scores for [5, 'spherical'] combination is 1.642186251096291\n",
      "Average of all scores for [6, 'full'] combination is 1.8196655938258732\n",
      "Average of all scores for [7, 'spherical'] combination is 1.8459036351439295\n",
      "Average of all scores for [8, 'diag'] combination is 1.3792064703545044\n"
     ]
    }
   ],
   "source": [
    "# Checking best combination of hyperparameters\n",
    "\n",
    "best_combination = [[2,'full'],[3,'tied'],[4,'diag'],[5,'spherical'],[6,'full'],[7, 'spherical'],[8, 'diag']]\n",
    "\n",
    "for i in best_combination:\n",
    "    model = GaussianMixture(n_components=i[0], covariance_type=i[1], random_state=0)\n",
    "    labels2 = model.fit(X).fit_predict(X)\n",
    "    \n",
    "    # Calculating extrinsic measures for each combination of hyperparameters\n",
    "    \n",
    "    fowlkes_mallows = fowlkes_mallows_score(y,labels2)\n",
    "    adjusted_rand = adjusted_rand_score(y,labels2)\n",
    "    mutual_info = mutual_info_score(y,labels2)\n",
    "    v_measure = v_measure_score(y,labels2)\n",
    "    homogeneity = homogeneity_score(y,labels2)\n",
    "    completeness = completeness_score(y,labels2)\n",
    "    \n",
    "    # Evaluating means of respective scores for each combination\n",
    "    \n",
    "    scores = [fowlkes_mallows + adjusted_rand + mutual_info + v_measure + homogeneity + completeness]\n",
    "    mean_scores = sum(scores)/len(scores)\n",
    "    print('Average of all scores for ' + str(i) + ' combination is ' + str(mean_scores))"
   ]
  },
  {
   "cell_type": "markdown",
   "id": "7f4d5ffd",
   "metadata": {},
   "source": [
    "The best combination of hyperparameters in Gaussian Mixture Model that gave the highest average metric score includes:\n",
    "\n",
    "number of components = 2, covariance type = 'full'"
   ]
  },
  {
   "cell_type": "markdown",
   "id": "851a56b0",
   "metadata": {},
   "source": [
    "#### Analysis:\n",
    "\n",
    "1) It is observed that the GMM outperforms Mini Batch KMeans with highest average score, which shows that the GMM is better at modeling the data according to the chosen performance metrics. This could be because the GMM is more flexible and able to capture more complex patterns in the data.\n",
    "\n",
    "2) It is observed that the GMM outperforms Agglomerative Clustering with highest average score, it suggests that the GMM is able to more accurately and effectively cluster the data into distinct groups. This may be due to the fact that the GMM is able to account for the uncertainty in the data, whereas the Agglomerative clustering approach may be more rigid in its grouping of the data.\n",
    "\n",
    "3) It is observed that the GMM outperforms DBScan with highest average score, which shows that that the GMM is better at clustering the data and correctly identifying the underlying structure of the data. This could be due to the fact that the GMM uses probabilistic clustering, which allows it to account for uncertainty and potential overlap between clusters. In contrast, the DBScan model uses a density-based approach and may be more sensitive to noise or outliers in the data. \n",
    "\n",
    "4) It is observed that the GMM outperforms OPTICS with highest average score, which shows that GMM is more effective at accurately clustering the data. This could be due to the GMM's ability to handle multimodal data and its flexibility in modeling the underlying distribution of the data.\n",
    "\n",
    "5) It is observed that the GMM outperforms Affinity Propagation with highest average score, which shows that the GMM is a better fit for the data and is able to more accurately predict or classify the data. This could be due to the GMM's ability to model data using a continuous distribution, as opposed to the discrete clustering method used by Affinity propagation.\n",
    "\n",
    "6) It is observed that the GMM outperforms Spectral Clustering with highest average score, which shows that the GMM is a better fit for the given data and produces more accurate or effective clustering results. This may be due to the GMM's ability to handle mixed data types and account for uncertainty in the data, or because it is more robust to noise or outliers in the data.\n",
    "\n",
    "7) It is observed that the Bayesian GMM slightly outperforms GMM with higher average score (and very close to it), which shows that both models are performing similarly in terms of their ability to accurately predict or classify data. This may indicate that either model could be a suitable choice for the particular task at hand."
   ]
  },
  {
   "cell_type": "markdown",
   "id": "60dc7f80",
   "metadata": {},
   "source": [
    "### Parameter changes:"
   ]
  },
  {
   "cell_type": "markdown",
   "id": "3b76a3e2",
   "metadata": {},
   "source": [
    "#### (1) Based on number of components"
   ]
  },
  {
   "cell_type": "code",
   "execution_count": 95,
   "id": "f73d876c",
   "metadata": {},
   "outputs": [
    {
     "name": "stdout",
     "output_type": "stream",
     "text": [
      "Average of all scores for 2 components is 3.207439775416007\n",
      "Average of all scores for 3 components is 3.182305199375643\n",
      "Average of all scores for 4 components is 2.5280192734995226\n",
      "Average of all scores for 5 components is 1.74957358715293\n",
      "Average of all scores for 6 components is 1.8196655938258732\n",
      "Average of all scores for 7 components is 1.874400902429423\n"
     ]
    }
   ],
   "source": [
    "# Changing number of components to obtain the best value\n",
    "\n",
    "number_of_components = [2,3,4,5,6,7]\n",
    "\n",
    "for i in number_of_components:\n",
    "    model = GaussianMixture(n_components=i, covariance_type='full', reg_covar=1e-6, random_state=0)\n",
    "    labels2 = model.fit(X).fit_predict(X)\n",
    "    \n",
    "    # Calculating extrinsic measures for each value of number of components\n",
    "\n",
    "    fowlkes_mallows = fowlkes_mallows_score(y,labels2)\n",
    "    adjusted_rand = adjusted_rand_score(y,labels2)\n",
    "    mutual_info = mutual_info_score(y,labels2)\n",
    "    v_measure = v_measure_score(y,labels2)\n",
    "    homogeneity = homogeneity_score(y,labels2)\n",
    "    completeness = completeness_score(y,labels2)\n",
    "    \n",
    "    # Evaluating means of respective scores for each value of number of components\n",
    "\n",
    "    scores = [fowlkes_mallows + adjusted_rand + mutual_info + v_measure + homogeneity + completeness]\n",
    "    mean_scores = sum(scores)/len(scores)\n",
    "    print('Average of all scores for ' + str(i) + ' components is ' + str(mean_scores))"
   ]
  },
  {
   "cell_type": "markdown",
   "id": "fa855dbf",
   "metadata": {},
   "source": [
    "Upon increasing and decreasing the number of components parameter in GMM, it is observed that the best score is obtained when the number of components are 2. This shows that the model is able to accurately classify the data using fewer components or clusters. This may indicate that the  model is able to effectively capture the underlying structure of the data using fewer components."
   ]
  },
  {
   "cell_type": "markdown",
   "id": "8e66023a",
   "metadata": {},
   "source": [
    "#### (2) Based on covariance type"
   ]
  },
  {
   "cell_type": "code",
   "execution_count": 96,
   "id": "1fca5d30",
   "metadata": {},
   "outputs": [
    {
     "name": "stdout",
     "output_type": "stream",
     "text": [
      "Average of all scores for full covariance type is 3.207439775416007\n",
      "Average of all scores for tied covariance type is 3.102746842587514\n",
      "Average of all scores for diag covariance type is 3.4067420695293267\n",
      "Average of all scores for spherical covariance type is 2.1137790644590844\n"
     ]
    }
   ],
   "source": [
    "# Changing covariance type to obtain the best value\n",
    "\n",
    "type_of_covariance = ['full', 'tied', 'diag', 'spherical']\n",
    "\n",
    "for i in type_of_covariance:\n",
    "    model = GaussianMixture(n_components=2, covariance_type=i, reg_covar=1e-6, random_state=0)\n",
    "    labels2 = model.fit(X).fit_predict(X)\n",
    "    \n",
    "    # Calculating extrinsic measures for each covariance type\n",
    "    \n",
    "    fowlkes_mallows = fowlkes_mallows_score(y,labels2)\n",
    "    adjusted_rand = adjusted_rand_score(y,labels2)\n",
    "    mutual_info = mutual_info_score(y,labels2)\n",
    "    v_measure = v_measure_score(y,labels2)\n",
    "    homogeneity = homogeneity_score(y,labels2)\n",
    "    completeness = completeness_score(y,labels2)\n",
    "    \n",
    "    # Evaluating means of respective scores for each covariance type\n",
    "\n",
    "    scores = [fowlkes_mallows + adjusted_rand + mutual_info + v_measure + homogeneity + completeness]\n",
    "    mean_scores = sum(scores)/len(scores)\n",
    "    print('Average of all scores for ' + str(i) + ' covariance type is ' + str(mean_scores))"
   ]
  },
  {
   "cell_type": "markdown",
   "id": "b0d12060",
   "metadata": {},
   "source": [
    "Upon changing the type of covariance parameter in GMM, it is observed that the best score is obtained when the covariance type is 'diag'. This suggests that the data may be more effectively modeled with a diagonal covariance matrix rather than a full or spherical covariance matrix. This may indicate that the data has some degree of independence between the different features, as the diagonal covariance matrix assumes that the features are uncorrelated."
   ]
  },
  {
   "cell_type": "markdown",
   "id": "ddf1e04f",
   "metadata": {},
   "source": [
    "#### (3) Based on regularization of covariance"
   ]
  },
  {
   "cell_type": "code",
   "execution_count": 97,
   "id": "d79010fe",
   "metadata": {},
   "outputs": [
    {
     "name": "stdout",
     "output_type": "stream",
     "text": [
      "Average of all scores for regularized covariance of 1e-06 is 3.207439775416007\n",
      "Average of all scores for regularized covariance of 0.5 is 1.1579325938757576\n",
      "Average of all scores for regularized covariance of 1.5 is 2.282586548685729\n",
      "Average of all scores for regularized covariance of 3 is 2.1871696345970753\n",
      "Average of all scores for regularized covariance of 5 is 1.5341757290145492\n"
     ]
    }
   ],
   "source": [
    "# Changing the value of regularized covariance to obtain the best value\n",
    "\n",
    "regularization_covariance = [1e-6, 0.5, 1.5, 3, 5]\n",
    "\n",
    "for i in regularization_covariance:\n",
    "    model = GaussianMixture(n_components=2, covariance_type='full', reg_covar=i, random_state=0)\n",
    "    labels2 = model.fit(X).fit_predict(X)\n",
    "    \n",
    "    # Calculating extrinsic measures for each value of regularized covariance\n",
    "    \n",
    "    fowlkes_mallows = fowlkes_mallows_score(y,labels2)\n",
    "    adjusted_rand = adjusted_rand_score(y,labels2)\n",
    "    mutual_info = mutual_info_score(y,labels2)\n",
    "    v_measure = v_measure_score(y,labels2)\n",
    "    homogeneity = homogeneity_score(y,labels2)\n",
    "    completeness = completeness_score(y,labels2)\n",
    "    \n",
    "    # Evaluating means of respective scores for each value of regularized covariance\n",
    "\n",
    "    scores = [fowlkes_mallows + adjusted_rand + mutual_info + v_measure + homogeneity + completeness]\n",
    "    mean_scores = sum(scores)/len(scores)\n",
    "    print('Average of all scores for ' + 'regularized covariance of ' + str(i) + ' is ' + str(mean_scores))"
   ]
  },
  {
   "cell_type": "markdown",
   "id": "f3aea2e5",
   "metadata": {},
   "source": [
    "Upon increasing and decreasing the regularized covariance in GMM, it is observed that the best score is obtained when the value is 1e-6. This suggests that the model is performing better when the regularization of the covariance matrices is set to a small value. This could indicate that the model is able to better fit the data when the regularization is set to a lower value, possibly because it is able to more accurately capture the underlying relationships in the data."
   ]
  },
  {
   "cell_type": "markdown",
   "id": "8920b0c6",
   "metadata": {},
   "source": [
    "## Dataset 05: Dishonest Internet Users"
   ]
  },
  {
   "cell_type": "markdown",
   "id": "9c1badcb",
   "metadata": {},
   "source": [
    "This dataset was used to test an architecture based on a trust model capable to cope with the evaluation of the trustworthiness of users interacting in pervasive environments. In pervasive computing, the interacting users are not able to obtain information about the trustworthiness of each other. Thus, unfair users can act maliciously towards others. The data contains 321 rows and 5 columns."
   ]
  },
  {
   "cell_type": "code",
   "execution_count": 98,
   "id": "3cfa9b29",
   "metadata": {},
   "outputs": [
    {
     "data": {
      "text/html": [
       "<div>\n",
       "<style scoped>\n",
       "    .dataframe tbody tr th:only-of-type {\n",
       "        vertical-align: middle;\n",
       "    }\n",
       "\n",
       "    .dataframe tbody tr th {\n",
       "        vertical-align: top;\n",
       "    }\n",
       "\n",
       "    .dataframe thead th {\n",
       "        text-align: right;\n",
       "    }\n",
       "</style>\n",
       "<table border=\"1\" class=\"dataframe\">\n",
       "  <thead>\n",
       "    <tr style=\"text-align: right;\">\n",
       "      <th></th>\n",
       "      <th>CT_range_4</th>\n",
       "      <th>CU_range_1</th>\n",
       "      <th>LT_range_4</th>\n",
       "      <th>sport</th>\n",
       "      <th>untrustworthy</th>\n",
       "    </tr>\n",
       "  </thead>\n",
       "  <tbody>\n",
       "    <tr>\n",
       "      <th>0</th>\n",
       "      <td>CT_range_4</td>\n",
       "      <td>CU_range_1</td>\n",
       "      <td>LT_range_4</td>\n",
       "      <td>sport</td>\n",
       "      <td>untrustworthy</td>\n",
       "    </tr>\n",
       "    <tr>\n",
       "      <th>1</th>\n",
       "      <td>CT_range_1</td>\n",
       "      <td>CU_range_4</td>\n",
       "      <td>LT_range_4</td>\n",
       "      <td>sport</td>\n",
       "      <td>trustworthy</td>\n",
       "    </tr>\n",
       "    <tr>\n",
       "      <th>2</th>\n",
       "      <td>CT_range_2</td>\n",
       "      <td>CU_range_1</td>\n",
       "      <td>LT_range_4</td>\n",
       "      <td>sport</td>\n",
       "      <td>trustworthy</td>\n",
       "    </tr>\n",
       "    <tr>\n",
       "      <th>3</th>\n",
       "      <td>CT_range_3</td>\n",
       "      <td>CU_range_1</td>\n",
       "      <td>LT_range_4</td>\n",
       "      <td>sport</td>\n",
       "      <td>trustworthy</td>\n",
       "    </tr>\n",
       "    <tr>\n",
       "      <th>4</th>\n",
       "      <td>CT_range_4</td>\n",
       "      <td>CU_range_1</td>\n",
       "      <td>LT_range_4</td>\n",
       "      <td>sport</td>\n",
       "      <td>untrustworthy</td>\n",
       "    </tr>\n",
       "  </tbody>\n",
       "</table>\n",
       "</div>"
      ],
      "text/plain": [
       "   CT_range_4  CU_range_1  LT_range_4  sport  untrustworthy\n",
       "0  CT_range_4  CU_range_1  LT_range_4  sport  untrustworthy\n",
       "1  CT_range_1  CU_range_4  LT_range_4  sport    trustworthy\n",
       "2  CT_range_2  CU_range_1  LT_range_4  sport    trustworthy\n",
       "3  CT_range_3  CU_range_1  LT_range_4  sport    trustworthy\n",
       "4  CT_range_4  CU_range_1  LT_range_4  sport  untrustworthy"
      ]
     },
     "execution_count": 98,
     "metadata": {},
     "output_type": "execute_result"
    }
   ],
   "source": [
    "# Loading the dataset\n",
    "\n",
    "df5 = pd.read_csv('Classification\\Dishonest Internet users dataset.txt', sep = ' ')\n",
    "df5.head()"
   ]
  },
  {
   "cell_type": "code",
   "execution_count": 99,
   "id": "5a416e3c",
   "metadata": {},
   "outputs": [
    {
     "data": {
      "text/html": [
       "<div>\n",
       "<style scoped>\n",
       "    .dataframe tbody tr th:only-of-type {\n",
       "        vertical-align: middle;\n",
       "    }\n",
       "\n",
       "    .dataframe tbody tr th {\n",
       "        vertical-align: top;\n",
       "    }\n",
       "\n",
       "    .dataframe thead th {\n",
       "        text-align: right;\n",
       "    }\n",
       "</style>\n",
       "<table border=\"1\" class=\"dataframe\">\n",
       "  <thead>\n",
       "    <tr style=\"text-align: right;\">\n",
       "      <th></th>\n",
       "      <th>Counting Trust</th>\n",
       "      <th>Counting Untrust</th>\n",
       "      <th>Last Time</th>\n",
       "      <th>Context</th>\n",
       "      <th>Score</th>\n",
       "    </tr>\n",
       "  </thead>\n",
       "  <tbody>\n",
       "    <tr>\n",
       "      <th>0</th>\n",
       "      <td>CT_range_4</td>\n",
       "      <td>CU_range_1</td>\n",
       "      <td>LT_range_4</td>\n",
       "      <td>sport</td>\n",
       "      <td>untrustworthy</td>\n",
       "    </tr>\n",
       "    <tr>\n",
       "      <th>1</th>\n",
       "      <td>CT_range_1</td>\n",
       "      <td>CU_range_4</td>\n",
       "      <td>LT_range_4</td>\n",
       "      <td>sport</td>\n",
       "      <td>trustworthy</td>\n",
       "    </tr>\n",
       "    <tr>\n",
       "      <th>2</th>\n",
       "      <td>CT_range_2</td>\n",
       "      <td>CU_range_1</td>\n",
       "      <td>LT_range_4</td>\n",
       "      <td>sport</td>\n",
       "      <td>trustworthy</td>\n",
       "    </tr>\n",
       "    <tr>\n",
       "      <th>3</th>\n",
       "      <td>CT_range_3</td>\n",
       "      <td>CU_range_1</td>\n",
       "      <td>LT_range_4</td>\n",
       "      <td>sport</td>\n",
       "      <td>trustworthy</td>\n",
       "    </tr>\n",
       "    <tr>\n",
       "      <th>4</th>\n",
       "      <td>CT_range_4</td>\n",
       "      <td>CU_range_1</td>\n",
       "      <td>LT_range_4</td>\n",
       "      <td>sport</td>\n",
       "      <td>untrustworthy</td>\n",
       "    </tr>\n",
       "  </tbody>\n",
       "</table>\n",
       "</div>"
      ],
      "text/plain": [
       "  Counting Trust Counting Untrust   Last Time Context          Score\n",
       "0     CT_range_4       CU_range_1  LT_range_4   sport  untrustworthy\n",
       "1     CT_range_1       CU_range_4  LT_range_4   sport    trustworthy\n",
       "2     CT_range_2       CU_range_1  LT_range_4   sport    trustworthy\n",
       "3     CT_range_3       CU_range_1  LT_range_4   sport    trustworthy\n",
       "4     CT_range_4       CU_range_1  LT_range_4   sport  untrustworthy"
      ]
     },
     "execution_count": 99,
     "metadata": {},
     "output_type": "execute_result"
    }
   ],
   "source": [
    "# Assigning column names\n",
    "\n",
    "colnames = ['Counting Trust', 'Counting Untrust', 'Last Time', 'Context', 'Score']\n",
    "df5.columns = colnames\n",
    "df5.head()"
   ]
  },
  {
   "cell_type": "code",
   "execution_count": 100,
   "id": "d552ccea",
   "metadata": {},
   "outputs": [
    {
     "data": {
      "text/plain": [
       "(321, 5)"
      ]
     },
     "execution_count": 100,
     "metadata": {},
     "output_type": "execute_result"
    }
   ],
   "source": [
    "# Data shape\n",
    "\n",
    "df5.shape"
   ]
  },
  {
   "cell_type": "code",
   "execution_count": 101,
   "id": "0596682a",
   "metadata": {},
   "outputs": [
    {
     "data": {
      "text/plain": [
       "0"
      ]
     },
     "execution_count": 101,
     "metadata": {},
     "output_type": "execute_result"
    }
   ],
   "source": [
    "df5.isna().sum().sum()"
   ]
  },
  {
   "cell_type": "code",
   "execution_count": 102,
   "id": "d3bbaf48",
   "metadata": {},
   "outputs": [],
   "source": [
    "# Converting string columns to integer\n",
    "\n",
    "for i in df5.select_dtypes(include=[object]).columns:\n",
    "    df5[i] = pd.factorize(df5[i])[0] + 1\n",
    "\n",
    "# Normalizing the data\n",
    "\n",
    "ss=StandardScaler()\n",
    "for i in df5.columns:\n",
    "    df5[i] = ss.fit_transform(df5[[i]])\n",
    "\n",
    "# Splitting into X and y columns\n",
    "\n",
    "X = df5.drop(columns = ['Score'])\n",
    "y = df5['Score']"
   ]
  },
  {
   "cell_type": "code",
   "execution_count": 103,
   "id": "94da2c97",
   "metadata": {},
   "outputs": [
    {
     "name": "stdout",
     "output_type": "stream",
     "text": [
      "For MiniBatchKMeans, the ideal number of clusters are  7\n",
      "Based on dendrogram, the ideal number of clusters are  3\n"
     ]
    },
    {
     "data": {
      "image/png": "[encoded data removed]",
      "text/plain": [
       "<Figure size 1440x432 with 3 Axes>"
      ]
     },
     "metadata": {},
     "output_type": "display_data"
    }
   ],
   "source": [
    "# Calling function to create elbow curve and dendrogram\n",
    "\n",
    "elbow_curve_and_dendrogram(df5, 7, 50, 3)"
   ]
  },
  {
   "cell_type": "code",
   "execution_count": 104,
   "id": "25b1ae54",
   "metadata": {},
   "outputs": [
    {
     "data": {
      "text/html": [
       "<div>\n",
       "<style scoped>\n",
       "    .dataframe tbody tr th:only-of-type {\n",
       "        vertical-align: middle;\n",
       "    }\n",
       "\n",
       "    .dataframe tbody tr th {\n",
       "        vertical-align: top;\n",
       "    }\n",
       "\n",
       "    .dataframe thead th {\n",
       "        text-align: right;\n",
       "    }\n",
       "</style>\n",
       "<table border=\"1\" class=\"dataframe\">\n",
       "  <thead>\n",
       "    <tr style=\"text-align: right;\">\n",
       "      <th></th>\n",
       "      <th>silhouette_score</th>\n",
       "      <th>davies_bouldin_score</th>\n",
       "      <th>fowlkes_mallows_score</th>\n",
       "      <th>adjusted_rand_score</th>\n",
       "      <th>mutual_info_score</th>\n",
       "      <th>v_measure_score</th>\n",
       "      <th>homogeneity_score</th>\n",
       "      <th>completeness_score</th>\n",
       "    </tr>\n",
       "  </thead>\n",
       "  <tbody>\n",
       "    <tr>\n",
       "      <th>MiniBatchKMeans</th>\n",
       "      <td>0.831913</td>\n",
       "      <td>0.398188</td>\n",
       "      <td>0.510939</td>\n",
       "      <td>0.224394</td>\n",
       "      <td>0.487416</td>\n",
       "      <td>0.396625</td>\n",
       "      <td>0.798951</td>\n",
       "      <td>0.263789</td>\n",
       "    </tr>\n",
       "    <tr>\n",
       "      <th>AgglomerativeClustering</th>\n",
       "      <td>0.495101</td>\n",
       "      <td>1.065362</td>\n",
       "      <td>0.439478</td>\n",
       "      <td>-0.005092</td>\n",
       "      <td>0.003507</td>\n",
       "      <td>0.004129</td>\n",
       "      <td>0.005749</td>\n",
       "      <td>0.003222</td>\n",
       "    </tr>\n",
       "    <tr>\n",
       "      <th>DBSCAN</th>\n",
       "      <td>0.454870</td>\n",
       "      <td>0.416224</td>\n",
       "      <td>0.761209</td>\n",
       "      <td>0.000000</td>\n",
       "      <td>0.000000</td>\n",
       "      <td>0.000000</td>\n",
       "      <td>0.000000</td>\n",
       "      <td>1.000000</td>\n",
       "    </tr>\n",
       "    <tr>\n",
       "      <th>OPTICS</th>\n",
       "      <td>0.982775</td>\n",
       "      <td>0.040885</td>\n",
       "      <td>0.460842</td>\n",
       "      <td>0.184466</td>\n",
       "      <td>0.588625</td>\n",
       "      <td>0.405551</td>\n",
       "      <td>0.964847</td>\n",
       "      <td>0.256731</td>\n",
       "    </tr>\n",
       "    <tr>\n",
       "      <th>Spectral Clustering</th>\n",
       "      <td>0.414071</td>\n",
       "      <td>0.582323</td>\n",
       "      <td>0.638370</td>\n",
       "      <td>-0.076630</td>\n",
       "      <td>0.053225</td>\n",
       "      <td>0.105429</td>\n",
       "      <td>0.087244</td>\n",
       "      <td>0.133191</td>\n",
       "    </tr>\n",
       "    <tr>\n",
       "      <th>Affinity Propagation</th>\n",
       "      <td>0.982775</td>\n",
       "      <td>0.040885</td>\n",
       "      <td>0.460842</td>\n",
       "      <td>0.184466</td>\n",
       "      <td>0.588625</td>\n",
       "      <td>0.405551</td>\n",
       "      <td>0.964847</td>\n",
       "      <td>0.256731</td>\n",
       "    </tr>\n",
       "  </tbody>\n",
       "</table>\n",
       "</div>"
      ],
      "text/plain": [
       "                         silhouette_score  davies_bouldin_score  \\\n",
       "MiniBatchKMeans                  0.831913              0.398188   \n",
       "AgglomerativeClustering          0.495101              1.065362   \n",
       "DBSCAN                           0.454870              0.416224   \n",
       "OPTICS                           0.982775              0.040885   \n",
       "Spectral Clustering              0.414071              0.582323   \n",
       "Affinity Propagation             0.982775              0.040885   \n",
       "\n",
       "                         fowlkes_mallows_score  adjusted_rand_score  \\\n",
       "MiniBatchKMeans                       0.510939             0.224394   \n",
       "AgglomerativeClustering               0.439478            -0.005092   \n",
       "DBSCAN                                0.761209             0.000000   \n",
       "OPTICS                                0.460842             0.184466   \n",
       "Spectral Clustering                   0.638370            -0.076630   \n",
       "Affinity Propagation                  0.460842             0.184466   \n",
       "\n",
       "                         mutual_info_score  v_measure_score  \\\n",
       "MiniBatchKMeans                   0.487416         0.396625   \n",
       "AgglomerativeClustering           0.003507         0.004129   \n",
       "DBSCAN                            0.000000         0.000000   \n",
       "OPTICS                            0.588625         0.405551   \n",
       "Spectral Clustering               0.053225         0.105429   \n",
       "Affinity Propagation              0.588625         0.405551   \n",
       "\n",
       "                         homogeneity_score  completeness_score  \n",
       "MiniBatchKMeans                   0.798951            0.263789  \n",
       "AgglomerativeClustering           0.005749            0.003222  \n",
       "DBSCAN                            0.000000            1.000000  \n",
       "OPTICS                            0.964847            0.256731  \n",
       "Spectral Clustering               0.087244            0.133191  \n",
       "Affinity Propagation              0.964847            0.256731  "
      ]
     },
     "execution_count": 104,
     "metadata": {},
     "output_type": "execute_result"
    }
   ],
   "source": [
    "# Calling function to create a dataframe of metric scores for six clustering algorithms\n",
    "\n",
    "evaluation_matrix(df5, X, y, elbow_best_value, 3, 50, 3, 5, 2, 'discretize', 0.8, 500, 'euclidean')"
   ]
  },
  {
   "cell_type": "code",
   "execution_count": 105,
   "id": "814995bd",
   "metadata": {},
   "outputs": [
    {
     "data": {
      "text/html": [
       "<div>\n",
       "<style scoped>\n",
       "    .dataframe tbody tr th:only-of-type {\n",
       "        vertical-align: middle;\n",
       "    }\n",
       "\n",
       "    .dataframe tbody tr th {\n",
       "        vertical-align: top;\n",
       "    }\n",
       "\n",
       "    .dataframe thead th {\n",
       "        text-align: right;\n",
       "    }\n",
       "</style>\n",
       "<table border=\"1\" class=\"dataframe\">\n",
       "  <thead>\n",
       "    <tr style=\"text-align: right;\">\n",
       "      <th></th>\n",
       "      <th>fowlkes_mallows_score</th>\n",
       "      <th>adjusted_rand_score</th>\n",
       "      <th>mutual_info_score</th>\n",
       "      <th>v_measure_score</th>\n",
       "      <th>homogeneity_score</th>\n",
       "      <th>completeness_score</th>\n",
       "    </tr>\n",
       "  </thead>\n",
       "  <tbody>\n",
       "    <tr>\n",
       "      <th>Bayesian Gaussian Mixture</th>\n",
       "      <td>0.538162</td>\n",
       "      <td>-0.003143</td>\n",
       "      <td>0.000041</td>\n",
       "      <td>0.000063</td>\n",
       "      <td>0.000067</td>\n",
       "      <td>0.00006</td>\n",
       "    </tr>\n",
       "    <tr>\n",
       "      <th>Gaussian Mixture</th>\n",
       "      <td>0.538162</td>\n",
       "      <td>-0.003143</td>\n",
       "      <td>0.000041</td>\n",
       "      <td>0.000063</td>\n",
       "      <td>0.000067</td>\n",
       "      <td>0.00006</td>\n",
       "    </tr>\n",
       "  </tbody>\n",
       "</table>\n",
       "</div>"
      ],
      "text/plain": [
       "                           fowlkes_mallows_score  adjusted_rand_score  \\\n",
       "Bayesian Gaussian Mixture               0.538162            -0.003143   \n",
       "Gaussian Mixture                        0.538162            -0.003143   \n",
       "\n",
       "                           mutual_info_score  v_measure_score  \\\n",
       "Bayesian Gaussian Mixture           0.000041         0.000063   \n",
       "Gaussian Mixture                    0.000041         0.000063   \n",
       "\n",
       "                           homogeneity_score  completeness_score  \n",
       "Bayesian Gaussian Mixture           0.000067             0.00006  \n",
       "Gaussian Mixture                    0.000067             0.00006  "
      ]
     },
     "execution_count": 105,
     "metadata": {},
     "output_type": "execute_result"
    }
   ],
   "source": [
    "# Calling function to create a dataframe of metric scores for GMM and Bayesian GMM\n",
    "\n",
    "bayesian_and_gaussian(df5, X, y, 2, 'full', 1e-6)"
   ]
  },
  {
   "cell_type": "markdown",
   "id": "e15c76c3",
   "metadata": {},
   "source": [
    "## Hyperparameter Selection"
   ]
  },
  {
   "cell_type": "markdown",
   "id": "a6de0090",
   "metadata": {},
   "source": [
    "### Mini Batch KMeans"
   ]
  },
  {
   "cell_type": "code",
   "execution_count": 106,
   "id": "72f347da",
   "metadata": {},
   "outputs": [
    {
     "name": "stdout",
     "output_type": "stream",
     "text": [
      "Average of all scores for [5, 25] combination is 1.5258438156053302\n",
      "Average of all scores for [6, 50] combination is 1.5683562664836879\n",
      "Average of all scores for [7, 25] combination is 2.1808277463071057\n",
      "Average of all scores for [8, 15] combination is 3.00418029511709\n",
      "Average of all scores for [8, 50] combination is 2.5789047932952838\n"
     ]
    }
   ],
   "source": [
    "# Checking best combination of hyperparameters\n",
    "\n",
    "best_combination = [[5,25],[6,50],[7,25],[8,15],[8,50]]\n",
    "\n",
    "for i in best_combination:\n",
    "    model = MiniBatchKMeans(n_clusters=i[0], random_state=0, batch_size=i[1])\n",
    "    labels2 = model.fit(X).predict(X)\n",
    "    \n",
    "    # Calculating extrinsic measures for each combination of hyperparameters\n",
    "    \n",
    "    fowlkes_mallows = fowlkes_mallows_score(y,labels2)\n",
    "    adjusted_rand = adjusted_rand_score(y,labels2)\n",
    "    mutual_info = mutual_info_score(y,labels2)\n",
    "    v_measure = v_measure_score(y,labels2)\n",
    "    homogeneity = homogeneity_score(y,labels2)\n",
    "    completeness = completeness_score(y,labels2)\n",
    "    \n",
    "    # Evaluating means of respective scores for each combination\n",
    "\n",
    "    scores = [fowlkes_mallows + adjusted_rand + mutual_info + v_measure + homogeneity + completeness]\n",
    "    mean_scores = sum(scores)/len(scores)\n",
    "    print('Average of all scores for ' + str(i) + ' combination is ' + str(mean_scores))"
   ]
  },
  {
   "cell_type": "markdown",
   "id": "3482d31b",
   "metadata": {},
   "source": [
    "The best combination of hyperparameters in Mini Batch KMeans which gave the highest average metric score includes:\n",
    "\n",
    "number of clusters = 8, batch size = 15 "
   ]
  },
  {
   "cell_type": "markdown",
   "id": "1450bc16",
   "metadata": {},
   "source": [
    "### Agglomerative Clustering"
   ]
  },
  {
   "cell_type": "code",
   "execution_count": 107,
   "id": "8579691e",
   "metadata": {},
   "outputs": [
    {
     "name": "stdout",
     "output_type": "stream",
     "text": [
      "Average of all scores for 2 clusters is 0.5612683589541652\n",
      "Average of all scores for 3 clusters is 0.4509931579876162\n",
      "Average of all scores for 4 clusters is 0.7313973418107845\n",
      "Average of all scores for 5 clusters is 1.9817602557734388\n",
      "Average of all scores for 6 clusters is 2.100909908879289\n",
      "Average of all scores for 7 clusters is 2.135138617255085\n",
      "Average of all scores for 8 clusters is 2.46122606996671\n"
     ]
    }
   ],
   "source": [
    "# Checking best value of cluster\n",
    "\n",
    "best_combination = [2,3,4,5,6,7,8]\n",
    "\n",
    "for i in best_combination:\n",
    "    model = AgglomerativeClustering(n_clusters=i)\n",
    "    labels2 = model.fit(X).fit_predict(X)\n",
    "    \n",
    "    # Calculating extrinsic measures for each cluster value\n",
    "\n",
    "    fowlkes_mallows = fowlkes_mallows_score(y,labels2)\n",
    "    adjusted_rand = adjusted_rand_score(y,labels2)\n",
    "    mutual_info = mutual_info_score(y,labels2)\n",
    "    v_measure = v_measure_score(y,labels2)\n",
    "    homogeneity = homogeneity_score(y,labels2)\n",
    "    completeness = completeness_score(y,labels2)\n",
    "    \n",
    "    # Evaluating means of respective scores for each cluster\n",
    "\n",
    "    scores = [fowlkes_mallows + adjusted_rand + mutual_info + v_measure + homogeneity + completeness]\n",
    "    mean_scores = sum(scores)/len(scores)\n",
    "    print('Average of all scores for ' + str(i) + ' clusters is ' + str(mean_scores))"
   ]
  },
  {
   "cell_type": "markdown",
   "id": "7e6d59b9",
   "metadata": {},
   "source": [
    "The best value of number of clusters in Agglomerative Clustering is 8, which gave the highest average metric score."
   ]
  },
  {
   "cell_type": "markdown",
   "id": "47b6c72b",
   "metadata": {},
   "source": [
    "### DBScan"
   ]
  },
  {
   "cell_type": "code",
   "execution_count": 108,
   "id": "dd9bc371",
   "metadata": {},
   "outputs": [
    {
     "name": "stdout",
     "output_type": "stream",
     "text": [
      "Average of all scores for [0.7, 1] combination is 2.9212830860183487\n",
      "Average of all scores for [1, 2] combination is 2.4333246398092707\n",
      "Average of all scores for [2, 4] combination is 2.1013197294081496\n",
      "Average of all scores for [3, 5] combination is 1.7612090726840086\n",
      "Average of all scores for [5, 7] combination is 1.7612090726840086\n"
     ]
    }
   ],
   "source": [
    "# Checking best combination of hyperparameters\n",
    "\n",
    "best_combination = [[0.7,1],[1,2],[2,4],[3,5],[5,7]]\n",
    "\n",
    "for i in best_combination:\n",
    "    model = DBSCAN(eps=i[0], min_samples=i[1])\n",
    "    labels2 = model.fit(X).fit_predict(X)\n",
    "    \n",
    "    # Calculating extrinsic measures for each combination of hyperparameters\n",
    "    \n",
    "    fowlkes_mallows = fowlkes_mallows_score(y,labels2)\n",
    "    adjusted_rand = adjusted_rand_score(y,labels2)\n",
    "    mutual_info = mutual_info_score(y,labels2)\n",
    "    v_measure = v_measure_score(y,labels2)\n",
    "    homogeneity = homogeneity_score(y,labels2)\n",
    "    completeness = completeness_score(y,labels2)\n",
    "    \n",
    "    # Evaluating means of respective scores for each combination\n",
    "    \n",
    "    scores = [fowlkes_mallows + adjusted_rand + mutual_info + v_measure + homogeneity + completeness]\n",
    "    mean_scores = sum(scores)/len(scores)\n",
    "    print('Average of all scores for ' + str(i) + ' combination is ' + str(mean_scores))"
   ]
  },
  {
   "cell_type": "markdown",
   "id": "e6e359ef",
   "metadata": {},
   "source": [
    "The best combination of hyperparameters in DBScan which gave the highest average metric score includes:\n",
    "\n",
    "maximum distance between two samples (eps) = 0.7, minimum number of samples = 1 "
   ]
  },
  {
   "cell_type": "markdown",
   "id": "6ece66f5",
   "metadata": {},
   "source": [
    "### OPTICS"
   ]
  },
  {
   "cell_type": "code",
   "execution_count": 109,
   "id": "fa34b1f0",
   "metadata": {},
   "outputs": [
    {
     "name": "stdout",
     "output_type": "stream",
     "text": [
      "Average of all scores for 1 samples is 1.7612090726840086\n",
      "Average of all scores for 2 samples is 2.9212830860183487\n",
      "Average of all scores for 3 samples is 2.8610623019163985\n",
      "Average of all scores for 4 samples is 2.8610623019163985\n",
      "Average of all scores for 5 samples is 2.8610623019163985\n",
      "Average of all scores for 6 samples is 2.8610623019163985\n"
     ]
    }
   ],
   "source": [
    "# Checking best value of minimum number of samples\n",
    "\n",
    "best_combination = [1,2,3,4,5,6]\n",
    "\n",
    "for i in best_combination:\n",
    "    model = OPTICS(min_samples=i)\n",
    "    labels2 = model.fit(X).fit_predict(X)\n",
    "    \n",
    "    # Calculating extrinsic measures for each value of minimum samples\n",
    "\n",
    "    fowlkes_mallows = fowlkes_mallows_score(y,labels2)\n",
    "    adjusted_rand = adjusted_rand_score(y,labels2)\n",
    "    mutual_info = mutual_info_score(y,labels2)\n",
    "    v_measure = v_measure_score(y,labels2)\n",
    "    homogeneity = homogeneity_score(y,labels2)\n",
    "    completeness = completeness_score(y,labels2)\n",
    "    \n",
    "    # Evaluating means of respective scores for each value of minimum samples\n",
    "\n",
    "    scores = [fowlkes_mallows + adjusted_rand + mutual_info + v_measure + homogeneity + completeness]\n",
    "    mean_scores = sum(scores)/len(scores)\n",
    "    print('Average of all scores for ' + str(i) + ' samples is ' + str(mean_scores))"
   ]
  },
  {
   "cell_type": "markdown",
   "id": "953dca1c",
   "metadata": {},
   "source": [
    "The best value of minimum number of samples in OPTICS is 2, which gave the highest average metric score."
   ]
  },
  {
   "cell_type": "markdown",
   "id": "9de8c0b1",
   "metadata": {},
   "source": [
    "### Affinity Propagation"
   ]
  },
  {
   "cell_type": "code",
   "execution_count": 110,
   "id": "bd8eb565",
   "metadata": {},
   "outputs": [
    {
     "name": "stdout",
     "output_type": "stream",
     "text": [
      "Average of all scores for [0.5, 200] combination is 1.7612090726840086\n",
      "Average of all scores for [0.6, 300] combination is 1.7612090726840086\n",
      "Average of all scores for [0.7, 400] combination is 1.7612090726840086\n",
      "Average of all scores for [0.8, 200] combination is 2.861062301916399\n",
      "Average of all scores for [0.9, 500] combination is 0.541418662235664\n"
     ]
    }
   ],
   "source": [
    "# Checking best combination of hyperparameters\n",
    "\n",
    "best_combination = [[0.5,200],[0.6,300],[0.7,400],[0.8,200],[0.9,500]]\n",
    "\n",
    "for i in best_combination:\n",
    "    model = AffinityPropagation(damping=i[0], max_iter=i[1], affinity=\"euclidean\", random_state=0)\n",
    "    labels2 = model.fit(X).fit_predict(X)\n",
    "    \n",
    "    # Calculating extrinsic measures for each combination of hyperparameters\n",
    "    \n",
    "    fowlkes_mallows = fowlkes_mallows_score(y,labels2)\n",
    "    adjusted_rand = adjusted_rand_score(y,labels2)\n",
    "    mutual_info = mutual_info_score(y,labels2)\n",
    "    v_measure = v_measure_score(y,labels2)\n",
    "    homogeneity = homogeneity_score(y,labels2)\n",
    "    completeness = completeness_score(y,labels2)\n",
    "    \n",
    "    # Evaluating means of respective scores for each combination\n",
    "\n",
    "    scores = [fowlkes_mallows + adjusted_rand + mutual_info + v_measure + homogeneity + completeness]\n",
    "    mean_scores = sum(scores)/len(scores)\n",
    "    print('Average of all scores for ' + str(i) + ' combination is ' + str(mean_scores))"
   ]
  },
  {
   "cell_type": "markdown",
   "id": "0dcd94bb",
   "metadata": {},
   "source": [
    "The best combinations of hyperparameters in Affinity Propagation which gave the highest average metric scores:\n",
    "\n",
    "damping value = 0.8, maximum iterations = 200"
   ]
  },
  {
   "cell_type": "markdown",
   "id": "d3d18202",
   "metadata": {},
   "source": [
    "### Spectral Clustering"
   ]
  },
  {
   "cell_type": "code",
   "execution_count": 111,
   "id": "336e8f23",
   "metadata": {},
   "outputs": [
    {
     "name": "stdout",
     "output_type": "stream",
     "text": [
      "Average of all scores for [6, 'discretize'] combination is 1.6242055489684768\n",
      "Average of all scores for [7, 'kmeans'] combination is 2.1808277463071057\n",
      "Average of all scores for [8, 'kmeans'] combination is 2.1746720957497248\n",
      "Average of all scores for [5, 'discretize'] combination is 1.5258438156053302\n",
      "Average of all scores for [9, 'discretize'] combination is 2.537967565796073\n"
     ]
    }
   ],
   "source": [
    "# Checking best combination of hyperparameters\n",
    "\n",
    "best_combination = [[6,'discretize'],[7,'kmeans'],[8,'kmeans'],[5,'discretize'],[9,'discretize']]\n",
    "\n",
    "for i in best_combination:\n",
    "    model = SpectralClustering(n_clusters=i[0], assign_labels=i[1], random_state=0)\n",
    "    labels2 = model.fit(X).fit_predict(X)\n",
    "    \n",
    "    # Calculating extrinsic measures for each combination of hyperparameters\n",
    "    \n",
    "    fowlkes_mallows = fowlkes_mallows_score(y,labels2)\n",
    "    adjusted_rand = adjusted_rand_score(y,labels2)\n",
    "    mutual_info = mutual_info_score(y,labels2)\n",
    "    v_measure = v_measure_score(y,labels2)\n",
    "    homogeneity = homogeneity_score(y,labels2)\n",
    "    completeness = completeness_score(y,labels2)\n",
    "    \n",
    "    # Evaluating means of respective scores for each combination\n",
    "    \n",
    "    scores = [fowlkes_mallows + adjusted_rand + mutual_info + v_measure + homogeneity + completeness]\n",
    "    mean_scores = sum(scores)/len(scores)\n",
    "    print('Average of all scores for ' + str(i) + ' combination is ' + str(mean_scores))"
   ]
  },
  {
   "cell_type": "markdown",
   "id": "d88600ef",
   "metadata": {},
   "source": [
    "The best combination of hyperparameters in Spectral Clustering that gave the highest average metric score includes:\n",
    "\n",
    "number of clusters = 9, assign labels = 'discretize'"
   ]
  },
  {
   "cell_type": "markdown",
   "id": "d29ef5d0",
   "metadata": {},
   "source": [
    "### Bayesian Gaussian Mixture"
   ]
  },
  {
   "cell_type": "code",
   "execution_count": 112,
   "id": "8538aa77",
   "metadata": {},
   "outputs": [
    {
     "name": "stdout",
     "output_type": "stream",
     "text": [
      "Average of all scores for [2, 'full'] combination is 0.535249967229188\n",
      "Average of all scores for [3, 'tied'] combination is 1.0640821317346902\n",
      "Average of all scores for [4, 'diag'] combination is 0.7313973418107845\n",
      "Average of all scores for [5, 'spherical'] combination is 1.970048936974462\n",
      "Average of all scores for [6, 'full'] combination is 2.100909908879289\n",
      "Average of all scores for [7, 'spherical'] combination is 2.1164024859589725\n",
      "Average of all scores for [8, 'diag'] combination is 3.105951503096375\n"
     ]
    }
   ],
   "source": [
    "# Checking best combination of hyperparameters\n",
    "\n",
    "best_combination = [[2,'full'],[3,'tied'],[4,'diag'],[5,'spherical'],[6,'full'],[7, 'spherical'],[8, 'diag']]\n",
    "\n",
    "for i in best_combination:\n",
    "    model = BayesianGaussianMixture(n_components=i[0], covariance_type=i[1], random_state=0)\n",
    "    labels2 = model.fit(X).fit_predict(X)\n",
    "    \n",
    "    # Calculating extrinsic measures for each combination of hyperparameters\n",
    "    \n",
    "    fowlkes_mallows = fowlkes_mallows_score(y,labels2)\n",
    "    adjusted_rand = adjusted_rand_score(y,labels2)\n",
    "    mutual_info = mutual_info_score(y,labels2)\n",
    "    v_measure = v_measure_score(y,labels2)\n",
    "    homogeneity = homogeneity_score(y,labels2)\n",
    "    completeness = completeness_score(y,labels2)\n",
    "    \n",
    "    # Calculating extrinsic measures for each combination of hyperparameters\n",
    "    \n",
    "    scores = [fowlkes_mallows + adjusted_rand + mutual_info + v_measure + homogeneity + completeness]\n",
    "    mean_scores = sum(scores)/len(scores)\n",
    "    print('Average of all scores for ' + str(i) + ' combination is ' + str(mean_scores))"
   ]
  },
  {
   "cell_type": "markdown",
   "id": "1f299791",
   "metadata": {},
   "source": [
    "The best combination of hyperparameters in Bayesian Gaussian Mixture that gave the highest average metric score includes:\n",
    "\n",
    "number of components = 8, covariance type = 'diag'"
   ]
  },
  {
   "cell_type": "markdown",
   "id": "f422e7d9",
   "metadata": {},
   "source": [
    "### Gaussian Mixture Model"
   ]
  },
  {
   "cell_type": "code",
   "execution_count": 113,
   "id": "df6ff7f3",
   "metadata": {},
   "outputs": [
    {
     "name": "stdout",
     "output_type": "stream",
     "text": [
      "Average of all scores for [2, 'full'] combination is 0.535249967229188\n",
      "Average of all scores for [3, 'tied'] combination is 0.4509931579876162\n",
      "Average of all scores for [4, 'diag'] combination is 0.8649034404681017\n",
      "Average of all scores for [5, 'spherical'] combination is 1.970048936974462\n",
      "Average of all scores for [6, 'full'] combination is 2.100909908879289\n",
      "Average of all scores for [7, 'spherical'] combination is 2.093351627619255\n",
      "Average of all scores for [8, 'diag'] combination is 2.7049284889260345\n"
     ]
    }
   ],
   "source": [
    "# Checking best combination of hyperparameters\n",
    "\n",
    "best_combination = [[2,'full'],[3,'tied'],[4,'diag'],[5,'spherical'],[6,'full'],[7, 'spherical'],[8, 'diag']]\n",
    "\n",
    "for i in best_combination:\n",
    "    model = GaussianMixture(n_components=i[0], covariance_type=i[1], random_state=0)\n",
    "    labels2 = model.fit(X).fit_predict(X)\n",
    "    \n",
    "    # Calculating extrinsic measures for each combination of hyperparameters\n",
    "    \n",
    "    fowlkes_mallows = fowlkes_mallows_score(y,labels2)\n",
    "    adjusted_rand = adjusted_rand_score(y,labels2)\n",
    "    mutual_info = mutual_info_score(y,labels2)\n",
    "    v_measure = v_measure_score(y,labels2)\n",
    "    homogeneity = homogeneity_score(y,labels2)\n",
    "    completeness = completeness_score(y,labels2)\n",
    "    \n",
    "    # Evaluating means of respective scores for each combination\n",
    "    \n",
    "    scores = [fowlkes_mallows + adjusted_rand + mutual_info + v_measure + homogeneity + completeness]\n",
    "    mean_scores = sum(scores)/len(scores)\n",
    "    print('Average of all scores for ' + str(i) + ' combination is ' + str(mean_scores))"
   ]
  },
  {
   "cell_type": "markdown",
   "id": "09919b8c",
   "metadata": {},
   "source": [
    "The best combination of hyperparameters in Gaussian Mixture Model that gave the highest average metric score includes:\n",
    "\n",
    "number of components = 8, covariance type = 'diag'"
   ]
  },
  {
   "cell_type": "markdown",
   "id": "10e31c08",
   "metadata": {},
   "source": [
    "#### Analysis:\n",
    "\n",
    "1) It is observed that the Mini Batch KMeans outperforms GMM with highest average score, which shows that the Mini batch kmeans algorithm is better at accurately clustering and identifying patterns in the data. This could be due to the inherent structure of the data, the number of clusters, or the parameters used in the algorithms.\n",
    "\n",
    "2) It is observed that the GMM outperforms Agglomerative Clustering with highest average score, it suggests that the GMM is able to more accurately and effectively cluster the data into distinct groups. This may be due to the fact that the GMM is able to account for the uncertainty in the data, whereas the Agglomerative clustering approach may be more rigid in its grouping of the data.\n",
    "\n",
    "3) It is observed that the DBScan outperforms GMM with highest average score, which shows that DBScan is more accurately identifying clusters or has a lower error rate. This could be due to the nature of the data, the chosen distance metric, or the number of clusters being considered.\n",
    "\n",
    "4) It is observed that the OPTICS outperforms GMM with highest average score, which shows that OPTICS is more effective at clustering the data and finding meaningful patterns within it. This could be due to the fact that OPTICS is able to handle more complex and non-linear data structures, whereas GMM are limited to more simple, linear patterns.\n",
    "\n",
    "5) It is observed that the Affinity Propagation outperforms GMM with highest average score, which shows that Affinity propagation is a better model for the data at hand. This could be because Affinity propagation is able to more accurately cluster the data, or because it is able to more accurately predict the labels of the data points.\n",
    "\n",
    "6) It is observed that the GMM outperforms Spectral Clustering with highest average score, which shows that the GMM is a better fit for the given data and produces more accurate or effective clustering results. This may be due to the GMM's ability to handle mixed data types and account for uncertainty in the data, or because it is more robust to noise or outliers in the data.\n",
    "\n",
    "7) It is observed that the Bayesian GMM outperforms GMM with highest average score, which shows that the Bayesian version may be slightly more effective in accurately identifying patterns and classifying data points within the dataset. This could be due to the Bayesian model's ability to incorporate prior knowledge and incorporate uncertainties in its predictions, which may lead to more accurate and robust results."
   ]
  },
  {
   "cell_type": "markdown",
   "id": "797082ea",
   "metadata": {},
   "source": [
    "### Parameter changes:"
   ]
  },
  {
   "cell_type": "markdown",
   "id": "baab5ce1",
   "metadata": {},
   "source": [
    "#### (1) Based on number of components"
   ]
  },
  {
   "cell_type": "code",
   "execution_count": 114,
   "id": "7c6afb00",
   "metadata": {},
   "outputs": [
    {
     "name": "stdout",
     "output_type": "stream",
     "text": [
      "Average of all scores for 2 components is 0.535249967229188\n",
      "Average of all scores for 3 components is 0.45573427767144814\n",
      "Average of all scores for 4 components is 0.7357045291282702\n",
      "Average of all scores for 5 components is 1.5251761604327645\n",
      "Average of all scores for 6 components is 2.100909908879289\n",
      "Average of all scores for 7 components is 2.7811631152525167\n"
     ]
    }
   ],
   "source": [
    "# Changing number of components to obtain the best value\n",
    "\n",
    "number_of_components = [2,3,4,5,6,7]\n",
    "\n",
    "for i in number_of_components:\n",
    "    model = GaussianMixture(n_components=i, covariance_type='full', reg_covar=1e-6, random_state=0)\n",
    "    labels2 = model.fit(X).fit_predict(X)\n",
    "    \n",
    "    # Calculating extrinsic measures for each value of number of components\n",
    "\n",
    "    fowlkes_mallows = fowlkes_mallows_score(y,labels2)\n",
    "    adjusted_rand = adjusted_rand_score(y,labels2)\n",
    "    mutual_info = mutual_info_score(y,labels2)\n",
    "    v_measure = v_measure_score(y,labels2)\n",
    "    homogeneity = homogeneity_score(y,labels2)\n",
    "    completeness = completeness_score(y,labels2)\n",
    "    \n",
    "    # Evaluating means of respective scores for each value of number of components\n",
    "\n",
    "    scores = [fowlkes_mallows + adjusted_rand + mutual_info + v_measure + homogeneity + completeness]\n",
    "    mean_scores = sum(scores)/len(scores)\n",
    "    print('Average of all scores for ' + str(i) + ' components is ' + str(mean_scores))"
   ]
  },
  {
   "cell_type": "markdown",
   "id": "276f0159",
   "metadata": {},
   "source": [
    "Upon increasing and decreasing the number of components parameter in GMM, it is observed that the best score is obtained when the number of components are 7. This suggests that the data may be best represented by a mixture of 7 different Gaussian distributions. This may indicate that the data has multiple underlying patterns or clusters, rather than a single homogenous group."
   ]
  },
  {
   "cell_type": "markdown",
   "id": "8351e749",
   "metadata": {},
   "source": [
    "#### (2) Based on covariance type"
   ]
  },
  {
   "cell_type": "code",
   "execution_count": 115,
   "id": "4bbf3b52",
   "metadata": {},
   "outputs": [
    {
     "name": "stdout",
     "output_type": "stream",
     "text": [
      "Average of all scores for full covariance type is 0.535249967229188\n",
      "Average of all scores for tied covariance type is 0.6575865188240648\n",
      "Average of all scores for diag covariance type is 0.9164479492262471\n",
      "Average of all scores for spherical covariance type is 0.5946152792822742\n"
     ]
    }
   ],
   "source": [
    "# Changing covariance type to obtain the best value\n",
    "\n",
    "type_of_covariance = ['full', 'tied', 'diag', 'spherical']\n",
    "\n",
    "for i in type_of_covariance:\n",
    "    model = GaussianMixture(n_components=2, covariance_type=i, reg_covar=1e-6, random_state=0)\n",
    "    labels2 = model.fit(X).fit_predict(X)\n",
    "    \n",
    "    # Calculating extrinsic measures for each covariance type\n",
    "\n",
    "    fowlkes_mallows = fowlkes_mallows_score(y,labels2)\n",
    "    adjusted_rand = adjusted_rand_score(y,labels2)\n",
    "    mutual_info = mutual_info_score(y,labels2)\n",
    "    v_measure = v_measure_score(y,labels2)\n",
    "    homogeneity = homogeneity_score(y,labels2)\n",
    "    completeness = completeness_score(y,labels2)\n",
    "    \n",
    "    # Evaluating means of respective scores for each covariance type\n",
    "\n",
    "    scores = [fowlkes_mallows + adjusted_rand + mutual_info + v_measure + homogeneity + completeness]\n",
    "    mean_scores = sum(scores)/len(scores)\n",
    "    print('Average of all scores for ' + str(i) + ' covariance type is ' + str(mean_scores))"
   ]
  },
  {
   "cell_type": "markdown",
   "id": "9a0955fb",
   "metadata": {},
   "source": [
    "Upon changing the type of covariance parameter in GMM, it is observed that the best score is obtained when the covariance type is 'diag'. This suggests that the data may be more effectively modeled with a diagonal covariance matrix rather than a full or spherical covariance matrix. This may indicate that the data has some degree of independence between the different features, as the diagonal covariance matrix assumes that the features are uncorrelated."
   ]
  },
  {
   "cell_type": "markdown",
   "id": "134f5350",
   "metadata": {},
   "source": [
    "#### (3) Based on regularization of covariance"
   ]
  },
  {
   "cell_type": "code",
   "execution_count": 116,
   "id": "722d4f6d",
   "metadata": {},
   "outputs": [
    {
     "name": "stdout",
     "output_type": "stream",
     "text": [
      "Average of all scores for regularized covariance of 1e-06 is 0.535249967229188\n",
      "Average of all scores for regularized covariance of 0.5 is 0.5874869777202333\n",
      "Average of all scores for regularized covariance of 1.5 is 0.7363426413007261\n",
      "Average of all scores for regularized covariance of 3 is 0.9164479492262471\n",
      "Average of all scores for regularized covariance of 5 is 1.7612090726840086\n"
     ]
    }
   ],
   "source": [
    "# Changing the value of regularized covariance to obtain the best value\n",
    "\n",
    "regularization_covariance = [1e-6, 0.5, 1.5, 3, 5]\n",
    "\n",
    "for i in regularization_covariance:\n",
    "    model = GaussianMixture(n_components=2, covariance_type='full', reg_covar=i, random_state=0)\n",
    "    labels2 = model.fit(X).fit_predict(X)\n",
    "    \n",
    "    # Calculating extrinsic measures for each value of regularized covariance\n",
    "\n",
    "    fowlkes_mallows = fowlkes_mallows_score(y,labels2)\n",
    "    adjusted_rand = adjusted_rand_score(y,labels2)\n",
    "    mutual_info = mutual_info_score(y,labels2)\n",
    "    v_measure = v_measure_score(y,labels2)\n",
    "    homogeneity = homogeneity_score(y,labels2)\n",
    "    completeness = completeness_score(y,labels2)\n",
    "    \n",
    "    # Evaluating means of respective scores for each value of regularized covariance\n",
    "\n",
    "    scores = [fowlkes_mallows + adjusted_rand + mutual_info + v_measure + homogeneity + completeness]\n",
    "    mean_scores = sum(scores)/len(scores)\n",
    "    print('Average of all scores for ' + 'regularized covariance of ' + str(i) + ' is ' + str(mean_scores))"
   ]
  },
  {
   "cell_type": "markdown",
   "id": "95743e85",
   "metadata": {},
   "source": [
    "Upon increasing and decreasing the regularized covariance in GMM, it is observed that the best score is obtained when the value is 5. This may indicate that there is some level of complexity in the data that requires a higher level of regularization in order to accurately model the data. It may also suggest that the model is less prone to overfitting when the regularization parameter is set to this value."
   ]
  },
  {
   "cell_type": "markdown",
   "id": "ffb16e55",
   "metadata": {},
   "source": [
    "## Dataset 06: Travel Reviews Dataset"
   ]
  },
  {
   "cell_type": "markdown",
   "id": "5a6cefaa",
   "metadata": {},
   "source": [
    "This dataset contains reviews on destinations in 10 categories mentioned across East Asia. Each traveler rating is mapped as Excellent(4), Very Good(3), Average(2), Poor(1), and Terrible(0) and average rating is used against each category per user. The data contains 980 rows and 11 columns."
   ]
  },
  {
   "cell_type": "code",
   "execution_count": 176,
   "id": "de0601cf",
   "metadata": {},
   "outputs": [
    {
     "data": {
      "text/html": [
       "<div>\n",
       "<style scoped>\n",
       "    .dataframe tbody tr th:only-of-type {\n",
       "        vertical-align: middle;\n",
       "    }\n",
       "\n",
       "    .dataframe tbody tr th {\n",
       "        vertical-align: top;\n",
       "    }\n",
       "\n",
       "    .dataframe thead th {\n",
       "        text-align: right;\n",
       "    }\n",
       "</style>\n",
       "<table border=\"1\" class=\"dataframe\">\n",
       "  <thead>\n",
       "    <tr style=\"text-align: right;\">\n",
       "      <th></th>\n",
       "      <th>User ID</th>\n",
       "      <th>Category 1</th>\n",
       "      <th>Category 2</th>\n",
       "      <th>Category 3</th>\n",
       "      <th>Category 4</th>\n",
       "      <th>Category 5</th>\n",
       "      <th>Category 6</th>\n",
       "      <th>Category 7</th>\n",
       "      <th>Category 8</th>\n",
       "      <th>Category 9</th>\n",
       "      <th>Category 10</th>\n",
       "    </tr>\n",
       "  </thead>\n",
       "  <tbody>\n",
       "    <tr>\n",
       "      <th>0</th>\n",
       "      <td>User 1</td>\n",
       "      <td>0.93</td>\n",
       "      <td>1.8</td>\n",
       "      <td>2.29</td>\n",
       "      <td>0.62</td>\n",
       "      <td>0.80</td>\n",
       "      <td>2.42</td>\n",
       "      <td>3.19</td>\n",
       "      <td>2.79</td>\n",
       "      <td>1.82</td>\n",
       "      <td>2.42</td>\n",
       "    </tr>\n",
       "    <tr>\n",
       "      <th>1</th>\n",
       "      <td>User 2</td>\n",
       "      <td>1.02</td>\n",
       "      <td>2.2</td>\n",
       "      <td>2.66</td>\n",
       "      <td>0.64</td>\n",
       "      <td>1.42</td>\n",
       "      <td>3.18</td>\n",
       "      <td>3.21</td>\n",
       "      <td>2.63</td>\n",
       "      <td>1.86</td>\n",
       "      <td>2.32</td>\n",
       "    </tr>\n",
       "    <tr>\n",
       "      <th>2</th>\n",
       "      <td>User 3</td>\n",
       "      <td>1.22</td>\n",
       "      <td>0.8</td>\n",
       "      <td>0.54</td>\n",
       "      <td>0.53</td>\n",
       "      <td>0.24</td>\n",
       "      <td>1.54</td>\n",
       "      <td>3.18</td>\n",
       "      <td>2.80</td>\n",
       "      <td>1.31</td>\n",
       "      <td>2.50</td>\n",
       "    </tr>\n",
       "    <tr>\n",
       "      <th>3</th>\n",
       "      <td>User 4</td>\n",
       "      <td>0.45</td>\n",
       "      <td>1.8</td>\n",
       "      <td>0.29</td>\n",
       "      <td>0.57</td>\n",
       "      <td>0.46</td>\n",
       "      <td>1.52</td>\n",
       "      <td>3.18</td>\n",
       "      <td>2.96</td>\n",
       "      <td>1.57</td>\n",
       "      <td>2.86</td>\n",
       "    </tr>\n",
       "    <tr>\n",
       "      <th>4</th>\n",
       "      <td>User 5</td>\n",
       "      <td>0.51</td>\n",
       "      <td>1.2</td>\n",
       "      <td>1.18</td>\n",
       "      <td>0.57</td>\n",
       "      <td>1.54</td>\n",
       "      <td>2.02</td>\n",
       "      <td>3.18</td>\n",
       "      <td>2.78</td>\n",
       "      <td>1.18</td>\n",
       "      <td>2.54</td>\n",
       "    </tr>\n",
       "  </tbody>\n",
       "</table>\n",
       "</div>"
      ],
      "text/plain": [
       "  User ID  Category 1  Category 2  Category 3  Category 4  Category 5  \\\n",
       "0  User 1        0.93         1.8        2.29        0.62        0.80   \n",
       "1  User 2        1.02         2.2        2.66        0.64        1.42   \n",
       "2  User 3        1.22         0.8        0.54        0.53        0.24   \n",
       "3  User 4        0.45         1.8        0.29        0.57        0.46   \n",
       "4  User 5        0.51         1.2        1.18        0.57        1.54   \n",
       "\n",
       "   Category 6  Category 7  Category 8  Category 9  Category 10  \n",
       "0        2.42        3.19        2.79        1.82         2.42  \n",
       "1        3.18        3.21        2.63        1.86         2.32  \n",
       "2        1.54        3.18        2.80        1.31         2.50  \n",
       "3        1.52        3.18        2.96        1.57         2.86  \n",
       "4        2.02        3.18        2.78        1.18         2.54  "
      ]
     },
     "execution_count": 176,
     "metadata": {},
     "output_type": "execute_result"
    }
   ],
   "source": [
    "# Loading the dataset\n",
    "\n",
    "df6 = pd.read_csv('Classification/tripadvisor_review.csv')\n",
    "df6.head()"
   ]
  },
  {
   "cell_type": "code",
   "execution_count": 177,
   "id": "e4e0dcbd",
   "metadata": {},
   "outputs": [
    {
     "data": {
      "text/plain": [
       "(980, 11)"
      ]
     },
     "execution_count": 177,
     "metadata": {},
     "output_type": "execute_result"
    }
   ],
   "source": [
    "# Data shape\n",
    "\n",
    "df6.shape"
   ]
  },
  {
   "cell_type": "code",
   "execution_count": 178,
   "id": "c36526e5",
   "metadata": {},
   "outputs": [
    {
     "data": {
      "text/plain": [
       "0"
      ]
     },
     "execution_count": 178,
     "metadata": {},
     "output_type": "execute_result"
    }
   ],
   "source": [
    "# Checking null values\n",
    "\n",
    "df6.isna().sum().sum()"
   ]
  },
  {
   "cell_type": "code",
   "execution_count": 179,
   "id": "e714159a",
   "metadata": {},
   "outputs": [],
   "source": [
    "# Converting string columns to integer\n",
    "\n",
    "for i in df6.select_dtypes(include=[object]).columns:\n",
    "    df6[i] = pd.factorize(df6[i])[0] + 1\n",
    "\n",
    "# Normalizing the data \n",
    "\n",
    "ss=StandardScaler()\n",
    "for i in df6.columns:\n",
    "    df6[i] = ss.fit_transform(df6[[i]])\n",
    "\n",
    "# Splitting into X and y columns\n",
    "\n",
    "X = df6.drop(columns = ['Category 10'])\n",
    "y = df6['Category 10']"
   ]
  },
  {
   "cell_type": "code",
   "execution_count": 121,
   "id": "3b8a1556",
   "metadata": {},
   "outputs": [
    {
     "name": "stdout",
     "output_type": "stream",
     "text": [
      "For MiniBatchKMeans, the ideal number of clusters are  7\n",
      "Based on dendrogram, the ideal number of clusters are  2\n"
     ]
    },
    {
     "data": {
      "image/png": "[encoded data removed]",
      "text/plain": [
       "<Figure size 1440x432 with 3 Axes>"
      ]
     },
     "metadata": {},
     "output_type": "display_data"
    }
   ],
   "source": [
    "# Calling function to create elbow curve and dendrogram\n",
    "\n",
    "elbow_curve_and_dendrogram(df6, 7, 100, 2)"
   ]
  },
  {
   "cell_type": "code",
   "execution_count": 122,
   "id": "c310fe61",
   "metadata": {},
   "outputs": [
    {
     "data": {
      "text/html": [
       "<div>\n",
       "<style scoped>\n",
       "    .dataframe tbody tr th:only-of-type {\n",
       "        vertical-align: middle;\n",
       "    }\n",
       "\n",
       "    .dataframe tbody tr th {\n",
       "        vertical-align: top;\n",
       "    }\n",
       "\n",
       "    .dataframe thead th {\n",
       "        text-align: right;\n",
       "    }\n",
       "</style>\n",
       "<table border=\"1\" class=\"dataframe\">\n",
       "  <thead>\n",
       "    <tr style=\"text-align: right;\">\n",
       "      <th></th>\n",
       "      <th>silhouette_score</th>\n",
       "      <th>davies_bouldin_score</th>\n",
       "      <th>fowlkes_mallows_score</th>\n",
       "      <th>adjusted_rand_score</th>\n",
       "      <th>mutual_info_score</th>\n",
       "      <th>v_measure_score</th>\n",
       "      <th>homogeneity_score</th>\n",
       "      <th>completeness_score</th>\n",
       "    </tr>\n",
       "  </thead>\n",
       "  <tbody>\n",
       "    <tr>\n",
       "      <th>MiniBatchKMeans</th>\n",
       "      <td>0.099167</td>\n",
       "      <td>2.086940</td>\n",
       "      <td>0.090583</td>\n",
       "      <td>0.017145</td>\n",
       "      <td>0.403577</td>\n",
       "      <td>0.144691</td>\n",
       "      <td>0.107734</td>\n",
       "      <td>0.220245</td>\n",
       "    </tr>\n",
       "    <tr>\n",
       "      <th>AgglomerativeClustering</th>\n",
       "      <td>0.182018</td>\n",
       "      <td>1.975458</td>\n",
       "      <td>0.143031</td>\n",
       "      <td>0.010060</td>\n",
       "      <td>0.211497</td>\n",
       "      <td>0.096528</td>\n",
       "      <td>0.056459</td>\n",
       "      <td>0.332521</td>\n",
       "    </tr>\n",
       "    <tr>\n",
       "      <th>DBSCAN</th>\n",
       "      <td>0.425830</td>\n",
       "      <td>1.997342</td>\n",
       "      <td>0.157748</td>\n",
       "      <td>-0.000193</td>\n",
       "      <td>0.019701</td>\n",
       "      <td>0.010301</td>\n",
       "      <td>0.005259</td>\n",
       "      <td>0.248877</td>\n",
       "    </tr>\n",
       "    <tr>\n",
       "      <th>OPTICS</th>\n",
       "      <td>-0.283597</td>\n",
       "      <td>1.591408</td>\n",
       "      <td>0.146623</td>\n",
       "      <td>-0.000613</td>\n",
       "      <td>0.158888</td>\n",
       "      <td>0.075748</td>\n",
       "      <td>0.042415</td>\n",
       "      <td>0.353777</td>\n",
       "    </tr>\n",
       "    <tr>\n",
       "      <th>Spectral Clustering</th>\n",
       "      <td>0.431849</td>\n",
       "      <td>0.980920</td>\n",
       "      <td>0.155472</td>\n",
       "      <td>-0.000796</td>\n",
       "      <td>0.026983</td>\n",
       "      <td>0.014062</td>\n",
       "      <td>0.007203</td>\n",
       "      <td>0.294528</td>\n",
       "    </tr>\n",
       "    <tr>\n",
       "      <th>Affinity Propagation</th>\n",
       "      <td>0.103215</td>\n",
       "      <td>1.580660</td>\n",
       "      <td>0.042682</td>\n",
       "      <td>0.022238</td>\n",
       "      <td>1.498444</td>\n",
       "      <td>0.378400</td>\n",
       "      <td>0.400006</td>\n",
       "      <td>0.359009</td>\n",
       "    </tr>\n",
       "  </tbody>\n",
       "</table>\n",
       "</div>"
      ],
      "text/plain": [
       "                         silhouette_score  davies_bouldin_score  \\\n",
       "MiniBatchKMeans                  0.099167              2.086940   \n",
       "AgglomerativeClustering          0.182018              1.975458   \n",
       "DBSCAN                           0.425830              1.997342   \n",
       "OPTICS                          -0.283597              1.591408   \n",
       "Spectral Clustering              0.431849              0.980920   \n",
       "Affinity Propagation             0.103215              1.580660   \n",
       "\n",
       "                         fowlkes_mallows_score  adjusted_rand_score  \\\n",
       "MiniBatchKMeans                       0.090583             0.017145   \n",
       "AgglomerativeClustering               0.143031             0.010060   \n",
       "DBSCAN                                0.157748            -0.000193   \n",
       "OPTICS                                0.146623            -0.000613   \n",
       "Spectral Clustering                   0.155472            -0.000796   \n",
       "Affinity Propagation                  0.042682             0.022238   \n",
       "\n",
       "                         mutual_info_score  v_measure_score  \\\n",
       "MiniBatchKMeans                   0.403577         0.144691   \n",
       "AgglomerativeClustering           0.211497         0.096528   \n",
       "DBSCAN                            0.019701         0.010301   \n",
       "OPTICS                            0.158888         0.075748   \n",
       "Spectral Clustering               0.026983         0.014062   \n",
       "Affinity Propagation              1.498444         0.378400   \n",
       "\n",
       "                         homogeneity_score  completeness_score  \n",
       "MiniBatchKMeans                   0.107734            0.220245  \n",
       "AgglomerativeClustering           0.056459            0.332521  \n",
       "DBSCAN                            0.005259            0.248877  \n",
       "OPTICS                            0.042415            0.353777  \n",
       "Spectral Clustering               0.007203            0.294528  \n",
       "Affinity Propagation              0.400006            0.359009  "
      ]
     },
     "execution_count": 122,
     "metadata": {},
     "output_type": "execute_result"
    }
   ],
   "source": [
    "# Calling function to create a dataframe of metric scores for six clustering algorithms\n",
    "\n",
    "evaluation_matrix(df6, X, y, elbow_best_value, 2, 100, 3, 5, 2, 'discretize', 0.8, 500, 'euclidean')"
   ]
  },
  {
   "cell_type": "code",
   "execution_count": 123,
   "id": "07e00bbc",
   "metadata": {},
   "outputs": [
    {
     "data": {
      "text/html": [
       "<div>\n",
       "<style scoped>\n",
       "    .dataframe tbody tr th:only-of-type {\n",
       "        vertical-align: middle;\n",
       "    }\n",
       "\n",
       "    .dataframe tbody tr th {\n",
       "        vertical-align: top;\n",
       "    }\n",
       "\n",
       "    .dataframe thead th {\n",
       "        text-align: right;\n",
       "    }\n",
       "</style>\n",
       "<table border=\"1\" class=\"dataframe\">\n",
       "  <thead>\n",
       "    <tr style=\"text-align: right;\">\n",
       "      <th></th>\n",
       "      <th>fowlkes_mallows_score</th>\n",
       "      <th>adjusted_rand_score</th>\n",
       "      <th>mutual_info_score</th>\n",
       "      <th>v_measure_score</th>\n",
       "      <th>homogeneity_score</th>\n",
       "      <th>completeness_score</th>\n",
       "    </tr>\n",
       "  </thead>\n",
       "  <tbody>\n",
       "    <tr>\n",
       "      <th>Bayesian Gaussian Mixture</th>\n",
       "      <td>0.141725</td>\n",
       "      <td>-0.000416</td>\n",
       "      <td>0.054283</td>\n",
       "      <td>0.026404</td>\n",
       "      <td>0.014491</td>\n",
       "      <td>0.148435</td>\n",
       "    </tr>\n",
       "    <tr>\n",
       "      <th>Gaussian Mixture</th>\n",
       "      <td>0.140241</td>\n",
       "      <td>-0.000146</td>\n",
       "      <td>0.055592</td>\n",
       "      <td>0.026836</td>\n",
       "      <td>0.014840</td>\n",
       "      <td>0.139993</td>\n",
       "    </tr>\n",
       "  </tbody>\n",
       "</table>\n",
       "</div>"
      ],
      "text/plain": [
       "                           fowlkes_mallows_score  adjusted_rand_score  \\\n",
       "Bayesian Gaussian Mixture               0.141725            -0.000416   \n",
       "Gaussian Mixture                        0.140241            -0.000146   \n",
       "\n",
       "                           mutual_info_score  v_measure_score  \\\n",
       "Bayesian Gaussian Mixture           0.054283         0.026404   \n",
       "Gaussian Mixture                    0.055592         0.026836   \n",
       "\n",
       "                           homogeneity_score  completeness_score  \n",
       "Bayesian Gaussian Mixture           0.014491            0.148435  \n",
       "Gaussian Mixture                    0.014840            0.139993  "
      ]
     },
     "execution_count": 123,
     "metadata": {},
     "output_type": "execute_result"
    }
   ],
   "source": [
    "# Calling function to create a dataframe of metric scores for GMM and Bayesian GMM\n",
    "\n",
    "bayesian_and_gaussian(df6, X, y, 2, 'full', 1e-6)"
   ]
  },
  {
   "cell_type": "markdown",
   "id": "26ec2acd",
   "metadata": {},
   "source": [
    "## Hyperparameter Selection"
   ]
  },
  {
   "cell_type": "markdown",
   "id": "f2c82394",
   "metadata": {},
   "source": [
    "### Mini Batch KMeans"
   ]
  },
  {
   "cell_type": "code",
   "execution_count": 124,
   "id": "da729fbb",
   "metadata": {},
   "outputs": [
    {
     "name": "stdout",
     "output_type": "stream",
     "text": [
      "Average of all scores for [5, 50] combination is 0.9251387818744169\n",
      "Average of all scores for [6, 100] combination is 0.9824081394553874\n",
      "Average of all scores for [7, 50] combination is 0.9844710547666333\n",
      "Average of all scores for [8, 75] combination is 1.049305991010344\n",
      "Average of all scores for [8, 100] combination is 0.9821136279176623\n"
     ]
    }
   ],
   "source": [
    "# Checking best combination of hyperparameters\n",
    "\n",
    "best_combination = [[5,50],[6,100],[7,50],[8,75],[8,100]]\n",
    "\n",
    "for i in best_combination:\n",
    "    model = MiniBatchKMeans(n_clusters=i[0], random_state=0, batch_size=i[1])\n",
    "    labels2 = model.fit(X).predict(X)\n",
    "    \n",
    "    # Calculating extrinsic measures for each combination of hyperparameters\n",
    "    \n",
    "    fowlkes_mallows = fowlkes_mallows_score(y,labels2)\n",
    "    adjusted_rand = adjusted_rand_score(y,labels2)\n",
    "    mutual_info = mutual_info_score(y,labels2)\n",
    "    v_measure = v_measure_score(y,labels2)\n",
    "    homogeneity = homogeneity_score(y,labels2)\n",
    "    completeness = completeness_score(y,labels2)\n",
    "    \n",
    "    # Evaluating means of respective scores for each combination\n",
    "    \n",
    "    scores = [fowlkes_mallows + adjusted_rand + mutual_info + v_measure + homogeneity + completeness]\n",
    "    mean_scores = sum(scores)/len(scores)\n",
    "    print('Average of all scores for ' + str(i) + ' combination is ' + str(mean_scores))"
   ]
  },
  {
   "cell_type": "markdown",
   "id": "1e6049d8",
   "metadata": {},
   "source": [
    "The best combination of hyperparameters in Mini Batch KMeans which gave the highest average metric score includes:\n",
    "\n",
    "number of clusters = 8, batch size = 75 "
   ]
  },
  {
   "cell_type": "markdown",
   "id": "3a3a4e6f",
   "metadata": {},
   "source": [
    "### Agglomerative Clustering"
   ]
  },
  {
   "cell_type": "code",
   "execution_count": 125,
   "id": "2e50ed44",
   "metadata": {},
   "outputs": [
    {
     "name": "stdout",
     "output_type": "stream",
     "text": [
      "Average of all scores for 2 clusters is 0.8500963952696411\n",
      "Average of all scores for 3 clusters is 0.860239991607578\n",
      "Average of all scores for 4 clusters is 0.856923227111015\n",
      "Average of all scores for 5 clusters is 0.9336879315032565\n",
      "Average of all scores for 6 clusters is 0.9704852093625982\n",
      "Average of all scores for 7 clusters is 1.0428021464119\n",
      "Average of all scores for 8 clusters is 1.0613152640678891\n"
     ]
    }
   ],
   "source": [
    "# Checking best value of cluster\n",
    "\n",
    "best_combination = [2,3,4,5,6,7,8]\n",
    "\n",
    "for i in best_combination:\n",
    "    model = AgglomerativeClustering(n_clusters=i)\n",
    "    labels2 = model.fit(X).fit_predict(X)\n",
    "    \n",
    "    # Calculating extrinsic measures for each cluster value\n",
    "    \n",
    "    fowlkes_mallows = fowlkes_mallows_score(y,labels2)\n",
    "    adjusted_rand = adjusted_rand_score(y,labels2)\n",
    "    mutual_info = mutual_info_score(y,labels2)\n",
    "    v_measure = v_measure_score(y,labels2)\n",
    "    homogeneity = homogeneity_score(y,labels2)\n",
    "    completeness = completeness_score(y,labels2)\n",
    "    \n",
    "    # Evaluating means of respective scores for each cluster\n",
    "\n",
    "    scores = [fowlkes_mallows + adjusted_rand + mutual_info + v_measure + homogeneity + completeness]\n",
    "    mean_scores = sum(scores)/len(scores)\n",
    "    print('Average of all scores for ' + str(i) + ' clusters is ' + str(mean_scores))"
   ]
  },
  {
   "cell_type": "markdown",
   "id": "df786a52",
   "metadata": {},
   "source": [
    "The best value of number of clusters in Agglomerative Clustering is 8, which gave the highest average metric score."
   ]
  },
  {
   "cell_type": "markdown",
   "id": "b43b7005",
   "metadata": {},
   "source": [
    "### DBScan"
   ]
  },
  {
   "cell_type": "code",
   "execution_count": 126,
   "id": "5011f8ea",
   "metadata": {},
   "outputs": [
    {
     "name": "stdout",
     "output_type": "stream",
     "text": [
      "Average of all scores for [0.7, 1] combination is 5.992941421979577\n",
      "Average of all scores for [1, 2] combination is 1.711762600359576\n",
      "Average of all scores for [2, 4] combination is 0.5393896429830515\n",
      "Average of all scores for [3, 5] combination is 0.44169276577141225\n",
      "Average of all scores for [5, 7] combination is 1.1607696047602378\n"
     ]
    }
   ],
   "source": [
    "# Checking best combination of hyperparameters\n",
    "\n",
    "best_combination = [[0.7,1],[1,2],[2,4],[3,5],[5,7]]\n",
    "\n",
    "for i in best_combination:\n",
    "    model = DBSCAN(eps=i[0], min_samples=i[1])\n",
    "    labels2 = model.fit(X).fit_predict(X)\n",
    "    \n",
    "    # Calculating extrinsic measures for each combination of hyperparameters\n",
    "    \n",
    "    fowlkes_mallows = fowlkes_mallows_score(y,labels2)\n",
    "    adjusted_rand = adjusted_rand_score(y,labels2)\n",
    "    mutual_info = mutual_info_score(y,labels2)\n",
    "    v_measure = v_measure_score(y,labels2)\n",
    "    homogeneity = homogeneity_score(y,labels2)\n",
    "    completeness = completeness_score(y,labels2)\n",
    "    \n",
    "    # Evaluating means of respective scores for each combination\n",
    "    \n",
    "    scores = [fowlkes_mallows + adjusted_rand + mutual_info + v_measure + homogeneity + completeness]\n",
    "    mean_scores = sum(scores)/len(scores)\n",
    "    print('Average of all scores for ' + str(i) + ' combination is ' + str(mean_scores))"
   ]
  },
  {
   "cell_type": "markdown",
   "id": "6f242f08",
   "metadata": {},
   "source": [
    "The best combination of hyperparameters in DBScan which gave the highest average metric score includes:\n",
    "\n",
    "maximum distance between two samples (eps) = 0.7, minimum number of samples = 1 "
   ]
  },
  {
   "cell_type": "markdown",
   "id": "3591cd5f",
   "metadata": {},
   "source": [
    "### OPTICS"
   ]
  },
  {
   "cell_type": "code",
   "execution_count": 127,
   "id": "d047e319",
   "metadata": {},
   "outputs": [
    {
     "name": "stdout",
     "output_type": "stream",
     "text": [
      "Average of all scores for 1 samples is 1.1607696047602378\n",
      "Average of all scores for 2 samples is 2.816600629748442\n",
      "Average of all scores for 3 samples is 1.5710314311470048\n",
      "Average of all scores for 4 samples is 0.944442177410195\n",
      "Average of all scores for 5 samples is 0.776837867299771\n",
      "Average of all scores for 6 samples is 0.731203819523641\n"
     ]
    }
   ],
   "source": [
    "# Checking best value of minimum number of samples\n",
    "\n",
    "best_combination = [1,2,3,4,5,6]\n",
    "\n",
    "for i in best_combination:\n",
    "    model = OPTICS(min_samples=i)\n",
    "    labels2 = model.fit(X).fit_predict(X)\n",
    "    \n",
    "    # Calculating extrinsic measures for each value of minimum samples\n",
    "    \n",
    "    fowlkes_mallows = fowlkes_mallows_score(y,labels2)\n",
    "    adjusted_rand = adjusted_rand_score(y,labels2)\n",
    "    mutual_info = mutual_info_score(y,labels2)\n",
    "    v_measure = v_measure_score(y,labels2)\n",
    "    homogeneity = homogeneity_score(y,labels2)\n",
    "    completeness = completeness_score(y,labels2)\n",
    "    \n",
    "    # Evaluating means of respective scores for each value of minimum samples\n",
    "    \n",
    "    scores = [fowlkes_mallows + adjusted_rand + mutual_info + v_measure + homogeneity + completeness]\n",
    "    mean_scores = sum(scores)/len(scores)\n",
    "    print('Average of all scores for ' + str(i) + ' samples is ' + str(mean_scores))"
   ]
  },
  {
   "cell_type": "markdown",
   "id": "086e7b9c",
   "metadata": {},
   "source": [
    "The best value of minimum number of samples in OPTICS is 2, which gave the highest average metric score."
   ]
  },
  {
   "cell_type": "markdown",
   "id": "ec5ac10a",
   "metadata": {},
   "source": [
    "### Affinity Propagation"
   ]
  },
  {
   "cell_type": "code",
   "execution_count": 128,
   "id": "9fe616f4",
   "metadata": {},
   "outputs": [
    {
     "name": "stdout",
     "output_type": "stream",
     "text": [
      "Average of all scores for [0.5, 200] combination is 2.7145976496905635\n",
      "Average of all scores for [0.6, 300] combination is 2.6873760559926216\n",
      "Average of all scores for [0.7, 400] combination is 2.668565948062697\n",
      "Average of all scores for [0.8, 200] combination is 2.7007780973454967\n",
      "Average of all scores for [0.9, 500] combination is 2.7007780973454967\n"
     ]
    }
   ],
   "source": [
    "# Checking best combination of hyperparameters\n",
    "\n",
    "best_combination = [[0.5,200],[0.6,300],[0.7,400],[0.8,200],[0.9,500]]\n",
    "\n",
    "for i in best_combination:\n",
    "    model = AffinityPropagation(damping=i[0], max_iter=i[1], affinity=\"euclidean\", random_state=0)\n",
    "    labels2 = model.fit(X).fit_predict(X)\n",
    "    \n",
    "    # Calculating extrinsic measures for each combination of hyperparameters\n",
    "    \n",
    "    fowlkes_mallows = fowlkes_mallows_score(y,labels2)\n",
    "    adjusted_rand = adjusted_rand_score(y,labels2)\n",
    "    mutual_info = mutual_info_score(y,labels2)\n",
    "    v_measure = v_measure_score(y,labels2)\n",
    "    homogeneity = homogeneity_score(y,labels2)\n",
    "    completeness = completeness_score(y,labels2)\n",
    "    \n",
    "    # Evaluating means of respective scores for each combination\n",
    "\n",
    "    scores = [fowlkes_mallows + adjusted_rand + mutual_info + v_measure + homogeneity + completeness]\n",
    "    mean_scores = sum(scores)/len(scores)\n",
    "    print('Average of all scores for ' + str(i) + ' combination is ' + str(mean_scores))"
   ]
  },
  {
   "cell_type": "markdown",
   "id": "d14d01b3",
   "metadata": {},
   "source": [
    "The best combinations of hyperparameters in Affinity Propagation which gave the highest average metric scores:\n",
    "\n",
    "damping value = 0.5, maximum iterations = 200"
   ]
  },
  {
   "cell_type": "markdown",
   "id": "fa69eb8f",
   "metadata": {},
   "source": [
    "### Spectral Clustering"
   ]
  },
  {
   "cell_type": "code",
   "execution_count": 129,
   "id": "751b866e",
   "metadata": {},
   "outputs": [
    {
     "name": "stdout",
     "output_type": "stream",
     "text": [
      "Average of all scores for [6, 'discretize'] combination is 0.6252352629560597\n",
      "Average of all scores for [7, 'kmeans'] combination is 0.6259492312972383\n",
      "Average of all scores for [8, 'kmeans'] combination is 0.6126555733357177\n",
      "Average of all scores for [5, 'discretize'] combination is 0.6022010360886407\n",
      "Average of all scores for [9, 'discretize'] combination is 0.6405427700552899\n"
     ]
    }
   ],
   "source": [
    "# Checking best combination of hyperparameters\n",
    "\n",
    "best_combination = [[6,'discretize'],[7,'kmeans'],[8,'kmeans'],[5,'discretize'],[9,'discretize']]\n",
    "\n",
    "for i in best_combination:\n",
    "    model = SpectralClustering(n_clusters=i[0], assign_labels=i[1], random_state=0)\n",
    "    labels2 = model.fit(X).fit_predict(X)\n",
    "    \n",
    "    # Calculating extrinsic measures for each combination of hyperparameters\n",
    "    \n",
    "    fowlkes_mallows = fowlkes_mallows_score(y,labels2)\n",
    "    adjusted_rand = adjusted_rand_score(y,labels2)\n",
    "    mutual_info = mutual_info_score(y,labels2)\n",
    "    v_measure = v_measure_score(y,labels2)\n",
    "    homogeneity = homogeneity_score(y,labels2)\n",
    "    completeness = completeness_score(y,labels2)\n",
    "    \n",
    "    # Evaluating means of respective scores for each combination\n",
    "    \n",
    "    scores = [fowlkes_mallows + adjusted_rand + mutual_info + v_measure + homogeneity + completeness]\n",
    "    mean_scores = sum(scores)/len(scores)\n",
    "    print('Average of all scores for ' + str(i) + ' combination is ' + str(mean_scores))"
   ]
  },
  {
   "cell_type": "markdown",
   "id": "224165eb",
   "metadata": {},
   "source": [
    "The best combination of hyperparameters in Spectral Clustering that gave the highest average metric score includes:\n",
    "\n",
    "number of clusters = 9, assign labels = 'discretize'"
   ]
  },
  {
   "cell_type": "markdown",
   "id": "250415ac",
   "metadata": {},
   "source": [
    "### Bayesian Gaussian Mixture"
   ]
  },
  {
   "cell_type": "code",
   "execution_count": 130,
   "id": "0b7bb31f",
   "metadata": {},
   "outputs": [
    {
     "name": "stdout",
     "output_type": "stream",
     "text": [
      "Average of all scores for [2, 'full'] combination is 0.3849224719476438\n",
      "Average of all scores for [3, 'tied'] combination is 0.6385415307080297\n",
      "Average of all scores for [4, 'diag'] combination is 1.4309225337557945\n",
      "Average of all scores for [5, 'spherical'] combination is 0.9725630857175143\n",
      "Average of all scores for [6, 'full'] combination is 1.397710215871594\n",
      "Average of all scores for [7, 'spherical'] combination is 1.0228116114258772\n",
      "Average of all scores for [8, 'diag'] combination is 1.4556176812319068\n"
     ]
    }
   ],
   "source": [
    "# Checking best combination of hyperparameters\n",
    "\n",
    "best_combination = [[2,'full'],[3,'tied'],[4,'diag'],[5,'spherical'],[6,'full'],[7, 'spherical'],[8, 'diag']]\n",
    "\n",
    "for i in best_combination:\n",
    "    model = BayesianGaussianMixture(n_components=i[0], covariance_type=i[1], random_state=0)\n",
    "    labels2 = model.fit(X).fit_predict(X)\n",
    "    \n",
    "    # Calculating extrinsic measures for each combination of hyperparameters\n",
    "    \n",
    "    fowlkes_mallows = fowlkes_mallows_score(y,labels2)\n",
    "    adjusted_rand = adjusted_rand_score(y,labels2)\n",
    "    mutual_info = mutual_info_score(y,labels2)\n",
    "    v_measure = v_measure_score(y,labels2)\n",
    "    homogeneity = homogeneity_score(y,labels2)\n",
    "    completeness = completeness_score(y,labels2)\n",
    "    \n",
    "    # Evaluating means of respective scores for each combination\n",
    "    \n",
    "    scores = [fowlkes_mallows + adjusted_rand + mutual_info + v_measure + homogeneity + completeness]\n",
    "    mean_scores = sum(scores)/len(scores)\n",
    "    print('Average of all scores for ' + str(i) + ' combination is ' + str(mean_scores))"
   ]
  },
  {
   "cell_type": "markdown",
   "id": "3d4d1387",
   "metadata": {},
   "source": [
    "The best combination of hyperparameters in Bayesian Gaussian Mixture that gave the highest average metric score includes:\n",
    "\n",
    "number of components = 8, covariance type = 'diag'"
   ]
  },
  {
   "cell_type": "markdown",
   "id": "54e1c478",
   "metadata": {},
   "source": [
    "### Gaussian Mixture Model"
   ]
  },
  {
   "cell_type": "code",
   "execution_count": 131,
   "id": "df6ff7f3",
   "metadata": {},
   "outputs": [
    {
     "name": "stdout",
     "output_type": "stream",
     "text": [
      "Average of all scores for [2, 'full'] combination is 0.3773558724049121\n",
      "Average of all scores for [3, 'tied'] combination is 0.6054982923250543\n",
      "Average of all scores for [4, 'diag'] combination is 1.4335040038138944\n",
      "Average of all scores for [5, 'spherical'] combination is 0.9886588673369368\n",
      "Average of all scores for [6, 'full'] combination is 1.4176692523608636\n",
      "Average of all scores for [7, 'spherical'] combination is 1.0224498458292681\n",
      "Average of all scores for [8, 'diag'] combination is 1.451627030258537\n"
     ]
    }
   ],
   "source": [
    "# Checking best combination of hyperparameters\n",
    "\n",
    "best_combination = [[2,'full'],[3,'tied'],[4,'diag'],[5,'spherical'],[6,'full'],[7, 'spherical'],[8, 'diag']]\n",
    "\n",
    "for i in best_combination:\n",
    "    model = GaussianMixture(n_components=i[0], covariance_type=i[1], random_state=0)\n",
    "    labels2 = model.fit(X).fit_predict(X)\n",
    "    \n",
    "    # Calculating extrinsic measures for each combination of hyperparameters\n",
    "    \n",
    "    fowlkes_mallows = fowlkes_mallows_score(y,labels2)\n",
    "    adjusted_rand = adjusted_rand_score(y,labels2)\n",
    "    mutual_info = mutual_info_score(y,labels2)\n",
    "    v_measure = v_measure_score(y,labels2)\n",
    "    homogeneity = homogeneity_score(y,labels2)\n",
    "    completeness = completeness_score(y,labels2)\n",
    "    \n",
    "    # Evaluating means of respective scores for each combination\n",
    "    \n",
    "    scores = [fowlkes_mallows + adjusted_rand + mutual_info + v_measure + homogeneity + completeness]\n",
    "    mean_scores = sum(scores)/len(scores)\n",
    "    print('Average of all scores for ' + str(i) + ' combination is ' + str(mean_scores))"
   ]
  },
  {
   "cell_type": "markdown",
   "id": "0c87fbb5",
   "metadata": {},
   "source": [
    "The best combination of hyperparameters in Gaussian Mixture Model that gave the highest average metric score includes:\n",
    "\n",
    "number of components = 8, covariance type = 'diag'"
   ]
  },
  {
   "cell_type": "markdown",
   "id": "fc870628",
   "metadata": {},
   "source": [
    "#### Analysis:\n",
    "\n",
    "1) It is observed that the GMM outperforms Mini Batch KMeans with highest average score, which shows that the GMM is better at modeling the data according to the chosen performance metrics. This could be because the GMM is more flexible and able to capture more complex patterns in the data.\n",
    "\n",
    "2) It is observed that the GMM outperforms Agglomerative Clustering with highest average score, it suggests that the GMM is able to more accurately and effectively cluster the data into distinct groups. This may be due to the fact that the GMM is able to account for the uncertainty in the data, whereas the Agglomerative clustering approach may be more rigid in its grouping of the data.\n",
    "\n",
    "3) It is observed that the DBScan outperforms GMM with highest average score, which shows that DBScan is more accurately identifying clusters or has a lower error rate. This could be due to the nature of the data, the chosen distance metric, or the number of clusters being considered.\n",
    "\n",
    "4) It is observed that the OPTICS outperforms GMM with highest average score, which shows that OPTICS is more effective at clustering the data and finding meaningful patterns within it. This could be due to the fact that OPTICS is able to handle more complex and non-linear data structures, whereas GMM are limited to more simple, linear patterns.\n",
    "\n",
    "5) It is observed that the Affinity Propagation outperforms GMM with highest average score, which shows that Affinity propagation is a better model for the data at hand. This could be because Affinity propagation is able to more accurately cluster the data, or because it is able to more accurately predict the labels of the data points.\n",
    "\n",
    "6) It is observed that the GMM outperforms Spectral Clustering with highest average score, which shows that the GMM is a better fit for the given data and produces more accurate or effective clustering results. This may be due to the GMM's ability to handle mixed data types and account for uncertainty in the data, or because it is more robust to noise or outliers in the data.\n",
    "\n",
    "7) It is observed that the Bayesian GMM slighty outperforms GMM with higher average score (and very close to it), which shows that both models are performing similarly in terms of their ability to accurately predict or classify data. This may indicate that either model could be a suitable choice for the particular task at hand."
   ]
  },
  {
   "cell_type": "markdown",
   "id": "be2d7923",
   "metadata": {},
   "source": [
    "### Parameter changes:"
   ]
  },
  {
   "cell_type": "markdown",
   "id": "a1847af6",
   "metadata": {},
   "source": [
    "#### (1) Based on number of components"
   ]
  },
  {
   "cell_type": "code",
   "execution_count": 180,
   "id": "577d36f8",
   "metadata": {},
   "outputs": [
    {
     "name": "stdout",
     "output_type": "stream",
     "text": [
      "Average of all scores for 2 components is 0.3773558724049121\n",
      "Average of all scores for 3 components is 0.7516366627446296\n",
      "Average of all scores for 4 components is 0.9680152359535268\n",
      "Average of all scores for 5 components is 1.340197798569889\n",
      "Average of all scores for 6 components is 1.4176692523608636\n",
      "Average of all scores for 7 components is 1.4513433912126934\n"
     ]
    }
   ],
   "source": [
    "# Changing number of components to obtain the best value\n",
    "\n",
    "number_of_components = [2,3,4,5,6,7]\n",
    "\n",
    "mean_score_list = []\n",
    "\n",
    "for i in number_of_components:\n",
    "    model = GaussianMixture(n_components=i, covariance_type='full', reg_covar=1e-6, random_state=0)\n",
    "    labels2 = model.fit(X).fit_predict(X)\n",
    "    \n",
    "    # Calculating extrinsic measures for each value of number of components\n",
    "\n",
    "    fowlkes_mallows = fowlkes_mallows_score(y,labels2)\n",
    "    adjusted_rand = adjusted_rand_score(y,labels2)\n",
    "    mutual_info = mutual_info_score(y,labels2)\n",
    "    v_measure = v_measure_score(y,labels2)\n",
    "    homogeneity = homogeneity_score(y,labels2)\n",
    "    completeness = completeness_score(y,labels2)\n",
    "    \n",
    "    # Evaluating means of respective scores for each value of number of components\n",
    "\n",
    "    scores = [fowlkes_mallows + adjusted_rand + mutual_info + v_measure + homogeneity + completeness]\n",
    "    mean_scores = sum(scores)/len(scores)\n",
    "    print('Average of all scores for ' + str(i) + ' components is ' + str(mean_scores))\n",
    "    mean_score_list.append(mean_scores)"
   ]
  },
  {
   "cell_type": "markdown",
   "id": "5a0c8af5",
   "metadata": {},
   "source": [
    "Upon increasing and decreasing the number of components parameter in GMM, it is observed that the best score is obtained when the number of components are 7. This suggests that the data may be best represented by a mixture of 7 different Gaussian distributions. This may indicate that the data has multiple underlying patterns or clusters, rather than a single homogenous group."
   ]
  },
  {
   "cell_type": "markdown",
   "id": "da75816c",
   "metadata": {},
   "source": [
    "#### Plotting n_component parameter's performance"
   ]
  },
  {
   "cell_type": "code",
   "execution_count": 183,
   "id": "4e578ac0",
   "metadata": {},
   "outputs": [
    {
     "data": {
      "image/png": "[encoded data removed]",
      "text/plain": [
       "<Figure size 864x432 with 1 Axes>"
      ]
     },
     "metadata": {},
     "output_type": "display_data"
    }
   ],
   "source": [
    "list_of_components = [number_of_components[0], number_of_components[1], number_of_components[2], number_of_components[3], \n",
    "                      number_of_components[4], number_of_components[5]]\n",
    "plt.figure(figsize = (12,6))\n",
    "plt.plot(mean_score_list, marker = 'o', label = [list_of_components])\n",
    "plt.xlabel('n_components', fontsize=13)\n",
    "plt.ylabel('Average Metric Scores', fontsize=13)\n",
    "plt.title('Variation in number of components', fontsize=15)\n",
    "plt.xticks([0,1,2,3,4,5], list_of_components)\n",
    "plt.show()"
   ]
  },
  {
   "cell_type": "markdown",
   "id": "1fd478dd",
   "metadata": {},
   "source": [
    "#### (2) Based on covariance type"
   ]
  },
  {
   "cell_type": "code",
   "execution_count": 189,
   "id": "76d83e0b",
   "metadata": {},
   "outputs": [
    {
     "name": "stdout",
     "output_type": "stream",
     "text": [
      "Average of all scores for full covariance type is 0.3773558724049121\n",
      "Average of all scores for tied covariance type is 0.6066992067956762\n",
      "Average of all scores for diag covariance type is 0.9071135882301672\n",
      "Average of all scores for spherical covariance type is 0.8186962658749639\n"
     ]
    }
   ],
   "source": [
    "# Changing covariance type to obtain the best value\n",
    "\n",
    "type_of_covariance = ['full', 'tied', 'diag', 'spherical']\n",
    "\n",
    "mean_score_list = []\n",
    "\n",
    "for i in type_of_covariance:\n",
    "    model = GaussianMixture(n_components=2, covariance_type=i, reg_covar=1e-6, random_state=0)\n",
    "    labels2 = model.fit(X).fit_predict(X)\n",
    "    \n",
    "    # Calculating extrinsic measures for each covariance type\n",
    "    \n",
    "    fowlkes_mallows = fowlkes_mallows_score(y,labels2)\n",
    "    adjusted_rand = adjusted_rand_score(y,labels2)\n",
    "    mutual_info = mutual_info_score(y,labels2)\n",
    "    v_measure = v_measure_score(y,labels2)\n",
    "    homogeneity = homogeneity_score(y,labels2)\n",
    "    completeness = completeness_score(y,labels2)\n",
    "    \n",
    "    # Evaluating means of respective scores for each covariance type\n",
    "\n",
    "    scores = [fowlkes_mallows + adjusted_rand + mutual_info + v_measure + homogeneity + completeness]\n",
    "    mean_scores = sum(scores)/len(scores)\n",
    "    print('Average of all scores for ' + str(i) + ' covariance type is ' + str(mean_scores))\n",
    "    mean_score_list.append(mean_scores)"
   ]
  },
  {
   "cell_type": "markdown",
   "id": "7121dd86",
   "metadata": {},
   "source": [
    "Upon changing the type of covariance parameter in GMM, it is observed that the best score is obtained when the covariance type is 'diag'. This suggests that the data may be more effectively modeled with a diagonal covariance matrix rather than a full or spherical covariance matrix. This may indicate that the data has some degree of independence between the different features, as the diagonal covariance matrix assumes that the features are uncorrelated."
   ]
  },
  {
   "cell_type": "markdown",
   "id": "7df82962",
   "metadata": {},
   "source": [
    "#### Plotting covariance_type parameter's performance"
   ]
  },
  {
   "cell_type": "code",
   "execution_count": 190,
   "id": "0e3c28a6",
   "metadata": {},
   "outputs": [
    {
     "data": {
      "image/png": "[encoded data removed]",
      "text/plain": [
       "<Figure size 864x432 with 1 Axes>"
      ]
     },
     "metadata": {},
     "output_type": "display_data"
    }
   ],
   "source": [
    "list_of_covariance_types = [type_of_covariance[0], type_of_covariance[1], type_of_covariance[2], type_of_covariance[3]]\n",
    "plt.figure(figsize = (12,6))\n",
    "plt.plot(mean_score_list, marker = 'o', label = [list_of_covariance_types])\n",
    "plt.xlabel('Covariance Type', fontsize=13)\n",
    "plt.ylabel('Average Metric Scores', fontsize=13)\n",
    "plt.title('Variation in covariance type', fontsize=15)\n",
    "plt.xticks([0,1,2,3], list_of_covariance_types)\n",
    "plt.show()"
   ]
  },
  {
   "cell_type": "markdown",
   "id": "acbbc267",
   "metadata": {},
   "source": [
    "#### (3) Based on regularization of covariance"
   ]
  },
  {
   "cell_type": "code",
   "execution_count": 191,
   "id": "a845e82b",
   "metadata": {},
   "outputs": [
    {
     "name": "stdout",
     "output_type": "stream",
     "text": [
      "Average of all scores for regularized covariance of 1e-06 is 0.3773558724049121\n",
      "Average of all scores for regularized covariance of 0.5 is 0.4313022182480828\n",
      "Average of all scores for regularized covariance of 1.5 is 0.48415954972101566\n",
      "Average of all scores for regularized covariance of 3 is 0.5006513420013152\n",
      "Average of all scores for regularized covariance of 5 is 1.1607696047602378\n"
     ]
    }
   ],
   "source": [
    "# Changing the value of regularized covariance to obtain the best value\n",
    "\n",
    "regularization_covariance = [1e-6, 0.5, 1.5, 3, 5]\n",
    "\n",
    "mean_score_list = []\n",
    "\n",
    "for i in regularization_covariance:\n",
    "    model = GaussianMixture(n_components=2, covariance_type='full', reg_covar=i, random_state=0)\n",
    "    labels2 = model.fit(X).fit_predict(X)\n",
    "    \n",
    "    # Calculating extrinsic measures for each value of regularized covariance\n",
    "\n",
    "    fowlkes_mallows = fowlkes_mallows_score(y,labels2)\n",
    "    adjusted_rand = adjusted_rand_score(y,labels2)\n",
    "    mutual_info = mutual_info_score(y,labels2)\n",
    "    v_measure = v_measure_score(y,labels2)\n",
    "    homogeneity = homogeneity_score(y,labels2)\n",
    "    completeness = completeness_score(y,labels2)\n",
    "    \n",
    "    # Evaluating means of respective scores for each value of regularized covariance\n",
    "\n",
    "    scores = [fowlkes_mallows + adjusted_rand + mutual_info + v_measure + homogeneity + completeness]\n",
    "    mean_scores = sum(scores)/len(scores)\n",
    "    print('Average of all scores for ' + 'regularized covariance of ' + str(i) + ' is ' + str(mean_scores))\n",
    "    mean_score_list.append(mean_scores)"
   ]
  },
  {
   "cell_type": "markdown",
   "id": "e1b1ebd4",
   "metadata": {},
   "source": [
    "Upon increasing and decreasing the regularized covariance in GMM, it is observed that the best score is obtained when the value is 5. This may indicate that there is some level of complexity in the data that requires a higher level of regularization in order to accurately model the data. It may also suggest that the model is less prone to overfitting when the regularization parameter is set to this value."
   ]
  },
  {
   "cell_type": "markdown",
   "id": "6cd03b9a",
   "metadata": {},
   "source": [
    "#### Plotting reg_covar parameter's performance"
   ]
  },
  {
   "cell_type": "code",
   "execution_count": 192,
   "id": "9dfc280a",
   "metadata": {},
   "outputs": [
    {
     "data": {
      "image/png": "[encoded data removed]",
      "text/plain": [
       "<Figure size 864x432 with 1 Axes>"
      ]
     },
     "metadata": {},
     "output_type": "display_data"
    }
   ],
   "source": [
    "list_of_reg_covar = [regularization_covariance[0], regularization_covariance[1], regularization_covariance[2], \n",
    "                     regularization_covariance[3], regularization_covariance[4]]\n",
    "plt.figure(figsize = (12,6))\n",
    "plt.plot(mean_score_list, marker = 'o', label = [list_of_reg_covar])\n",
    "plt.xlabel('Regularization of covariance', fontsize=13)\n",
    "plt.ylabel('Average Metric Scores', fontsize=13)\n",
    "plt.title('Variation in regularization of covariance', fontsize=15)\n",
    "plt.xticks([0,1,2,3,4], list_of_reg_covar)\n",
    "plt.show()"
   ]
  }
 ],
 "metadata": {
  "kernelspec": {
   "display_name": "Python 3",
   "language": "python",
   "name": "python3"
  },
  "language_info": {
   "codemirror_mode": {
    "name": "ipython",
    "version": 3
   },
   "file_extension": ".py",
   "mimetype": "text/x-python",
   "name": "python",
   "nbconvert_exporter": "python",
   "pygments_lexer": "ipython3",
   "version": "3.9.5"
  }
 },
 "nbformat": 4,
 "nbformat_minor": 5
}
