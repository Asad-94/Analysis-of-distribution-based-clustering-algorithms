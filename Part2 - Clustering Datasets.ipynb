{
 "cells": [
  {
   "cell_type": "markdown",
   "id": "38e13afe",
   "metadata": {},
   "source": [
    "## Clustering Datasets"
   ]
  },
  {
   "cell_type": "markdown",
   "id": "c33f16f8",
   "metadata": {},
   "source": [
    "Importing Libraries"
   ]
  },
  {
   "cell_type": "code",
   "execution_count": 1,
   "id": "6fef8097",
   "metadata": {},
   "outputs": [],
   "source": [
    "import pandas as pd\n",
    "import matplotlib.pyplot as plt\n",
    "from sklearn.preprocessing import StandardScaler\n",
    "\n",
    "import warnings\n",
    "warnings.filterwarnings('ignore')\n",
    "\n",
    "from sklearn.cluster import MiniBatchKMeans\n",
    "from sklearn.cluster import AgglomerativeClustering\n",
    "from sklearn.cluster import DBSCAN\n",
    "from sklearn.cluster import OPTICS\n",
    "from sklearn.cluster import SpectralClustering\n",
    "from sklearn.cluster import AffinityPropagation\n",
    "from sklearn.mixture import BayesianGaussianMixture\n",
    "from sklearn.mixture import GaussianMixture\n",
    "\n",
    "from yellowbrick.cluster import KElbowVisualizer\n",
    "import scipy.cluster.hierarchy as sch\n",
    "\n",
    "from sklearn.metrics import silhouette_score\n",
    "from sklearn.metrics import davies_bouldin_score\n",
    "from sklearn.metrics import fowlkes_mallows_score\n",
    "from sklearn.metrics import adjusted_rand_score\n",
    "from sklearn.metrics import mutual_info_score\n",
    "from sklearn.metrics import homogeneity_score\n",
    "from sklearn.metrics import completeness_score\n",
    "from sklearn.metrics import v_measure_score"
   ]
  },
  {
   "cell_type": "markdown",
   "id": "208260e0",
   "metadata": {},
   "source": [
    "Creating function to draw elbow curves and dendrograms"
   ]
  },
  {
   "cell_type": "code",
   "execution_count": 2,
   "id": "b0e9263f",
   "metadata": {},
   "outputs": [],
   "source": [
    "# Function to create elbow curves and dendrograms\n",
    "\n",
    "def elbow_curve_and_dendrogram(dataset, N_cluster, batch_size, dendro_cluster):\n",
    "    fig = plt.figure(figsize=(20,6))\n",
    "    \n",
    "    plt.subplot(1, 2, 1)\n",
    "    model = MiniBatchKMeans(n_clusters=N_cluster, random_state=0, batch_size=batch_size)\n",
    "    visualizer = KElbowVisualizer(model, k=(4,12)).fit(dataset)\n",
    "    global elbow_best_value\n",
    "    elbow_best_value = visualizer.elbow_value_\n",
    "    print('For MiniBatchKMeans, the ideal number of clusters are ', elbow_best_value)\n",
    "    \n",
    "    plt.subplot(1, 2, 2)\n",
    "    dendrogram = sch.dendrogram(sch.linkage(dataset, method='complete'))\n",
    "    print('Based on dendrogram, the ideal number of clusters are ', dendro_cluster)\n",
    "\n",
    "    plt.tight_layout()"
   ]
  },
  {
   "cell_type": "markdown",
   "id": "532be2bd",
   "metadata": {},
   "source": [
    "Creating functions to obtain intrinsic and extrinsic measures for all clustering algorithms"
   ]
  },
  {
   "cell_type": "code",
   "execution_count": 14,
   "id": "afb7f2ce",
   "metadata": {},
   "outputs": [],
   "source": [
    "# Function for all clustering algorithms other than GMM and Bayesian GMM\n",
    "\n",
    "def evaluation_matrix(dataset, elbow_best_value, dendogram_best_number, batch_size, ep_s, min_sample, spectral_clusters, label_assign, damping_value, max_iteration, affinity_type):\n",
    "\n",
    "    # Output list to append all metric scores\n",
    "    output_list = []\n",
    "\n",
    "    # Dictionary of clustering algorithms   \n",
    "    evaluation_matrix_models = {\n",
    "        \n",
    "        'MiniBatchKMeans': [MiniBatchKMeans(n_clusters=elbow_best_value, random_state=0, batch_size=batch_size).fit(dataset)],\n",
    "\n",
    "        'AgglomerativeClustering': [AgglomerativeClustering(n_clusters=dendogram_best_number).fit(dataset)],\n",
    "\n",
    "        'DBSCAN': [DBSCAN(eps=ep_s, min_samples=min_sample).fit(dataset)],\n",
    "\n",
    "        'OPTICS': [OPTICS(eps=ep_s).fit(dataset)],\n",
    "        \n",
    "        'Spectral Clustering': [SpectralClustering(n_clusters=spectral_clusters, assign_labels=label_assign, random_state=0).fit(dataset)],\n",
    "        \n",
    "        'Affinity Propagation': [AffinityPropagation(damping=damping_value, max_iter=max_iteration, affinity=affinity_type, random_state=0).fit(dataset)]\n",
    "    }\n",
    "    \n",
    "    # Calculating all the metric scores and appending in the output list\n",
    "    for each in evaluation_matrix_models.keys():\n",
    "        output_list.append([\n",
    "            silhouette_score(dataset, evaluation_matrix_models[each][0].labels_, metric='euclidean'),\n",
    "            davies_bouldin_score(dataset, evaluation_matrix_models[each][0].labels_)])\n",
    "\n",
    "    # Dataframe of scores for each dataset\n",
    "    evaluation_matrix_df = pd.DataFrame(output_list, columns=['silhouette_score','davies_bouldin_score'])\n",
    "    \n",
    "    evaluation_matrix_df.set_index([list(evaluation_matrix_models.keys())], drop=True, inplace=True)\n",
    "\n",
    "    return evaluation_matrix_df\n",
    "\n",
    "\n",
    "\n",
    "# Function for GMM and Bayesian GMM\n",
    "\n",
    "def bayesian_and_gaussian(dataset, components, type_covariance, covariance_reg):\n",
    "\n",
    "    # Output list to append all metric scores\n",
    "    output_list = []\n",
    "\n",
    "    # Dictionary of GMM and Bayesian GMM algorithms \n",
    "    bayesian_and_gaussian_mixture = {\n",
    "        \n",
    "        'Bayesian Gaussian Mixture': [BayesianGaussianMixture(n_components=components, covariance_type=type_covariance, reg_covar=covariance_reg, random_state=0).fit(dataset).fit_predict(dataset)],\n",
    "        \n",
    "        'Gaussian Mixture': [GaussianMixture(n_components=components, covariance_type=type_covariance, reg_covar=covariance_reg, random_state=0).fit(dataset).fit_predict(dataset)]}\n",
    "\n",
    "    # Calculating all the metric scores and appending in the output list\n",
    "    for each in bayesian_and_gaussian_mixture.keys():\n",
    "        output_list.append([\n",
    "            silhouette_score(dataset, bayesian_and_gaussian_mixture[each][0], metric='euclidean'),\n",
    "            davies_bouldin_score(dataset, bayesian_and_gaussian_mixture[each][0])])\n",
    "\n",
    "    # Dataframe of scores for each dataset\n",
    "    bayesian_gaussian_matrix_df = pd.DataFrame(output_list, columns=['silhouette_score','davies_bouldin_score'])\n",
    "            \n",
    "    bayesian_gaussian_matrix_df.set_index([list(bayesian_and_gaussian_mixture.keys())], drop=True, inplace=True)\n",
    "\n",
    "    return bayesian_gaussian_matrix_df"
   ]
  },
  {
   "cell_type": "markdown",
   "id": "6d93a3ed",
   "metadata": {},
   "source": [
    "## Dataset 01: Wholesale Customers Data"
   ]
  },
  {
   "cell_type": "markdown",
   "id": "467b229f",
   "metadata": {},
   "source": [
    "The data set refers to clients of a wholesale distributor. It includes the annual spending in monetary units (m.u.) on diverse product categories. It contains 440 rows and 8 columns."
   ]
  },
  {
   "cell_type": "code",
   "execution_count": 226,
   "id": "5b9ec5b2",
   "metadata": {},
   "outputs": [
    {
     "data": {
      "text/html": [
       "<div>\n",
       "<style scoped>\n",
       "    .dataframe tbody tr th:only-of-type {\n",
       "        vertical-align: middle;\n",
       "    }\n",
       "\n",
       "    .dataframe tbody tr th {\n",
       "        vertical-align: top;\n",
       "    }\n",
       "\n",
       "    .dataframe thead th {\n",
       "        text-align: right;\n",
       "    }\n",
       "</style>\n",
       "<table border=\"1\" class=\"dataframe\">\n",
       "  <thead>\n",
       "    <tr style=\"text-align: right;\">\n",
       "      <th></th>\n",
       "      <th>Channel</th>\n",
       "      <th>Region</th>\n",
       "      <th>Fresh</th>\n",
       "      <th>Milk</th>\n",
       "      <th>Grocery</th>\n",
       "      <th>Frozen</th>\n",
       "      <th>Detergents_Paper</th>\n",
       "      <th>Delicassen</th>\n",
       "    </tr>\n",
       "  </thead>\n",
       "  <tbody>\n",
       "    <tr>\n",
       "      <th>0</th>\n",
       "      <td>2</td>\n",
       "      <td>3</td>\n",
       "      <td>12669</td>\n",
       "      <td>9656</td>\n",
       "      <td>7561</td>\n",
       "      <td>214</td>\n",
       "      <td>2674</td>\n",
       "      <td>1338</td>\n",
       "    </tr>\n",
       "    <tr>\n",
       "      <th>1</th>\n",
       "      <td>2</td>\n",
       "      <td>3</td>\n",
       "      <td>7057</td>\n",
       "      <td>9810</td>\n",
       "      <td>9568</td>\n",
       "      <td>1762</td>\n",
       "      <td>3293</td>\n",
       "      <td>1776</td>\n",
       "    </tr>\n",
       "    <tr>\n",
       "      <th>2</th>\n",
       "      <td>2</td>\n",
       "      <td>3</td>\n",
       "      <td>6353</td>\n",
       "      <td>8808</td>\n",
       "      <td>7684</td>\n",
       "      <td>2405</td>\n",
       "      <td>3516</td>\n",
       "      <td>7844</td>\n",
       "    </tr>\n",
       "    <tr>\n",
       "      <th>3</th>\n",
       "      <td>1</td>\n",
       "      <td>3</td>\n",
       "      <td>13265</td>\n",
       "      <td>1196</td>\n",
       "      <td>4221</td>\n",
       "      <td>6404</td>\n",
       "      <td>507</td>\n",
       "      <td>1788</td>\n",
       "    </tr>\n",
       "    <tr>\n",
       "      <th>4</th>\n",
       "      <td>2</td>\n",
       "      <td>3</td>\n",
       "      <td>22615</td>\n",
       "      <td>5410</td>\n",
       "      <td>7198</td>\n",
       "      <td>3915</td>\n",
       "      <td>1777</td>\n",
       "      <td>5185</td>\n",
       "    </tr>\n",
       "  </tbody>\n",
       "</table>\n",
       "</div>"
      ],
      "text/plain": [
       "   Channel  Region  Fresh  Milk  Grocery  Frozen  Detergents_Paper  Delicassen\n",
       "0        2       3  12669  9656     7561     214              2674        1338\n",
       "1        2       3   7057  9810     9568    1762              3293        1776\n",
       "2        2       3   6353  8808     7684    2405              3516        7844\n",
       "3        1       3  13265  1196     4221    6404               507        1788\n",
       "4        2       3  22615  5410     7198    3915              1777        5185"
      ]
     },
     "execution_count": 226,
     "metadata": {},
     "output_type": "execute_result"
    }
   ],
   "source": [
    "# Loading the dataset\n",
    "\n",
    "df = pd.read_csv('Clustering\\Wholesale customers data.csv')\n",
    "df.head()"
   ]
  },
  {
   "cell_type": "code",
   "execution_count": 227,
   "id": "0ec08d2c",
   "metadata": {},
   "outputs": [
    {
     "data": {
      "text/plain": [
       "(440, 8)"
      ]
     },
     "execution_count": 227,
     "metadata": {},
     "output_type": "execute_result"
    }
   ],
   "source": [
    "# Data shape\n",
    "\n",
    "df.shape"
   ]
  },
  {
   "cell_type": "code",
   "execution_count": 228,
   "id": "1424f890",
   "metadata": {},
   "outputs": [
    {
     "data": {
      "text/plain": [
       "0"
      ]
     },
     "execution_count": 228,
     "metadata": {},
     "output_type": "execute_result"
    }
   ],
   "source": [
    "# Checking null values\n",
    "\n",
    "df.isna().sum().sum()"
   ]
  },
  {
   "cell_type": "code",
   "execution_count": 229,
   "id": "3ea3952f",
   "metadata": {},
   "outputs": [],
   "source": [
    "# Normalizing the data \n",
    "\n",
    "ss=StandardScaler()\n",
    "for i in df.columns:\n",
    "    df[i] = ss.fit_transform(df[[i]])"
   ]
  },
  {
   "cell_type": "code",
   "execution_count": 222,
   "id": "28e3e760",
   "metadata": {},
   "outputs": [
    {
     "name": "stdout",
     "output_type": "stream",
     "text": [
      "For MiniBatchKMeans, the ideal number of clusters are  8\n",
      "Based on dendrogram, the ideal number of clusters are  2\n"
     ]
    },
    {
     "data": {
      "image/png": "[encoded data removed]",
      "text/plain": [
       "<Figure size 1440x432 with 3 Axes>"
      ]
     },
     "metadata": {},
     "output_type": "display_data"
    }
   ],
   "source": [
    "# Calling function to create elbow curve and dendrogram\n",
    "\n",
    "elbow_curve_and_dendrogram(df, 8, 50, 2)"
   ]
  },
  {
   "cell_type": "code",
   "execution_count": 223,
   "id": "12b19b86",
   "metadata": {},
   "outputs": [
    {
     "data": {
      "text/html": [
       "<div>\n",
       "<style scoped>\n",
       "    .dataframe tbody tr th:only-of-type {\n",
       "        vertical-align: middle;\n",
       "    }\n",
       "\n",
       "    .dataframe tbody tr th {\n",
       "        vertical-align: top;\n",
       "    }\n",
       "\n",
       "    .dataframe thead th {\n",
       "        text-align: right;\n",
       "    }\n",
       "</style>\n",
       "<table border=\"1\" class=\"dataframe\">\n",
       "  <thead>\n",
       "    <tr style=\"text-align: right;\">\n",
       "      <th></th>\n",
       "      <th>silhouette_score</th>\n",
       "      <th>davies_bouldin_score</th>\n",
       "    </tr>\n",
       "  </thead>\n",
       "  <tbody>\n",
       "    <tr>\n",
       "      <th>MiniBatchKMeans</th>\n",
       "      <td>0.272395</td>\n",
       "      <td>1.231588</td>\n",
       "    </tr>\n",
       "    <tr>\n",
       "      <th>AgglomerativeClustering</th>\n",
       "      <td>0.368021</td>\n",
       "      <td>1.284974</td>\n",
       "    </tr>\n",
       "    <tr>\n",
       "      <th>DBSCAN</th>\n",
       "      <td>0.686648</td>\n",
       "      <td>1.455229</td>\n",
       "    </tr>\n",
       "    <tr>\n",
       "      <th>OPTICS</th>\n",
       "      <td>-0.371527</td>\n",
       "      <td>1.383570</td>\n",
       "    </tr>\n",
       "    <tr>\n",
       "      <th>Spectral Clustering</th>\n",
       "      <td>0.702650</td>\n",
       "      <td>0.543032</td>\n",
       "    </tr>\n",
       "    <tr>\n",
       "      <th>Affinity Propagation</th>\n",
       "      <td>0.265573</td>\n",
       "      <td>0.847532</td>\n",
       "    </tr>\n",
       "  </tbody>\n",
       "</table>\n",
       "</div>"
      ],
      "text/plain": [
       "                         silhouette_score  davies_bouldin_score\n",
       "MiniBatchKMeans                  0.272395              1.231588\n",
       "AgglomerativeClustering          0.368021              1.284974\n",
       "DBSCAN                           0.686648              1.455229\n",
       "OPTICS                          -0.371527              1.383570\n",
       "Spectral Clustering              0.702650              0.543032\n",
       "Affinity Propagation             0.265573              0.847532"
      ]
     },
     "execution_count": 223,
     "metadata": {},
     "output_type": "execute_result"
    }
   ],
   "source": [
    "# Calling function to create a dataframe of metric scores for six clustering algorithms\n",
    "\n",
    "evaluation_matrix(df, elbow_best_value, 2, 50, 3, 5, 2, 'discretize', 0.8, 500, 'euclidean')"
   ]
  },
  {
   "cell_type": "code",
   "execution_count": 224,
   "id": "31c16a1f",
   "metadata": {},
   "outputs": [
    {
     "data": {
      "text/html": [
       "<div>\n",
       "<style scoped>\n",
       "    .dataframe tbody tr th:only-of-type {\n",
       "        vertical-align: middle;\n",
       "    }\n",
       "\n",
       "    .dataframe tbody tr th {\n",
       "        vertical-align: top;\n",
       "    }\n",
       "\n",
       "    .dataframe thead th {\n",
       "        text-align: right;\n",
       "    }\n",
       "</style>\n",
       "<table border=\"1\" class=\"dataframe\">\n",
       "  <thead>\n",
       "    <tr style=\"text-align: right;\">\n",
       "      <th></th>\n",
       "      <th>silhouette_score</th>\n",
       "      <th>davies_bouldin_score</th>\n",
       "    </tr>\n",
       "  </thead>\n",
       "  <tbody>\n",
       "    <tr>\n",
       "      <th>Bayesian Gaussian Mixture</th>\n",
       "      <td>0.182912</td>\n",
       "      <td>2.432122</td>\n",
       "    </tr>\n",
       "    <tr>\n",
       "      <th>Gaussian Mixture</th>\n",
       "      <td>0.225332</td>\n",
       "      <td>2.091089</td>\n",
       "    </tr>\n",
       "  </tbody>\n",
       "</table>\n",
       "</div>"
      ],
      "text/plain": [
       "                           silhouette_score  davies_bouldin_score\n",
       "Bayesian Gaussian Mixture          0.182912              2.432122\n",
       "Gaussian Mixture                   0.225332              2.091089"
      ]
     },
     "execution_count": 224,
     "metadata": {},
     "output_type": "execute_result"
    }
   ],
   "source": [
    "# Calling function to create a dataframe of metric scores for GMM and Bayesian GMM\n",
    "\n",
    "bayesian_and_gaussian(df, 2, 'full', 1e-6)"
   ]
  },
  {
   "cell_type": "markdown",
   "id": "6d5e4c1e",
   "metadata": {},
   "source": [
    "#### Compare the performances of all clustering algorithms with Gaussian Mixture Model (GMM)"
   ]
  },
  {
   "cell_type": "markdown",
   "id": "ec4f7827",
   "metadata": {},
   "source": [
    "## Hyperparameter Selection"
   ]
  },
  {
   "cell_type": "markdown",
   "id": "05a45ce7",
   "metadata": {},
   "source": [
    "### Mini Batch KMeans"
   ]
  },
  {
   "cell_type": "code",
   "execution_count": 230,
   "id": "974984ad",
   "metadata": {},
   "outputs": [
    {
     "name": "stdout",
     "output_type": "stream",
     "text": [
      "Average of all scores for [5, 50] combination is 1.4767086508961498\n",
      "Average of all scores for [6, 25] combination is 1.5131194821843756\n",
      "Average of all scores for [7, 50] combination is 1.559238467666191\n",
      "Average of all scores for [8, 15] combination is 1.539731884165035\n",
      "Average of all scores for [9, 75] combination is 1.5177391409525076\n"
     ]
    }
   ],
   "source": [
    "# Checking best combination of hyperparameters\n",
    "\n",
    "best_combination = [[5,50],[6,25],[7,50],[8,15],[9,75]]\n",
    "\n",
    "mean_score_list = []\n",
    "\n",
    "for i in best_combination:\n",
    "    model = MiniBatchKMeans(n_clusters=i[0], random_state=0, batch_size=i[1])\n",
    "    model.fit(df)\n",
    "    \n",
    "    # Calculating intrinsic measures for each combination of hyperparameters\n",
    "    \n",
    "    silhouette = silhouette_score(df, model.labels_, metric='euclidean')\n",
    "    davies_bouldin = davies_bouldin_score(df, model.labels_)\n",
    "    \n",
    "    # Evaluating means of respective scores for each combination\n",
    "\n",
    "    scores = [silhouette + davies_bouldin]\n",
    "    mean_scores = sum(scores)/len(scores)\n",
    "    print('Average of all scores for ' + str(i) + ' combination is ' + str(mean_scores))\n",
    "    mean_score_list.append(mean_scores)"
   ]
  },
  {
   "cell_type": "markdown",
   "id": "ef7c6678",
   "metadata": {},
   "source": [
    "The best combination of hyperparameters in Mini Batch KMeans which gave the highest average metric score includes:\n",
    "\n",
    "number of clusters = 7, batch size = 50 "
   ]
  },
  {
   "cell_type": "markdown",
   "id": "7d05abe8",
   "metadata": {},
   "source": [
    "#### Plotting each combination's performance"
   ]
  },
  {
   "cell_type": "code",
   "execution_count": 231,
   "id": "4f12d664",
   "metadata": {},
   "outputs": [
    {
     "data": {
      "image/png": "[encoded data removed]",
      "text/plain": [
       "<Figure size 864x432 with 1 Axes>"
      ]
     },
     "metadata": {},
     "output_type": "display_data"
    }
   ],
   "source": [
    "list_of_combinations = [best_combination[0], best_combination[1], best_combination[2], best_combination[3], best_combination[4]]\n",
    "plt.figure(figsize = (12,6))\n",
    "plt.plot(mean_score_list, marker = 's', label = [list_of_combinations])\n",
    "plt.xlabel('Combinations', fontsize=13)\n",
    "plt.ylabel('Average Metric Scores', fontsize=13)\n",
    "plt.title('Mini Batch KMeans Hyperparameter Combinations', fontsize=15)\n",
    "plt.xticks([0,1,2,3,4], list_of_combinations)\n",
    "plt.show()"
   ]
  },
  {
   "cell_type": "markdown",
   "id": "c1da6f16",
   "metadata": {},
   "source": [
    "### Agglomerative Clustering"
   ]
  },
  {
   "cell_type": "code",
   "execution_count": 19,
   "id": "cc892ac5",
   "metadata": {},
   "outputs": [
    {
     "name": "stdout",
     "output_type": "stream",
     "text": [
      "Average of all scores for 2 clusters is 1.6529945038614924\n",
      "Average of all scores for 3 clusters is 1.5151217915924142\n",
      "Average of all scores for 4 clusters is 1.1877708035767487\n",
      "Average of all scores for 5 clusters is 1.2137662492892645\n",
      "Average of all scores for 6 clusters is 1.2992103505575379\n",
      "Average of all scores for 7 clusters is 1.4065538473221895\n",
      "Average of all scores for 8 clusters is 1.3241078548614331\n"
     ]
    }
   ],
   "source": [
    "# Checking best value of cluster\n",
    "\n",
    "best_combination = [2,3,4,5,6,7,8]\n",
    "\n",
    "for i in best_combination:\n",
    "    model = AgglomerativeClustering(n_clusters=i)\n",
    "    model.fit(df)\n",
    "    \n",
    "    # Calculating intrinsic measures for each cluster value\n",
    "\n",
    "    silhouette = silhouette_score(df, model.labels_, metric='euclidean')\n",
    "    davies_bouldin = davies_bouldin_score(df, model.labels_)\n",
    "    \n",
    "    # Evaluating means of respective scores for each cluster\n",
    "    \n",
    "    scores = [silhouette + davies_bouldin]\n",
    "    mean_scores = sum(scores)/len(scores)\n",
    "    print('Average of all scores for ' + str(i) + ' clusters is ' + str(mean_scores))"
   ]
  },
  {
   "cell_type": "markdown",
   "id": "02a5e495",
   "metadata": {},
   "source": [
    "The best value of number of clusters in Agglomerative Clustering is 2, which gave the highest average metric score."
   ]
  },
  {
   "cell_type": "markdown",
   "id": "e91c773a",
   "metadata": {},
   "source": [
    "### DBScan"
   ]
  },
  {
   "cell_type": "code",
   "execution_count": 24,
   "id": "ae402c11",
   "metadata": {},
   "outputs": [
    {
     "name": "stdout",
     "output_type": "stream",
     "text": [
      "Average of all scores for [0.7, 1] combination is 0.4113956613668611\n",
      "Average of all scores for [1, 2] combination is 1.7863514032853711\n",
      "Average of all scores for [3, 3] combination is 2.141876937762832\n",
      "Average of all scores for [3, 5] combination is 2.141876937762832\n",
      "Average of all scores for [5, 7] combination is 1.9397859919971923\n"
     ]
    }
   ],
   "source": [
    "# Checking best combination of hyperparameters\n",
    "\n",
    "best_combination = [[0.7,1],[1,2],[3,3],[3,5],[5,7]]\n",
    "\n",
    "for i in best_combination:\n",
    "    model = DBSCAN(eps=i[0], min_samples=i[1])\n",
    "    model.fit(df)\n",
    "    \n",
    "    # Calculating intrinsic measures for each combination of hyperparameters\n",
    "\n",
    "    silhouette = silhouette_score(df, model.labels_, metric='euclidean')\n",
    "    davies_bouldin = davies_bouldin_score(df, model.labels_)\n",
    "\n",
    "    # Evaluating means of respective scores for each combination\n",
    "    \n",
    "    scores = [silhouette + davies_bouldin]\n",
    "    mean_scores = sum(scores)/len(scores)\n",
    "    print('Average of all scores for ' + str(i) + ' combination is ' + str(mean_scores))"
   ]
  },
  {
   "cell_type": "markdown",
   "id": "dcaf395e",
   "metadata": {},
   "source": [
    "The best combinations of hyperparameters in DBScan were two, which gave the highest average metric score includes:\n",
    "\n",
    "(maximum distance between two samples, minimum number of samples)  = (3,3) and (3,5) "
   ]
  },
  {
   "cell_type": "markdown",
   "id": "de7781da",
   "metadata": {},
   "source": [
    "### OPTICS"
   ]
  },
  {
   "cell_type": "code",
   "execution_count": 25,
   "id": "ef405e72",
   "metadata": {},
   "outputs": [
    {
     "name": "stdout",
     "output_type": "stream",
     "text": [
      "Average of all scores for 3 samples is 1.1680984842696243\n",
      "Average of all scores for 4 samples is 1.1256880942644034\n",
      "Average of all scores for 5 samples is 1.0120426948827292\n",
      "Average of all scores for 6 samples is 1.4577796218285197\n",
      "Average of all scores for 7 samples is 1.4086355159351056\n",
      "Average of all scores for 8 samples is 1.3629972392002907\n"
     ]
    }
   ],
   "source": [
    "# Checking best value of minimum number of samples\n",
    "\n",
    "best_combination = [3,4,5,6,7,8]\n",
    "\n",
    "for i in best_combination:\n",
    "    model = OPTICS(min_samples=i)\n",
    "    model.fit(df)\n",
    "    \n",
    "    # Calculating intrinsic measures for each value of minimum samples\n",
    "    \n",
    "    silhouette = silhouette_score(df, model.labels_, metric='euclidean')\n",
    "    davies_bouldin = davies_bouldin_score(df, model.labels_)\n",
    "    \n",
    "    # Evaluating means of respective scores for each value of minimum samples\n",
    "\n",
    "    scores = [silhouette + davies_bouldin]\n",
    "    mean_scores = sum(scores)/len(scores)\n",
    "    print('Average of all scores for ' + str(i) + ' samples is ' + str(mean_scores))"
   ]
  },
  {
   "cell_type": "markdown",
   "id": "b6d3cf10",
   "metadata": {},
   "source": [
    "The best value of minimum number of samples in OPTICS is 6, which gave the highest average metric score."
   ]
  },
  {
   "cell_type": "markdown",
   "id": "99853136",
   "metadata": {},
   "source": [
    "### Affinity Propagation"
   ]
  },
  {
   "cell_type": "code",
   "execution_count": 26,
   "id": "64c91f08",
   "metadata": {},
   "outputs": [
    {
     "name": "stdout",
     "output_type": "stream",
     "text": [
      "Average of all scores for [0.5, 200] combination is 1.1386009440266007\n",
      "Average of all scores for [0.6, 300] combination is 1.1096541832185056\n",
      "Average of all scores for [0.7, 400] combination is 1.127578218169742\n",
      "Average of all scores for [0.8, 200] combination is 1.1131048431911226\n",
      "Average of all scores for [0.9, 500] combination is 1.1226637278653113\n"
     ]
    }
   ],
   "source": [
    "# Checking best combination of hyperparameters\n",
    "\n",
    "best_combination = [[0.5,200],[0.6,300],[0.7,400],[0.8,200],[0.9,500]]\n",
    "\n",
    "for i in best_combination:\n",
    "    model = AffinityPropagation(damping=i[0], max_iter=i[1], affinity=\"euclidean\", random_state=0)\n",
    "    model.fit(df)\n",
    "    \n",
    "    # Calculating intrinsic measures for each combination of hyperparameters\n",
    "    \n",
    "    silhouette = silhouette_score(df, model.labels_, metric='euclidean')\n",
    "    davies_bouldin = davies_bouldin_score(df, model.labels_)\n",
    "    \n",
    "    # Evaluating means of respective scores for each combination\n",
    "    \n",
    "    scores = [silhouette + davies_bouldin]\n",
    "    mean_scores = sum(scores)/len(scores)\n",
    "    print('Average of all scores for ' + str(i) + ' combination is ' + str(mean_scores))"
   ]
  },
  {
   "cell_type": "markdown",
   "id": "28780e2c",
   "metadata": {},
   "source": [
    "The best combinations of hyperparameters in Affinity Propagation which gave the highest average metric scores:\n",
    "\n",
    "damping value = 0.5, maximum iterations = 200"
   ]
  },
  {
   "cell_type": "markdown",
   "id": "63570763",
   "metadata": {},
   "source": [
    "### Spectral Clustering"
   ]
  },
  {
   "cell_type": "code",
   "execution_count": 235,
   "id": "82257982",
   "metadata": {},
   "outputs": [
    {
     "name": "stdout",
     "output_type": "stream",
     "text": [
      "Average of all scores for [5, 'discretize'] combination is 1.7539667743074623\n",
      "Average of all scores for [6, 'discretize'] combination is 1.5368673937222774\n",
      "Average of all scores for [7, 'kmeans'] combination is 0.9480364052366916\n",
      "Average of all scores for [8, 'kmeans'] combination is 0.9480364052366916\n",
      "Average of all scores for [9, 'discretize'] combination is 1.7581207515077708\n"
     ]
    }
   ],
   "source": [
    "# Checking best combination of hyperparameters\n",
    "\n",
    "best_combination = [[5,'discretize'],[6,'discretize'],[7,'kmeans'],[8,'kmeans'],[9,'discretize']]\n",
    "\n",
    "mean_score_list = []\n",
    "\n",
    "for i in best_combination:\n",
    "    model = SpectralClustering(n_clusters=i[0], assign_labels=i[1], random_state=0)\n",
    "    model.fit(df)\n",
    "    \n",
    "    # Calculating intrinsic measures for each combination of hyperparameters\n",
    "\n",
    "    silhouette = silhouette_score(df, model.labels_, metric='euclidean')\n",
    "    davies_bouldin = davies_bouldin_score(df, model.labels_)\n",
    "    \n",
    "    # Evaluating means of respective scores for each combination\n",
    "    \n",
    "    scores = [silhouette + davies_bouldin]\n",
    "    mean_scores = sum(scores)/len(scores)\n",
    "    print('Average of all scores for ' + str(i) + ' combination is ' + str(mean_scores))\n",
    "    mean_score_list.append(mean_scores)"
   ]
  },
  {
   "cell_type": "markdown",
   "id": "8f36d1e4",
   "metadata": {},
   "source": [
    "The best combination of hyperparameters in Spectral Clustering that gave the highest average metric score includes:\n",
    "\n",
    "number of clusters = 9, assign labels = 'discretize'"
   ]
  },
  {
   "cell_type": "markdown",
   "id": "17d10437",
   "metadata": {},
   "source": [
    "#### Plotting each combination's performance"
   ]
  },
  {
   "cell_type": "code",
   "execution_count": 236,
   "id": "b6c6ea23",
   "metadata": {},
   "outputs": [
    {
     "data": {
      "image/png": "[encoded data removed]",
      "text/plain": [
       "<Figure size 864x432 with 1 Axes>"
      ]
     },
     "metadata": {},
     "output_type": "display_data"
    }
   ],
   "source": [
    "list_of_combinations = [best_combination[0], best_combination[1], best_combination[2], best_combination[3], best_combination[4]]\n",
    "plt.figure(figsize = (12,6))\n",
    "plt.plot(mean_score_list, marker = 's', label = [list_of_combinations])\n",
    "plt.xlabel('Combinations', fontsize=13)\n",
    "plt.ylabel('Average Metric Scores', fontsize=13)\n",
    "plt.title('Spectral Clustering Hyperparameter Combinations', fontsize=15)\n",
    "plt.xticks([0,1,2,3,4], list_of_combinations)\n",
    "plt.show()"
   ]
  },
  {
   "cell_type": "markdown",
   "id": "7c5d5a75",
   "metadata": {},
   "source": [
    "### Bayesian Gaussian Mixture"
   ]
  },
  {
   "cell_type": "code",
   "execution_count": 29,
   "id": "4d227204",
   "metadata": {},
   "outputs": [
    {
     "name": "stdout",
     "output_type": "stream",
     "text": [
      "Average of all scores for [2, 'full'] combination is 2.615033861291491\n",
      "Average of all scores for [3, 'tied'] combination is 1.5691363999920571\n",
      "Average of all scores for [4, 'diag'] combination is 2.064076775243002\n",
      "Average of all scores for [5, 'spherical'] combination is 1.7742804218686299\n",
      "Average of all scores for [6, 'full'] combination is 1.5901095058480557\n",
      "Average of all scores for [7, 'spherical'] combination is 2.125979438704685\n",
      "Average of all scores for [8, 'diag'] combination is 1.6429932545009702\n"
     ]
    }
   ],
   "source": [
    "# Checking best combination of hyperparameters\n",
    "\n",
    "best_combination = [[2,'full'],[3,'tied'],[4,'diag'],[5,'spherical'],[6,'full'],[7, 'spherical'],[8, 'diag']]\n",
    "\n",
    "for i in best_combination:\n",
    "    model = BayesianGaussianMixture(n_components=i[0], covariance_type=i[1], random_state=0)\n",
    "    labels = model.fit(df).fit_predict(df)\n",
    "    \n",
    "    # Calculating intrinsic measures for each combination of hyperparameters\n",
    "    \n",
    "    silhouette = silhouette_score(df, labels, metric='euclidean')\n",
    "    davies_bouldin = davies_bouldin_score(df, labels)\n",
    "    \n",
    "    # Evaluating means of respective scores for each combination\n",
    "\n",
    "    scores = [silhouette + davies_bouldin]\n",
    "    mean_scores = sum(scores)/len(scores)\n",
    "    print('Average of all scores for ' + str(i) + ' combination is ' + str(mean_scores))"
   ]
  },
  {
   "cell_type": "markdown",
   "id": "3ec47e8d",
   "metadata": {},
   "source": [
    "The best combination of hyperparameters in Bayesian Gaussian Mixture that gave the highest average metric score includes:\n",
    "\n",
    "number of components = 2, covariance type = 'full'"
   ]
  },
  {
   "cell_type": "markdown",
   "id": "42777863",
   "metadata": {},
   "source": [
    "### Gaussian Mixture Model"
   ]
  },
  {
   "cell_type": "code",
   "execution_count": 237,
   "id": "5ab44af4",
   "metadata": {},
   "outputs": [
    {
     "name": "stdout",
     "output_type": "stream",
     "text": [
      "Average of all scores for [2, 'full'] combination is 2.316420667405172\n",
      "Average of all scores for [3, 'tied'] combination is 1.5691363999920571\n",
      "Average of all scores for [4, 'diag'] combination is 1.7996635722948828\n",
      "Average of all scores for [5, 'spherical'] combination is 1.8510811408565093\n",
      "Average of all scores for [6, 'full'] combination is 1.5123473702732848\n",
      "Average of all scores for [7, 'spherical'] combination is 1.7068611589193632\n",
      "Average of all scores for [8, 'diag'] combination is 1.8198539098234559\n"
     ]
    }
   ],
   "source": [
    "# Checking best combination of hyperparameters\n",
    "\n",
    "best_combination = [[2,'full'],[3,'tied'],[4,'diag'],[5,'spherical'],[6,'full'],[7, 'spherical'],[8, 'diag']]\n",
    "\n",
    "mean_score_list = []\n",
    "\n",
    "for i in best_combination:\n",
    "    model = GaussianMixture(n_components=i[0], covariance_type=i[1], random_state=0)\n",
    "    labels = model.fit(df).fit_predict(df)\n",
    "    \n",
    "    # Calculating intrinsic measures for each combination of hyperparameters\n",
    "    \n",
    "    silhouette = silhouette_score(df, labels, metric='euclidean')\n",
    "    davies_bouldin = davies_bouldin_score(df, labels)\n",
    "    \n",
    "    # Evaluating means of respective scores for each combination\n",
    "\n",
    "    scores = [silhouette + davies_bouldin]\n",
    "    mean_scores = sum(scores)/len(scores)\n",
    "    print('Average of all scores for ' + str(i) + ' combination is ' + str(mean_scores))\n",
    "    mean_score_list.append(mean_scores)"
   ]
  },
  {
   "cell_type": "markdown",
   "id": "35f1e918",
   "metadata": {},
   "source": [
    "The best combination of hyperparameters in Gaussian Mixture Model that gave the highest average metric score includes:\n",
    "\n",
    "number of components = 2, covariance type = 'full'"
   ]
  },
  {
   "cell_type": "markdown",
   "id": "bbab8f03",
   "metadata": {},
   "source": [
    "#### Plotting each combination's performance"
   ]
  },
  {
   "cell_type": "code",
   "execution_count": 238,
   "id": "c5854582",
   "metadata": {},
   "outputs": [
    {
     "data": {
      "image/png": "[encoded data removed]",
      "text/plain": [
       "<Figure size 864x432 with 1 Axes>"
      ]
     },
     "metadata": {},
     "output_type": "display_data"
    }
   ],
   "source": [
    "list_of_combinations = [best_combination[0], best_combination[1], best_combination[2], best_combination[3], best_combination[4],\n",
    "                       best_combination[5], best_combination[6]]\n",
    "plt.figure(figsize = (12,6))\n",
    "plt.plot(mean_score_list, marker = 's', label = [list_of_combinations])\n",
    "plt.xlabel('Combinations', fontsize=13)\n",
    "plt.ylabel('Average Metric Scores', fontsize=13)\n",
    "plt.title('Gaussian Mixture Model Hyperparameter Combinations', fontsize=15)\n",
    "plt.xticks([0,1,2,3,4,5,6], list_of_combinations)\n",
    "plt.show()"
   ]
  },
  {
   "cell_type": "markdown",
   "id": "e351cf5f",
   "metadata": {},
   "source": [
    "#### Analysis:\n",
    "\n",
    "1) It is observed that the GMM outperforms Mini Batch KMeans with highest average score, which shows that the GMM is better at modeling the data according to the chosen performance metrics. This could be because the GMM is more flexible and able to capture more complex patterns in the data.\n",
    "\n",
    "2) It is observed that the GMM outperforms Agglomerative Clustering with highest average score, it suggests that the GMM is able to more accurately and effectively cluster the data into distinct groups. This may be due to the fact that the GMM is able to account for the uncertainty in the data, whereas the Agglomerative clustering approach may be more rigid in its grouping of the data.\n",
    "\n",
    "3) It is observed that the GMM outperforms DBScan with highest average score, which shows that that the GMM is better at clustering the data and correctly identifying the underlying structure of the data. This could be due to the fact that the GMM uses probabilistic clustering, which allows it to account for uncertainty and potential overlap between clusters. In contrast, the DBScan model uses a density-based approach and may be more sensitive to noise or outliers in the data. \n",
    "\n",
    "4) It is observed that the GMM outperforms OPTICS with highest average score, which shows that GMM is more effective at accurately clustering the data. This could be due to the GMM's ability to handle multimodal data and its flexibility in modeling the underlying distribution of the data.\n",
    "\n",
    "5) It is observed that the GMM outperforms Affinity Propagation with highest average score, which shows that the GMM is a better fit for the data and is able to more accurately predict or classify the data. This could be due to the GMM's ability to model data using a continuous distribution, as opposed to the discrete clustering method used by Affinity propagation.\n",
    "\n",
    "6) It is observed that the GMM outperforms Spectral Clustering with highest average score, which shows that the GMM is a better fit for the given data and produces more accurate or effective clustering results. This may be due to the GMM's ability to handle mixed data types and account for uncertainty in the data, or because it is more robust to noise or outliers in the data.\n",
    "\n",
    "7) It is observed that the Bayesian GMM outperforms GMM with highest average score, which shows that the Bayesian version may be slightly more effective in accurately identifying patterns and classifying data points within the dataset. This could be due to the Bayesian model's ability to incorporate prior knowledge and incorporate uncertainties in its predictions, which may lead to more accurate and robust results."
   ]
  },
  {
   "cell_type": "markdown",
   "id": "8f520294",
   "metadata": {},
   "source": [
    "#### Experiment with different values of all possible hyperparameters of GMM"
   ]
  },
  {
   "cell_type": "markdown",
   "id": "251e6324",
   "metadata": {},
   "source": [
    "### Parameter changes:"
   ]
  },
  {
   "cell_type": "markdown",
   "id": "6f505213",
   "metadata": {},
   "source": [
    "#### (1) Based on number of components"
   ]
  },
  {
   "cell_type": "code",
   "execution_count": 31,
   "id": "27c59c15",
   "metadata": {},
   "outputs": [
    {
     "name": "stdout",
     "output_type": "stream",
     "text": [
      "Average of all scores for 2 components is 2.316420667405172\n",
      "Average of all scores for 3 components is 2.2384656808692758\n",
      "Average of all scores for 4 components is 1.5846172497262259\n",
      "Average of all scores for 5 components is 1.4649477680086653\n",
      "Average of all scores for 6 components is 1.5123473702732848\n",
      "Average of all scores for 7 components is 1.5799037831507277\n"
     ]
    }
   ],
   "source": [
    "# Changing number of components to obtain the best value\n",
    "\n",
    "number_of_components = [2,3,4,5,6,7]\n",
    "\n",
    "for i in number_of_components:\n",
    "    model = GaussianMixture(n_components=i, covariance_type='full', reg_covar=1e-6, random_state=0)\n",
    "    labels = model.fit(df).fit_predict(df)\n",
    "    \n",
    "    # Calculating intrinsic measures for each value of number of components\n",
    "    \n",
    "    silhouette = silhouette_score(df, labels, metric='euclidean')\n",
    "    davies_bouldin = davies_bouldin_score(df, labels)\n",
    "    \n",
    "    # Evaluating means of respective scores for each value of number of components\n",
    "\n",
    "    scores = [silhouette + davies_bouldin]\n",
    "    mean_scores = sum(scores)/len(scores)\n",
    "    print('Average of all scores for ' + str(i) + ' components is ' + str(mean_scores))"
   ]
  },
  {
   "cell_type": "markdown",
   "id": "0418f488",
   "metadata": {},
   "source": [
    "Upon increasing and decreasing the number of components parameter in GMM, it is observed that the best score is obtained when the number of components are 2. This shows that the model is able to accurately classify the data using fewer components or clusters. This may indicate that the  model is able to effectively capture the underlying structure of the data using fewer components."
   ]
  },
  {
   "cell_type": "markdown",
   "id": "f203b08f",
   "metadata": {},
   "source": [
    "#### (2) Based on covariance type"
   ]
  },
  {
   "cell_type": "code",
   "execution_count": 33,
   "id": "8adaa33b",
   "metadata": {},
   "outputs": [
    {
     "name": "stdout",
     "output_type": "stream",
     "text": [
      "Average of all scores for full covariance type is 2.316420667405172\n",
      "Average of all scores for tied covariance type is 2.067201031785499\n",
      "Average of all scores for diag covariance type is 2.2623160484819302\n",
      "Average of all scores for spherical covariance type is 1.5362448121540833\n"
     ]
    }
   ],
   "source": [
    "# Changing covariance type to obtain the best value\n",
    "\n",
    "type_of_covariance = ['full', 'tied', 'diag', 'spherical']\n",
    "\n",
    "for i in type_of_covariance:\n",
    "    model = GaussianMixture(n_components=2, covariance_type=i, reg_covar=1e-6, random_state=0)\n",
    "    labels = model.fit(df).fit_predict(df)\n",
    "    \n",
    "    # Calculating intrinsic measures for each covariance type\n",
    "    \n",
    "    silhouette = silhouette_score(df, labels, metric='euclidean')\n",
    "    davies_bouldin = davies_bouldin_score(df, labels)\n",
    "    \n",
    "    # Evaluating means of respective scores for each covariance type\n",
    "\n",
    "    scores = [silhouette + davies_bouldin]\n",
    "    mean_scores = sum(scores)/len(scores)\n",
    "    print('Average of all scores for ' + str(i) + ' covariance type is ' + str(mean_scores))"
   ]
  },
  {
   "cell_type": "markdown",
   "id": "3ffd2f06",
   "metadata": {},
   "source": [
    "Upon changing the type of covariance parameter in GMM, it is observed that the best score is obtained when the covariance type is 'full'. This suggests that 'full' covariance parameter allows the model to fit more complex and flexible distributions, allowing it to better represent the data. This can result in improved accuracy and predictive performance for the model."
   ]
  },
  {
   "cell_type": "markdown",
   "id": "dbf2a5a1",
   "metadata": {},
   "source": [
    "#### (3) Based on regularization of covariance"
   ]
  },
  {
   "cell_type": "code",
   "execution_count": 36,
   "id": "d19c42f0",
   "metadata": {},
   "outputs": [
    {
     "name": "stdout",
     "output_type": "stream",
     "text": [
      "Average of all scores for regularized covariance of 1e-20 is 2.2623160484819302\n",
      "Average of all scores for regularized covariance of 1e-10 is 2.2840038124539155\n",
      "Average of all scores for regularized covariance of 1e-06 is 2.316420667405172\n",
      "Average of all scores for regularized covariance of 0.5 is 1.8516052724549132\n",
      "Average of all scores for regularized covariance of 1.5 is 1.8069439815937063\n",
      "Average of all scores for regularized covariance of 3 is 1.9572485982345\n"
     ]
    }
   ],
   "source": [
    "# Changing the value of regularized covariance to obtain the best value\n",
    "\n",
    "regularization_covariance = [1e-20, 1e-10, 1e-6, 0.5, 1.5, 3]\n",
    "\n",
    "for i in regularization_covariance:\n",
    "    model = GaussianMixture(n_components=2, covariance_type='full', reg_covar=i, random_state=0)\n",
    "    labels = model.fit(df).fit_predict(df)\n",
    "    \n",
    "    # Calculating intrinsic measures for each value of regularized covariance\n",
    "    \n",
    "    silhouette = silhouette_score(df, labels, metric='euclidean')\n",
    "    davies_bouldin = davies_bouldin_score(df, labels)\n",
    "    \n",
    "    # Evaluating means of respective scores for each value of regularized covariance\n",
    "\n",
    "    scores = [silhouette + davies_bouldin]\n",
    "    mean_scores = sum(scores)/len(scores)\n",
    "    print('Average of all scores for ' + 'regularized covariance of ' + str(i) + ' is ' + str(mean_scores))"
   ]
  },
  {
   "cell_type": "markdown",
   "id": "38e2d28c",
   "metadata": {},
   "source": [
    "Upon increasing and decreasing the regularized covariance in GMM, it is observed that the best score is obtained when the value is 1e-6. This suggests that the model is performing better when the regularization of the covariance matrices is set to a small value. This could indicate that the model is able to better fit the data when the regularization is set to a lower value, possibly because it is able to more accurately capture the underlying relationships in the data."
   ]
  },
  {
   "cell_type": "markdown",
   "id": "109a88fa",
   "metadata": {},
   "source": [
    "## Dataset 02: Stone flakes data"
   ]
  },
  {
   "cell_type": "markdown",
   "id": "29b386f6",
   "metadata": {},
   "source": [
    "Stone flakes are waste products of the stone tool production in the prehistoric era. The data set concerns the earliest history of mankind. Prehistoric men created the desired shape of a stone tool by striking on a raw stone, thus splitting off flakes, the waste products of the crafting process. Its rows do not stand for single flakes but for whole inventories of them. The given features are relative frequencies of binary, and mean values of numerical characteristics taken over all pieces found in the inventory. It contains 79 rows and 9 columns."
   ]
  },
  {
   "cell_type": "code",
   "execution_count": 38,
   "id": "6eb395d6",
   "metadata": {},
   "outputs": [],
   "source": [
    "# Saving the dataset as csv\n",
    "\n",
    "df2 = pd.read_csv('StoneFlakes.dat')\n",
    "df2.to_csv('StoneFlakes.csv', sep = ',', index=True)"
   ]
  },
  {
   "cell_type": "code",
   "execution_count": 39,
   "id": "a56201fe",
   "metadata": {},
   "outputs": [
    {
     "data": {
      "text/html": [
       "<div>\n",
       "<style scoped>\n",
       "    .dataframe tbody tr th:only-of-type {\n",
       "        vertical-align: middle;\n",
       "    }\n",
       "\n",
       "    .dataframe tbody tr th {\n",
       "        vertical-align: top;\n",
       "    }\n",
       "\n",
       "    .dataframe thead th {\n",
       "        text-align: right;\n",
       "    }\n",
       "</style>\n",
       "<table border=\"1\" class=\"dataframe\">\n",
       "  <thead>\n",
       "    <tr style=\"text-align: right;\">\n",
       "      <th></th>\n",
       "      <th>Unnamed: 0</th>\n",
       "      <th>Unnamed: 1</th>\n",
       "      <th>Unnamed: 2</th>\n",
       "      <th>Unnamed: 3</th>\n",
       "      <th>Unnamed: 4</th>\n",
       "      <th>Unnamed: 5</th>\n",
       "      <th>Unnamed: 6</th>\n",
       "      <th>ID    LBI   RTI  WDI FLA  PSF  FSF ZDF1 PROZD</th>\n",
       "    </tr>\n",
       "  </thead>\n",
       "  <tbody>\n",
       "    <tr>\n",
       "      <th>0</th>\n",
       "      <td>ar      ?</td>\n",
       "      <td>35.3</td>\n",
       "      <td>2.60</td>\n",
       "      <td>?</td>\n",
       "      <td>42.4</td>\n",
       "      <td>24.2</td>\n",
       "      <td>47.1</td>\n",
       "      <td>69</td>\n",
       "    </tr>\n",
       "    <tr>\n",
       "      <th>1</th>\n",
       "      <td>arn  1.23</td>\n",
       "      <td>27.0</td>\n",
       "      <td>3.59</td>\n",
       "      <td>122</td>\n",
       "      <td>0.0</td>\n",
       "      <td>40.0</td>\n",
       "      <td>40.0</td>\n",
       "      <td>30</td>\n",
       "    </tr>\n",
       "    <tr>\n",
       "      <th>2</th>\n",
       "      <td>be   1.24</td>\n",
       "      <td>26.5</td>\n",
       "      <td>2.90</td>\n",
       "      <td>121</td>\n",
       "      <td>16.0</td>\n",
       "      <td>20.7</td>\n",
       "      <td>29.7</td>\n",
       "      <td>72</td>\n",
       "    </tr>\n",
       "    <tr>\n",
       "      <th>3</th>\n",
       "      <td>bi1  1.07</td>\n",
       "      <td>29.1</td>\n",
       "      <td>3.10</td>\n",
       "      <td>114</td>\n",
       "      <td>44.0</td>\n",
       "      <td>2.6</td>\n",
       "      <td>26.3</td>\n",
       "      <td>68</td>\n",
       "    </tr>\n",
       "    <tr>\n",
       "      <th>4</th>\n",
       "      <td>bi2  1.08</td>\n",
       "      <td>43.7</td>\n",
       "      <td>2.40</td>\n",
       "      <td>105</td>\n",
       "      <td>32.6</td>\n",
       "      <td>5.8</td>\n",
       "      <td>10.7</td>\n",
       "      <td>42</td>\n",
       "    </tr>\n",
       "  </tbody>\n",
       "</table>\n",
       "</div>"
      ],
      "text/plain": [
       "  Unnamed: 0  Unnamed: 1  Unnamed: 2 Unnamed: 3 Unnamed: 4 Unnamed: 5  \\\n",
       "0  ar      ?        35.3        2.60          ?       42.4       24.2   \n",
       "1  arn  1.23        27.0        3.59        122        0.0       40.0   \n",
       "2  be   1.24        26.5        2.90        121       16.0       20.7   \n",
       "3  bi1  1.07        29.1        3.10        114       44.0        2.6   \n",
       "4  bi2  1.08        43.7        2.40        105       32.6        5.8   \n",
       "\n",
       "  Unnamed: 6  ID    LBI   RTI  WDI FLA  PSF  FSF ZDF1 PROZD  \n",
       "0       47.1                                             69  \n",
       "1       40.0                                             30  \n",
       "2       29.7                                             72  \n",
       "3       26.3                                             68  \n",
       "4       10.7                                             42  "
      ]
     },
     "execution_count": 39,
     "metadata": {},
     "output_type": "execute_result"
    }
   ],
   "source": [
    "# Loading the dataset\n",
    "\n",
    "df2 = pd.read_csv('StoneFlakes.csv')\n",
    "df2.head()"
   ]
  },
  {
   "cell_type": "code",
   "execution_count": 40,
   "id": "ba5abd6d",
   "metadata": {},
   "outputs": [
    {
     "data": {
      "text/html": [
       "<div>\n",
       "<style scoped>\n",
       "    .dataframe tbody tr th:only-of-type {\n",
       "        vertical-align: middle;\n",
       "    }\n",
       "\n",
       "    .dataframe tbody tr th {\n",
       "        vertical-align: top;\n",
       "    }\n",
       "\n",
       "    .dataframe thead th {\n",
       "        text-align: right;\n",
       "    }\n",
       "</style>\n",
       "<table border=\"1\" class=\"dataframe\">\n",
       "  <thead>\n",
       "    <tr style=\"text-align: right;\">\n",
       "      <th></th>\n",
       "      <th>ID</th>\n",
       "      <th>RTI</th>\n",
       "      <th>WDI</th>\n",
       "      <th>FLA</th>\n",
       "      <th>PSF</th>\n",
       "      <th>FSF</th>\n",
       "      <th>ZDF1</th>\n",
       "      <th>PROZD</th>\n",
       "    </tr>\n",
       "  </thead>\n",
       "  <tbody>\n",
       "    <tr>\n",
       "      <th>0</th>\n",
       "      <td>ar      ?</td>\n",
       "      <td>35.3</td>\n",
       "      <td>2.60</td>\n",
       "      <td>?</td>\n",
       "      <td>42.4</td>\n",
       "      <td>24.2</td>\n",
       "      <td>47.1</td>\n",
       "      <td>69</td>\n",
       "    </tr>\n",
       "    <tr>\n",
       "      <th>1</th>\n",
       "      <td>arn  1.23</td>\n",
       "      <td>27.0</td>\n",
       "      <td>3.59</td>\n",
       "      <td>122</td>\n",
       "      <td>0.0</td>\n",
       "      <td>40.0</td>\n",
       "      <td>40.0</td>\n",
       "      <td>30</td>\n",
       "    </tr>\n",
       "    <tr>\n",
       "      <th>2</th>\n",
       "      <td>be   1.24</td>\n",
       "      <td>26.5</td>\n",
       "      <td>2.90</td>\n",
       "      <td>121</td>\n",
       "      <td>16.0</td>\n",
       "      <td>20.7</td>\n",
       "      <td>29.7</td>\n",
       "      <td>72</td>\n",
       "    </tr>\n",
       "    <tr>\n",
       "      <th>3</th>\n",
       "      <td>bi1  1.07</td>\n",
       "      <td>29.1</td>\n",
       "      <td>3.10</td>\n",
       "      <td>114</td>\n",
       "      <td>44.0</td>\n",
       "      <td>2.6</td>\n",
       "      <td>26.3</td>\n",
       "      <td>68</td>\n",
       "    </tr>\n",
       "    <tr>\n",
       "      <th>4</th>\n",
       "      <td>bi2  1.08</td>\n",
       "      <td>43.7</td>\n",
       "      <td>2.40</td>\n",
       "      <td>105</td>\n",
       "      <td>32.6</td>\n",
       "      <td>5.8</td>\n",
       "      <td>10.7</td>\n",
       "      <td>42</td>\n",
       "    </tr>\n",
       "  </tbody>\n",
       "</table>\n",
       "</div>"
      ],
      "text/plain": [
       "          ID   RTI   WDI  FLA   PSF   FSF  ZDF1  PROZD\n",
       "0  ar      ?  35.3  2.60    ?  42.4  24.2  47.1     69\n",
       "1  arn  1.23  27.0  3.59  122   0.0  40.0  40.0     30\n",
       "2  be   1.24  26.5  2.90  121  16.0  20.7  29.7     72\n",
       "3  bi1  1.07  29.1  3.10  114  44.0   2.6  26.3     68\n",
       "4  bi2  1.08  43.7  2.40  105  32.6   5.8  10.7     42"
      ]
     },
     "execution_count": 40,
     "metadata": {},
     "output_type": "execute_result"
    }
   ],
   "source": [
    "# Assigning column names\n",
    "\n",
    "colnames = ['ID', 'RTI', 'WDI', 'FLA', 'PSF', 'FSF', 'ZDF1', 'PROZD']\n",
    "df2.columns = colnames\n",
    "df2.head()"
   ]
  },
  {
   "cell_type": "code",
   "execution_count": 41,
   "id": "956ea9d4",
   "metadata": {},
   "outputs": [
    {
     "data": {
      "text/html": [
       "<div>\n",
       "<style scoped>\n",
       "    .dataframe tbody tr th:only-of-type {\n",
       "        vertical-align: middle;\n",
       "    }\n",
       "\n",
       "    .dataframe tbody tr th {\n",
       "        vertical-align: top;\n",
       "    }\n",
       "\n",
       "    .dataframe thead th {\n",
       "        text-align: right;\n",
       "    }\n",
       "</style>\n",
       "<table border=\"1\" class=\"dataframe\">\n",
       "  <thead>\n",
       "    <tr style=\"text-align: right;\">\n",
       "      <th></th>\n",
       "      <th>ID</th>\n",
       "      <th>LBI</th>\n",
       "      <th>RTI</th>\n",
       "      <th>WDI</th>\n",
       "      <th>FLA</th>\n",
       "      <th>PSF</th>\n",
       "      <th>FSF</th>\n",
       "      <th>ZDF1</th>\n",
       "      <th>PROZD</th>\n",
       "    </tr>\n",
       "  </thead>\n",
       "  <tbody>\n",
       "    <tr>\n",
       "      <th>0</th>\n",
       "      <td>ar</td>\n",
       "      <td>?</td>\n",
       "      <td>35.3</td>\n",
       "      <td>2.60</td>\n",
       "      <td>?</td>\n",
       "      <td>42.4</td>\n",
       "      <td>24.2</td>\n",
       "      <td>47.1</td>\n",
       "      <td>69</td>\n",
       "    </tr>\n",
       "    <tr>\n",
       "      <th>1</th>\n",
       "      <td>arn</td>\n",
       "      <td>1.23</td>\n",
       "      <td>27.0</td>\n",
       "      <td>3.59</td>\n",
       "      <td>122</td>\n",
       "      <td>0.0</td>\n",
       "      <td>40.0</td>\n",
       "      <td>40.0</td>\n",
       "      <td>30</td>\n",
       "    </tr>\n",
       "    <tr>\n",
       "      <th>2</th>\n",
       "      <td>be</td>\n",
       "      <td>1.24</td>\n",
       "      <td>26.5</td>\n",
       "      <td>2.90</td>\n",
       "      <td>121</td>\n",
       "      <td>16.0</td>\n",
       "      <td>20.7</td>\n",
       "      <td>29.7</td>\n",
       "      <td>72</td>\n",
       "    </tr>\n",
       "    <tr>\n",
       "      <th>3</th>\n",
       "      <td>bi1</td>\n",
       "      <td>1.07</td>\n",
       "      <td>29.1</td>\n",
       "      <td>3.10</td>\n",
       "      <td>114</td>\n",
       "      <td>44.0</td>\n",
       "      <td>2.6</td>\n",
       "      <td>26.3</td>\n",
       "      <td>68</td>\n",
       "    </tr>\n",
       "    <tr>\n",
       "      <th>4</th>\n",
       "      <td>bi2</td>\n",
       "      <td>1.08</td>\n",
       "      <td>43.7</td>\n",
       "      <td>2.40</td>\n",
       "      <td>105</td>\n",
       "      <td>32.6</td>\n",
       "      <td>5.8</td>\n",
       "      <td>10.7</td>\n",
       "      <td>42</td>\n",
       "    </tr>\n",
       "  </tbody>\n",
       "</table>\n",
       "</div>"
      ],
      "text/plain": [
       "    ID     LBI   RTI   WDI  FLA   PSF   FSF  ZDF1  PROZD\n",
       "0   ar       ?  35.3  2.60    ?  42.4  24.2  47.1     69\n",
       "1  arn    1.23  27.0  3.59  122   0.0  40.0  40.0     30\n",
       "2   be    1.24  26.5  2.90  121  16.0  20.7  29.7     72\n",
       "3  bi1    1.07  29.1  3.10  114  44.0   2.6  26.3     68\n",
       "4  bi2    1.08  43.7  2.40  105  32.6   5.8  10.7     42"
      ]
     },
     "execution_count": 41,
     "metadata": {},
     "output_type": "execute_result"
    }
   ],
   "source": [
    "# Splitting the first column into two columns\n",
    "\n",
    "df2[['ID', 'LBI']]= df2['ID'].str.split(\" \", n = 1, expand = True)\n",
    "df2 = df2[[\"ID\", \"LBI\", \"RTI\", \"WDI\", \"FLA\", \"PSF\", \"FSF\", \"ZDF1\", \"PROZD\"]]\n",
    "df2.head()"
   ]
  },
  {
   "cell_type": "code",
   "execution_count": 42,
   "id": "a923dd8e",
   "metadata": {},
   "outputs": [
    {
     "data": {
      "text/plain": [
       "(79, 9)"
      ]
     },
     "execution_count": 42,
     "metadata": {},
     "output_type": "execute_result"
    }
   ],
   "source": [
    "# Data shape\n",
    "\n",
    "df2.shape"
   ]
  },
  {
   "cell_type": "code",
   "execution_count": 43,
   "id": "5963e2c2",
   "metadata": {},
   "outputs": [
    {
     "data": {
      "text/plain": [
       "0"
      ]
     },
     "execution_count": 43,
     "metadata": {},
     "output_type": "execute_result"
    }
   ],
   "source": [
    "# Checking null values\n",
    "\n",
    "df2.isna().sum().sum()"
   ]
  },
  {
   "cell_type": "code",
   "execution_count": 50,
   "id": "a26a8176",
   "metadata": {},
   "outputs": [],
   "source": [
    "# Converting string columns to float\n",
    "\n",
    "df2['LBI'] = pd.to_numeric(df2['LBI'], errors='coerce').astype('float64')\n",
    "df2['FLA'] = pd.to_numeric(df2['FLA'], errors='coerce').astype('float64')\n",
    "df2['PSF'] = pd.to_numeric(df2['PSF'], errors='coerce').astype('float64')\n",
    "df2['FSF'] = pd.to_numeric(df2['FSF'], errors='coerce').astype('float64')\n",
    "df2['ZDF1'] = pd.to_numeric(df2['ZDF1'], errors='coerce').astype('float64')"
   ]
  },
  {
   "cell_type": "code",
   "execution_count": 52,
   "id": "4f91cf77",
   "metadata": {},
   "outputs": [],
   "source": [
    "# Converting string columns to integer\n",
    "\n",
    "for i in df2.select_dtypes(include=[object]).columns:\n",
    "    df2[i] = pd.factorize(df2[i])[0] + 1"
   ]
  },
  {
   "cell_type": "code",
   "execution_count": 57,
   "id": "1dfeceed",
   "metadata": {},
   "outputs": [],
   "source": [
    "# Dropping null values\n",
    "\n",
    "df2 = df2.dropna()"
   ]
  },
  {
   "cell_type": "code",
   "execution_count": 59,
   "id": "4d37dd89",
   "metadata": {},
   "outputs": [],
   "source": [
    "# Normalizing the data \n",
    "\n",
    "ss=StandardScaler()\n",
    "for i in df2.columns:\n",
    "    df2[i] = ss.fit_transform(df2[[i]])"
   ]
  },
  {
   "cell_type": "code",
   "execution_count": 63,
   "id": "894fefca",
   "metadata": {},
   "outputs": [
    {
     "name": "stdout",
     "output_type": "stream",
     "text": [
      "For MiniBatchKMeans, the ideal number of clusters are  4\n",
      "Based on dendrogram, the ideal number of clusters are  3\n"
     ]
    },
    {
     "data": {
      "image/png": "[encoded data removed]",
      "text/plain": [
       "<Figure size 1440x432 with 3 Axes>"
      ]
     },
     "metadata": {},
     "output_type": "display_data"
    }
   ],
   "source": [
    "# Calling function to create elbow curve and dendrogram\n",
    "\n",
    "elbow_curve_and_dendrogram(df2, 4, 5, 3)"
   ]
  },
  {
   "cell_type": "code",
   "execution_count": 64,
   "id": "ade04143",
   "metadata": {},
   "outputs": [
    {
     "data": {
      "text/html": [
       "<div>\n",
       "<style scoped>\n",
       "    .dataframe tbody tr th:only-of-type {\n",
       "        vertical-align: middle;\n",
       "    }\n",
       "\n",
       "    .dataframe tbody tr th {\n",
       "        vertical-align: top;\n",
       "    }\n",
       "\n",
       "    .dataframe thead th {\n",
       "        text-align: right;\n",
       "    }\n",
       "</style>\n",
       "<table border=\"1\" class=\"dataframe\">\n",
       "  <thead>\n",
       "    <tr style=\"text-align: right;\">\n",
       "      <th></th>\n",
       "      <th>silhouette_score</th>\n",
       "      <th>davies_bouldin_score</th>\n",
       "    </tr>\n",
       "  </thead>\n",
       "  <tbody>\n",
       "    <tr>\n",
       "      <th>MiniBatchKMeans</th>\n",
       "      <td>0.233629</td>\n",
       "      <td>1.469048</td>\n",
       "    </tr>\n",
       "    <tr>\n",
       "      <th>AgglomerativeClustering</th>\n",
       "      <td>0.196949</td>\n",
       "      <td>1.767869</td>\n",
       "    </tr>\n",
       "    <tr>\n",
       "      <th>DBSCAN</th>\n",
       "      <td>0.294069</td>\n",
       "      <td>3.042464</td>\n",
       "    </tr>\n",
       "    <tr>\n",
       "      <th>OPTICS</th>\n",
       "      <td>-0.083609</td>\n",
       "      <td>1.967784</td>\n",
       "    </tr>\n",
       "    <tr>\n",
       "      <th>Spectral Clustering</th>\n",
       "      <td>0.289420</td>\n",
       "      <td>1.293410</td>\n",
       "    </tr>\n",
       "    <tr>\n",
       "      <th>Affinity Propagation</th>\n",
       "      <td>0.208006</td>\n",
       "      <td>1.231518</td>\n",
       "    </tr>\n",
       "  </tbody>\n",
       "</table>\n",
       "</div>"
      ],
      "text/plain": [
       "                         silhouette_score  davies_bouldin_score\n",
       "MiniBatchKMeans                  0.233629              1.469048\n",
       "AgglomerativeClustering          0.196949              1.767869\n",
       "DBSCAN                           0.294069              3.042464\n",
       "OPTICS                          -0.083609              1.967784\n",
       "Spectral Clustering              0.289420              1.293410\n",
       "Affinity Propagation             0.208006              1.231518"
      ]
     },
     "execution_count": 64,
     "metadata": {},
     "output_type": "execute_result"
    }
   ],
   "source": [
    "# Calling function to create a dataframe of metric scores for six clustering algorithms\n",
    "\n",
    "evaluation_matrix(df2, elbow_best_value, 3, 5, 3, 5, 2, 'discretize', 0.8, 500, 'euclidean')"
   ]
  },
  {
   "cell_type": "code",
   "execution_count": 65,
   "id": "a8676938",
   "metadata": {},
   "outputs": [
    {
     "data": {
      "text/html": [
       "<div>\n",
       "<style scoped>\n",
       "    .dataframe tbody tr th:only-of-type {\n",
       "        vertical-align: middle;\n",
       "    }\n",
       "\n",
       "    .dataframe tbody tr th {\n",
       "        vertical-align: top;\n",
       "    }\n",
       "\n",
       "    .dataframe thead th {\n",
       "        text-align: right;\n",
       "    }\n",
       "</style>\n",
       "<table border=\"1\" class=\"dataframe\">\n",
       "  <thead>\n",
       "    <tr style=\"text-align: right;\">\n",
       "      <th></th>\n",
       "      <th>silhouette_score</th>\n",
       "      <th>davies_bouldin_score</th>\n",
       "    </tr>\n",
       "  </thead>\n",
       "  <tbody>\n",
       "    <tr>\n",
       "      <th>Bayesian Gaussian Mixture</th>\n",
       "      <td>0.283628</td>\n",
       "      <td>1.332327</td>\n",
       "    </tr>\n",
       "    <tr>\n",
       "      <th>Gaussian Mixture</th>\n",
       "      <td>0.283628</td>\n",
       "      <td>1.332327</td>\n",
       "    </tr>\n",
       "  </tbody>\n",
       "</table>\n",
       "</div>"
      ],
      "text/plain": [
       "                           silhouette_score  davies_bouldin_score\n",
       "Bayesian Gaussian Mixture          0.283628              1.332327\n",
       "Gaussian Mixture                   0.283628              1.332327"
      ]
     },
     "execution_count": 65,
     "metadata": {},
     "output_type": "execute_result"
    }
   ],
   "source": [
    "# Calling function to create a dataframe of metric scores for GMM and Bayesian GMM\n",
    "\n",
    "bayesian_and_gaussian(df2, 2, 'full', 1e-6)"
   ]
  },
  {
   "cell_type": "markdown",
   "id": "84e0b07b",
   "metadata": {},
   "source": [
    "## Hyperparameter Selection"
   ]
  },
  {
   "cell_type": "markdown",
   "id": "eddbd77e",
   "metadata": {},
   "source": [
    "### Mini Batch KMeans"
   ]
  },
  {
   "cell_type": "code",
   "execution_count": 66,
   "id": "7185f39b",
   "metadata": {},
   "outputs": [
    {
     "name": "stdout",
     "output_type": "stream",
     "text": [
      "Average of all scores for [4, 5] combination is 1.7026770310949544\n",
      "Average of all scores for [5, 10] combination is 1.5831584859940286\n",
      "Average of all scores for [6, 5] combination is 1.6092323730565332\n",
      "Average of all scores for [7, 15] combination is 1.50638824224166\n",
      "Average of all scores for [8, 10] combination is 1.5429159317817382\n"
     ]
    }
   ],
   "source": [
    "# Checking best combination of hyperparameters\n",
    "\n",
    "best_combination = [[4,5],[5,10],[6,5],[7,15],[8,10]]\n",
    "\n",
    "for i in best_combination:\n",
    "    model = MiniBatchKMeans(n_clusters=i[0], random_state=0, batch_size=i[1])\n",
    "    model.fit(df2)\n",
    "    \n",
    "    # Calculating intrinsic measures for each combination of hyperparameters\n",
    "\n",
    "    silhouette = silhouette_score(df2, model.labels_, metric='euclidean')\n",
    "    davies_bouldin = davies_bouldin_score(df2, model.labels_)\n",
    "    \n",
    "    # Evaluating means of respective scores for each combination\n",
    "    \n",
    "    scores = [silhouette + davies_bouldin]\n",
    "    mean_scores = sum(scores)/len(scores)\n",
    "    print('Average of all scores for ' + str(i) + ' combination is ' + str(mean_scores))"
   ]
  },
  {
   "cell_type": "markdown",
   "id": "a7bdd4e5",
   "metadata": {},
   "source": [
    "The best combination of hyperparameters in Mini Batch KMeans which gave the highest average metric score includes:\n",
    "\n",
    "number of clusters = 4, batch size = 5 "
   ]
  },
  {
   "cell_type": "markdown",
   "id": "0935c42d",
   "metadata": {},
   "source": [
    "### Agglomerative Clustering"
   ]
  },
  {
   "cell_type": "code",
   "execution_count": 67,
   "id": "d8f4132d",
   "metadata": {},
   "outputs": [
    {
     "name": "stdout",
     "output_type": "stream",
     "text": [
      "Average of all scores for 2 clusters is 1.6093200413938273\n",
      "Average of all scores for 3 clusters is 1.9648176067351053\n",
      "Average of all scores for 4 clusters is 1.8586048819633494\n",
      "Average of all scores for 5 clusters is 1.733410881797486\n",
      "Average of all scores for 6 clusters is 1.551292552646163\n",
      "Average of all scores for 7 clusters is 1.4384060741320408\n",
      "Average of all scores for 8 clusters is 1.553599016840034\n"
     ]
    }
   ],
   "source": [
    "# Checking best value of cluster\n",
    "\n",
    "best_combination = [2,3,4,5,6,7,8]\n",
    "\n",
    "for i in best_combination:\n",
    "    model = AgglomerativeClustering(n_clusters=i)\n",
    "    model.fit(df2)\n",
    "    \n",
    "    # Calculating intrinsic measures for each cluster value\n",
    "    \n",
    "    silhouette = silhouette_score(df2, model.labels_, metric='euclidean')\n",
    "    davies_bouldin = davies_bouldin_score(df2, model.labels_)\n",
    "    \n",
    "    # Evaluating means of respective scores for each cluster\n",
    "\n",
    "    scores = [silhouette + davies_bouldin]\n",
    "    mean_scores = sum(scores)/len(scores)\n",
    "    print('Average of all scores for ' + str(i) + ' clusters is ' + str(mean_scores))"
   ]
  },
  {
   "cell_type": "markdown",
   "id": "a9350412",
   "metadata": {},
   "source": [
    "The best value of number of clusters in Agglomerative Clustering is 3, which gave the highest average metric score."
   ]
  },
  {
   "cell_type": "markdown",
   "id": "67cac0cf",
   "metadata": {},
   "source": [
    "### DBScan"
   ]
  },
  {
   "cell_type": "code",
   "execution_count": 73,
   "id": "9ac4681b",
   "metadata": {},
   "outputs": [
    {
     "name": "stdout",
     "output_type": "stream",
     "text": [
      "Average of all scores for [0.7, 1] combination is 0.22518797305744986\n",
      "Average of all scores for [1, 2] combination is 1.289505320163009\n",
      "Average of all scores for [2, 4] combination is 3.5464321550011726\n",
      "Average of all scores for [3, 5] combination is 3.3365331579850768\n",
      "Average of all scores for [3, 7] combination is 3.3365331579850768\n"
     ]
    }
   ],
   "source": [
    "# Checking best combination of hyperparameters\n",
    "\n",
    "best_combination = [[0.7,1],[1,2],[2,4],[3,5],[3,7]]\n",
    "\n",
    "for i in best_combination:\n",
    "    model = DBSCAN(eps=i[0], min_samples=i[1])\n",
    "    model.fit(df2)\n",
    "    \n",
    "    # Calculating intrinsic measures for each combination of hyperparameters\n",
    "    \n",
    "    silhouette = silhouette_score(df2, model.labels_, metric='euclidean')\n",
    "    davies_bouldin = davies_bouldin_score(df2, model.labels_)\n",
    "    \n",
    "    # Evaluating means of respective scores for each combination\n",
    "\n",
    "    scores = [silhouette + davies_bouldin]\n",
    "    mean_scores = sum(scores)/len(scores)\n",
    "    print('Average of all scores for ' + str(i) + ' combination is ' + str(mean_scores))"
   ]
  },
  {
   "cell_type": "markdown",
   "id": "7da4e4d3",
   "metadata": {},
   "source": [
    "The best combination of hyperparameters in DBScan which gave the highest average metric score includes:\n",
    "\n",
    "maximum distance between two samples (eps) = 2, minimum number of samples = 4 "
   ]
  },
  {
   "cell_type": "markdown",
   "id": "673f1407",
   "metadata": {},
   "source": [
    "### OPTICS"
   ]
  },
  {
   "cell_type": "code",
   "execution_count": 74,
   "id": "5503fec7",
   "metadata": {},
   "outputs": [
    {
     "name": "stdout",
     "output_type": "stream",
     "text": [
      "Average of all scores for 3 samples is 1.8094936033400149\n",
      "Average of all scores for 4 samples is 2.0876564401422435\n",
      "Average of all scores for 5 samples is 1.8841759306604415\n",
      "Average of all scores for 6 samples is 1.4740209381896199\n",
      "Average of all scores for 7 samples is 1.6414141827965445\n",
      "Average of all scores for 8 samples is 1.579725137881026\n"
     ]
    }
   ],
   "source": [
    "# Checking best value of minimum number of samples\n",
    "\n",
    "best_combination = [3,4,5,6,7,8]\n",
    "\n",
    "for i in best_combination:\n",
    "    model = OPTICS(min_samples=i)\n",
    "    model.fit(df2)\n",
    "    \n",
    "    # Calculating intrinsic measures for each value of minimum samples\n",
    "    \n",
    "    silhouette = silhouette_score(df2, model.labels_, metric='euclidean')\n",
    "    davies_bouldin = davies_bouldin_score(df2, model.labels_)\n",
    "    \n",
    "    # Evaluating means of respective scores for each value of minimum samples\n",
    "\n",
    "    scores = [silhouette + davies_bouldin]\n",
    "    mean_scores = sum(scores)/len(scores)\n",
    "    print('Average of all scores for ' + str(i) + ' samples is ' + str(mean_scores))"
   ]
  },
  {
   "cell_type": "markdown",
   "id": "43748893",
   "metadata": {},
   "source": [
    "The best value of minimum number of samples in OPTICS is 4, which gave the highest average metric score."
   ]
  },
  {
   "cell_type": "markdown",
   "id": "2d10ad00",
   "metadata": {},
   "source": [
    "### Affinity Propagation"
   ]
  },
  {
   "cell_type": "code",
   "execution_count": 79,
   "id": "1ca00201",
   "metadata": {},
   "outputs": [
    {
     "name": "stdout",
     "output_type": "stream",
     "text": [
      "Average of all scores for [0.5, 200] combination is 1.3205942581600651\n",
      "Average of all scores for [0.6, 300] combination is 1.3205942581600651\n",
      "Average of all scores for [0.7, 400] combination is 1.3205942581600651\n",
      "Average of all scores for [0.8, 200] combination is 1.4395236823800925\n",
      "Average of all scores for [0.8, 500] combination is 1.4395236823800925\n"
     ]
    }
   ],
   "source": [
    "# Checking best combination of hyperparameters\n",
    "\n",
    "best_combination = [[0.5,200],[0.6,300],[0.7,400],[0.8,200],[0.8,500]]\n",
    "\n",
    "for i in best_combination:\n",
    "    model = AffinityPropagation(damping=i[0], max_iter=i[1], affinity=\"euclidean\", random_state=0)\n",
    "    model.fit(df2)\n",
    "    \n",
    "    # Calculating intrinsic measures for each combination of hyperparameters\n",
    "    \n",
    "    silhouette = silhouette_score(df2, model.labels_, metric='euclidean')\n",
    "    davies_bouldin = davies_bouldin_score(df2, model.labels_)\n",
    "    \n",
    "    # Evaluating means of respective scores for each combination\n",
    "    \n",
    "    scores = [silhouette + davies_bouldin]\n",
    "    mean_scores = sum(scores)/len(scores)\n",
    "    print('Average of all scores for ' + str(i) + ' combination is ' + str(mean_scores))"
   ]
  },
  {
   "cell_type": "markdown",
   "id": "8aeeb6e2",
   "metadata": {},
   "source": [
    "The best combinations of hyperparameters in Affinity Propagation were two, which gave the highest average metric scores:\n",
    "\n",
    "damping value, maximum iterations = (0.8,200), (0.8,500)"
   ]
  },
  {
   "cell_type": "markdown",
   "id": "15e5040b",
   "metadata": {},
   "source": [
    "### Spectral Clustering"
   ]
  },
  {
   "cell_type": "code",
   "execution_count": 80,
   "id": "848dbd14",
   "metadata": {},
   "outputs": [
    {
     "name": "stdout",
     "output_type": "stream",
     "text": [
      "Average of all scores for [6, 'discretize'] combination is 1.5669490027825956\n",
      "Average of all scores for [7, 'kmeans'] combination is 1.31260552391426\n",
      "Average of all scores for [8, 'kmeans'] combination is 1.483079711566483\n",
      "Average of all scores for [5, 'discretize'] combination is 1.6408407596807106\n",
      "Average of all scores for [9, 'discretize'] combination is 1.4967962638510783\n"
     ]
    }
   ],
   "source": [
    "# Checking best combination of hyperparameters\n",
    "\n",
    "best_combination = [[6,'discretize'],[7,'kmeans'],[8,'kmeans'],[5,'discretize'],[9,'discretize']]\n",
    "\n",
    "for i in best_combination:\n",
    "    model = SpectralClustering(n_clusters=i[0], assign_labels=i[1], random_state=0)\n",
    "    model.fit(df2)\n",
    "    \n",
    "    # Calculating intrinsic measures for each combination of hyperparameters\n",
    "    \n",
    "    silhouette = silhouette_score(df2, model.labels_, metric='euclidean')\n",
    "    davies_bouldin = davies_bouldin_score(df2, model.labels_)\n",
    "    \n",
    "    # Evaluating means of respective scores for each combination\n",
    "    \n",
    "    scores = [silhouette + davies_bouldin]\n",
    "    mean_scores = sum(scores)/len(scores)\n",
    "    print('Average of all scores for ' + str(i) + ' combination is ' + str(mean_scores))"
   ]
  },
  {
   "cell_type": "markdown",
   "id": "eaf62f56",
   "metadata": {},
   "source": [
    "The best combination of hyperparameters in Spectral Clustering that gave the highest average metric score includes:\n",
    "\n",
    "number of clusters = 5, assign labels = 'discretize'"
   ]
  },
  {
   "cell_type": "markdown",
   "id": "2adebfaa",
   "metadata": {},
   "source": [
    "### Bayesian Gaussian Mixture"
   ]
  },
  {
   "cell_type": "code",
   "execution_count": 82,
   "id": "965f3bee",
   "metadata": {},
   "outputs": [
    {
     "name": "stdout",
     "output_type": "stream",
     "text": [
      "Average of all scores for [2, 'full'] combination is 1.6159554740118902\n",
      "Average of all scores for [3, 'tied'] combination is 1.8858845285482861\n",
      "Average of all scores for [4, 'diag'] combination is 1.693315736292111\n",
      "Average of all scores for [5, 'spherical'] combination is 1.5149367341885045\n",
      "Average of all scores for [6, 'full'] combination is 1.9230133274573606\n",
      "Average of all scores for [7, 'spherical'] combination is 1.5619091979440964\n",
      "Average of all scores for [8, 'diag'] combination is 1.4861865485366286\n"
     ]
    }
   ],
   "source": [
    "# Checking best combination of hyperparameters\n",
    "\n",
    "best_combination = [[2,'full'],[3,'tied'],[4,'diag'],[5,'spherical'],[6,'full'],[7, 'spherical'],[8, 'diag']]\n",
    "\n",
    "for i in best_combination:\n",
    "    model = BayesianGaussianMixture(n_components=i[0], covariance_type=i[1], random_state=0)\n",
    "    labels = model.fit(df2).fit_predict(df2)\n",
    "    \n",
    "    # Calculating extrinsic measures for each combination of hyperparameters\n",
    "    \n",
    "    silhouette = silhouette_score(df2, labels, metric='euclidean')\n",
    "    davies_bouldin = davies_bouldin_score(df2, labels)\n",
    "    \n",
    "    # Evaluating means of respective scores for each combination\n",
    "\n",
    "    scores = [silhouette + davies_bouldin]\n",
    "    mean_scores = sum(scores)/len(scores)\n",
    "    print('Average of all scores for ' + str(i) + ' combination is ' + str(mean_scores))"
   ]
  },
  {
   "cell_type": "markdown",
   "id": "f9b74237",
   "metadata": {},
   "source": [
    "The best combination of hyperparameters in Bayesian Gaussian Mixture that gave the highest average metric score includes:\n",
    "\n",
    "number of components = 6, covariance type = 'full'"
   ]
  },
  {
   "cell_type": "markdown",
   "id": "86c6baa7",
   "metadata": {},
   "source": [
    "### Gaussian Mixture Model"
   ]
  },
  {
   "cell_type": "code",
   "execution_count": 83,
   "id": "bde82b35",
   "metadata": {},
   "outputs": [
    {
     "name": "stdout",
     "output_type": "stream",
     "text": [
      "Average of all scores for [2, 'full'] combination is 1.6159554740118902\n",
      "Average of all scores for [3, 'tied'] combination is 1.8858845285482861\n",
      "Average of all scores for [4, 'diag'] combination is 1.8942044630084505\n",
      "Average of all scores for [5, 'spherical'] combination is 1.7893630894733485\n",
      "Average of all scores for [6, 'full'] combination is 1.8526697533481085\n",
      "Average of all scores for [7, 'spherical'] combination is 1.6767480598363602\n",
      "Average of all scores for [8, 'diag'] combination is 1.7726267597379088\n"
     ]
    }
   ],
   "source": [
    "# Checking best combination of hyperparameters\n",
    "\n",
    "best_combination = [[2,'full'],[3,'tied'],[4,'diag'],[5,'spherical'],[6,'full'],[7, 'spherical'],[8, 'diag']]\n",
    "\n",
    "for i in best_combination:\n",
    "    model = GaussianMixture(n_components=i[0], covariance_type=i[1], random_state=0)\n",
    "    labels = model.fit(df2).fit_predict(df2)\n",
    "    \n",
    "    # Calculating intrinsic measures for each combination of hyperparameters\n",
    "\n",
    "    silhouette = silhouette_score(df2, labels, metric='euclidean')\n",
    "    davies_bouldin = davies_bouldin_score(df2, labels)\n",
    "    \n",
    "    # Evaluating means of respective scores for each combination\n",
    "\n",
    "    scores = [silhouette + davies_bouldin]\n",
    "    mean_scores = sum(scores)/len(scores)\n",
    "    print('Average of all scores for ' + str(i) + ' combination is ' + str(mean_scores))"
   ]
  },
  {
   "cell_type": "markdown",
   "id": "ea3a089f",
   "metadata": {},
   "source": [
    "The best combination of hyperparameters in Gaussian Mixture Model that gave the highest average metric score includes:\n",
    "\n",
    "number of components = 4, covariance type = 'diag'"
   ]
  },
  {
   "cell_type": "markdown",
   "id": "57728adf",
   "metadata": {},
   "source": [
    "#### Analysis:\n",
    "\n",
    "1) It is observed that the GMM outperforms Mini Batch KMeans with highest average score, which shows that the GMM is better at modeling the data according to the chosen performance metrics. This could be because the GMM is more flexible and able to capture more complex patterns in the data.\n",
    "\n",
    "2) It is observed that the Agglomerative Clustering outperforms GMM with highest average score, which shows that the Agglomerative clustering algorithm is better at grouping the data into clusters based on the chosen performance metrics. This could be due to the nature of the data, the chosen distance metric, or the number of clusters being considered.\n",
    "\n",
    "3) It is observed that the DBScan outperforms GMM with highest average score, which shows that DBScan is more accurately identifying clusters or has a lower error rate. This could be due to the nature of the data, the chosen distance metric, or the number of clusters being considered.\n",
    "\n",
    "4) It is observed that the OPTICS outperforms GMM with highest average score, which shows that OPTICS is more effective at clustering the data and finding meaningful patterns within it. This could be due to the fact that OPTICS is able to handle more complex and non-linear data structures, whereas GMM are limited to more simple, linear patterns.\n",
    "\n",
    "5) It is observed that the GMM outperforms Affinity Propagation with highest average score, which shows that the GMM is a better fit for the data and is able to more accurately predict or classify the data. This could be due to the GMM's ability to model data using a continuous distribution, as opposed to the discrete clustering method used by Affinity propagation.\n",
    "\n",
    "6) It is observed that the GMM outperforms Spectral Clustering with highest average score, which shows that the GMM is a better fit for the given data and produces more accurate or effective clustering results. This may be due to the GMM's ability to handle mixed data types and account for uncertainty in the data, or because it is more robust to noise or outliers in the data.\n",
    "\n",
    "7) It is observed that the Bayesian GMM outperforms GMM with slightly higher average score (very close), which shows that both models are performing similarly in terms of their ability to accurately predict or classify data. This may indicate that either model could be a suitable choice for the particular task at hand."
   ]
  },
  {
   "cell_type": "markdown",
   "id": "91c9f11d",
   "metadata": {},
   "source": [
    "### Parameter changes:"
   ]
  },
  {
   "cell_type": "markdown",
   "id": "f9d04335",
   "metadata": {},
   "source": [
    "#### (1) Based on number of components"
   ]
  },
  {
   "cell_type": "code",
   "execution_count": 84,
   "id": "3930018c",
   "metadata": {},
   "outputs": [
    {
     "name": "stdout",
     "output_type": "stream",
     "text": [
      "Average of all scores for 2 components is 1.6159554740118902\n",
      "Average of all scores for 3 components is 1.8658671216272147\n",
      "Average of all scores for 4 components is 2.0206841499346253\n",
      "Average of all scores for 5 components is 2.000877016146798\n",
      "Average of all scores for 6 components is 1.8526697533481085\n",
      "Average of all scores for 7 components is 1.8354440416372573\n"
     ]
    }
   ],
   "source": [
    "# Changing number of components to obtain the best value\n",
    "\n",
    "number_of_components = [2,3,4,5,6,7]\n",
    "\n",
    "for i in number_of_components:\n",
    "    model = GaussianMixture(n_components=i, covariance_type='full', reg_covar=1e-6, random_state=0)\n",
    "    labels = model.fit(df2).fit_predict(df2)\n",
    "    \n",
    "    # Calculating intrinsic measures for each value of number of components\n",
    "    \n",
    "    silhouette = silhouette_score(df2, labels, metric='euclidean')\n",
    "    davies_bouldin = davies_bouldin_score(df2, labels)\n",
    "    \n",
    "    # Evaluating means of respective scores for each value of number of components\n",
    "    \n",
    "    scores = [silhouette + davies_bouldin]\n",
    "    mean_scores = sum(scores)/len(scores)\n",
    "    print('Average of all scores for ' + str(i) + ' components is ' + str(mean_scores))"
   ]
  },
  {
   "cell_type": "markdown",
   "id": "0ae2302d",
   "metadata": {},
   "source": [
    "Upon increasing and decreasing the number of components parameter in GMM, it is observed that the best score is obtained when the number of components are 4. It suggests that the data may be better modeled using a mixture of 4 Gaussian distributions rather than a different number of Gaussian distributions. This could indicate that the data may have a more complex structure and consist of multiple distinct subgroups or clusters."
   ]
  },
  {
   "cell_type": "markdown",
   "id": "bb45b657",
   "metadata": {},
   "source": [
    "#### (2) Based on covariance type"
   ]
  },
  {
   "cell_type": "code",
   "execution_count": 85,
   "id": "c580ce6c",
   "metadata": {},
   "outputs": [
    {
     "name": "stdout",
     "output_type": "stream",
     "text": [
      "Average of all scores for full covariance type is 1.6159554740118902\n",
      "Average of all scores for tied covariance type is 1.6159554740118902\n",
      "Average of all scores for diag covariance type is 1.5745293304859567\n",
      "Average of all scores for spherical covariance type is 1.5745293304859567\n"
     ]
    }
   ],
   "source": [
    "# Changing covariance type to obtain the best value\n",
    "\n",
    "type_of_covariance = ['full', 'tied', 'diag', 'spherical']\n",
    "\n",
    "for i in type_of_covariance:\n",
    "    model = GaussianMixture(n_components=2, covariance_type=i, reg_covar=1e-6, random_state=0)\n",
    "    labels = model.fit(df2).fit_predict(df2)\n",
    "    \n",
    "    # Calculating intrinsic measures for each covariance type\n",
    "\n",
    "    silhouette = silhouette_score(df2, labels, metric='euclidean')\n",
    "    davies_bouldin = davies_bouldin_score(df2, labels)\n",
    "    \n",
    "    # Evaluating means of respective scores for each covariance type\n",
    "\n",
    "    scores = [silhouette + davies_bouldin]\n",
    "    mean_scores = sum(scores)/len(scores)\n",
    "    print('Average of all scores for ' + str(i) + ' covariance type is ' + str(mean_scores))"
   ]
  },
  {
   "cell_type": "markdown",
   "id": "4bd035fe",
   "metadata": {},
   "source": [
    "Upon changing the type of covariance parameter in GMM, it is observed that the best score is obtained when the covariance type is either 'full' or 'diag'. This suggests that the data may have a multi-modal distribution and that both the full and diagonal covariance types are able to effectively model this complexity. It may also indicate that the data may not have strong correlations between features, as the diagonal covariance type only models variances along the main diagonal."
   ]
  },
  {
   "cell_type": "markdown",
   "id": "d92860de",
   "metadata": {},
   "source": [
    "#### (3) Based on regularization of covariance"
   ]
  },
  {
   "cell_type": "code",
   "execution_count": 94,
   "id": "83e686fa",
   "metadata": {},
   "outputs": [
    {
     "name": "stdout",
     "output_type": "stream",
     "text": [
      "Average of all scores for regularized covariance of 1e-06 is 1.6159554740118902\n",
      "Average of all scores for regularized covariance of 0.5 is 2.2170476522307268\n",
      "Average of all scores for regularized covariance of 1.5 is 1.3969509143113936\n",
      "Average of all scores for regularized covariance of 5 is 0.8126822267442795\n"
     ]
    }
   ],
   "source": [
    "# Changing the value of regularized covariance to obtain the best value\n",
    "\n",
    "regularization_covariance = [1e-6, 0.5, 1.5, 5]\n",
    "\n",
    "for i in regularization_covariance:\n",
    "    model = GaussianMixture(n_components=2, covariance_type='full', reg_covar=i, random_state=0)\n",
    "    labels = model.fit(df2).fit_predict(df2)\n",
    "    \n",
    "    # Calculating intrinsic measures for each value of regularized covariance\n",
    "    \n",
    "    silhouette = silhouette_score(df2, labels, metric='euclidean')\n",
    "    davies_bouldin = davies_bouldin_score(df2, labels)\n",
    "    \n",
    "    # Evaluating means of respective scores for each value of regularized covariance\n",
    "\n",
    "    scores = [silhouette + davies_bouldin]\n",
    "    mean_scores = sum(scores)/len(scores)\n",
    "    print('Average of all scores for ' + 'regularized covariance of ' + str(i) + ' is ' + str(mean_scores))"
   ]
  },
  {
   "cell_type": "markdown",
   "id": "1c66dc3e",
   "metadata": {},
   "source": [
    "Upon increasing and decreasing the regularized covariance in GMM, it is observed that the best score is obtained when the value is 0.5. This suggests that the model is able to accurately classify the data points into different mixture components with a relatively low level of regularization applied to the covariance matrices of the mixture components. This indicates that the data points are well-separated and distinct."
   ]
  },
  {
   "cell_type": "markdown",
   "id": "954fa00b",
   "metadata": {},
   "source": [
    "## Dataset 03: Chemical composition of ceramics"
   ]
  },
  {
   "cell_type": "markdown",
   "id": "acb59135",
   "metadata": {},
   "source": [
    "This dataset classifies ceramic samples based on their chemical composition from energy dispersive X-ray fluorescence. The energy dispersive X-ray fluorescence (EDXRF) was used to determine the chemical composition of celadon body and glaze in Longquan kiln (at Dayao County) and Jingdezhen kiln. Forty typical shards in four cultural eras were selected to investigate the raw materials and firing technology. The dataset conatins 88 rows and 19 columns."
   ]
  },
  {
   "cell_type": "code",
   "execution_count": 95,
   "id": "47a1dfec",
   "metadata": {},
   "outputs": [
    {
     "data": {
      "text/html": [
       "<div>\n",
       "<style scoped>\n",
       "    .dataframe tbody tr th:only-of-type {\n",
       "        vertical-align: middle;\n",
       "    }\n",
       "\n",
       "    .dataframe tbody tr th {\n",
       "        vertical-align: top;\n",
       "    }\n",
       "\n",
       "    .dataframe thead th {\n",
       "        text-align: right;\n",
       "    }\n",
       "</style>\n",
       "<table border=\"1\" class=\"dataframe\">\n",
       "  <thead>\n",
       "    <tr style=\"text-align: right;\">\n",
       "      <th></th>\n",
       "      <th>Ceramic Name</th>\n",
       "      <th>Part</th>\n",
       "      <th>Na2O</th>\n",
       "      <th>MgO</th>\n",
       "      <th>Al2O3</th>\n",
       "      <th>SiO2</th>\n",
       "      <th>K2O</th>\n",
       "      <th>CaO</th>\n",
       "      <th>TiO2</th>\n",
       "      <th>Fe2O3</th>\n",
       "      <th>MnO</th>\n",
       "      <th>CuO</th>\n",
       "      <th>ZnO</th>\n",
       "      <th>PbO2</th>\n",
       "      <th>Rb2O</th>\n",
       "      <th>SrO</th>\n",
       "      <th>Y2O3</th>\n",
       "      <th>ZrO2</th>\n",
       "      <th>P2O5</th>\n",
       "    </tr>\n",
       "  </thead>\n",
       "  <tbody>\n",
       "    <tr>\n",
       "      <th>0</th>\n",
       "      <td>FLQ-1-b</td>\n",
       "      <td>Body</td>\n",
       "      <td>0.62</td>\n",
       "      <td>0.38</td>\n",
       "      <td>19.61</td>\n",
       "      <td>71.99</td>\n",
       "      <td>4.84</td>\n",
       "      <td>0.31</td>\n",
       "      <td>0.07</td>\n",
       "      <td>1.18</td>\n",
       "      <td>630</td>\n",
       "      <td>10</td>\n",
       "      <td>70</td>\n",
       "      <td>10</td>\n",
       "      <td>430</td>\n",
       "      <td>0</td>\n",
       "      <td>40</td>\n",
       "      <td>80</td>\n",
       "      <td>90</td>\n",
       "    </tr>\n",
       "    <tr>\n",
       "      <th>1</th>\n",
       "      <td>FLQ-2-b</td>\n",
       "      <td>Body</td>\n",
       "      <td>0.57</td>\n",
       "      <td>0.47</td>\n",
       "      <td>21.19</td>\n",
       "      <td>70.09</td>\n",
       "      <td>4.98</td>\n",
       "      <td>0.49</td>\n",
       "      <td>0.09</td>\n",
       "      <td>1.12</td>\n",
       "      <td>380</td>\n",
       "      <td>20</td>\n",
       "      <td>80</td>\n",
       "      <td>40</td>\n",
       "      <td>430</td>\n",
       "      <td>-10</td>\n",
       "      <td>40</td>\n",
       "      <td>100</td>\n",
       "      <td>110</td>\n",
       "    </tr>\n",
       "    <tr>\n",
       "      <th>2</th>\n",
       "      <td>FLQ-3-b</td>\n",
       "      <td>Body</td>\n",
       "      <td>0.49</td>\n",
       "      <td>0.19</td>\n",
       "      <td>18.60</td>\n",
       "      <td>74.70</td>\n",
       "      <td>3.47</td>\n",
       "      <td>0.43</td>\n",
       "      <td>0.06</td>\n",
       "      <td>1.07</td>\n",
       "      <td>420</td>\n",
       "      <td>20</td>\n",
       "      <td>50</td>\n",
       "      <td>50</td>\n",
       "      <td>380</td>\n",
       "      <td>40</td>\n",
       "      <td>40</td>\n",
       "      <td>80</td>\n",
       "      <td>200</td>\n",
       "    </tr>\n",
       "    <tr>\n",
       "      <th>3</th>\n",
       "      <td>FLQ-4-b</td>\n",
       "      <td>Body</td>\n",
       "      <td>0.89</td>\n",
       "      <td>0.30</td>\n",
       "      <td>18.01</td>\n",
       "      <td>74.19</td>\n",
       "      <td>4.01</td>\n",
       "      <td>0.27</td>\n",
       "      <td>0.09</td>\n",
       "      <td>1.23</td>\n",
       "      <td>460</td>\n",
       "      <td>20</td>\n",
       "      <td>70</td>\n",
       "      <td>60</td>\n",
       "      <td>380</td>\n",
       "      <td>10</td>\n",
       "      <td>40</td>\n",
       "      <td>70</td>\n",
       "      <td>210</td>\n",
       "    </tr>\n",
       "    <tr>\n",
       "      <th>4</th>\n",
       "      <td>FLQ-5-b</td>\n",
       "      <td>Body</td>\n",
       "      <td>0.03</td>\n",
       "      <td>0.36</td>\n",
       "      <td>18.41</td>\n",
       "      <td>73.99</td>\n",
       "      <td>4.33</td>\n",
       "      <td>0.65</td>\n",
       "      <td>0.05</td>\n",
       "      <td>1.19</td>\n",
       "      <td>380</td>\n",
       "      <td>40</td>\n",
       "      <td>90</td>\n",
       "      <td>40</td>\n",
       "      <td>360</td>\n",
       "      <td>10</td>\n",
       "      <td>30</td>\n",
       "      <td>80</td>\n",
       "      <td>150</td>\n",
       "    </tr>\n",
       "  </tbody>\n",
       "</table>\n",
       "</div>"
      ],
      "text/plain": [
       "  Ceramic Name  Part  Na2O   MgO  Al2O3   SiO2   K2O   CaO  TiO2  Fe2O3  MnO  \\\n",
       "0      FLQ-1-b  Body  0.62  0.38  19.61  71.99  4.84  0.31  0.07   1.18  630   \n",
       "1      FLQ-2-b  Body  0.57  0.47  21.19  70.09  4.98  0.49  0.09   1.12  380   \n",
       "2      FLQ-3-b  Body  0.49  0.19  18.60  74.70  3.47  0.43  0.06   1.07  420   \n",
       "3      FLQ-4-b  Body  0.89  0.30  18.01  74.19  4.01  0.27  0.09   1.23  460   \n",
       "4      FLQ-5-b  Body  0.03  0.36  18.41  73.99  4.33  0.65  0.05   1.19  380   \n",
       "\n",
       "   CuO  ZnO  PbO2  Rb2O  SrO  Y2O3  ZrO2  P2O5  \n",
       "0   10   70    10   430    0    40    80    90  \n",
       "1   20   80    40   430  -10    40   100   110  \n",
       "2   20   50    50   380   40    40    80   200  \n",
       "3   20   70    60   380   10    40    70   210  \n",
       "4   40   90    40   360   10    30    80   150  "
      ]
     },
     "execution_count": 95,
     "metadata": {},
     "output_type": "execute_result"
    }
   ],
   "source": [
    "# Loading the dataset\n",
    "\n",
    "df3 = pd.read_csv('Clustering\\Chemical Composion of Ceramic.csv')\n",
    "df3.head()"
   ]
  },
  {
   "cell_type": "code",
   "execution_count": 96,
   "id": "84989663",
   "metadata": {},
   "outputs": [
    {
     "data": {
      "text/plain": [
       "(88, 19)"
      ]
     },
     "execution_count": 96,
     "metadata": {},
     "output_type": "execute_result"
    }
   ],
   "source": [
    "# Data shape\n",
    "\n",
    "df3.shape"
   ]
  },
  {
   "cell_type": "code",
   "execution_count": 97,
   "id": "1b90f94e",
   "metadata": {},
   "outputs": [
    {
     "data": {
      "text/plain": [
       "0"
      ]
     },
     "execution_count": 97,
     "metadata": {},
     "output_type": "execute_result"
    }
   ],
   "source": [
    "# Checking null values\n",
    "\n",
    "df3.isna().sum().sum()"
   ]
  },
  {
   "cell_type": "code",
   "execution_count": 101,
   "id": "fa1ca974",
   "metadata": {},
   "outputs": [],
   "source": [
    "# Converting string columns to integer\n",
    "\n",
    "for i in df3.select_dtypes(include=[object]).columns:\n",
    "    df3[i] = pd.factorize(df3[i])[0] + 1\n",
    "\n",
    "# Normalizing the data \n",
    "\n",
    "ss=StandardScaler()\n",
    "for i in df3.columns:\n",
    "    df3[i] = ss.fit_transform(df3[[i]])"
   ]
  },
  {
   "cell_type": "code",
   "execution_count": 105,
   "id": "64752619",
   "metadata": {},
   "outputs": [
    {
     "name": "stdout",
     "output_type": "stream",
     "text": [
      "For MiniBatchKMeans, the ideal number of clusters are  5\n",
      "Based on dendrogram, the ideal number of clusters are  2\n"
     ]
    },
    {
     "data": {
      "image/png": "[encoded data removed]",
      "text/plain": [
       "<Figure size 1440x432 with 3 Axes>"
      ]
     },
     "metadata": {},
     "output_type": "display_data"
    }
   ],
   "source": [
    "# Calling function to create elbow curve and dendrogram\n",
    "\n",
    "elbow_curve_and_dendrogram(df3, 5, 5, 2)"
   ]
  },
  {
   "cell_type": "code",
   "execution_count": 106,
   "id": "585eacd7",
   "metadata": {},
   "outputs": [
    {
     "data": {
      "text/html": [
       "<div>\n",
       "<style scoped>\n",
       "    .dataframe tbody tr th:only-of-type {\n",
       "        vertical-align: middle;\n",
       "    }\n",
       "\n",
       "    .dataframe tbody tr th {\n",
       "        vertical-align: top;\n",
       "    }\n",
       "\n",
       "    .dataframe thead th {\n",
       "        text-align: right;\n",
       "    }\n",
       "</style>\n",
       "<table border=\"1\" class=\"dataframe\">\n",
       "  <thead>\n",
       "    <tr style=\"text-align: right;\">\n",
       "      <th></th>\n",
       "      <th>silhouette_score</th>\n",
       "      <th>davies_bouldin_score</th>\n",
       "    </tr>\n",
       "  </thead>\n",
       "  <tbody>\n",
       "    <tr>\n",
       "      <th>MiniBatchKMeans</th>\n",
       "      <td>0.161849</td>\n",
       "      <td>1.682779</td>\n",
       "    </tr>\n",
       "    <tr>\n",
       "      <th>AgglomerativeClustering</th>\n",
       "      <td>0.336864</td>\n",
       "      <td>1.240892</td>\n",
       "    </tr>\n",
       "    <tr>\n",
       "      <th>DBSCAN</th>\n",
       "      <td>0.183107</td>\n",
       "      <td>2.096915</td>\n",
       "    </tr>\n",
       "    <tr>\n",
       "      <th>OPTICS</th>\n",
       "      <td>-0.104123</td>\n",
       "      <td>1.755814</td>\n",
       "    </tr>\n",
       "    <tr>\n",
       "      <th>Spectral Clustering</th>\n",
       "      <td>0.336864</td>\n",
       "      <td>1.240892</td>\n",
       "    </tr>\n",
       "    <tr>\n",
       "      <th>Affinity Propagation</th>\n",
       "      <td>0.148309</td>\n",
       "      <td>1.545647</td>\n",
       "    </tr>\n",
       "  </tbody>\n",
       "</table>\n",
       "</div>"
      ],
      "text/plain": [
       "                         silhouette_score  davies_bouldin_score\n",
       "MiniBatchKMeans                  0.161849              1.682779\n",
       "AgglomerativeClustering          0.336864              1.240892\n",
       "DBSCAN                           0.183107              2.096915\n",
       "OPTICS                          -0.104123              1.755814\n",
       "Spectral Clustering              0.336864              1.240892\n",
       "Affinity Propagation             0.148309              1.545647"
      ]
     },
     "execution_count": 106,
     "metadata": {},
     "output_type": "execute_result"
    }
   ],
   "source": [
    "# Calling function to create a dataframe of metric scores for six clustering algorithms\n",
    "\n",
    "evaluation_matrix(df3, elbow_best_value, 2, 5, 3, 5, 2, 'discretize', 0.8, 500, 'euclidean')"
   ]
  },
  {
   "cell_type": "code",
   "execution_count": 107,
   "id": "4049d9d6",
   "metadata": {},
   "outputs": [
    {
     "data": {
      "text/html": [
       "<div>\n",
       "<style scoped>\n",
       "    .dataframe tbody tr th:only-of-type {\n",
       "        vertical-align: middle;\n",
       "    }\n",
       "\n",
       "    .dataframe tbody tr th {\n",
       "        vertical-align: top;\n",
       "    }\n",
       "\n",
       "    .dataframe thead th {\n",
       "        text-align: right;\n",
       "    }\n",
       "</style>\n",
       "<table border=\"1\" class=\"dataframe\">\n",
       "  <thead>\n",
       "    <tr style=\"text-align: right;\">\n",
       "      <th></th>\n",
       "      <th>silhouette_score</th>\n",
       "      <th>davies_bouldin_score</th>\n",
       "    </tr>\n",
       "  </thead>\n",
       "  <tbody>\n",
       "    <tr>\n",
       "      <th>Bayesian Gaussian Mixture</th>\n",
       "      <td>0.336864</td>\n",
       "      <td>1.240892</td>\n",
       "    </tr>\n",
       "    <tr>\n",
       "      <th>Gaussian Mixture</th>\n",
       "      <td>0.336864</td>\n",
       "      <td>1.240892</td>\n",
       "    </tr>\n",
       "  </tbody>\n",
       "</table>\n",
       "</div>"
      ],
      "text/plain": [
       "                           silhouette_score  davies_bouldin_score\n",
       "Bayesian Gaussian Mixture          0.336864              1.240892\n",
       "Gaussian Mixture                   0.336864              1.240892"
      ]
     },
     "execution_count": 107,
     "metadata": {},
     "output_type": "execute_result"
    }
   ],
   "source": [
    "# Calling function to create a dataframe of metric scores for GMM and Bayesian GMM\n",
    "\n",
    "bayesian_and_gaussian(df3, 2, 'full', 1e-6)"
   ]
  },
  {
   "cell_type": "markdown",
   "id": "245bf12e",
   "metadata": {},
   "source": [
    "## Hyperparameter Selection"
   ]
  },
  {
   "cell_type": "markdown",
   "id": "c9a8eb28",
   "metadata": {},
   "source": [
    "### Mini Batch KMeans"
   ]
  },
  {
   "cell_type": "code",
   "execution_count": 108,
   "id": "7817bf96",
   "metadata": {},
   "outputs": [
    {
     "name": "stdout",
     "output_type": "stream",
     "text": [
      "Average of all scores for [4, 5] combination is 1.8205059755376507\n",
      "Average of all scores for [5, 10] combination is 1.963320052177492\n",
      "Average of all scores for [6, 5] combination is 1.5850224275765061\n",
      "Average of all scores for [7, 15] combination is 1.498444747125479\n",
      "Average of all scores for [8, 10] combination is 1.6011110756531106\n"
     ]
    }
   ],
   "source": [
    "# Checking best combination of hyperparameters\n",
    "\n",
    "best_combination = [[4,5],[5,10],[6,5],[7,15],[8,10]]\n",
    "\n",
    "for i in best_combination:\n",
    "    model = MiniBatchKMeans(n_clusters=i[0], random_state=0, batch_size=i[1])\n",
    "    model.fit(df3)\n",
    "    \n",
    "    # Calculating intrinsic measures for each combination of hyperparameters\n",
    "    \n",
    "    silhouette = silhouette_score(df3, model.labels_, metric='euclidean')\n",
    "    davies_bouldin = davies_bouldin_score(df3, model.labels_)\n",
    "    \n",
    "    # Evaluating means of respective scores for each combination\n",
    "    \n",
    "    scores = [silhouette + davies_bouldin]\n",
    "    mean_scores = sum(scores)/len(scores)\n",
    "    print('Average of all scores for ' + str(i) + ' combination is ' + str(mean_scores))"
   ]
  },
  {
   "cell_type": "markdown",
   "id": "de0add0b",
   "metadata": {},
   "source": [
    "The best combination of hyperparameters in Mini Batch KMeans which gave the highest average metric score includes:\n",
    "\n",
    "number of clusters = 5, batch size = 10 "
   ]
  },
  {
   "cell_type": "markdown",
   "id": "869338ff",
   "metadata": {},
   "source": [
    "### Agglomerative Clustering"
   ]
  },
  {
   "cell_type": "code",
   "execution_count": 109,
   "id": "457d721d",
   "metadata": {},
   "outputs": [
    {
     "name": "stdout",
     "output_type": "stream",
     "text": [
      "Average of all scores for 2 clusters is 1.5777558078060652\n",
      "Average of all scores for 3 clusters is 1.3899007845179665\n",
      "Average of all scores for 4 clusters is 1.6374917756168723\n",
      "Average of all scores for 5 clusters is 1.670768484741798\n",
      "Average of all scores for 6 clusters is 1.8028449202969725\n",
      "Average of all scores for 7 clusters is 1.71399048865226\n",
      "Average of all scores for 8 clusters is 1.7530916426527872\n"
     ]
    }
   ],
   "source": [
    "# Checking best value of cluster\n",
    "\n",
    "best_combination = [2,3,4,5,6,7,8]\n",
    "\n",
    "for i in best_combination:\n",
    "    model = AgglomerativeClustering(n_clusters=i)\n",
    "    model.fit(df3)\n",
    "    \n",
    "    # Calculating intrinsic measures for each cluster value\n",
    "    \n",
    "    silhouette = silhouette_score(df3, model.labels_, metric='euclidean')\n",
    "    davies_bouldin = davies_bouldin_score(df3, model.labels_)\n",
    "    \n",
    "    # Evaluating means of respective scores for each cluster\n",
    "    \n",
    "    scores = [silhouette + davies_bouldin]\n",
    "    mean_scores = sum(scores)/len(scores)\n",
    "    print('Average of all scores for ' + str(i) + ' clusters is ' + str(mean_scores))"
   ]
  },
  {
   "cell_type": "markdown",
   "id": "6ac3f2b3",
   "metadata": {},
   "source": [
    "The best value of number of clusters in Agglomerative Clustering is 6, which gave the highest average metric score."
   ]
  },
  {
   "cell_type": "markdown",
   "id": "03804279",
   "metadata": {},
   "source": [
    "### DBScan"
   ]
  },
  {
   "cell_type": "code",
   "execution_count": 127,
   "id": "f1a126a4",
   "metadata": {},
   "outputs": [
    {
     "name": "stdout",
     "output_type": "stream",
     "text": [
      "Average of all scores for [2, 3] combination is 1.4346636153296415\n",
      "Average of all scores for [3, 5] combination is 2.2800225690442133\n",
      "Average of all scores for [5, 7] combination is 1.8285981645339568\n",
      "Average of all scores for [5, 9] combination is 1.8285981645339568\n",
      "Average of all scores for [3, 7] combination is 2.253587059711376\n"
     ]
    }
   ],
   "source": [
    "# Checking best combination of hyperparameters\n",
    "\n",
    "best_combination = [[2,3], [3,5], [5,7], [5,9], [3,7]]\n",
    "\n",
    "for i in best_combination:\n",
    "    model = DBSCAN(eps=i[0], min_samples=i[1])\n",
    "    model.fit(df3)\n",
    "    \n",
    "    # Calculating intrinsic measures for each combination of hyperparameters\n",
    "    \n",
    "    silhouette = silhouette_score(df3, model.labels_, metric='euclidean')\n",
    "    davies_bouldin = davies_bouldin_score(df3, model.labels_)\n",
    "    \n",
    "    # Evaluating means of respective scores for each combination\n",
    "    \n",
    "    scores = [silhouette + davies_bouldin]\n",
    "    mean_scores = sum(scores)/len(scores)\n",
    "    print('Average of all scores for ' + str(i) + ' combination is ' + str(mean_scores))"
   ]
  },
  {
   "cell_type": "markdown",
   "id": "297ae2c6",
   "metadata": {},
   "source": [
    "The best combination of hyperparameters in DBScan which gave the highest average metric score includes:\n",
    "\n",
    "maximum distance between two samples (eps) = 3, minimum number of samples = 5 "
   ]
  },
  {
   "cell_type": "markdown",
   "id": "cb935bdd",
   "metadata": {},
   "source": [
    "### OPTICS"
   ]
  },
  {
   "cell_type": "code",
   "execution_count": 128,
   "id": "03b567c5",
   "metadata": {},
   "outputs": [
    {
     "name": "stdout",
     "output_type": "stream",
     "text": [
      "Average of all scores for 3 samples is 1.4545284015711606\n",
      "Average of all scores for 4 samples is 1.5477011052533796\n",
      "Average of all scores for 5 samples is 1.6516909598118834\n",
      "Average of all scores for 6 samples is 2.2765534596993815\n",
      "Average of all scores for 7 samples is 2.2765534596993815\n",
      "Average of all scores for 8 samples is 2.165627114005139\n"
     ]
    }
   ],
   "source": [
    "# Checking best value of minimum number of samples\n",
    "\n",
    "best_combination = [3,4,5,6,7,8]\n",
    "\n",
    "for i in best_combination:\n",
    "    model = OPTICS(min_samples=i)\n",
    "    model.fit(df3)\n",
    "    \n",
    "    # Calculating extrinsic measures for each value of minimum samples\n",
    "    \n",
    "    silhouette = silhouette_score(df3, model.labels_, metric='euclidean')\n",
    "    davies_bouldin = davies_bouldin_score(df3, model.labels_)\n",
    "    \n",
    "    # Evaluating means of respective scores for each value of minimum samples\n",
    "    \n",
    "    scores = [silhouette + davies_bouldin]\n",
    "    mean_scores = sum(scores)/len(scores)\n",
    "    print('Average of all scores for ' + str(i) + ' samples is ' + str(mean_scores))"
   ]
  },
  {
   "cell_type": "markdown",
   "id": "0e904aa8",
   "metadata": {},
   "source": [
    "The best value of minimum number of samples in OPTICS could be either 6 or 7, which gave the highest average metric score."
   ]
  },
  {
   "cell_type": "markdown",
   "id": "f7cdc01f",
   "metadata": {},
   "source": [
    "### Affinity Propagation"
   ]
  },
  {
   "cell_type": "code",
   "execution_count": 130,
   "id": "e5a47b8f",
   "metadata": {},
   "outputs": [
    {
     "name": "stdout",
     "output_type": "stream",
     "text": [
      "Average of all scores for [0.5, 200] combination is 1.6939562217443849\n",
      "Average of all scores for [0.6, 300] combination is 1.6628673290833131\n",
      "Average of all scores for [0.7, 200] combination is 1.6939562217443849\n",
      "Average of all scores for [0.8, 300] combination is 1.6939562217443849\n",
      "Average of all scores for [0.8, 500] combination is 1.6939562217443849\n"
     ]
    }
   ],
   "source": [
    "# Checking best combination of hyperparameters\n",
    "\n",
    "best_combination = [[0.5,200],[0.6,300],[0.7,200],[0.8,300],[0.8,500]]\n",
    "\n",
    "for i in best_combination:\n",
    "    model = AffinityPropagation(damping=i[0], max_iter=i[1], affinity=\"euclidean\", random_state=0)\n",
    "    model.fit(df3)\n",
    "    \n",
    "    # Calculating intrinsic measures for each combination of hyperparameters\n",
    "\n",
    "    silhouette = silhouette_score(df3, model.labels_, metric='euclidean')\n",
    "    davies_bouldin = davies_bouldin_score(df3, model.labels_)\n",
    "    \n",
    "    # Evaluating means of respective scores for each combination\n",
    "    \n",
    "    scores = [silhouette + davies_bouldin]\n",
    "    mean_scores = sum(scores)/len(scores)\n",
    "    print('Average of all scores for ' + str(i) + ' combination is ' + str(mean_scores))"
   ]
  },
  {
   "cell_type": "markdown",
   "id": "c9dc3420",
   "metadata": {},
   "source": [
    "The best combinations of hyperparameters in Affinity Propagation were four, all gave the highest average metric scores:\n",
    "\n",
    "damping value, maximum iterations = (0.5,200), (0.7,200), (0.8,300) and (0.8,500)\n",
    "\n",
    "We can choose any of these to obtain highest scores."
   ]
  },
  {
   "cell_type": "markdown",
   "id": "0d72bc74",
   "metadata": {},
   "source": [
    "### Spectral Clustering"
   ]
  },
  {
   "cell_type": "code",
   "execution_count": 131,
   "id": "ce4ebf33",
   "metadata": {},
   "outputs": [
    {
     "name": "stdout",
     "output_type": "stream",
     "text": [
      "Average of all scores for [6, 'discretize'] combination is 1.7373210608003395\n",
      "Average of all scores for [7, 'kmeans'] combination is 1.9538380173515146\n",
      "Average of all scores for [8, 'kmeans'] combination is 1.9637345742419412\n",
      "Average of all scores for [5, 'discretize'] combination is 1.6758228111560036\n",
      "Average of all scores for [9, 'discretize'] combination is 1.937574112554311\n"
     ]
    }
   ],
   "source": [
    "# Checking best combination of hyperparameters\n",
    "\n",
    "best_combination = [[6,'discretize'],[7,'kmeans'],[8,'kmeans'],[5,'discretize'],[9,'discretize']]\n",
    "\n",
    "for i in best_combination:\n",
    "    model = SpectralClustering(n_clusters=i[0], assign_labels=i[1], random_state=0)\n",
    "    model.fit(df3)\n",
    "    \n",
    "    # Calculating intrinsic measures for each combination of hyperparameters\n",
    "\n",
    "    silhouette = silhouette_score(df3, model.labels_, metric='euclidean')\n",
    "    davies_bouldin = davies_bouldin_score(df3, model.labels_)\n",
    "    \n",
    "    # Evaluating means of respective scores for each combination\n",
    "\n",
    "    scores = [silhouette + davies_bouldin]\n",
    "    mean_scores = sum(scores)/len(scores)\n",
    "    print('Average of all scores for ' + str(i) + ' combination is ' + str(mean_scores))"
   ]
  },
  {
   "cell_type": "markdown",
   "id": "96b2faf7",
   "metadata": {},
   "source": [
    "The best combination of hyperparameters in Spectral Clustering that gave the highest average metric score includes:\n",
    "\n",
    "number of clusters = 8, assign labels = 'kmeans'"
   ]
  },
  {
   "cell_type": "markdown",
   "id": "30f23619",
   "metadata": {},
   "source": [
    "### Bayesian Gaussian Mixture"
   ]
  },
  {
   "cell_type": "code",
   "execution_count": 133,
   "id": "13405d7f",
   "metadata": {},
   "outputs": [
    {
     "name": "stdout",
     "output_type": "stream",
     "text": [
      "Average of all scores for [2, 'full'] combination is 1.5777558078060652\n",
      "Average of all scores for [3, 'tied'] combination is 1.7035512594857152\n",
      "Average of all scores for [4, 'diag'] combination is 1.5885545053543424\n",
      "Average of all scores for [5, 'spherical'] combination is 1.498108990748508\n",
      "Average of all scores for [6, 'full'] combination is 1.6421520408485746\n",
      "Average of all scores for [7, 'spherical'] combination is 1.6628184796746923\n",
      "Average of all scores for [8, 'diag'] combination is 1.44726146315196\n"
     ]
    }
   ],
   "source": [
    "# Checking best combination of hyperparameters\n",
    "\n",
    "best_combination = [[2,'full'],[3,'tied'],[4,'diag'],[5,'spherical'],[6,'full'],[7, 'spherical'],[8, 'diag']]\n",
    "\n",
    "for i in best_combination:\n",
    "    model = BayesianGaussianMixture(n_components=i[0], covariance_type=i[1], random_state=0)\n",
    "    labels = model.fit(df3).fit_predict(df3)\n",
    "    \n",
    "    # Calculating intrinsic measures for each combination of hyperparameters\n",
    "\n",
    "    silhouette = silhouette_score(df3, labels, metric='euclidean')\n",
    "    davies_bouldin = davies_bouldin_score(df3, labels)\n",
    "    \n",
    "    # Evaluating means of respective scores for each combination\n",
    "\n",
    "    scores = [silhouette + davies_bouldin]\n",
    "    mean_scores = sum(scores)/len(scores)\n",
    "    print('Average of all scores for ' + str(i) + ' combination is ' + str(mean_scores))"
   ]
  },
  {
   "cell_type": "markdown",
   "id": "3495f8bc",
   "metadata": {},
   "source": [
    "The best combination of hyperparameters in Bayesian Gaussian Mixture that gave the highest average metric score includes:\n",
    "\n",
    "number of components = 3, covariance type = 'tied'"
   ]
  },
  {
   "cell_type": "markdown",
   "id": "c2fa1cc8",
   "metadata": {},
   "source": [
    "### Gaussian Mixture Model"
   ]
  },
  {
   "cell_type": "code",
   "execution_count": 134,
   "id": "cd1f01a3",
   "metadata": {},
   "outputs": [
    {
     "name": "stdout",
     "output_type": "stream",
     "text": [
      "Average of all scores for [2, 'full'] combination is 1.5777558078060652\n",
      "Average of all scores for [3, 'tied'] combination is 1.7035512594857152\n",
      "Average of all scores for [4, 'diag'] combination is 1.6561950975345672\n",
      "Average of all scores for [5, 'spherical'] combination is 1.8153826316254489\n",
      "Average of all scores for [6, 'full'] combination is 1.6421520408485746\n",
      "Average of all scores for [7, 'spherical'] combination is 1.6362348980196695\n",
      "Average of all scores for [8, 'diag'] combination is 1.4936671056317752\n"
     ]
    }
   ],
   "source": [
    "# Checking best combination of hyperparameters\n",
    "\n",
    "best_combination = [[2,'full'],[3,'tied'],[4,'diag'],[5,'spherical'],[6,'full'],[7, 'spherical'],[8, 'diag']]\n",
    "\n",
    "for i in best_combination:\n",
    "    model = GaussianMixture(n_components=i[0], covariance_type=i[1], random_state=0)\n",
    "    labels = model.fit(df3).fit_predict(df3)\n",
    "    \n",
    "    # Calculating extrinsic measures for each combination of hyperparameters\n",
    "\n",
    "    silhouette = silhouette_score(df3, labels, metric='euclidean')\n",
    "    davies_bouldin = davies_bouldin_score(df3, labels)\n",
    "    \n",
    "    # Evaluating means of respective scores for each combination\n",
    "\n",
    "    scores = [silhouette + davies_bouldin]\n",
    "    mean_scores = sum(scores)/len(scores)\n",
    "    print('Average of all scores for ' + str(i) + ' combination is ' + str(mean_scores))"
   ]
  },
  {
   "cell_type": "markdown",
   "id": "b63ee279",
   "metadata": {},
   "source": [
    "The best combination of hyperparameters in Gaussian Mixture Model that gave the highest average metric score includes:\n",
    "\n",
    "number of components = 5, covariance type = 'spherical'"
   ]
  },
  {
   "cell_type": "markdown",
   "id": "8466d285",
   "metadata": {},
   "source": [
    "#### Analysis:\n",
    "\n",
    "1) It is observed that the Mini Batch KMeans outperforms GMM with highest average score, which shows that the Mini batch kmeans algorithm is better at accurately clustering and identifying patterns in the data. This could be due to the inherent structure of the data, the number of clusters, or the parameters used in the algorithms.\n",
    "\n",
    "2) It is observed that the GMM outperforms Agglomerative Clustering with highest average score, it suggests that the GMM is able to more accurately and effectively cluster the data into distinct groups. This may be due to the fact that the GMM is able to account for the uncertainty in the data, whereas the Agglomerative clustering approach may be more rigid in its grouping of the data.\n",
    "\n",
    "3) It is observed that the DBScan outperforms GMM with highest average score, which shows that DBScan is more accurately identifying clusters or has a lower error rate. This could be due to the nature of the data, the chosen distance metric, or the number of clusters being considered.\n",
    "\n",
    "4) It is observed that the OPTICS outperforms GMM with highest average score, which shows that OPTICS is more effective at clustering the data and finding meaningful patterns within it. This could be due to the fact that OPTICS is able to handle more complex and non-linear data structures, whereas GMM are limited to more simple, linear patterns.\n",
    "\n",
    "5) It is observed that the GMM outperforms Affinity Propagation with highest average score, which shows that the GMM is a better fit for the data and is able to more accurately predict or classify the data. This could be due to the GMM's ability to model data using a continuous distribution, as opposed to the discrete clustering method used by Affinity propagation.\n",
    "\n",
    "6) It is observed that the Spectral Clustering outperforms GMM with highest average score, which shows that Spectral Clustering is better at identifying and separating distinct groups within the data set. This could be due to the fact that Spectral Clustering utilizes the graph structure of the data, which may be more effective at identifying and separating non-linearly distributed groups within the data.\n",
    "\n",
    "7) It is observed that the GMM outperforms Bayesian GMM with slightly higher average score (very close), which shows that both models are performing similarly in terms of their ability to accurately predict or classify data. This may indicate that either model could be a suitable choice for the particular task at hand."
   ]
  },
  {
   "cell_type": "markdown",
   "id": "3ce66fe1",
   "metadata": {},
   "source": [
    "### Parameter changes:"
   ]
  },
  {
   "cell_type": "markdown",
   "id": "b9b5add0",
   "metadata": {},
   "source": [
    "#### (1) Based on number of components"
   ]
  },
  {
   "cell_type": "code",
   "execution_count": 135,
   "id": "8adc31e6",
   "metadata": {},
   "outputs": [
    {
     "name": "stdout",
     "output_type": "stream",
     "text": [
      "Average of all scores for 2 components is 1.5777558078060652\n",
      "Average of all scores for 3 components is 1.7035512594857152\n",
      "Average of all scores for 4 components is 1.5885545053543424\n",
      "Average of all scores for 5 components is 1.7661531160189923\n",
      "Average of all scores for 6 components is 1.6421520408485746\n",
      "Average of all scores for 7 components is 1.6813990670281949\n"
     ]
    }
   ],
   "source": [
    "# Changing number of components to obtain the best value\n",
    "\n",
    "number_of_components = [2,3,4,5,6,7]\n",
    "\n",
    "for i in number_of_components:\n",
    "    model = GaussianMixture(n_components=i, covariance_type='full', reg_covar=1e-6, random_state=0)\n",
    "    labels = model.fit(df3).fit_predict(df3)\n",
    "    \n",
    "    # Calculating intrinsic measures for each value of number of components\n",
    "    \n",
    "    silhouette = silhouette_score(df3, labels, metric='euclidean')\n",
    "    davies_bouldin = davies_bouldin_score(df3, labels)\n",
    "    \n",
    "    # Evaluating means of respective scores for each value of number of components\n",
    "    \n",
    "    scores = [silhouette + davies_bouldin]\n",
    "    mean_scores = sum(scores)/len(scores)\n",
    "    print('Average of all scores for ' + str(i) + ' components is ' + str(mean_scores))"
   ]
  },
  {
   "cell_type": "markdown",
   "id": "f414d579",
   "metadata": {},
   "source": [
    "Upon increasing and decreasing the number of components parameter in GMM, it is observed that the best score is obtained when the number of components are 5. This suggests that the data may be best represented by a mixture of 5 different Gaussian distributions. This may indicate that the data has multiple underlying patterns or clusters, rather than a single homogenous group."
   ]
  },
  {
   "cell_type": "markdown",
   "id": "0b1fb776",
   "metadata": {},
   "source": [
    "#### (2) Based on covariance type"
   ]
  },
  {
   "cell_type": "code",
   "execution_count": 136,
   "id": "c2a8c72b",
   "metadata": {},
   "outputs": [
    {
     "name": "stdout",
     "output_type": "stream",
     "text": [
      "Average of all scores for full covariance type is 1.5777558078060652\n",
      "Average of all scores for tied covariance type is 1.5777558078060652\n",
      "Average of all scores for diag covariance type is 1.5777558078060652\n",
      "Average of all scores for spherical covariance type is 1.5777558078060652\n"
     ]
    }
   ],
   "source": [
    "# Changing covariance type to obtain the best value\n",
    "\n",
    "type_of_covariance = ['full', 'tied', 'diag', 'spherical']\n",
    "\n",
    "for i in type_of_covariance:\n",
    "    model = GaussianMixture(n_components=2, covariance_type=i, reg_covar=1e-6, random_state=0)\n",
    "    labels = model.fit(df3).fit_predict(df3)\n",
    "    \n",
    "    # Calculating intrinsic measures for each covariance type\n",
    "    \n",
    "    silhouette = silhouette_score(df3, labels, metric='euclidean')\n",
    "    davies_bouldin = davies_bouldin_score(df3, labels)\n",
    "    \n",
    "    # Evaluating means of respective scores for each covariance type\n",
    "    \n",
    "    scores = [silhouette + davies_bouldin]\n",
    "    mean_scores = sum(scores)/len(scores)\n",
    "    print('Average of all scores for ' + str(i) + ' covariance type is ' + str(mean_scores))"
   ]
  },
  {
   "cell_type": "markdown",
   "id": "8d69cd99",
   "metadata": {},
   "source": [
    "Upon changing the type of covariance parameter in GMM, it is observed that all covariance types gave the same average metric score. It suggests that the choice of covariance type does not significantly impact the model's performance. This could be because the data does not contain enough complexity or variation to differentiate between the different covariance types, or because the model is not complex enough to take advantage of the different covariance types."
   ]
  },
  {
   "cell_type": "markdown",
   "id": "8b40ce9f",
   "metadata": {},
   "source": [
    "#### (3) Based on regularization of covariance"
   ]
  },
  {
   "cell_type": "code",
   "execution_count": 141,
   "id": "44e9baba",
   "metadata": {},
   "outputs": [
    {
     "name": "stdout",
     "output_type": "stream",
     "text": [
      "Average of all scores for regularized covariance of 1e-06 is 1.5777558078060652\n",
      "Average of all scores for regularized covariance of 0.5 is 1.5777558078060652\n",
      "Average of all scores for regularized covariance of 1.5 is 1.5777558078060652\n",
      "Average of all scores for regularized covariance of 3 is 1.5954661010326112\n"
     ]
    }
   ],
   "source": [
    "# Changing the value of regularized covariance to obtain the best value\n",
    "\n",
    "regularization_covariance = [1e-6, 0.5, 1.5, 3]\n",
    "\n",
    "for i in regularization_covariance:\n",
    "    model = GaussianMixture(n_components=2, covariance_type='full', reg_covar=i, random_state=0)\n",
    "    labels = model.fit(df3).fit_predict(df3)\n",
    "    \n",
    "    # Calculating intrinsic measures for each value of regularized covariance\n",
    "    \n",
    "    silhouette = silhouette_score(df3, labels, metric='euclidean')\n",
    "    davies_bouldin = davies_bouldin_score(df3, labels)\n",
    "    \n",
    "    # Evaluating means of respective scores for each value of regularized covariance\n",
    "    \n",
    "    scores = [silhouette + davies_bouldin]\n",
    "    mean_scores = sum(scores)/len(scores)\n",
    "    print('Average of all scores for ' + 'regularized covariance of ' + str(i) + ' is ' + str(mean_scores))"
   ]
  },
  {
   "cell_type": "markdown",
   "id": "46856ddb",
   "metadata": {},
   "source": [
    "Upon increasing and decreasing the regularized covariance in GMM, it is observed that the best score is obtained when the value is 3. It indicates that the model is performing better with a regularization factor of 3 for the covariance matrix. This suggests that the model is able to better fit the data and make more accurate predictions when the regularization factor is set to 3. This may be due to the model being able to better handle overfitting or noise in the data with this regularization factor."
   ]
  },
  {
   "cell_type": "markdown",
   "id": "28599ff2",
   "metadata": {},
   "source": [
    "## Dataset 04: Water Treatment Plant"
   ]
  },
  {
   "cell_type": "markdown",
   "id": "98dd53f4",
   "metadata": {},
   "source": [
    "This dataset comes from the daily measures of sensors in a urban waste water treatment plant. The objective is to classify the operational state of the plant in order to predict faults through the state variables of the plant at each of the stages of the treatment process. This domain has been stated as an ill-structured domain. It contains 526 rows and 39 columns."
   ]
  },
  {
   "cell_type": "code",
   "execution_count": 239,
   "id": "41f84ece",
   "metadata": {},
   "outputs": [
    {
     "data": {
      "text/html": [
       "<div>\n",
       "<style scoped>\n",
       "    .dataframe tbody tr th:only-of-type {\n",
       "        vertical-align: middle;\n",
       "    }\n",
       "\n",
       "    .dataframe tbody tr th {\n",
       "        vertical-align: top;\n",
       "    }\n",
       "\n",
       "    .dataframe thead th {\n",
       "        text-align: right;\n",
       "    }\n",
       "</style>\n",
       "<table border=\"1\" class=\"dataframe\">\n",
       "  <thead>\n",
       "    <tr style=\"text-align: right;\">\n",
       "      <th></th>\n",
       "      <th>ID</th>\n",
       "      <th>Q-E</th>\n",
       "      <th>ZN-E</th>\n",
       "      <th>PH-E</th>\n",
       "      <th>DBO-E</th>\n",
       "      <th>DQO-E</th>\n",
       "      <th>SS-E</th>\n",
       "      <th>SSV-E</th>\n",
       "      <th>SED-E</th>\n",
       "      <th>COND-E</th>\n",
       "      <th>...</th>\n",
       "      <th>COND-S</th>\n",
       "      <th>RD-DBO-P</th>\n",
       "      <th>RD-SS-P</th>\n",
       "      <th>RD-SED-P</th>\n",
       "      <th>RD-DBO-S</th>\n",
       "      <th>RD-DQO-S</th>\n",
       "      <th>RD-DBO-G</th>\n",
       "      <th>RD-DQO-G</th>\n",
       "      <th>RD-SS-G</th>\n",
       "      <th>RD-SED-G</th>\n",
       "    </tr>\n",
       "  </thead>\n",
       "  <tbody>\n",
       "    <tr>\n",
       "      <th>0</th>\n",
       "      <td>D-2/3/90</td>\n",
       "      <td>39024</td>\n",
       "      <td>3.00</td>\n",
       "      <td>7.7</td>\n",
       "      <td>?</td>\n",
       "      <td>443</td>\n",
       "      <td>214</td>\n",
       "      <td>69.2</td>\n",
       "      <td>6.5</td>\n",
       "      <td>2660</td>\n",
       "      <td>...</td>\n",
       "      <td>2590</td>\n",
       "      <td>?</td>\n",
       "      <td>60.7</td>\n",
       "      <td>94.8</td>\n",
       "      <td>?</td>\n",
       "      <td>80.8</td>\n",
       "      <td>?</td>\n",
       "      <td>79.5</td>\n",
       "      <td>92.1</td>\n",
       "      <td>100</td>\n",
       "    </tr>\n",
       "    <tr>\n",
       "      <th>1</th>\n",
       "      <td>D-4/3/90</td>\n",
       "      <td>32229</td>\n",
       "      <td>5.00</td>\n",
       "      <td>7.6</td>\n",
       "      <td>?</td>\n",
       "      <td>528</td>\n",
       "      <td>186</td>\n",
       "      <td>69.9</td>\n",
       "      <td>3.4</td>\n",
       "      <td>1666</td>\n",
       "      <td>...</td>\n",
       "      <td>1888</td>\n",
       "      <td>?</td>\n",
       "      <td>58.2</td>\n",
       "      <td>95.6</td>\n",
       "      <td>?</td>\n",
       "      <td>52.9</td>\n",
       "      <td>?</td>\n",
       "      <td>75.8</td>\n",
       "      <td>88.7</td>\n",
       "      <td>98.5</td>\n",
       "    </tr>\n",
       "    <tr>\n",
       "      <th>2</th>\n",
       "      <td>D-5/3/90</td>\n",
       "      <td>35023</td>\n",
       "      <td>3.50</td>\n",
       "      <td>7.9</td>\n",
       "      <td>205</td>\n",
       "      <td>588</td>\n",
       "      <td>192</td>\n",
       "      <td>65.6</td>\n",
       "      <td>4.5</td>\n",
       "      <td>2430</td>\n",
       "      <td>...</td>\n",
       "      <td>1840</td>\n",
       "      <td>33.1</td>\n",
       "      <td>64.2</td>\n",
       "      <td>95.3</td>\n",
       "      <td>87.3</td>\n",
       "      <td>72.3</td>\n",
       "      <td>90.2</td>\n",
       "      <td>82.3</td>\n",
       "      <td>89.6</td>\n",
       "      <td>100</td>\n",
       "    </tr>\n",
       "    <tr>\n",
       "      <th>3</th>\n",
       "      <td>D-6/3/90</td>\n",
       "      <td>36924</td>\n",
       "      <td>1.50</td>\n",
       "      <td>8.0</td>\n",
       "      <td>242</td>\n",
       "      <td>496</td>\n",
       "      <td>176</td>\n",
       "      <td>64.8</td>\n",
       "      <td>4.0</td>\n",
       "      <td>2110</td>\n",
       "      <td>...</td>\n",
       "      <td>2120</td>\n",
       "      <td>?</td>\n",
       "      <td>62.7</td>\n",
       "      <td>95.6</td>\n",
       "      <td>?</td>\n",
       "      <td>71.0</td>\n",
       "      <td>92.1</td>\n",
       "      <td>78.2</td>\n",
       "      <td>87.5</td>\n",
       "      <td>99.5</td>\n",
       "    </tr>\n",
       "    <tr>\n",
       "      <th>4</th>\n",
       "      <td>D-7/3/90</td>\n",
       "      <td>38572</td>\n",
       "      <td>3.00</td>\n",
       "      <td>7.8</td>\n",
       "      <td>202</td>\n",
       "      <td>372</td>\n",
       "      <td>186</td>\n",
       "      <td>68.8</td>\n",
       "      <td>4.5</td>\n",
       "      <td>1644</td>\n",
       "      <td>...</td>\n",
       "      <td>1764</td>\n",
       "      <td>?</td>\n",
       "      <td>59.7</td>\n",
       "      <td>96.5</td>\n",
       "      <td>86.7</td>\n",
       "      <td>78.3</td>\n",
       "      <td>90.1</td>\n",
       "      <td>73.1</td>\n",
       "      <td>84.9</td>\n",
       "      <td>100</td>\n",
       "    </tr>\n",
       "  </tbody>\n",
       "</table>\n",
       "<p>5 rows × 39 columns</p>\n",
       "</div>"
      ],
      "text/plain": [
       "         ID    Q-E  ZN-E  PH-E DBO-E DQO-E SS-E SSV-E SED-E  COND-E  ...  \\\n",
       "0  D-2/3/90  39024  3.00   7.7     ?   443  214  69.2   6.5    2660  ...   \n",
       "1  D-4/3/90  32229  5.00   7.6     ?   528  186  69.9   3.4    1666  ...   \n",
       "2  D-5/3/90  35023  3.50   7.9   205   588  192  65.6   4.5    2430  ...   \n",
       "3  D-6/3/90  36924  1.50   8.0   242   496  176  64.8   4.0    2110  ...   \n",
       "4  D-7/3/90  38572  3.00   7.8   202   372  186  68.8   4.5    1644  ...   \n",
       "\n",
       "   COND-S RD-DBO-P  RD-SS-P RD-SED-P RD-DBO-S  RD-DQO-S  RD-DBO-G RD-DQO-G  \\\n",
       "0    2590        ?     60.7     94.8        ?      80.8         ?     79.5   \n",
       "1    1888        ?     58.2     95.6        ?      52.9         ?     75.8   \n",
       "2    1840     33.1     64.2     95.3     87.3      72.3      90.2     82.3   \n",
       "3    2120        ?     62.7     95.6        ?      71.0      92.1     78.2   \n",
       "4    1764        ?     59.7     96.5     86.7      78.3      90.1     73.1   \n",
       "\n",
       "  RD-SS-G RD-SED-G  \n",
       "0    92.1      100  \n",
       "1    88.7     98.5  \n",
       "2    89.6      100  \n",
       "3    87.5     99.5  \n",
       "4    84.9      100  \n",
       "\n",
       "[5 rows x 39 columns]"
      ]
     },
     "execution_count": 239,
     "metadata": {},
     "output_type": "execute_result"
    }
   ],
   "source": [
    "# Loading the dataset\n",
    "\n",
    "df4 = pd.read_csv('Clustering\\water-treatment.data', sep = ',')\n",
    "\n",
    "# Assigning the column names\n",
    "\n",
    "colnames = ['ID', 'Q-E', 'ZN-E', 'PH-E', 'DBO-E', 'DQO-E', 'SS-E', 'SSV-E', 'SED-E','COND-E', 'PH-P', \n",
    "            'DBO-P', 'SS-P', 'SSV-P', 'SED-P', 'COND-P', 'PH-D', 'DBO-D', 'DQO-D', 'SS-D', 'SSV-D', \n",
    "            'SED-D', 'COND-D', 'PH-S', 'DBO-S', 'DQO-S', 'SS-S', 'SSV-S', 'SED-S', 'COND-S', \n",
    "            'RD-DBO-P', 'RD-SS-P', 'RD-SED-P', 'RD-DBO-S', 'RD-DQO-S', 'RD-DBO-G', 'RD-DQO-G', 'RD-SS-G', 'RD-SED-G']\n",
    "df4.columns = colnames\n",
    "\n",
    "df4.head()"
   ]
  },
  {
   "cell_type": "code",
   "execution_count": 240,
   "id": "6d5922d5",
   "metadata": {},
   "outputs": [
    {
     "data": {
      "text/plain": [
       "(526, 39)"
      ]
     },
     "execution_count": 240,
     "metadata": {},
     "output_type": "execute_result"
    }
   ],
   "source": [
    "# Data shape\n",
    "\n",
    "df4.shape"
   ]
  },
  {
   "cell_type": "code",
   "execution_count": 241,
   "id": "4a1b23e1",
   "metadata": {},
   "outputs": [],
   "source": [
    "# Converting string columns to float\n",
    "\n",
    "df4['Q-E'] = pd.to_numeric(df4['Q-E'], errors='coerce').astype('float64')\n",
    "df4['ZN-E'] = pd.to_numeric(df4['ZN-E'], errors='coerce').astype('float64')\n",
    "df4['DBO-E'] = pd.to_numeric(df4['DBO-E'], errors='coerce').astype('float64')\n",
    "df4['DQO-E'] = pd.to_numeric(df4['DQO-E'], errors='coerce').astype('float64')\n",
    "df4['SS-E'] = pd.to_numeric(df4['SS-E'], errors='coerce').astype('float64')\n",
    "df4['SSV-E'] = pd.to_numeric(df4['SSV-E'], errors='coerce').astype('float64')\n",
    "df4['SED-E'] = pd.to_numeric(df4['SED-E'], errors='coerce').astype('float64')\n",
    "df4['DBO-P'] = pd.to_numeric(df4['DBO-P'], errors='coerce').astype('float64')\n",
    "df4['SSV-P'] = pd.to_numeric(df4['SSV-P'], errors='coerce').astype('float64')\n",
    "df4['SED-P'] = pd.to_numeric(df4['SED-P'], errors='coerce').astype('float64')\n",
    "df4['DBO-D'] = pd.to_numeric(df4['DBO-D'], errors='coerce').astype('float64')\n",
    "df4['DQO-D'] = pd.to_numeric(df4['DQO-D'], errors='coerce').astype('float64')\n",
    "df4['SS-D'] = pd.to_numeric(df4['SS-D'], errors='coerce').astype('float64')\n",
    "df4['SSV-D'] = pd.to_numeric(df4['SSV-D'], errors='coerce').astype('float64')\n",
    "df4['SED-D'] = pd.to_numeric(df4['SED-D'], errors='coerce').astype('float64')\n",
    "df4['PH-S'] = pd.to_numeric(df4['PH-S'], errors='coerce').astype('float64')\n",
    "df4['DBO-S'] = pd.to_numeric(df4['DBO-S'], errors='coerce').astype('float64')\n",
    "df4['DQO-S'] = pd.to_numeric(df4['DQO-S'], errors='coerce').astype('float64')\n",
    "df4['SS-S'] = pd.to_numeric(df4['SS-S'], errors='coerce').astype('float64')\n",
    "df4['SSV-S'] = pd.to_numeric(df4['SSV-S'], errors='coerce').astype('float64')\n",
    "df4['SED-S'] = pd.to_numeric(df4['SED-S'], errors='coerce').astype('float64')\n",
    "df4['COND-S'] = pd.to_numeric(df4['COND-S'], errors='coerce').astype('float64')\n",
    "df4['RD-DBO-P'] = pd.to_numeric(df4['RD-DBO-P'], errors='coerce').astype('float64')\n",
    "df4['RD-SS-P'] = pd.to_numeric(df4['RD-SS-P'], errors='coerce').astype('float64')\n",
    "df4['RD-SED-P'] = pd.to_numeric(df4['RD-SED-P'], errors='coerce').astype('float64')\n",
    "df4['RD-DBO-S'] = pd.to_numeric(df4['RD-DBO-S'], errors='coerce').astype('float64')\n",
    "df4['RD-DQO-S'] = pd.to_numeric(df4['RD-DQO-S'], errors='coerce').astype('float64')\n",
    "df4['RD-DBO-G'] = pd.to_numeric(df4['RD-DBO-G'], errors='coerce').astype('float64')\n",
    "df4['RD-DQO-G'] = pd.to_numeric(df4['RD-DQO-G'], errors='coerce').astype('float64')\n",
    "df4['RD-SS-G'] = pd.to_numeric(df4['RD-SS-G'], errors='coerce').astype('float64')\n",
    "df4['RD-SED-G'] = pd.to_numeric(df4['RD-SED-G'], errors='coerce').astype('float64')"
   ]
  },
  {
   "cell_type": "code",
   "execution_count": 242,
   "id": "79378719",
   "metadata": {},
   "outputs": [
    {
     "data": {
      "text/plain": [
       "ID           0\n",
       "Q-E         18\n",
       "ZN-E         3\n",
       "PH-E         0\n",
       "DBO-E       22\n",
       "DQO-E        6\n",
       "SS-E         1\n",
       "SSV-E       11\n",
       "SED-E       25\n",
       "COND-E       0\n",
       "PH-P         0\n",
       "DBO-P       39\n",
       "SS-P         0\n",
       "SSV-P       11\n",
       "SED-P       24\n",
       "COND-P       0\n",
       "PH-D         0\n",
       "DBO-D       27\n",
       "DQO-D        9\n",
       "SS-D         2\n",
       "SSV-D       13\n",
       "SED-D       25\n",
       "COND-D       0\n",
       "PH-S         1\n",
       "DBO-S       22\n",
       "DQO-S       18\n",
       "SS-S         5\n",
       "SSV-S       17\n",
       "SED-S       28\n",
       "COND-S       1\n",
       "RD-DBO-P    61\n",
       "RD-SS-P      4\n",
       "RD-SED-P    27\n",
       "RD-DBO-S    39\n",
       "RD-DQO-S    26\n",
       "RD-DBO-G    35\n",
       "RD-DQO-G    25\n",
       "RD-SS-G      8\n",
       "RD-SED-G    31\n",
       "dtype: int64"
      ]
     },
     "execution_count": 242,
     "metadata": {},
     "output_type": "execute_result"
    }
   ],
   "source": [
    "# Checking null values\n",
    "\n",
    "df4.isna().sum()"
   ]
  },
  {
   "cell_type": "code",
   "execution_count": 243,
   "id": "90d3c7a0",
   "metadata": {},
   "outputs": [],
   "source": [
    "# Converting string columns to integer\n",
    "\n",
    "for i in df4.select_dtypes(include=[object]).columns:\n",
    "    df4[i] = pd.factorize(df4[i])[0] + 1"
   ]
  },
  {
   "cell_type": "code",
   "execution_count": 244,
   "id": "df5b7129",
   "metadata": {},
   "outputs": [],
   "source": [
    "# Filling null values with the mean of respective columns\n",
    "\n",
    "for i in df4.columns:\n",
    "    df4[i].fillna(df4[i].mean(), inplace=True)"
   ]
  },
  {
   "cell_type": "code",
   "execution_count": 245,
   "id": "67653fb0",
   "metadata": {},
   "outputs": [
    {
     "data": {
      "text/plain": [
       "0"
      ]
     },
     "execution_count": 245,
     "metadata": {},
     "output_type": "execute_result"
    }
   ],
   "source": [
    "# Checking null values\n",
    "\n",
    "df4.isna().sum().sum()"
   ]
  },
  {
   "cell_type": "code",
   "execution_count": 246,
   "id": "67b6c166",
   "metadata": {},
   "outputs": [],
   "source": [
    "# Normalizing the data\n",
    "\n",
    "ss=StandardScaler()\n",
    "for i in df4.columns:\n",
    "    df4[i] = ss.fit_transform(df4[[i]])"
   ]
  },
  {
   "cell_type": "code",
   "execution_count": 189,
   "id": "d84da07f",
   "metadata": {},
   "outputs": [
    {
     "name": "stdout",
     "output_type": "stream",
     "text": [
      "For MiniBatchKMeans, the ideal number of clusters are  4\n",
      "Based on dendrogram, the ideal number of clusters are  2\n"
     ]
    },
    {
     "data": {
      "image/png": "[encoded data removed]",
      "text/plain": [
       "<Figure size 1440x432 with 3 Axes>"
      ]
     },
     "metadata": {},
     "output_type": "display_data"
    }
   ],
   "source": [
    "# Calling function to create elbow curve and dendrogram\n",
    "\n",
    "elbow_curve_and_dendrogram(df4, 4, 50, 2)"
   ]
  },
  {
   "cell_type": "code",
   "execution_count": 190,
   "id": "3c6460ad",
   "metadata": {},
   "outputs": [
    {
     "data": {
      "text/html": [
       "<div>\n",
       "<style scoped>\n",
       "    .dataframe tbody tr th:only-of-type {\n",
       "        vertical-align: middle;\n",
       "    }\n",
       "\n",
       "    .dataframe tbody tr th {\n",
       "        vertical-align: top;\n",
       "    }\n",
       "\n",
       "    .dataframe thead th {\n",
       "        text-align: right;\n",
       "    }\n",
       "</style>\n",
       "<table border=\"1\" class=\"dataframe\">\n",
       "  <thead>\n",
       "    <tr style=\"text-align: right;\">\n",
       "      <th></th>\n",
       "      <th>silhouette_score</th>\n",
       "      <th>davies_bouldin_score</th>\n",
       "    </tr>\n",
       "  </thead>\n",
       "  <tbody>\n",
       "    <tr>\n",
       "      <th>MiniBatchKMeans</th>\n",
       "      <td>0.120028</td>\n",
       "      <td>1.841347</td>\n",
       "    </tr>\n",
       "    <tr>\n",
       "      <th>AgglomerativeClustering</th>\n",
       "      <td>0.636259</td>\n",
       "      <td>1.060621</td>\n",
       "    </tr>\n",
       "    <tr>\n",
       "      <th>DBSCAN</th>\n",
       "      <td>-0.255184</td>\n",
       "      <td>2.679827</td>\n",
       "    </tr>\n",
       "    <tr>\n",
       "      <th>OPTICS</th>\n",
       "      <td>-0.186179</td>\n",
       "      <td>2.783452</td>\n",
       "    </tr>\n",
       "    <tr>\n",
       "      <th>Spectral Clustering</th>\n",
       "      <td>0.560279</td>\n",
       "      <td>1.544098</td>\n",
       "    </tr>\n",
       "    <tr>\n",
       "      <th>Affinity Propagation</th>\n",
       "      <td>0.048801</td>\n",
       "      <td>1.491415</td>\n",
       "    </tr>\n",
       "  </tbody>\n",
       "</table>\n",
       "</div>"
      ],
      "text/plain": [
       "                         silhouette_score  davies_bouldin_score\n",
       "MiniBatchKMeans                  0.120028              1.841347\n",
       "AgglomerativeClustering          0.636259              1.060621\n",
       "DBSCAN                          -0.255184              2.679827\n",
       "OPTICS                          -0.186179              2.783452\n",
       "Spectral Clustering              0.560279              1.544098\n",
       "Affinity Propagation             0.048801              1.491415"
      ]
     },
     "execution_count": 190,
     "metadata": {},
     "output_type": "execute_result"
    }
   ],
   "source": [
    "# Calling function to create a dataframe of metric scores for six clustering algorithms\n",
    "\n",
    "evaluation_matrix(df4, elbow_best_value, 2, 50, 3, 5, 2, 'discretize', 0.8, 500, 'euclidean')"
   ]
  },
  {
   "cell_type": "code",
   "execution_count": 191,
   "id": "a22ad464",
   "metadata": {},
   "outputs": [
    {
     "data": {
      "text/html": [
       "<div>\n",
       "<style scoped>\n",
       "    .dataframe tbody tr th:only-of-type {\n",
       "        vertical-align: middle;\n",
       "    }\n",
       "\n",
       "    .dataframe tbody tr th {\n",
       "        vertical-align: top;\n",
       "    }\n",
       "\n",
       "    .dataframe thead th {\n",
       "        text-align: right;\n",
       "    }\n",
       "</style>\n",
       "<table border=\"1\" class=\"dataframe\">\n",
       "  <thead>\n",
       "    <tr style=\"text-align: right;\">\n",
       "      <th></th>\n",
       "      <th>silhouette_score</th>\n",
       "      <th>davies_bouldin_score</th>\n",
       "    </tr>\n",
       "  </thead>\n",
       "  <tbody>\n",
       "    <tr>\n",
       "      <th>Bayesian Gaussian Mixture</th>\n",
       "      <td>0.230765</td>\n",
       "      <td>3.601767</td>\n",
       "    </tr>\n",
       "    <tr>\n",
       "      <th>Gaussian Mixture</th>\n",
       "      <td>0.225568</td>\n",
       "      <td>3.509052</td>\n",
       "    </tr>\n",
       "  </tbody>\n",
       "</table>\n",
       "</div>"
      ],
      "text/plain": [
       "                           silhouette_score  davies_bouldin_score\n",
       "Bayesian Gaussian Mixture          0.230765              3.601767\n",
       "Gaussian Mixture                   0.225568              3.509052"
      ]
     },
     "execution_count": 191,
     "metadata": {},
     "output_type": "execute_result"
    }
   ],
   "source": [
    "# Calling function to create a dataframe of metric scores for GMM and Bayesian GMM\n",
    "\n",
    "bayesian_and_gaussian(df4, 2, 'full', 1e-6)"
   ]
  },
  {
   "cell_type": "markdown",
   "id": "9088d3af",
   "metadata": {},
   "source": [
    "## Hyperparameter Selection"
   ]
  },
  {
   "cell_type": "markdown",
   "id": "0d1d318b",
   "metadata": {},
   "source": [
    "### Mini Batch KMeans"
   ]
  },
  {
   "cell_type": "code",
   "execution_count": 192,
   "id": "e0481b37",
   "metadata": {},
   "outputs": [
    {
     "name": "stdout",
     "output_type": "stream",
     "text": [
      "Average of all scores for [4, 50] combination is 1.9613751870694065\n",
      "Average of all scores for [5, 100] combination is 2.535944271457057\n",
      "Average of all scores for [6, 25] combination is 2.2294675116555194\n",
      "Average of all scores for [7, 50] combination is 2.180840819612643\n",
      "Average of all scores for [8, 100] combination is 2.163093431732093\n"
     ]
    }
   ],
   "source": [
    "# Checking best combination of hyperparameters\n",
    "\n",
    "best_combination = [[4,50],[5,100],[6,25],[7,50],[8,100]]\n",
    "\n",
    "for i in best_combination:\n",
    "    model = MiniBatchKMeans(n_clusters=i[0], random_state=0, batch_size=i[1])\n",
    "    model.fit(df4)\n",
    "    \n",
    "    # Calculating intrinsic measures for each combination of hyperparameters\n",
    "\n",
    "    silhouette = silhouette_score(df4, model.labels_, metric='euclidean')\n",
    "    davies_bouldin = davies_bouldin_score(df4, model.labels_)\n",
    "    \n",
    "    # Evaluating means of respective scores for each combination\n",
    "    \n",
    "    scores = [silhouette + davies_bouldin]\n",
    "    mean_scores = sum(scores)/len(scores)\n",
    "    print('Average of all scores for ' + str(i) + ' combination is ' + str(mean_scores))"
   ]
  },
  {
   "cell_type": "markdown",
   "id": "6a780475",
   "metadata": {},
   "source": [
    "The best combination of hyperparameters in Mini Batch KMeans which gave the highest average metric score includes:\n",
    "\n",
    "number of clusters = 5, batch size = 100"
   ]
  },
  {
   "cell_type": "markdown",
   "id": "6a4d3e7b",
   "metadata": {},
   "source": [
    "### Agglomerative Clustering"
   ]
  },
  {
   "cell_type": "code",
   "execution_count": 193,
   "id": "73316398",
   "metadata": {},
   "outputs": [
    {
     "name": "stdout",
     "output_type": "stream",
     "text": [
      "Average of all scores for 2 clusters is 1.6968798596266215\n",
      "Average of all scores for 3 clusters is 2.075535068616239\n",
      "Average of all scores for 4 clusters is 1.914202465723809\n",
      "Average of all scores for 5 clusters is 2.39651084405617\n",
      "Average of all scores for 6 clusters is 2.2696252134861834\n",
      "Average of all scores for 7 clusters is 2.0323259608927113\n",
      "Average of all scores for 8 clusters is 2.0438943564422045\n"
     ]
    }
   ],
   "source": [
    "# Checking best value of cluster\n",
    "\n",
    "best_combination = [2,3,4,5,6,7,8]\n",
    "\n",
    "for i in best_combination:\n",
    "    model = AgglomerativeClustering(n_clusters=i)\n",
    "    model.fit(df4)\n",
    "    \n",
    "    # Calculating intrinsic measures for each cluster value\n",
    "    \n",
    "    silhouette = silhouette_score(df4, model.labels_, metric='euclidean')\n",
    "    davies_bouldin = davies_bouldin_score(df4, model.labels_)\n",
    "    \n",
    "    # Evaluating means of respective scores for each cluster\n",
    "    \n",
    "    scores = [silhouette + davies_bouldin]\n",
    "    mean_scores = sum(scores)/len(scores)\n",
    "    print('Average of all scores for ' + str(i) + ' clusters is ' + str(mean_scores))"
   ]
  },
  {
   "cell_type": "markdown",
   "id": "fbfde16d",
   "metadata": {},
   "source": [
    "The best value of number of clusters in Agglomerative Clustering is 5, which gave the highest average metric score."
   ]
  },
  {
   "cell_type": "markdown",
   "id": "051d55a4",
   "metadata": {},
   "source": [
    "### DBScan"
   ]
  },
  {
   "cell_type": "code",
   "execution_count": 205,
   "id": "ea95250f",
   "metadata": {},
   "outputs": [
    {
     "name": "stdout",
     "output_type": "stream",
     "text": [
      "Average of all scores for [3, 5] combination is 2.4246430499278295\n",
      "Average of all scores for [3, 7] combination is 2.5313347247125018\n",
      "Average of all scores for [5, 7] combination is 4.2571640249579525\n",
      "Average of all scores for [5, 9] combination is 4.3046244480886395\n",
      "Average of all scores for [7, 9] combination is 3.226248737886689\n"
     ]
    }
   ],
   "source": [
    "# Checking best combination of hyperparameters\n",
    "\n",
    "best_combination = [[3,5], [3,7], [5,7], [5,9], [7,9]]\n",
    "\n",
    "for i in best_combination:\n",
    "    model = DBSCAN(eps=i[0], min_samples=i[1])\n",
    "    model.fit(df4)\n",
    "    \n",
    "    # Calculating intrinsic measures for each combination of hyperparameters\n",
    "\n",
    "    silhouette = silhouette_score(df4, model.labels_, metric='euclidean')\n",
    "    davies_bouldin = davies_bouldin_score(df4, model.labels_)\n",
    "    \n",
    "    # Evaluating means of respective scores for each combination\n",
    "\n",
    "    scores = [silhouette + davies_bouldin]\n",
    "    mean_scores = sum(scores)/len(scores)\n",
    "    print('Average of all scores for ' + str(i) + ' combination is ' + str(mean_scores))"
   ]
  },
  {
   "cell_type": "markdown",
   "id": "860408a3",
   "metadata": {},
   "source": [
    "The best combination of hyperparameters in DBScan which gave the highest average metric score includes:\n",
    "\n",
    "maximum distance between two samples (eps) = 5, minimum number of samples = 9 "
   ]
  },
  {
   "cell_type": "markdown",
   "id": "f2041649",
   "metadata": {},
   "source": [
    "### OPTICS"
   ]
  },
  {
   "cell_type": "code",
   "execution_count": 206,
   "id": "3e17f117",
   "metadata": {},
   "outputs": [
    {
     "name": "stdout",
     "output_type": "stream",
     "text": [
      "Average of all scores for 3 samples is 1.5407441828794526\n",
      "Average of all scores for 4 samples is 1.9945909102328288\n",
      "Average of all scores for 5 samples is 2.5972724681301456\n",
      "Average of all scores for 6 samples is 2.4884556964799303\n",
      "Average of all scores for 7 samples is 3.4615941607934295\n",
      "Average of all scores for 8 samples is 3.4615941607934295\n"
     ]
    }
   ],
   "source": [
    "# Checking best value of minimum number of samples\n",
    "\n",
    "best_combination = [3,4,5,6,7,8]\n",
    "\n",
    "for i in best_combination:\n",
    "    model = OPTICS(min_samples=i)\n",
    "    model.fit(df4)\n",
    "    \n",
    "    # Calculating intrinsic measures for each value of minimum samples\n",
    "    \n",
    "    silhouette = silhouette_score(df4, model.labels_, metric='euclidean')\n",
    "    davies_bouldin = davies_bouldin_score(df4, model.labels_)\n",
    "    \n",
    "    # Evaluating means of respective scores for each value of minimum samples\n",
    "    \n",
    "    scores = [silhouette + davies_bouldin]\n",
    "    mean_scores = sum(scores)/len(scores)\n",
    "    print('Average of all scores for ' + str(i) + ' samples is ' + str(mean_scores))"
   ]
  },
  {
   "cell_type": "markdown",
   "id": "b4865fc6",
   "metadata": {},
   "source": [
    "The best value of minimum number of samples in OPTICS could be either 7 or 8, which gave the highest average metric score."
   ]
  },
  {
   "cell_type": "markdown",
   "id": "601e0149",
   "metadata": {},
   "source": [
    "### Affinity Propagation"
   ]
  },
  {
   "cell_type": "code",
   "execution_count": 208,
   "id": "aeca0c26",
   "metadata": {},
   "outputs": [
    {
     "name": "stdout",
     "output_type": "stream",
     "text": [
      "Average of all scores for [0.5, 200] combination is 1.5402165853347742\n",
      "Average of all scores for [0.6, 300] combination is 1.5402165853347742\n",
      "Average of all scores for [0.7, 400] combination is 1.5402165853347742\n",
      "Average of all scores for [0.8, 200] combination is 1.5402165853347742\n",
      "Average of all scores for [0.9, 500] combination is 1.5829965661764815\n"
     ]
    }
   ],
   "source": [
    "# Checking best combination of hyperparameters\n",
    "\n",
    "best_combination = [[0.5,200],[0.6,300],[0.7,400],[0.8,200],[0.9,500]]\n",
    "\n",
    "for i in best_combination:\n",
    "    model = AffinityPropagation(damping=i[0], max_iter=i[1], affinity=\"euclidean\", random_state=0)\n",
    "    model.fit(df4)\n",
    "    \n",
    "    # Calculating intrinsic measures for each combination of hyperparameters\n",
    "\n",
    "    silhouette = silhouette_score(df4, model.labels_, metric='euclidean')\n",
    "    davies_bouldin = davies_bouldin_score(df4, model.labels_)\n",
    "    \n",
    "    # Evaluating means of respective scores for each combination\n",
    "    \n",
    "    scores = [silhouette + davies_bouldin]\n",
    "    mean_scores = sum(scores)/len(scores)\n",
    "    print('Average of all scores for ' + str(i) + ' combination is ' + str(mean_scores))"
   ]
  },
  {
   "cell_type": "markdown",
   "id": "b789c735",
   "metadata": {},
   "source": [
    "The best combination of hyperparameters in Affinity Propagation which gave the highest average metric scores include:\n",
    "\n",
    "damping value = 0.9, maximum iterations = 500"
   ]
  },
  {
   "cell_type": "markdown",
   "id": "44f45c49",
   "metadata": {},
   "source": [
    "### Spectral Clustering"
   ]
  },
  {
   "cell_type": "code",
   "execution_count": 209,
   "id": "99948867",
   "metadata": {},
   "outputs": [
    {
     "name": "stdout",
     "output_type": "stream",
     "text": [
      "Average of all scores for [6, 'discretize'] combination is 2.50148925260486\n",
      "Average of all scores for [7, 'kmeans'] combination is 0.9192221406947623\n",
      "Average of all scores for [8, 'kmeans'] combination is 0.9192221406947623\n",
      "Average of all scores for [5, 'discretize'] combination is 2.6223732288727244\n",
      "Average of all scores for [9, 'discretize'] combination is 2.256817442995003\n"
     ]
    }
   ],
   "source": [
    "# Checking best combination of hyperparameters\n",
    "\n",
    "best_combination = [[6,'discretize'],[7,'kmeans'],[8,'kmeans'],[5,'discretize'],[9,'discretize']]\n",
    "\n",
    "for i in best_combination:\n",
    "    model = SpectralClustering(n_clusters=i[0], assign_labels=i[1], random_state=0)\n",
    "    model.fit(df4)\n",
    "    \n",
    "    # Calculating intrinsic measures for each combination of hyperparameters\n",
    "    \n",
    "    silhouette = silhouette_score(df4, model.labels_, metric='euclidean')\n",
    "    davies_bouldin = davies_bouldin_score(df4, model.labels_)\n",
    "    \n",
    "    # Evaluating means of respective scores for each combination\n",
    "\n",
    "    scores = [silhouette + davies_bouldin]\n",
    "    mean_scores = sum(scores)/len(scores)\n",
    "    print('Average of all scores for ' + str(i) + ' combination is ' + str(mean_scores))"
   ]
  },
  {
   "cell_type": "markdown",
   "id": "c60295b6",
   "metadata": {},
   "source": [
    "The best combination of hyperparameters in Spectral Clustering that gave the highest average metric score includes:\n",
    "\n",
    "number of clusters = 5, assign labels = 'discretize'"
   ]
  },
  {
   "cell_type": "markdown",
   "id": "36ad764c",
   "metadata": {},
   "source": [
    "### Bayesian Gaussian Mixture"
   ]
  },
  {
   "cell_type": "code",
   "execution_count": 210,
   "id": "16d7ba68",
   "metadata": {},
   "outputs": [
    {
     "name": "stdout",
     "output_type": "stream",
     "text": [
      "Average of all scores for [2, 'full'] combination is 3.8325319379414378\n",
      "Average of all scores for [3, 'tied'] combination is 2.458125597463879\n",
      "Average of all scores for [4, 'diag'] combination is 2.2279612173338283\n",
      "Average of all scores for [5, 'spherical'] combination is 4.750465319206147\n",
      "Average of all scores for [6, 'full'] combination is 2.187431537409759\n",
      "Average of all scores for [7, 'spherical'] combination is 3.923534775487343\n",
      "Average of all scores for [8, 'diag'] combination is 2.0352043181872967\n"
     ]
    }
   ],
   "source": [
    "# Checking best combination of hyperparameters\n",
    "\n",
    "best_combination = [[2,'full'],[3,'tied'],[4,'diag'],[5,'spherical'],[6,'full'],[7, 'spherical'],[8, 'diag']]\n",
    "\n",
    "for i in best_combination:\n",
    "    model = BayesianGaussianMixture(n_components=i[0], covariance_type=i[1], random_state=0)\n",
    "    labels = model.fit(df4).fit_predict(df4)\n",
    "    \n",
    "    # Calculating intrinsic measures for each combination of hyperparameters\n",
    "    \n",
    "    silhouette = silhouette_score(df4, labels, metric='euclidean')\n",
    "    davies_bouldin = davies_bouldin_score(df4, labels)\n",
    "    \n",
    "    # Evaluating means of respective scores for each combination\n",
    "    \n",
    "    scores = [silhouette + davies_bouldin]\n",
    "    mean_scores = sum(scores)/len(scores)\n",
    "    print('Average of all scores for ' + str(i) + ' combination is ' + str(mean_scores))"
   ]
  },
  {
   "cell_type": "markdown",
   "id": "9a87dff1",
   "metadata": {},
   "source": [
    "The best combination of hyperparameters in Bayesian Gaussian Mixture that gave the highest average metric score includes:\n",
    "\n",
    "number of components = 5, covariance type = 'spherical'"
   ]
  },
  {
   "cell_type": "markdown",
   "id": "3bec8d29",
   "metadata": {},
   "source": [
    "### Gaussian Mixture Model"
   ]
  },
  {
   "cell_type": "code",
   "execution_count": 211,
   "id": "3b1f2d84",
   "metadata": {},
   "outputs": [
    {
     "name": "stdout",
     "output_type": "stream",
     "text": [
      "Average of all scores for [2, 'full'] combination is 3.73461986914379\n",
      "Average of all scores for [3, 'tied'] combination is 2.414444958552329\n",
      "Average of all scores for [4, 'diag'] combination is 2.5355218086659668\n",
      "Average of all scores for [5, 'spherical'] combination is 2.6414560650787253\n",
      "Average of all scores for [6, 'full'] combination is 2.2094656458897797\n",
      "Average of all scores for [7, 'spherical'] combination is 2.094349242342218\n",
      "Average of all scores for [8, 'diag'] combination is 2.2734923126161184\n"
     ]
    }
   ],
   "source": [
    "# Checking best combination of hyperparameters\n",
    "\n",
    "best_combination = [[2,'full'],[3,'tied'],[4,'diag'],[5,'spherical'],[6,'full'],[7, 'spherical'],[8, 'diag']]\n",
    "\n",
    "for i in best_combination:\n",
    "    model = GaussianMixture(n_components=i[0], covariance_type=i[1], random_state=0)\n",
    "    labels = model.fit(df4).fit_predict(df4)\n",
    "    \n",
    "    # Calculating intrinsic measures for each combination of hyperparameters\n",
    "\n",
    "    silhouette = silhouette_score(df4, labels, metric='euclidean')\n",
    "    davies_bouldin = davies_bouldin_score(df4, labels)\n",
    "    \n",
    "    # Evaluating means of respective scores for each combination\n",
    "    \n",
    "    scores = [silhouette + davies_bouldin]\n",
    "    mean_scores = sum(scores)/len(scores)\n",
    "    print('Average of all scores for ' + str(i) + ' combination is ' + str(mean_scores))"
   ]
  },
  {
   "cell_type": "markdown",
   "id": "df84c11e",
   "metadata": {},
   "source": [
    "The best combination of hyperparameters in Gaussian Mixture Model that gave the highest average metric score includes:\n",
    "\n",
    "number of components = 2, covariance type = 'full'"
   ]
  },
  {
   "cell_type": "markdown",
   "id": "ad949f67",
   "metadata": {},
   "source": [
    "#### Analysis:\n",
    "\n",
    "1) It is observed that the GMM outperforms Mini Batch KMeans with highest average score, which shows that the GMM is better at modeling the data according to the chosen performance metrics. This could be because the GMM is more flexible and able to capture more complex patterns in the data.\n",
    "\n",
    "2) It is observed that the GMM outperforms Agglomerative Clustering with highest average score, it suggests that the GMM is able to more accurately and effectively cluster the data into distinct groups. This may be due to the fact that the GMM is able to account for the uncertainty in the data, whereas the Agglomerative clustering approach may be more rigid in its grouping of the data.\n",
    "\n",
    "3) It is observed that the DBScan outperforms GMM with highest average score, which shows that DBScan is more accurately identifying clusters or has a lower error rate. This could be due to the nature of the data, the chosen distance metric, or the number of clusters being considered.\n",
    "\n",
    "4) It is observed that the GMM outperforms OPTICS with highest average score, which shows that GMM is more effective at accurately clustering the data. This could be due to the GMM's ability to handle multimodal data and its flexibility in modeling the underlying distribution of the data.\n",
    "\n",
    "5) It is observed that the GMM outperforms Affinity Propagation with highest average score, which shows that the GMM is a better fit for the data and is able to more accurately predict or classify the data. This could be due to the GMM's ability to model data using a continuous distribution, as opposed to the discrete clustering method used by Affinity propagation.\n",
    "\n",
    "6) It is observed that the GMM outperforms Spectral Clustering with highest average score, which shows that the GMM is a better fit for the given data and produces more accurate or effective clustering results. This may be due to the GMM's ability to handle mixed data types and account for uncertainty in the data, or because it is more robust to noise or outliers in the data.\n",
    "\n",
    "7) It is observed that the Bayesian GMM outperforms GMM with highest average score, which shows that the Bayesian version may be slightly more effective in accurately identifying patterns and classifying data points within the dataset. This could be due to the Bayesian model's ability to incorporate prior knowledge and incorporate uncertainties in its predictions, which may lead to more accurate and robust results."
   ]
  },
  {
   "cell_type": "markdown",
   "id": "20b8d2ad",
   "metadata": {},
   "source": [
    "### Parameter changes:"
   ]
  },
  {
   "cell_type": "markdown",
   "id": "7654e97a",
   "metadata": {},
   "source": [
    "#### (1) Based on number of components"
   ]
  },
  {
   "cell_type": "code",
   "execution_count": 247,
   "id": "7a941aa7",
   "metadata": {},
   "outputs": [
    {
     "name": "stdout",
     "output_type": "stream",
     "text": [
      "Average of all scores for 2 components is 3.73461986914379\n",
      "Average of all scores for 3 components is 2.5745349900206262\n",
      "Average of all scores for 4 components is 2.693569517208639\n",
      "Average of all scores for 5 components is 2.6596199242713445\n",
      "Average of all scores for 6 components is 2.2094656458897797\n",
      "Average of all scores for 7 components is 2.0587717234024177\n"
     ]
    }
   ],
   "source": [
    "# Changing number of components to obtain the best value\n",
    "\n",
    "number_of_components = [2,3,4,5,6,7]\n",
    "\n",
    "mean_score_list = []\n",
    "\n",
    "for i in number_of_components:\n",
    "    model = GaussianMixture(n_components=i, covariance_type='full', reg_covar=1e-6, random_state=0)\n",
    "    labels = model.fit(df4).fit_predict(df4)\n",
    "    \n",
    "    # Calculating intrinsic measures for each value of number of components\n",
    "    \n",
    "    silhouette = silhouette_score(df4, labels, metric='euclidean')\n",
    "    davies_bouldin = davies_bouldin_score(df4, labels)\n",
    "    \n",
    "    # Evaluating means of respective scores for each value of number of components\n",
    "    \n",
    "    scores = [silhouette + davies_bouldin]\n",
    "    mean_scores = sum(scores)/len(scores)\n",
    "    print('Average of all scores for ' + str(i) + ' components is ' + str(mean_scores))\n",
    "    mean_score_list.append(mean_scores)"
   ]
  },
  {
   "cell_type": "markdown",
   "id": "d7cf89a1",
   "metadata": {},
   "source": [
    "Upon increasing and decreasing the number of components parameter in GMM, it is observed that the best score is obtained when the number of components are 2. This shows that the model is able to accurately classify the data using fewer components or clusters. This may indicate that the  model is able to effectively capture the underlying structure of the data using fewer components."
   ]
  },
  {
   "cell_type": "markdown",
   "id": "f3f81802",
   "metadata": {},
   "source": [
    "#### Plotting n_component parameter's performance"
   ]
  },
  {
   "cell_type": "code",
   "execution_count": 248,
   "id": "06140456",
   "metadata": {},
   "outputs": [
    {
     "data": {
      "image/png": "[encoded data removed]",
      "text/plain": [
       "<Figure size 864x432 with 1 Axes>"
      ]
     },
     "metadata": {},
     "output_type": "display_data"
    }
   ],
   "source": [
    "list_of_components = [number_of_components[0], number_of_components[1], number_of_components[2], number_of_components[3], \n",
    "                      number_of_components[4], number_of_components[5]]\n",
    "plt.figure(figsize = (12,6))\n",
    "plt.plot(mean_score_list, marker = 'o', label = [list_of_components])\n",
    "plt.xlabel('n_components', fontsize=13)\n",
    "plt.ylabel('Average Metric Scores', fontsize=13)\n",
    "plt.title('Variation in number of components', fontsize=15)\n",
    "plt.xticks([0,1,2,3,4,5], list_of_components)\n",
    "plt.show()"
   ]
  },
  {
   "cell_type": "markdown",
   "id": "89a146ed",
   "metadata": {},
   "source": [
    "#### (2) Based on covariance type"
   ]
  },
  {
   "cell_type": "code",
   "execution_count": 249,
   "id": "d32aa774",
   "metadata": {},
   "outputs": [
    {
     "name": "stdout",
     "output_type": "stream",
     "text": [
      "Average of all scores for full covariance type is 3.73461986914379\n",
      "Average of all scores for tied covariance type is 3.127378923750184\n",
      "Average of all scores for diag covariance type is 3.8774853499936066\n",
      "Average of all scores for spherical covariance type is 4.704530695116908\n"
     ]
    }
   ],
   "source": [
    "# Changing covariance type to obtain the best value\n",
    "\n",
    "type_of_covariance = ['full', 'tied', 'diag', 'spherical']\n",
    "\n",
    "mean_score_list = []\n",
    "\n",
    "for i in type_of_covariance:\n",
    "    model = GaussianMixture(n_components=2, covariance_type=i, reg_covar=1e-6, random_state=0)\n",
    "    labels = model.fit(df4).fit_predict(df4)\n",
    "    \n",
    "    # Calculating intrinsic measures for each covariance type\n",
    "    \n",
    "    silhouette = silhouette_score(df4, labels, metric='euclidean')\n",
    "    davies_bouldin = davies_bouldin_score(df4, labels)\n",
    "    \n",
    "    # Evaluating means of respective scores for each covariance type\n",
    "    \n",
    "    scores = [silhouette + davies_bouldin]\n",
    "    mean_scores = sum(scores)/len(scores)\n",
    "    print('Average of all scores for ' + str(i) + ' covariance type is ' + str(mean_scores))\n",
    "    mean_score_list.append(mean_scores)"
   ]
  },
  {
   "cell_type": "markdown",
   "id": "d7423b0a",
   "metadata": {},
   "source": [
    "Upon changing the type of covariance parameter in GMM, it is observed that the best score is obtained when the covariance type is 'spherical'. It suggests that the data is more effectively modeled by clusters that have a spherical shape rather than an elongated or more complex shape. This may indicate that the data points are more uniformly distributed within the clusters and are less spread out or have less overlap with other clusters."
   ]
  },
  {
   "cell_type": "markdown",
   "id": "62b984ef",
   "metadata": {},
   "source": [
    "#### Plotting covariance_type parameter's performance"
   ]
  },
  {
   "cell_type": "code",
   "execution_count": 250,
   "id": "c58cb6e9",
   "metadata": {},
   "outputs": [
    {
     "data": {
      "image/png": "[encoded data removed]",
      "text/plain": [
       "<Figure size 864x432 with 1 Axes>"
      ]
     },
     "metadata": {},
     "output_type": "display_data"
    }
   ],
   "source": [
    "list_of_covariance_types = [type_of_covariance[0], type_of_covariance[1], type_of_covariance[2], type_of_covariance[3]]\n",
    "plt.figure(figsize = (12,6))\n",
    "plt.plot(mean_score_list, marker = 'o', label = [list_of_covariance_types])\n",
    "plt.xlabel('Covariance Type', fontsize=13)\n",
    "plt.ylabel('Average Metric Scores', fontsize=13)\n",
    "plt.title('Variation in covariance type', fontsize=15)\n",
    "plt.xticks([0,1,2,3], list_of_covariance_types)\n",
    "plt.show()"
   ]
  },
  {
   "cell_type": "markdown",
   "id": "bb035c39",
   "metadata": {},
   "source": [
    "#### (3) Based on regularization of covariance"
   ]
  },
  {
   "cell_type": "code",
   "execution_count": 251,
   "id": "4eef5a20",
   "metadata": {},
   "outputs": [
    {
     "name": "stdout",
     "output_type": "stream",
     "text": [
      "Average of all scores for regularized covariance of 1e-06 is 3.73461986914379\n",
      "Average of all scores for regularized covariance of 0.5 is 3.3669890504478284\n",
      "Average of all scores for regularized covariance of 1.5 is 3.0444456125565282\n",
      "Average of all scores for regularized covariance of 3 is 2.837483134550863\n",
      "Average of all scores for regularized covariance of 5 is 2.3148344977591013\n"
     ]
    }
   ],
   "source": [
    "# Changing the value of regularized covariance to obtain the best value\n",
    "\n",
    "regularization_covariance = [1e-6, 0.5, 1.5, 3, 5]\n",
    "\n",
    "mean_score_list = []\n",
    "\n",
    "for i in regularization_covariance:\n",
    "    model = GaussianMixture(n_components=2, covariance_type='full', reg_covar=i, random_state=0)\n",
    "    labels = model.fit(df4).fit_predict(df4)\n",
    "    \n",
    "    # Calculating intrinsic measures for each value of regularized covariance\n",
    "    \n",
    "    silhouette = silhouette_score(df4, labels, metric='euclidean')\n",
    "    davies_bouldin = davies_bouldin_score(df4, labels)\n",
    "    \n",
    "    # Evaluating means of respective scores for each value of regularized covariance\n",
    "    \n",
    "    scores = [silhouette + davies_bouldin]\n",
    "    mean_scores = sum(scores)/len(scores)\n",
    "    print('Average of all scores for ' + 'regularized covariance of ' + str(i) + ' is ' + str(mean_scores))\n",
    "    mean_score_list.append(mean_scores)"
   ]
  },
  {
   "cell_type": "markdown",
   "id": "c228b14e",
   "metadata": {},
   "source": [
    "Upon increasing and decreasing the regularized covariance in GMM, it is observed that the best score is obtained when the value is 1e-6. This suggests that the model is performing better when the regularization of the covariance matrices is set to a small value. This could indicate that the model is able to better fit the data when the regularization is set to a lower value, possibly because it is able to more accurately capture the underlying relationships in the data."
   ]
  },
  {
   "cell_type": "markdown",
   "id": "441f56cf",
   "metadata": {},
   "source": [
    "#### Plotting reg_covar parameter's performance"
   ]
  },
  {
   "cell_type": "code",
   "execution_count": 252,
   "id": "aa9f14c7",
   "metadata": {},
   "outputs": [
    {
     "data": {
      "image/png": "[encoded data removed]",
      "text/plain": [
       "<Figure size 864x432 with 1 Axes>"
      ]
     },
     "metadata": {},
     "output_type": "display_data"
    }
   ],
   "source": [
    "list_of_reg_covar = [regularization_covariance[0], regularization_covariance[1], regularization_covariance[2], \n",
    "                     regularization_covariance[3], regularization_covariance[4]]\n",
    "plt.figure(figsize = (12,6))\n",
    "plt.plot(mean_score_list, marker = 'o', label = [list_of_reg_covar])\n",
    "plt.xlabel('Regularization of covariance', fontsize=13)\n",
    "plt.ylabel('Average Metric Scores', fontsize=13)\n",
    "plt.title('Variation in regularization of covariance', fontsize=15)\n",
    "plt.xticks([0,1,2,3,4], list_of_reg_covar)\n",
    "plt.show()"
   ]
  }
 ],
 "metadata": {
  "kernelspec": {
   "display_name": "Python 3",
   "language": "python",
   "name": "python3"
  },
  "language_info": {
   "codemirror_mode": {
    "name": "ipython",
    "version": 3
   },
   "file_extension": ".py",
   "mimetype": "text/x-python",
   "name": "python",
   "nbconvert_exporter": "python",
   "pygments_lexer": "ipython3",
   "version": "3.9.5"
  }
 },
 "nbformat": 4,
 "nbformat_minor": 5
}
